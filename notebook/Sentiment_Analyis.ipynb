{
 "nbformat": 4,
 "nbformat_minor": 0,
 "metadata": {
  "colab": {
   "name": "Sentiment_Analyis.ipynb",
   "provenance": [],
   "collapsed_sections": []
  },
  "kernelspec": {
   "name": "python3",
   "display_name": "Python 3"
  },
  "language_info": {
   "name": "python"
  },
  "accelerator": "GPU"
 },
 "cells": [
  {
   "cell_type": "markdown",
   "metadata": {
    "collapsed": false,
    "id": "K57ULg8eeMPi"
   },
   "source": [
    "# Sentiment Analysis"
   ]
  },
  {
   "cell_type": "markdown",
   "metadata": {
    "collapsed": false,
    "id": "7cnZP1-leMPl"
   },
   "source": [
    "## Preparation"
   ]
  },
  {
   "cell_type": "code",
   "metadata": {
    "id": "JVMqibFVc1ci"
   },
   "source": [
    "import pandas as pd\n",
    "import numpy as np"
   ],
   "execution_count": 1,
   "outputs": []
  },
  {
   "cell_type": "markdown",
   "metadata": {
    "collapsed": false,
    "id": "SRPJQe5SeMPn"
   },
   "source": [
    "## Data loading"
   ]
  },
  {
   "cell_type": "code",
   "metadata": {
    "colab": {
     "base_uri": "https://localhost:8080/",
     "height": 520
    },
    "id": "VgRpPip8dkHW",
    "outputId": "d002fbea-62fc-455b-b9a3-e91c545578b8"
   },
   "source": [
    "df = pd.read_csv(\"../dataset/sentiment-analysis/Reddit_Data.csv\").rename(columns = {\"clean_comment\":\"clean_text\"}).append(pd.read_csv(\"../dataset/sentiment-analysis/Twitter_Data.csv\"))\n",
    "df.head()"
   ],
   "execution_count": 2,
   "outputs": [
    {
     "data": {
      "text/plain": "                                          clean_text  category\n0   family mormon have never tried explain them t...       1.0\n1  buddhism has very much lot compatible with chr...       1.0\n2  seriously don say thing first all they won get...      -1.0\n3  what you have learned yours and only yours wha...       0.0\n4  for your own benefit you may want read living ...       1.0",
      "text/html": "<div>\n<style scoped>\n    .dataframe tbody tr th:only-of-type {\n        vertical-align: middle;\n    }\n\n    .dataframe tbody tr th {\n        vertical-align: top;\n    }\n\n    .dataframe thead th {\n        text-align: right;\n    }\n</style>\n<table border=\"1\" class=\"dataframe\">\n  <thead>\n    <tr style=\"text-align: right;\">\n      <th></th>\n      <th>clean_text</th>\n      <th>category</th>\n    </tr>\n  </thead>\n  <tbody>\n    <tr>\n      <th>0</th>\n      <td>family mormon have never tried explain them t...</td>\n      <td>1.0</td>\n    </tr>\n    <tr>\n      <th>1</th>\n      <td>buddhism has very much lot compatible with chr...</td>\n      <td>1.0</td>\n    </tr>\n    <tr>\n      <th>2</th>\n      <td>seriously don say thing first all they won get...</td>\n      <td>-1.0</td>\n    </tr>\n    <tr>\n      <th>3</th>\n      <td>what you have learned yours and only yours wha...</td>\n      <td>0.0</td>\n    </tr>\n    <tr>\n      <th>4</th>\n      <td>for your own benefit you may want read living ...</td>\n      <td>1.0</td>\n    </tr>\n  </tbody>\n</table>\n</div>"
     },
     "execution_count": 2,
     "metadata": {},
     "output_type": "execute_result"
    }
   ]
  },
  {
   "cell_type": "markdown",
   "metadata": {
    "id": "hHDFzmtpgiS8"
   },
   "source": [
    "#Preprocess"
   ]
  },
  {
   "cell_type": "code",
   "metadata": {
    "id": "xtE5T7LvlO62"
   },
   "source": [
    "#Transforming the clean text as string type\n",
    "df = df.astype({'clean_text': str})\n",
    "df.head()"
   ],
   "execution_count": 3,
   "outputs": [
    {
     "data": {
      "text/plain": "                                          clean_text  category\n0   family mormon have never tried explain them t...       1.0\n1  buddhism has very much lot compatible with chr...       1.0\n2  seriously don say thing first all they won get...      -1.0\n3  what you have learned yours and only yours wha...       0.0\n4  for your own benefit you may want read living ...       1.0",
      "text/html": "<div>\n<style scoped>\n    .dataframe tbody tr th:only-of-type {\n        vertical-align: middle;\n    }\n\n    .dataframe tbody tr th {\n        vertical-align: top;\n    }\n\n    .dataframe thead th {\n        text-align: right;\n    }\n</style>\n<table border=\"1\" class=\"dataframe\">\n  <thead>\n    <tr style=\"text-align: right;\">\n      <th></th>\n      <th>clean_text</th>\n      <th>category</th>\n    </tr>\n  </thead>\n  <tbody>\n    <tr>\n      <th>0</th>\n      <td>family mormon have never tried explain them t...</td>\n      <td>1.0</td>\n    </tr>\n    <tr>\n      <th>1</th>\n      <td>buddhism has very much lot compatible with chr...</td>\n      <td>1.0</td>\n    </tr>\n    <tr>\n      <th>2</th>\n      <td>seriously don say thing first all they won get...</td>\n      <td>-1.0</td>\n    </tr>\n    <tr>\n      <th>3</th>\n      <td>what you have learned yours and only yours wha...</td>\n      <td>0.0</td>\n    </tr>\n    <tr>\n      <th>4</th>\n      <td>for your own benefit you may want read living ...</td>\n      <td>1.0</td>\n    </tr>\n  </tbody>\n</table>\n</div>"
     },
     "execution_count": 3,
     "metadata": {},
     "output_type": "execute_result"
    }
   ]
  },
  {
   "cell_type": "code",
   "metadata": {
    "pycharm": {
     "name": "#%%\n"
    },
    "id": "A-odVUrPeMPu"
   },
   "source": [
    "#Checking if there is Null in the dataframe\n",
    "df.isnull().any()"
   ],
   "execution_count": 4,
   "outputs": [
    {
     "data": {
      "text/plain": "clean_text    False\ncategory       True\ndtype: bool"
     },
     "execution_count": 4,
     "metadata": {},
     "output_type": "execute_result"
    }
   ]
  },
  {
   "cell_type": "code",
   "metadata": {
    "pycharm": {
     "name": "#%%\n"
    },
    "id": "rEskYhageMPv"
   },
   "source": [
    "#Showing the Null data\n",
    "df[df['category'].isnull()]"
   ],
   "execution_count": 5,
   "outputs": [
    {
     "data": {
      "text/plain": "                                               clean_text  category\n130448  the foundation stone northeast gas grid inaugu...       NaN\n155642  dear terrorists you can run but you cant hide ...       NaN\n155698  offense the best defence with mission shakti m...       NaN\n155770  have always heard politicians backing out thei...       NaN\n158693  modi government plans felicitate the faceless ...       NaN\n159442               chidambaram gives praises modinomics       NaN\n160559  the reason why modi contested from seats 2014 ...       NaN",
      "text/html": "<div>\n<style scoped>\n    .dataframe tbody tr th:only-of-type {\n        vertical-align: middle;\n    }\n\n    .dataframe tbody tr th {\n        vertical-align: top;\n    }\n\n    .dataframe thead th {\n        text-align: right;\n    }\n</style>\n<table border=\"1\" class=\"dataframe\">\n  <thead>\n    <tr style=\"text-align: right;\">\n      <th></th>\n      <th>clean_text</th>\n      <th>category</th>\n    </tr>\n  </thead>\n  <tbody>\n    <tr>\n      <th>130448</th>\n      <td>the foundation stone northeast gas grid inaugu...</td>\n      <td>NaN</td>\n    </tr>\n    <tr>\n      <th>155642</th>\n      <td>dear terrorists you can run but you cant hide ...</td>\n      <td>NaN</td>\n    </tr>\n    <tr>\n      <th>155698</th>\n      <td>offense the best defence with mission shakti m...</td>\n      <td>NaN</td>\n    </tr>\n    <tr>\n      <th>155770</th>\n      <td>have always heard politicians backing out thei...</td>\n      <td>NaN</td>\n    </tr>\n    <tr>\n      <th>158693</th>\n      <td>modi government plans felicitate the faceless ...</td>\n      <td>NaN</td>\n    </tr>\n    <tr>\n      <th>159442</th>\n      <td>chidambaram gives praises modinomics</td>\n      <td>NaN</td>\n    </tr>\n    <tr>\n      <th>160559</th>\n      <td>the reason why modi contested from seats 2014 ...</td>\n      <td>NaN</td>\n    </tr>\n  </tbody>\n</table>\n</div>"
     },
     "execution_count": 5,
     "metadata": {},
     "output_type": "execute_result"
    }
   ]
  },
  {
   "cell_type": "code",
   "metadata": {
    "pycharm": {
     "name": "#%%\n"
    },
    "id": "tichcARXeMPv"
   },
   "source": [
    "#Removing the null\n",
    "df.dropna(inplace=True)"
   ],
   "execution_count": 6,
   "outputs": []
  },
  {
   "cell_type": "markdown",
   "metadata": {
    "collapsed": false,
    "id": "3BMHxT38eMPw"
   },
   "source": [
    "Counting word count"
   ]
  },
  {
   "cell_type": "code",
   "metadata": {
    "pycharm": {
     "name": "#%%\n"
    },
    "id": "5mlm7vlzeMPw"
   },
   "source": [
    "import nltk\n",
    "nltk.download('punkt')\n",
    "df['token'] = df['clean_text'].apply(nltk.tokenize.word_tokenize)"
   ],
   "execution_count": 7,
   "outputs": [
    {
     "name": "stderr",
     "output_type": "stream",
     "text": [
      "[nltk_data] Downloading package punkt to\n",
      "[nltk_data]     C:\\Users\\vin\\AppData\\Roaming\\nltk_data...\n",
      "[nltk_data]   Package punkt is already up-to-date!\n"
     ]
    }
   ]
  },
  {
   "cell_type": "code",
   "metadata": {
    "pycharm": {
     "name": "#%%\n"
    },
    "id": "keAeZ-tSeMPw"
   },
   "source": [
    "df['len'] = df['token'].apply(len)"
   ],
   "execution_count": 8,
   "outputs": []
  },
  {
   "cell_type": "code",
   "metadata": {
    "pycharm": {
     "name": "#%%\n"
    },
    "id": "RhI-6ft8eMPx"
   },
   "source": [
    "df.len"
   ],
   "execution_count": 9,
   "outputs": [
    {
     "data": {
      "text/plain": "0          39\n1         196\n2          86\n3          29\n4         112\n         ... \n162975     18\n162976     36\n162977      9\n162978     13\n162979     34\nName: len, Length: 200222, dtype: int64"
     },
     "execution_count": 9,
     "metadata": {},
     "output_type": "execute_result"
    }
   ]
  },
  {
   "cell_type": "code",
   "metadata": {
    "pycharm": {
     "name": "#%%\n"
    },
    "id": "ImB09K-WeMPy"
   },
   "source": [
    "df['len'].describe()"
   ],
   "execution_count": 10,
   "outputs": [
    {
     "data": {
      "text/plain": "count    200222.000000\nmean         21.931296\nstd          26.686952\nmin           0.000000\n25%          10.000000\n50%          18.000000\n75%          30.000000\nmax        1307.000000\nName: len, dtype: float64"
     },
     "execution_count": 10,
     "metadata": {},
     "output_type": "execute_result"
    }
   ]
  },
  {
   "cell_type": "code",
   "metadata": {
    "pycharm": {
     "name": "#%%\n"
    },
    "id": "sHLe-CDIeMPz"
   },
   "source": [
    "df[df['len'] > 1000].sort_values('len')"
   ],
   "execution_count": 11,
   "outputs": [
    {
     "data": {
      "text/plain": "                                              clean_text  category  \\\n1682    going churlish and ahead and puncture your ba...       1.0   \n6016   the reason very simple copy and paste from red...       1.0   \n29923   india pakistan html for the past few decades ...       1.0   \n24431   modi’ government last four years has recovere...       1.0   \n4184   too much dependence people from iit and iim ca...       1.0   \n10440   demonetisation fails then blame modi told cab...       1.0   \n20979  there redemption for the crimes committed agai...       1.0   \n7231   let one one food beef obviously same thing her...       1.0   \n4373   part you have something mind please let know c...       1.0   \n28490  first all extremely sad people misunderstood y...       1.0   \n34281   read answer quora but direct links aren allow...       1.0   \n23361  hello have few questions related development s...       1.0   \n30639   what your opinion about social media being us...       1.0   \n8646   brilliant point point breakdown one other argu...       1.0   \n\n                                                   token   len  \n1682   [going, churlish, and, ahead, and, puncture, y...  1003  \n6016   [the, reason, very, simple, copy, and, paste, ...  1006  \n29923  [india, pakistan, html, for, the, past, few, d...  1009  \n24431  [modi, ’, government, last, four, years, has, ...  1035  \n4184   [too, much, dependence, people, from, iit, and...  1054  \n10440  [demonetisation, fails, then, blame, modi, tol...  1084  \n20979  [there, redemption, for, the, crimes, committe...  1103  \n7231   [let, one, one, food, beef, obviously, same, t...  1119  \n4373   [part, you, have, something, mind, please, let...  1177  \n28490  [first, all, extremely, sad, people, misunders...  1181  \n34281  [read, answer, quora, but, direct, links, aren...  1207  \n23361  [hello, have, few, questions, related, develop...  1260  \n30639  [what, your, opinion, about, social, media, be...  1303  \n8646   [brilliant, point, point, breakdown, one, othe...  1307  ",
      "text/html": "<div>\n<style scoped>\n    .dataframe tbody tr th:only-of-type {\n        vertical-align: middle;\n    }\n\n    .dataframe tbody tr th {\n        vertical-align: top;\n    }\n\n    .dataframe thead th {\n        text-align: right;\n    }\n</style>\n<table border=\"1\" class=\"dataframe\">\n  <thead>\n    <tr style=\"text-align: right;\">\n      <th></th>\n      <th>clean_text</th>\n      <th>category</th>\n      <th>token</th>\n      <th>len</th>\n    </tr>\n  </thead>\n  <tbody>\n    <tr>\n      <th>1682</th>\n      <td>going churlish and ahead and puncture your ba...</td>\n      <td>1.0</td>\n      <td>[going, churlish, and, ahead, and, puncture, y...</td>\n      <td>1003</td>\n    </tr>\n    <tr>\n      <th>6016</th>\n      <td>the reason very simple copy and paste from red...</td>\n      <td>1.0</td>\n      <td>[the, reason, very, simple, copy, and, paste, ...</td>\n      <td>1006</td>\n    </tr>\n    <tr>\n      <th>29923</th>\n      <td>india pakistan html for the past few decades ...</td>\n      <td>1.0</td>\n      <td>[india, pakistan, html, for, the, past, few, d...</td>\n      <td>1009</td>\n    </tr>\n    <tr>\n      <th>24431</th>\n      <td>modi’ government last four years has recovere...</td>\n      <td>1.0</td>\n      <td>[modi, ’, government, last, four, years, has, ...</td>\n      <td>1035</td>\n    </tr>\n    <tr>\n      <th>4184</th>\n      <td>too much dependence people from iit and iim ca...</td>\n      <td>1.0</td>\n      <td>[too, much, dependence, people, from, iit, and...</td>\n      <td>1054</td>\n    </tr>\n    <tr>\n      <th>10440</th>\n      <td>demonetisation fails then blame modi told cab...</td>\n      <td>1.0</td>\n      <td>[demonetisation, fails, then, blame, modi, tol...</td>\n      <td>1084</td>\n    </tr>\n    <tr>\n      <th>20979</th>\n      <td>there redemption for the crimes committed agai...</td>\n      <td>1.0</td>\n      <td>[there, redemption, for, the, crimes, committe...</td>\n      <td>1103</td>\n    </tr>\n    <tr>\n      <th>7231</th>\n      <td>let one one food beef obviously same thing her...</td>\n      <td>1.0</td>\n      <td>[let, one, one, food, beef, obviously, same, t...</td>\n      <td>1119</td>\n    </tr>\n    <tr>\n      <th>4373</th>\n      <td>part you have something mind please let know c...</td>\n      <td>1.0</td>\n      <td>[part, you, have, something, mind, please, let...</td>\n      <td>1177</td>\n    </tr>\n    <tr>\n      <th>28490</th>\n      <td>first all extremely sad people misunderstood y...</td>\n      <td>1.0</td>\n      <td>[first, all, extremely, sad, people, misunders...</td>\n      <td>1181</td>\n    </tr>\n    <tr>\n      <th>34281</th>\n      <td>read answer quora but direct links aren allow...</td>\n      <td>1.0</td>\n      <td>[read, answer, quora, but, direct, links, aren...</td>\n      <td>1207</td>\n    </tr>\n    <tr>\n      <th>23361</th>\n      <td>hello have few questions related development s...</td>\n      <td>1.0</td>\n      <td>[hello, have, few, questions, related, develop...</td>\n      <td>1260</td>\n    </tr>\n    <tr>\n      <th>30639</th>\n      <td>what your opinion about social media being us...</td>\n      <td>1.0</td>\n      <td>[what, your, opinion, about, social, media, be...</td>\n      <td>1303</td>\n    </tr>\n    <tr>\n      <th>8646</th>\n      <td>brilliant point point breakdown one other argu...</td>\n      <td>1.0</td>\n      <td>[brilliant, point, point, breakdown, one, othe...</td>\n      <td>1307</td>\n    </tr>\n  </tbody>\n</table>\n</div>"
     },
     "execution_count": 11,
     "metadata": {},
     "output_type": "execute_result"
    }
   ]
  },
  {
   "cell_type": "code",
   "metadata": {
    "pycharm": {
     "name": "#%%\n"
    },
    "id": "pV3kv5NFeMPz"
   },
   "source": [
    "df['clean_text'].iloc[8646]"
   ],
   "execution_count": 12,
   "outputs": [
    {
     "data": {
      "text/plain": "'brilliant point point breakdown one other argument making the rounds false argument okay maybe the strikes took place but should have been kept secret and deniable there good reason for dgmo make statements about covert actions except for bjp score political points there are massive number reasons make strike like this public exposes pakistan bluster just tough talk for all their talk being high alert for indian troop movement along the loc after the uri attack they didn even see coming massively boosts morale within the armed forces morale which has been getting steadily lower our bases kept getting hit while they were not allowed take charge the offensive the troops are also being vilified the media national and international while trying control spiral violence srinagar fueled pakistan propaganda machine makes the best use pakistan blunder overreaching and outmaneuvers them pakistan has its hands tied now after making bold statements about defending against indian adventurism aggression and denying that any terrorist camps even exist the region that they have the support their government pakistan has left itself publicly admissible out can either promise retaliation for strikes thereby confirming the existence such terror bases deny the strike and claim ignorance any bases the area releasing statements and evidence the strikes india makes pakistan look weak and incompetent defense while also making the point that pakistan harbors terrorists and uses them proxy war against india manner that exceeds just providing moral and diplomatic support they have claimed the past calls pakistan bluff threats start nuclear conflict their nuclear arsenal while still being very real and implicit threat longer their impenetrable shield striking within pok and then making public india has taken control the escalatory ladden you said earlier out the open for everyone see which leads the next point makes public the strategic shift indian policy dealing with cross border infiltration and terrorism this now means that india controls the play events and that infiltration will actively fought against taking the fight the terror outposts and leaving open the possibility even striking training camps situated further inland this means that india will make pakistan work and pay for every infiltration attempt literally not just pay terms revenge and bloodshed pakistan will need actually spend more time money resources manpower actual defense and surveillance near these bases their terror outposts will have constantly vigilant and more resources dedicated keeping eye out for incoming strikes the future this very different from the past where the outposts had nothing worry about till they crossed the border and their entire focus was offensive not defensive nature points out very little fencing the pakistani side because they never even felt the need defend themselves but that will all change now terrorists will not sleep peacefully their beds they will possibly make more mistakes and every new person recruited keep watch patrol their perimeter potential vulnerability too accidentally leaked info paid informant mole many these will make increasingly expensive and difficult maintain multiple such bases leading demoralized terrorists demoralized pakistani troops demoralized and disillusioned pakistani public pakistan currently damage control mode firing off more propaganda than artillery and trying pooh pooh the stories the strikes indian propaganda but inaccuracies their accounts will begin add and morale will definitely take hit everyone the pakistani side currently denial but that expected ultimately again makes the government look dishonest incompetent and erodes their imaginary moral high ground that they lay claim strengthens the indian public support for the government this definitely well deserved win for the bjp but more importantly makes the indian public lot more unified behind their central government regardless who was power when such action was taken there are certainly plenty who question the narrative and events but there definite surge public approval favor retaliation for uri and the strikes themselves regardless their position the who how where why covert overt bragging courting war etc this demonstrates among other things that the goi proactive that was receptive the outrage about uri across the nation that was willing take stand such attacks indian sovereignty demonstrates india ability operate within the bounds previous agreements and treaties while still taking decisive action defend itself and not being enslaved those treaties pakistan has always played victim when came any border related issue and deny any involvement previous incursions from their side meanwhile india hamstrung restrictive treaties preventing military retaliation for numerous actions carried out pakistan and its proxy fighters till now this deft navigation not altering the loc while striking terrorist camps falls well within the bounds the simla agreement and the charter surgical strikes across loc line with shimla agreement and charter 3026586 html exploring this avenue publicly means that india can now freely continue perform such strikes the future without invoking any backlash from most other nations and getting active support from several now let assume that the strikes took place but the government kept absolutely secret the outcome not making the strikes public knowledge would have been quite disadvantageous the whole india maintains deniability for aggressive action great but pakistan will constantly play the victim anyway portray cross border terrorism domestic rebellion foment unrest and paint india oppressive bully state committing atrocities kashmir very little advantage here while the strike killed handful terrorists and prevented few attacks the near future would fail adequately capitalize that victory other terror outfits and individual members such organisations may remain unaware and unafraid pakistani turf terrorists sleeping soundly before attempting border crossing isn good for indian defense maintaining state combat ready vigilance and tension impossible for more than few days for all but the most highly trained soldiers demoralizes indian troops they would feel abandoned the govt and the people left deal with bloodthirsty militants all themselves without any chance take action and preempt such attacks the indian soldiers continue the only ones who sleep fear with the fatigue constant vigilance making them weaker while the enemy gets stronger indian silence taken for weakness emboldens our enemies india seen soft target home and abroad india loses control the narrative the few who would aware the covert action the other side could later alter the narrative they have done several times the past and claim india committed atrocities and crimes pakistani territory and killed civilians blaming raw and other agencies and using justify further attacks several years the future the context and events this time would have faded from the public mind and india would the diplomatic back foot having either deny the action ever took place and look guilty forced justify such action and remind the public that was retaliation for uri not random unprovoked attack better claim upfront and connect the two events inextricably forever india retaliates for uri massacre today lot better than india denies committing war crimes pok years later when the conspiracy theorists would have had plenty time concoct alternate narrative pakistan would continue have the facade nuclear shield despite successful strike until challenged head publicly pakistan claims would continue hold weight pakistan retains control the escalatory ladder pakistan bluff not called and continues project the image competent military pakistan retains the facade harboring terrorists its soil what terrorists public acknowledgement shift the policy strategic restraint indian public loses faith the government not knowing about any retaliation would mean that the indian public would just have another item list complain about how the government all talk action critics the government perceived restraint would continue make the government look weak and ineffective bjp would crucified the public eye for not taking stronger measures because the public wouldn know about the strike the voice the people would appear have been ignored future governments would unlikely continue the shift strategy reluctance take control the offensive would persist continued veil secrecy would mean that their efforts would unnoticed while the costs and risks such operations would for little political benefit '"
     },
     "execution_count": 12,
     "metadata": {},
     "output_type": "execute_result"
    }
   ]
  },
  {
   "cell_type": "code",
   "metadata": {
    "pycharm": {
     "name": "#%%\n"
    },
    "id": "B8lL4Z2feMP0"
   },
   "source": [
    "# df['label'] = df['category'].map({\n",
    "#     -1.0: np.array([1, 0, 0], dtype=float),\n",
    "#     0.0: np.array([0, 1, 0], dtype=float),\n",
    "#     1.0: np.array([0, 0, 1], dtype=float)\n",
    "# })\n",
    "# df.drop('label', axis=1)\n",
    "df['label'] = df['category'].map({\n",
    "    -1.0: [1, 0, 0],\n",
    "    0.0: [0, 1, 0],\n",
    "    1.0: [0, 0, 1]\n",
    "})"
   ],
   "execution_count": 13,
   "outputs": []
  },
  {
   "cell_type": "code",
   "metadata": {
    "pycharm": {
     "name": "#%%\n"
    },
    "id": "vkBvIpEveMP1"
   },
   "source": [
    "df.head()"
   ],
   "execution_count": 14,
   "outputs": [
    {
     "data": {
      "text/plain": "                                          clean_text  category  \\\n0   family mormon have never tried explain them t...       1.0   \n1  buddhism has very much lot compatible with chr...       1.0   \n2  seriously don say thing first all they won get...      -1.0   \n3  what you have learned yours and only yours wha...       0.0   \n4  for your own benefit you may want read living ...       1.0   \n\n                                               token  len      label  \n0  [family, mormon, have, never, tried, explain, ...   39  [0, 0, 1]  \n1  [buddhism, has, very, much, lot, compatible, w...  196  [0, 0, 1]  \n2  [seriously, don, say, thing, first, all, they,...   86  [1, 0, 0]  \n3  [what, you, have, learned, yours, and, only, y...   29  [0, 1, 0]  \n4  [for, your, own, benefit, you, may, want, read...  112  [0, 0, 1]  ",
      "text/html": "<div>\n<style scoped>\n    .dataframe tbody tr th:only-of-type {\n        vertical-align: middle;\n    }\n\n    .dataframe tbody tr th {\n        vertical-align: top;\n    }\n\n    .dataframe thead th {\n        text-align: right;\n    }\n</style>\n<table border=\"1\" class=\"dataframe\">\n  <thead>\n    <tr style=\"text-align: right;\">\n      <th></th>\n      <th>clean_text</th>\n      <th>category</th>\n      <th>token</th>\n      <th>len</th>\n      <th>label</th>\n    </tr>\n  </thead>\n  <tbody>\n    <tr>\n      <th>0</th>\n      <td>family mormon have never tried explain them t...</td>\n      <td>1.0</td>\n      <td>[family, mormon, have, never, tried, explain, ...</td>\n      <td>39</td>\n      <td>[0, 0, 1]</td>\n    </tr>\n    <tr>\n      <th>1</th>\n      <td>buddhism has very much lot compatible with chr...</td>\n      <td>1.0</td>\n      <td>[buddhism, has, very, much, lot, compatible, w...</td>\n      <td>196</td>\n      <td>[0, 0, 1]</td>\n    </tr>\n    <tr>\n      <th>2</th>\n      <td>seriously don say thing first all they won get...</td>\n      <td>-1.0</td>\n      <td>[seriously, don, say, thing, first, all, they,...</td>\n      <td>86</td>\n      <td>[1, 0, 0]</td>\n    </tr>\n    <tr>\n      <th>3</th>\n      <td>what you have learned yours and only yours wha...</td>\n      <td>0.0</td>\n      <td>[what, you, have, learned, yours, and, only, y...</td>\n      <td>29</td>\n      <td>[0, 1, 0]</td>\n    </tr>\n    <tr>\n      <th>4</th>\n      <td>for your own benefit you may want read living ...</td>\n      <td>1.0</td>\n      <td>[for, your, own, benefit, you, may, want, read...</td>\n      <td>112</td>\n      <td>[0, 0, 1]</td>\n    </tr>\n  </tbody>\n</table>\n</div>"
     },
     "execution_count": 14,
     "metadata": {},
     "output_type": "execute_result"
    }
   ]
  },
  {
   "cell_type": "markdown",
   "metadata": {
    "id": "deLiqnsLCnlM"
   },
   "source": [
    "#Split the data"
   ]
  },
  {
   "cell_type": "code",
   "metadata": {
    "id": "vLAIMiIEoxL3"
   },
   "source": [
    "sample = df.sample(frac=1.0, random_state=4)\n",
    "train = sample[:int(0.8*len(sample))]\n",
    "test = sample[int(0.8*len(sample)):]"
   ],
   "execution_count": 15,
   "outputs": []
  },
  {
   "cell_type": "code",
   "metadata": {
    "id": "fPf8rAR4CrbL"
   },
   "source": [
    "# Tokenizer"
   ],
   "execution_count": 16,
   "outputs": []
  },
  {
   "cell_type": "code",
   "metadata": {
    "id": "B3rqexT-gX0v"
   },
   "source": [
    "import tensorflow as tf\n",
    "\n",
    "tokenizer = tf.keras.preprocessing.text.Tokenizer(oov_token='<OOV>')\n",
    "tokenizer.fit_on_texts(train['clean_text'].values)\n"
   ],
   "execution_count": 17,
   "outputs": []
  },
  {
   "cell_type": "code",
   "metadata": {
    "id": "WUqF-M8TlCkK"
   },
   "source": [
    "# print(len(tokenizer.word_index))\n",
    "# len(tokenizer.word_index)**0.25\n"
   ],
   "execution_count": 18,
   "outputs": []
  },
  {
   "cell_type": "code",
   "metadata": {
    "id": "WcTVRSXYmKdw"
   },
   "source": [
    "# a = \"I remember it all too well\"\n",
    "# tokenizer.texts_to_sequences([a])"
   ],
   "execution_count": 19,
   "outputs": []
  },
  {
   "cell_type": "code",
   "metadata": {
    "id": "PV3M1LfNmz9p"
   },
   "source": [
    "sequence_train = tokenizer.texts_to_sequences(train[\"clean_text\"])\n",
    "sequence_test = tokenizer.texts_to_sequences(test[\"clean_text\"])"
   ],
   "execution_count": 20,
   "outputs": []
  },
  {
   "cell_type": "code",
   "metadata": {
    "id": "D_bl8yNAnOLm"
   },
   "source": [
    "pad_train= tf.keras.preprocessing.sequence.pad_sequences(sequence_train, maxlen=30, padding='pre')\n",
    "pad_test= tf.keras.preprocessing.sequence.pad_sequences(sequence_test, maxlen=30, padding='pre')\n"
   ],
   "execution_count": 23,
   "outputs": []
  },
  {
   "cell_type": "markdown",
   "metadata": {
    "id": "4hPB61QUw2MN"
   },
   "source": [
    "RNN"
   ]
  },
  {
   "cell_type": "code",
   "metadata": {
    "colab": {
     "base_uri": "https://localhost:8080/"
    },
    "id": "lbDcaa6Bw1-D",
    "outputId": "ef76fa3c-7e89-4b96-bf92-007b64fd879c"
   },
   "source": [
    "import tensorflow as tf\n",
    "from tensorflow import keras\n",
    "from tensorflow.keras import layers\n",
    "\n",
    "#hidden and output layer\n",
    "model = keras.Sequential(\n",
    "    [\n",
    "     tf.keras.layers.Embedding(len(tokenizer.word_index)+1,64,input_length=30, trainable=True), #total vocab, output (dari total vocab akar 4)\n",
    "     layers.LSTM(64, return_sequences=True), #hidden layer\n",
    "     layers.LSTM(64), #hidden layer\n",
    "     # layers.LSTM(64, return_sequences=True), #hidden layer\n",
    "     # layers.LSTM(64, return_sequences=True), #hidden layer\n",
    "     # layers.LSTM(64), #hidden layer\n",
    "     # layers.Dense(64, activation=tf.nn.relu),\n",
    "     layers.Dense(64, activation=tf.nn.relu),\n",
    "     # layers.Dense(3, activation =\"softmax\", name=\"layer3\") #output layer\n",
    "     layers.Dense(3, activation =\"softmax\", name=\"layer3\") #output layer\n",
    "    ]\n",
    ")\n",
    "model.summary()"
   ],
   "execution_count": 24,
   "outputs": [
    {
     "name": "stdout",
     "output_type": "stream",
     "text": [
      "Model: \"sequential\"\n",
      "_________________________________________________________________\n",
      " Layer (type)                Output Shape              Param #   \n",
      "=================================================================\n",
      " embedding (Embedding)       (None, 50, 64)            7747072   \n",
      "                                                                 \n",
      " lstm (LSTM)                 (None, 50, 64)            33024     \n",
      "                                                                 \n",
      " lstm_1 (LSTM)               (None, 64)                33024     \n",
      "                                                                 \n",
      " dense (Dense)               (None, 64)                4160      \n",
      "                                                                 \n",
      " layer3 (Dense)              (None, 3)                 195       \n",
      "                                                                 \n",
      "=================================================================\n",
      "Total params: 7,817,475\n",
      "Trainable params: 7,817,475\n",
      "Non-trainable params: 0\n",
      "_________________________________________________________________\n",
      "Model: \"sequential_1\"\n",
      "_________________________________________________________________\n",
      " Layer (type)                Output Shape              Param #   \n",
      "=================================================================\n",
      " embedding_1 (Embedding)     (None, 30, 64)            7747072   \n",
      "                                                                 \n",
      " lstm_2 (LSTM)               (None, 30, 64)            33024     \n",
      "                                                                 \n",
      " lstm_3 (LSTM)               (None, 64)                33024     \n",
      "                                                                 \n",
      " dense_1 (Dense)             (None, 64)                4160      \n",
      "                                                                 \n",
      " layer3 (Dense)              (None, 3)                 195       \n",
      "                                                                 \n",
      "=================================================================\n",
      "Total params: 7,817,475\n",
      "Trainable params: 7,817,475\n",
      "Non-trainable params: 0\n",
      "_________________________________________________________________\n"
     ]
    }
   ]
  },
  {
   "cell_type": "markdown",
   "metadata": {
    "id": "rA4_EbaV3bd4"
   },
   "source": [
    "Compile the model"
   ]
  },
  {
   "cell_type": "code",
   "metadata": {
    "id": "nSM_ZaDxqdUo"
   },
   "source": [
    "model.compile(optimizer=tf.keras.optimizers.Adam(), loss=\"categorical_crossentropy\" , metrics=['categorical_accuracy'])\n",
    "# model.compile(optimizer=tf.keras.optimizers.Adam(), loss=\"categorical_crossentropy\" , metrics=['accuracy'])"
   ],
   "execution_count": 25,
   "outputs": []
  },
  {
   "cell_type": "markdown",
   "metadata": {
    "id": "VTFSXU8g4oe6"
   },
   "source": [
    "Fit the model"
   ]
  },
  {
   "cell_type": "code",
   "metadata": {
    "colab": {
     "base_uri": "https://localhost:8080/"
    },
    "id": "fq68mIbC4oB1",
    "pycharm": {
     "name": "#%%\n"
    },
    "outputId": "b00895f3-8bf0-49a4-99b2-13316cf608c4"
   },
   "source": [
    "history = model.fit(x=pad_train, y=pd.get_dummies(train['category']), batch_size=32, epochs=100, verbose=1,\n",
    "    validation_data=[pad_test,pd.get_dummies(test['category'])],\n",
    "          steps_per_epoch=32)"
   ],
   "execution_count": 26,
   "outputs": [
    {
     "name": "stdout",
     "output_type": "stream",
     "text": [
      "Epoch 1/100\n",
      "32/32 [==============================] - 15s 284ms/step - loss: 1.0274 - categorical_accuracy: 0.4922 - val_loss: 0.9829 - val_categorical_accuracy: 0.5263\n",
      "Epoch 2/100\n",
      "32/32 [==============================] - 8s 257ms/step - loss: 0.9818 - categorical_accuracy: 0.5234 - val_loss: 0.9836 - val_categorical_accuracy: 0.5360\n",
      "Epoch 3/100\n",
      "32/32 [==============================] - 8s 250ms/step - loss: 0.9503 - categorical_accuracy: 0.5498 - val_loss: 0.9475 - val_categorical_accuracy: 0.5619\n",
      "Epoch 4/100\n",
      "32/32 [==============================] - 8s 249ms/step - loss: 0.9033 - categorical_accuracy: 0.5908 - val_loss: 0.8764 - val_categorical_accuracy: 0.5930\n",
      "Epoch 5/100\n",
      "32/32 [==============================] - 8s 251ms/step - loss: 0.8240 - categorical_accuracy: 0.6338 - val_loss: 0.8160 - val_categorical_accuracy: 0.6353\n",
      "Epoch 6/100\n",
      "32/32 [==============================] - 8s 244ms/step - loss: 0.7769 - categorical_accuracy: 0.6748 - val_loss: 0.7373 - val_categorical_accuracy: 0.6795\n",
      "Epoch 7/100\n",
      "32/32 [==============================] - 7s 231ms/step - loss: 0.7153 - categorical_accuracy: 0.7012 - val_loss: 0.7048 - val_categorical_accuracy: 0.7099\n",
      "Epoch 8/100\n",
      "32/32 [==============================] - 7s 233ms/step - loss: 0.6647 - categorical_accuracy: 0.7148 - val_loss: 0.6424 - val_categorical_accuracy: 0.7287\n",
      "Epoch 9/100\n",
      "32/32 [==============================] - 7s 229ms/step - loss: 0.6188 - categorical_accuracy: 0.7607 - val_loss: 0.6112 - val_categorical_accuracy: 0.7562\n",
      "Epoch 10/100\n",
      "32/32 [==============================] - 7s 232ms/step - loss: 0.5565 - categorical_accuracy: 0.7686 - val_loss: 0.5725 - val_categorical_accuracy: 0.7729\n",
      "Epoch 11/100\n",
      "32/32 [==============================] - 8s 244ms/step - loss: 0.5808 - categorical_accuracy: 0.7715 - val_loss: 0.5602 - val_categorical_accuracy: 0.7775\n",
      "Epoch 12/100\n",
      "32/32 [==============================] - 8s 250ms/step - loss: 0.5537 - categorical_accuracy: 0.7852 - val_loss: 0.5212 - val_categorical_accuracy: 0.7990\n",
      "Epoch 13/100\n",
      "32/32 [==============================] - 8s 246ms/step - loss: 0.5025 - categorical_accuracy: 0.8115 - val_loss: 0.4900 - val_categorical_accuracy: 0.8160\n",
      "Epoch 14/100\n",
      "32/32 [==============================] - 8s 246ms/step - loss: 0.5033 - categorical_accuracy: 0.8193 - val_loss: 0.4876 - val_categorical_accuracy: 0.8188\n",
      "Epoch 15/100\n",
      "32/32 [==============================] - 8s 246ms/step - loss: 0.4563 - categorical_accuracy: 0.8350 - val_loss: 0.4407 - val_categorical_accuracy: 0.8423\n",
      "Epoch 16/100\n",
      "32/32 [==============================] - 8s 252ms/step - loss: 0.4358 - categorical_accuracy: 0.8467 - val_loss: 0.4155 - val_categorical_accuracy: 0.8530\n",
      "Epoch 17/100\n",
      "32/32 [==============================] - 8s 254ms/step - loss: 0.4005 - categorical_accuracy: 0.8604 - val_loss: 0.4083 - val_categorical_accuracy: 0.8533\n",
      "Epoch 18/100\n",
      "32/32 [==============================] - 8s 252ms/step - loss: 0.3779 - categorical_accuracy: 0.8652 - val_loss: 0.3929 - val_categorical_accuracy: 0.8636\n",
      "Epoch 19/100\n",
      "32/32 [==============================] - 8s 246ms/step - loss: 0.3597 - categorical_accuracy: 0.8672 - val_loss: 0.3876 - val_categorical_accuracy: 0.8653\n",
      "Epoch 20/100\n",
      "32/32 [==============================] - 8s 250ms/step - loss: 0.3763 - categorical_accuracy: 0.8770 - val_loss: 0.3948 - val_categorical_accuracy: 0.8616\n",
      "Epoch 21/100\n",
      "32/32 [==============================] - 7s 230ms/step - loss: 0.3581 - categorical_accuracy: 0.8740 - val_loss: 0.3682 - val_categorical_accuracy: 0.8747\n",
      "Epoch 22/100\n",
      "32/32 [==============================] - 7s 232ms/step - loss: 0.3832 - categorical_accuracy: 0.8701 - val_loss: 0.3823 - val_categorical_accuracy: 0.8669\n",
      "Epoch 23/100\n",
      "32/32 [==============================] - 7s 233ms/step - loss: 0.3343 - categorical_accuracy: 0.8887 - val_loss: 0.3555 - val_categorical_accuracy: 0.8800\n",
      "Epoch 24/100\n",
      "32/32 [==============================] - 7s 229ms/step - loss: 0.4025 - categorical_accuracy: 0.8604 - val_loss: 0.3508 - val_categorical_accuracy: 0.8784\n",
      "Epoch 25/100\n",
      "32/32 [==============================] - 7s 226ms/step - loss: 0.3619 - categorical_accuracy: 0.8643 - val_loss: 0.3379 - val_categorical_accuracy: 0.8821\n",
      "Epoch 26/100\n",
      "32/32 [==============================] - 7s 226ms/step - loss: 0.2898 - categorical_accuracy: 0.9111 - val_loss: 0.3246 - val_categorical_accuracy: 0.8894\n",
      "Epoch 27/100\n",
      "32/32 [==============================] - 7s 231ms/step - loss: 0.3263 - categorical_accuracy: 0.8896 - val_loss: 0.3242 - val_categorical_accuracy: 0.8886\n",
      "Epoch 28/100\n",
      "32/32 [==============================] - 7s 232ms/step - loss: 0.3159 - categorical_accuracy: 0.8896 - val_loss: 0.3126 - val_categorical_accuracy: 0.8942\n",
      "Epoch 29/100\n",
      "32/32 [==============================] - 7s 229ms/step - loss: 0.2837 - categorical_accuracy: 0.9014 - val_loss: 0.3041 - val_categorical_accuracy: 0.8960\n",
      "Epoch 30/100\n",
      "32/32 [==============================] - 8s 246ms/step - loss: 0.2758 - categorical_accuracy: 0.9033 - val_loss: 0.3083 - val_categorical_accuracy: 0.8967\n",
      "Epoch 31/100\n",
      "32/32 [==============================] - 8s 246ms/step - loss: 0.2795 - categorical_accuracy: 0.9082 - val_loss: 0.3042 - val_categorical_accuracy: 0.9015\n",
      "Epoch 32/100\n",
      "32/32 [==============================] - 8s 249ms/step - loss: 0.3008 - categorical_accuracy: 0.9014 - val_loss: 0.3158 - val_categorical_accuracy: 0.8908\n",
      "Epoch 33/100\n",
      "32/32 [==============================] - 8s 246ms/step - loss: 0.2764 - categorical_accuracy: 0.9131 - val_loss: 0.2982 - val_categorical_accuracy: 0.9015\n",
      "Epoch 34/100\n",
      "32/32 [==============================] - 8s 245ms/step - loss: 0.2866 - categorical_accuracy: 0.9004 - val_loss: 0.3092 - val_categorical_accuracy: 0.8963\n",
      "Epoch 35/100\n",
      "32/32 [==============================] - 8s 242ms/step - loss: 0.2812 - categorical_accuracy: 0.9131 - val_loss: 0.2847 - val_categorical_accuracy: 0.9074\n",
      "Epoch 36/100\n",
      "32/32 [==============================] - 8s 248ms/step - loss: 0.3025 - categorical_accuracy: 0.8975 - val_loss: 0.2791 - val_categorical_accuracy: 0.9092\n",
      "Epoch 37/100\n",
      "32/32 [==============================] - 8s 243ms/step - loss: 0.2708 - categorical_accuracy: 0.9160 - val_loss: 0.2870 - val_categorical_accuracy: 0.9033\n",
      "Epoch 38/100\n",
      "32/32 [==============================] - 8s 253ms/step - loss: 0.2734 - categorical_accuracy: 0.9092 - val_loss: 0.2741 - val_categorical_accuracy: 0.9106\n",
      "Epoch 39/100\n",
      "32/32 [==============================] - 8s 244ms/step - loss: 0.2811 - categorical_accuracy: 0.9121 - val_loss: 0.2738 - val_categorical_accuracy: 0.9078\n",
      "Epoch 40/100\n",
      "32/32 [==============================] - 8s 251ms/step - loss: 0.2633 - categorical_accuracy: 0.9102 - val_loss: 0.2801 - val_categorical_accuracy: 0.9099\n",
      "Epoch 41/100\n",
      "32/32 [==============================] - 8s 245ms/step - loss: 0.2745 - categorical_accuracy: 0.9082 - val_loss: 0.2795 - val_categorical_accuracy: 0.9078\n",
      "Epoch 42/100\n",
      "32/32 [==============================] - 8s 248ms/step - loss: 0.2948 - categorical_accuracy: 0.9053 - val_loss: 0.2709 - val_categorical_accuracy: 0.9120\n",
      "Epoch 43/100\n",
      "32/32 [==============================] - 7s 236ms/step - loss: 0.2693 - categorical_accuracy: 0.9102 - val_loss: 0.2734 - val_categorical_accuracy: 0.9102\n",
      "Epoch 44/100\n",
      "32/32 [==============================] - 7s 240ms/step - loss: 0.2745 - categorical_accuracy: 0.9092 - val_loss: 0.2712 - val_categorical_accuracy: 0.9127\n",
      "Epoch 45/100\n",
      "32/32 [==============================] - 8s 243ms/step - loss: 0.2280 - categorical_accuracy: 0.9258 - val_loss: 0.2668 - val_categorical_accuracy: 0.9148\n",
      "Epoch 46/100\n",
      "32/32 [==============================] - 8s 254ms/step - loss: 0.2352 - categorical_accuracy: 0.9238 - val_loss: 0.2625 - val_categorical_accuracy: 0.9139\n",
      "Epoch 47/100\n",
      "32/32 [==============================] - 8s 254ms/step - loss: 0.2540 - categorical_accuracy: 0.9229 - val_loss: 0.2617 - val_categorical_accuracy: 0.9164\n",
      "Epoch 48/100\n",
      "32/32 [==============================] - 8s 249ms/step - loss: 0.2426 - categorical_accuracy: 0.9199 - val_loss: 0.2588 - val_categorical_accuracy: 0.9150\n",
      "Epoch 49/100\n",
      "32/32 [==============================] - 8s 243ms/step - loss: 0.2509 - categorical_accuracy: 0.9111 - val_loss: 0.2518 - val_categorical_accuracy: 0.9180\n",
      "Epoch 50/100\n",
      "32/32 [==============================] - 8s 262ms/step - loss: 0.2569 - categorical_accuracy: 0.9268 - val_loss: 0.2615 - val_categorical_accuracy: 0.9153\n",
      "Epoch 51/100\n",
      "32/32 [==============================] - 8s 246ms/step - loss: 0.2540 - categorical_accuracy: 0.9150 - val_loss: 0.2486 - val_categorical_accuracy: 0.9166\n",
      "Epoch 52/100\n",
      "32/32 [==============================] - 8s 247ms/step - loss: 0.2694 - categorical_accuracy: 0.9141 - val_loss: 0.2612 - val_categorical_accuracy: 0.9126\n",
      "Epoch 53/100\n",
      "32/32 [==============================] - 8s 247ms/step - loss: 0.2108 - categorical_accuracy: 0.9209 - val_loss: 0.2595 - val_categorical_accuracy: 0.9200\n",
      "Epoch 54/100\n",
      "32/32 [==============================] - 8s 247ms/step - loss: 0.2813 - categorical_accuracy: 0.9043 - val_loss: 0.2488 - val_categorical_accuracy: 0.9197\n",
      "Epoch 55/100\n",
      "32/32 [==============================] - 8s 247ms/step - loss: 0.2471 - categorical_accuracy: 0.9189 - val_loss: 0.2438 - val_categorical_accuracy: 0.9207\n",
      "Epoch 56/100\n",
      "32/32 [==============================] - 8s 257ms/step - loss: 0.2157 - categorical_accuracy: 0.9326 - val_loss: 0.2474 - val_categorical_accuracy: 0.9193\n",
      "Epoch 57/100\n",
      "32/32 [==============================] - 8s 243ms/step - loss: 0.2043 - categorical_accuracy: 0.9307 - val_loss: 0.2521 - val_categorical_accuracy: 0.9154\n",
      "Epoch 58/100\n",
      "32/32 [==============================] - 8s 245ms/step - loss: 0.2995 - categorical_accuracy: 0.8975 - val_loss: 0.2501 - val_categorical_accuracy: 0.9177\n",
      "Epoch 59/100\n",
      "32/32 [==============================] - 8s 242ms/step - loss: 0.2256 - categorical_accuracy: 0.9277 - val_loss: 0.2611 - val_categorical_accuracy: 0.9149\n",
      "Epoch 60/100\n",
      "32/32 [==============================] - 8s 246ms/step - loss: 0.2632 - categorical_accuracy: 0.9189 - val_loss: 0.2392 - val_categorical_accuracy: 0.9221\n",
      "Epoch 61/100\n",
      "32/32 [==============================] - 8s 244ms/step - loss: 0.2545 - categorical_accuracy: 0.9082 - val_loss: 0.2413 - val_categorical_accuracy: 0.9209\n",
      "Epoch 62/100\n",
      "32/32 [==============================] - 8s 246ms/step - loss: 0.2392 - categorical_accuracy: 0.9160 - val_loss: 0.2337 - val_categorical_accuracy: 0.9226\n",
      "Epoch 63/100\n",
      "32/32 [==============================] - 8s 248ms/step - loss: 0.2653 - categorical_accuracy: 0.9102 - val_loss: 0.2372 - val_categorical_accuracy: 0.9240\n",
      "Epoch 64/100\n",
      "32/32 [==============================] - 8s 249ms/step - loss: 0.2422 - categorical_accuracy: 0.9189 - val_loss: 0.2427 - val_categorical_accuracy: 0.9184\n",
      "Epoch 65/100\n",
      "32/32 [==============================] - 8s 243ms/step - loss: 0.2144 - categorical_accuracy: 0.9258 - val_loss: 0.2333 - val_categorical_accuracy: 0.9226\n",
      "Epoch 66/100\n",
      "32/32 [==============================] - 8s 247ms/step - loss: 0.2046 - categorical_accuracy: 0.9258 - val_loss: 0.2322 - val_categorical_accuracy: 0.9255\n",
      "Epoch 67/100\n",
      "32/32 [==============================] - 8s 263ms/step - loss: 0.2133 - categorical_accuracy: 0.9219 - val_loss: 0.2357 - val_categorical_accuracy: 0.9214\n",
      "Epoch 68/100\n",
      "32/32 [==============================] - 8s 258ms/step - loss: 0.1931 - categorical_accuracy: 0.9443 - val_loss: 0.2310 - val_categorical_accuracy: 0.9268\n",
      "Epoch 69/100\n",
      "32/32 [==============================] - 8s 270ms/step - loss: 0.2164 - categorical_accuracy: 0.9287 - val_loss: 0.2285 - val_categorical_accuracy: 0.9250\n",
      "Epoch 70/100\n",
      "32/32 [==============================] - 8s 251ms/step - loss: 0.2068 - categorical_accuracy: 0.9277 - val_loss: 0.2266 - val_categorical_accuracy: 0.9272\n",
      "Epoch 71/100\n",
      "32/32 [==============================] - 8s 248ms/step - loss: 0.2393 - categorical_accuracy: 0.9199 - val_loss: 0.2218 - val_categorical_accuracy: 0.9268\n",
      "Epoch 72/100\n",
      "32/32 [==============================] - 8s 244ms/step - loss: 0.2279 - categorical_accuracy: 0.9238 - val_loss: 0.2224 - val_categorical_accuracy: 0.9265\n",
      "Epoch 73/100\n",
      "32/32 [==============================] - 8s 247ms/step - loss: 0.2294 - categorical_accuracy: 0.9268 - val_loss: 0.2221 - val_categorical_accuracy: 0.9284\n",
      "Epoch 74/100\n",
      "32/32 [==============================] - 8s 244ms/step - loss: 0.2385 - categorical_accuracy: 0.9277 - val_loss: 0.2199 - val_categorical_accuracy: 0.9284\n",
      "Epoch 75/100\n",
      "32/32 [==============================] - 8s 257ms/step - loss: 0.1969 - categorical_accuracy: 0.9336 - val_loss: 0.2262 - val_categorical_accuracy: 0.9298\n",
      "Epoch 76/100\n",
      "32/32 [==============================] - 8s 242ms/step - loss: 0.1798 - categorical_accuracy: 0.9404 - val_loss: 0.2167 - val_categorical_accuracy: 0.9307\n",
      "Epoch 77/100\n",
      "32/32 [==============================] - 8s 242ms/step - loss: 0.1799 - categorical_accuracy: 0.9404 - val_loss: 0.2170 - val_categorical_accuracy: 0.9292\n",
      "Epoch 78/100\n",
      "32/32 [==============================] - 7s 230ms/step - loss: 0.2336 - categorical_accuracy: 0.9336 - val_loss: 0.2312 - val_categorical_accuracy: 0.9216\n",
      "Epoch 79/100\n",
      "32/32 [==============================] - 7s 228ms/step - loss: 0.1781 - categorical_accuracy: 0.9336 - val_loss: 0.2210 - val_categorical_accuracy: 0.9299\n",
      "Epoch 80/100\n",
      "32/32 [==============================] - 7s 230ms/step - loss: 0.2510 - categorical_accuracy: 0.9189 - val_loss: 0.2182 - val_categorical_accuracy: 0.9283\n",
      "Epoch 81/100\n",
      "32/32 [==============================] - 7s 231ms/step - loss: 0.1987 - categorical_accuracy: 0.9375 - val_loss: 0.2231 - val_categorical_accuracy: 0.9301\n",
      "Epoch 82/100\n",
      "32/32 [==============================] - 7s 237ms/step - loss: 0.1706 - categorical_accuracy: 0.9434 - val_loss: 0.2273 - val_categorical_accuracy: 0.9233\n",
      "Epoch 83/100\n",
      "32/32 [==============================] - 8s 248ms/step - loss: 0.2364 - categorical_accuracy: 0.9268 - val_loss: 0.2113 - val_categorical_accuracy: 0.9301\n",
      "Epoch 84/100\n",
      "32/32 [==============================] - 7s 235ms/step - loss: 0.2027 - categorical_accuracy: 0.9326 - val_loss: 0.2155 - val_categorical_accuracy: 0.9306\n",
      "Epoch 85/100\n",
      "32/32 [==============================] - 7s 230ms/step - loss: 0.1803 - categorical_accuracy: 0.9434 - val_loss: 0.2148 - val_categorical_accuracy: 0.9300\n",
      "Epoch 86/100\n",
      "32/32 [==============================] - 7s 231ms/step - loss: 0.2261 - categorical_accuracy: 0.9238 - val_loss: 0.2263 - val_categorical_accuracy: 0.9275\n",
      "Epoch 87/100\n",
      "32/32 [==============================] - 7s 240ms/step - loss: 0.2090 - categorical_accuracy: 0.9326 - val_loss: 0.2152 - val_categorical_accuracy: 0.9310\n",
      "Epoch 88/100\n",
      "32/32 [==============================] - 8s 261ms/step - loss: 0.2134 - categorical_accuracy: 0.9287 - val_loss: 0.2103 - val_categorical_accuracy: 0.9317\n",
      "Epoch 89/100\n",
      "32/32 [==============================] - 8s 262ms/step - loss: 0.1876 - categorical_accuracy: 0.9385 - val_loss: 0.2191 - val_categorical_accuracy: 0.9315\n",
      "Epoch 90/100\n",
      "32/32 [==============================] - 8s 250ms/step - loss: 0.2079 - categorical_accuracy: 0.9326 - val_loss: 0.2149 - val_categorical_accuracy: 0.9330\n",
      "Epoch 91/100\n",
      "32/32 [==============================] - 8s 256ms/step - loss: 0.2010 - categorical_accuracy: 0.9336 - val_loss: 0.2088 - val_categorical_accuracy: 0.9327\n",
      "Epoch 92/100\n",
      "32/32 [==============================] - 7s 234ms/step - loss: 0.1971 - categorical_accuracy: 0.9346 - val_loss: 0.2153 - val_categorical_accuracy: 0.9317\n",
      "Epoch 93/100\n",
      "32/32 [==============================] - 7s 232ms/step - loss: 0.1933 - categorical_accuracy: 0.9355 - val_loss: 0.2065 - val_categorical_accuracy: 0.9329\n",
      "Epoch 94/100\n",
      "32/32 [==============================] - 7s 235ms/step - loss: 0.1946 - categorical_accuracy: 0.9287 - val_loss: 0.2109 - val_categorical_accuracy: 0.9321\n",
      "Epoch 95/100\n",
      "32/32 [==============================] - 8s 249ms/step - loss: 0.2122 - categorical_accuracy: 0.9248 - val_loss: 0.2012 - val_categorical_accuracy: 0.9356\n",
      "Epoch 96/100\n",
      "32/32 [==============================] - 8s 262ms/step - loss: 0.1913 - categorical_accuracy: 0.9434 - val_loss: 0.2233 - val_categorical_accuracy: 0.9283\n",
      "Epoch 97/100\n",
      "32/32 [==============================] - 8s 254ms/step - loss: 0.1832 - categorical_accuracy: 0.9424 - val_loss: 0.2051 - val_categorical_accuracy: 0.9327\n",
      "Epoch 98/100\n",
      "32/32 [==============================] - 8s 249ms/step - loss: 0.1956 - categorical_accuracy: 0.9316 - val_loss: 0.2043 - val_categorical_accuracy: 0.9356\n",
      "Epoch 99/100\n",
      "32/32 [==============================] - 8s 258ms/step - loss: 0.1930 - categorical_accuracy: 0.9453 - val_loss: 0.1987 - val_categorical_accuracy: 0.9364\n",
      "Epoch 100/100\n",
      "32/32 [==============================] - 8s 261ms/step - loss: 0.1864 - categorical_accuracy: 0.9316 - val_loss: 0.2022 - val_categorical_accuracy: 0.9368\n"
     ]
    }
   ]
  },
  {
   "cell_type": "code",
   "execution_count": 29,
   "outputs": [
    {
     "name": "stdout",
     "output_type": "stream",
     "text": [
      "1252/1252 [==============================] - 10s 8ms/step - loss: 0.2022 - categorical_accuracy: 0.9368\n"
     ]
    },
    {
     "data": {
      "text/plain": "[0.20218756794929504, 0.9367961287498474]"
     },
     "execution_count": 29,
     "metadata": {},
     "output_type": "execute_result"
    }
   ],
   "source": [
    "model.evaluate(pad_test,pd.get_dummies(test['category']))"
   ],
   "metadata": {
    "collapsed": false,
    "pycharm": {
     "name": "#%%\n"
    }
   }
  },
  {
   "cell_type": "code",
   "metadata": {
    "pycharm": {
     "name": "#%%\n"
    },
    "colab": {
     "base_uri": "https://localhost:8080/"
    },
    "id": "vgWHkMiseMP_",
    "outputId": "619e9010-d82b-45cc-d8fc-d57fd8c3fbd7"
   },
   "source": [
    "model.save('../model/sentiment-model')"
   ],
   "execution_count": 30,
   "outputs": [
    {
     "name": "stderr",
     "output_type": "stream",
     "text": [
      "WARNING:absl:Found untraced functions such as lstm_cell_2_layer_call_fn, lstm_cell_2_layer_call_and_return_conditional_losses, lstm_cell_3_layer_call_fn, lstm_cell_3_layer_call_and_return_conditional_losses, lstm_cell_2_layer_call_fn while saving (showing 5 of 10). These functions will not be directly callable after loading.\n"
     ]
    },
    {
     "name": "stdout",
     "output_type": "stream",
     "text": [
      "INFO:tensorflow:Assets written to: ../model/sentiment-model\\assets\n"
     ]
    },
    {
     "name": "stderr",
     "output_type": "stream",
     "text": [
      "INFO:tensorflow:Assets written to: ../model/sentiment-model\\assets\n",
      "WARNING:absl:<keras.layers.recurrent.LSTMCell object at 0x000001C3CE60E940> has the same name 'LSTMCell' as a built-in Keras object. Consider renaming <class 'keras.layers.recurrent.LSTMCell'> to avoid naming conflicts when loading with `tf.keras.models.load_model`. If renaming is not possible, pass the object in the `custom_objects` parameter of the load function.\n",
      "WARNING:absl:<keras.layers.recurrent.LSTMCell object at 0x000001C3CE614280> has the same name 'LSTMCell' as a built-in Keras object. Consider renaming <class 'keras.layers.recurrent.LSTMCell'> to avoid naming conflicts when loading with `tf.keras.models.load_model`. If renaming is not possible, pass the object in the `custom_objects` parameter of the load function.\n"
     ]
    }
   ]
  },
  {
   "cell_type": "code",
   "metadata": {
    "colab": {
     "base_uri": "https://localhost:8080/"
    },
    "id": "8mHMLjvUhFJd",
    "outputId": "b862c42e-c97e-4c50-e6d0-1fd974729cd9"
   },
   "source": [
    "# !zip -r sentiment.zip 'Sentiment Model'"
   ],
   "execution_count": null,
   "outputs": [
    {
     "output_type": "stream",
     "name": "stdout",
     "text": [
      "updating: Sentiment Model/ (stored 0%)\n",
      "updating: Sentiment Model/variables/ (stored 0%)\n",
      "updating: Sentiment Model/variables/variables.index (deflated 67%)\n",
      "updating: Sentiment Model/variables/variables.data-00000-of-00001 (deflated 36%)\n",
      "updating: Sentiment Model/assets/ (stored 0%)\n",
      "updating: Sentiment Model/saved_model.pb (deflated 91%)\n",
      "updating: Sentiment Model/keras_metadata.pb (deflated 90%)\n"
     ]
    }
   ]
  },
  {
   "cell_type": "markdown",
   "metadata": {
    "id": "x7F03NyyhrNx"
   },
   "source": [
    "Test the model"
   ]
  },
  {
   "cell_type": "code",
   "metadata": {
    "id": "4XGbWMsBhsd4"
   },
   "source": [
    "prediction = model.predict(pad_test)"
   ],
   "execution_count": 31,
   "outputs": []
  },
  {
   "cell_type": "code",
   "metadata": {
    "colab": {
     "base_uri": "https://localhost:8080/"
    },
    "id": "0QeHMxVFh8-T",
    "outputId": "257ca4a4-edcb-4d08-8924-018ef5b16ba5"
   },
   "source": [
    "from sklearn.metrics import accuracy_score\n",
    "accuracy_score(y_true = pd.get_dummies(test['category']), y_pred = prediction.round())"
   ],
   "execution_count": 32,
   "outputs": [
    {
     "data": {
      "text/plain": "0.9318516668747658"
     },
     "execution_count": 32,
     "metadata": {},
     "output_type": "execute_result"
    }
   ]
  },
  {
   "cell_type": "markdown",
   "metadata": {
    "id": "AEhwW-34kRwi"
   },
   "source": []
  },
  {
   "cell_type": "code",
   "metadata": {
    "colab": {
     "base_uri": "https://localhost:8080/",
     "height": 297
    },
    "id": "FOECP8pFjx5S",
    "outputId": "a4585f90-f404-49b0-eaab-60ac73d2d971"
   },
   "source": [
    "from matplotlib import pyplot as plt\n",
    "\n",
    "plt.figure(figsize=(16, 9))\n",
    "\n",
    "plt.plot(range(len(history.history['categorical_accuracy'])),(history.history['categorical_accuracy']), 'r', label=\"Accuracy\")\n",
    "plt.plot(range(len(history.history['categorical_accuracy'])),(history.history['val_categorical_accuracy']), 'g',label=\"Validation\")\n",
    "plt.title('Accuracy comparison between model and validation dataset')\n",
    "plt.ylabel(\"Accuracy\")\n",
    "plt.xlabel(\"Epoch\")\n",
    "plt.legend()\n",
    "\n",
    "plt.show()"
   ],
   "execution_count": 35,
   "outputs": [
    {
     "data": {
      "text/plain": "<Figure size 1152x648 with 1 Axes>",
      "image/png": "[encoded data removed]"
     },
     "metadata": {
      "needs_background": "light"
     },
     "output_type": "display_data"
    }
   ]
  },
  {
   "cell_type": "code",
   "execution_count": 36,
   "outputs": [
    {
     "data": {
      "text/plain": "<Figure size 1152x648 with 1 Axes>",
      "image/png": "[encoded data removed]"
     },
     "metadata": {
      "needs_background": "light"
     },
     "output_type": "display_data"
    }
   ],
   "source": [
    "plt.figure(figsize=(16,9))\n",
    "\n",
    "plt.plot(range(len(history.history['categorical_accuracy'])),(history.history['loss']), 'r', label=\"Accuracy\")\n",
    "plt.plot(range(len(history.history['categorical_accuracy'])),(history.history['val_loss']), 'g',label=\"Validation\")\n",
    "plt.title('Loss comparison between model and validation dataset')\n",
    "plt.ylabel(\"Loss\")\n",
    "plt.xlabel(\"Epoch\")\n",
    "plt.legend()\n",
    "\n",
    "plt.show()"
   ],
   "metadata": {
    "collapsed": false,
    "pycharm": {
     "name": "#%%\n"
    }
   }
  },
  {
   "cell_type": "code",
   "metadata": {
    "colab": {
     "base_uri": "https://localhost:8080/",
     "height": 202
    },
    "id": "WXctdsLpkaUi",
    "outputId": "c9edc949-6f42-413c-abc2-c30ec7b1f952"
   },
   "source": [
    "df2 =pd.read_excel(\"../dataset/tweet-sample.xlsx\")\n",
    "df2.head()"
   ],
   "execution_count": 41,
   "outputs": [
    {
     "data": {
      "text/plain": "                                            raw_text  label\n0                  S.o.n.k.o: No better time to die.      0\n1  Ok enough Arcane. Let me just go to the store ...      0\n2  I just want to lay in bed with my person (or s...      1\n3  Shang chi is wickedddd even better than i expe...      1\n4   Nice kiss in #Arcane https://t.co/627r0DHBB8 - ✍      1",
      "text/html": "<div>\n<style scoped>\n    .dataframe tbody tr th:only-of-type {\n        vertical-align: middle;\n    }\n\n    .dataframe tbody tr th {\n        vertical-align: top;\n    }\n\n    .dataframe thead th {\n        text-align: right;\n    }\n</style>\n<table border=\"1\" class=\"dataframe\">\n  <thead>\n    <tr style=\"text-align: right;\">\n      <th></th>\n      <th>raw_text</th>\n      <th>label</th>\n    </tr>\n  </thead>\n  <tbody>\n    <tr>\n      <th>0</th>\n      <td>S.o.n.k.o: No better time to die.</td>\n      <td>0</td>\n    </tr>\n    <tr>\n      <th>1</th>\n      <td>Ok enough Arcane. Let me just go to the store ...</td>\n      <td>0</td>\n    </tr>\n    <tr>\n      <th>2</th>\n      <td>I just want to lay in bed with my person (or s...</td>\n      <td>1</td>\n    </tr>\n    <tr>\n      <th>3</th>\n      <td>Shang chi is wickedddd even better than i expe...</td>\n      <td>1</td>\n    </tr>\n    <tr>\n      <th>4</th>\n      <td>Nice kiss in #Arcane https://t.co/627r0DHBB8 - ✍</td>\n      <td>1</td>\n    </tr>\n  </tbody>\n</table>\n</div>"
     },
     "execution_count": 41,
     "metadata": {},
     "output_type": "execute_result"
    }
   ]
  },
  {
   "cell_type": "code",
   "metadata": {
    "id": "wjMiFHCHuidi"
   },
   "source": [
    "real_x = df2[\"raw_text\"]\n",
    "real_y = pd.get_dummies(df2['label'])"
   ],
   "execution_count": 42,
   "outputs": []
  },
  {
   "cell_type": "code",
   "metadata": {
    "colab": {
     "base_uri": "https://localhost:8080/"
    },
    "id": "SVEn_HRLvvHa",
    "outputId": "4579e9bc-ded5-42fb-b0ff-a708f5d92564"
   },
   "source": [
    "real_x = tokenizer.texts_to_sequences(real_x)\n",
    "print(real_x)"
   ],
   "execution_count": 43,
   "outputs": [
    {
     "name": "stdout",
     "output_type": "stream",
     "text": [
      "[[1, 1, 1, 1, 1, 1, 148, 47, 1, 1352], [1, 306, 1, 174, 1, 36, 1, 1, 2, 4851, 4, 7062, 1, 1, 1], [1, 36, 80, 1, 5428, 1, 4567, 13, 1, 205, 1, 295, 1, 4, 225, 1, 47, 1, 1352, 178, 23584, 77, 6890], [1, 5946, 1, 1, 48, 148, 74, 1, 1024, 1, 170, 223, 11360, 1, 19, 10986, 2, 334, 1, 1185, 2464, 1, 20218], [729, 10554, 1, 1, 7062, 1, 1, 1, 70972], [1, 8, 4688, 264, 1, 34327, 1, 7062, 1, 1, 1], [752, 408, 5, 8, 15, 22851, 1, 87716, 1, 7062, 1, 1, 1], [1, 1498, 16493, 1, 7062, 1, 1, 1], [1466, 1, 6858, 1, 18734, 31074, 44076, 20, 2, 55821, 126, 3868, 7, 344, 1, 1, 9154, 42, 913, 1, 1498, 16493, 126, 1, 196, 1, 1, 7062, 1, 1, 1], [1, 3595, 1, 11939, 1, 986, 1, 32, 24, 1, 19, 26, 1, 81, 105548, 4174, 1, 15118], [41, 1, 1, 87947, 527, 308, 10, 1, 2, 1441, 6160, 1755, 1, 1030, 1128, 1, 36, 1, 1185], [5371, 1, 16331, 1, 971, 2297, 1676, 1, 1, 1, 1, 1, 169, 14, 5, 51, 1, 1498, 16493, 1676, 2404, 61, 7062, 1, 1, 1, 7062, 1, 1, 1], [1, 6312, 190, 1], [1, 1, 3619, 1, 1, 5946, 4, 2, 5504, 1, 2, 2812, 19991, 10976, 1, 1, 7062, 1, 1, 1], [1432, 4150, 1, 7062, 1, 1, 1], [24, 1, 8, 3976, 80, 1, 7062, 1, 1, 1], [988, 156, 6885, 4, 1515, 1, 1498, 16493, 10029, 130, 1271, 1, 1, 14, 1, 102, 138, 2, 16375, 8867, 283, 127, 80, 1, 7062, 1, 1, 1], [2138, 1, 1199, 1, 1, 5946, 1, 283, 25, 27, 5401, 7, 1, 3313, 1653, 391, 665, 6737, 1311], [1, 1, 1, 152, 1, 1333, 36305, 1, 2, 1330, 145, 1, 105548, 4, 2, 1], [1, 850, 14829, 1, 2464, 2, 87947, 527, 1, 308, 55, 32677, 4, 11109, 1, 2239, 1, 61, 2944, 1, 151, 2, 12645, 1, 1821, 1, 1, 1, 566, 5, 1, 165, 1357, 9675, 1, 7062, 1, 1, 1], [55, 1, 1, 871, 225, 1, 47, 1, 1352, 5, 9147, 63, 1, 172, 31, 496, 1, 5, 26, 1, 307, 2, 334, 372, 4, 26, 1, 18, 1, 2, 1099, 1, 1227, 1, 47, 2, 621, 1, 2, 372, 1, 36, 17456, 118, 83474, 5, 1], [1, 105548, 1, 1, 1, 97591, 1, 4, 1, 100, 1, 97591, 1, 16757, 1, 1, 132, 1, 1, 834, 1091, 1, 1, 579, 1, 1, 1199], [1, 5946, 4, 1, 1, 7062, 1, 1, 1], [1, 4239, 1, 62, 98, 1, 1498, 16493, 15, 1, 1, 58, 1, 112, 1, 2796, 2350, 118, 105, 1, 434, 1021, 1, 34], [25192, 18739, 15, 1, 5946, 1, 1, 1074, 7062, 1, 1, 1], [1, 1, 5946, 4, 2863], [1, 397, 1, 987, 1084, 902, 17856, 848, 1, 1, 1761, 1, 17856, 34, 1687, 4717, 2, 1489, 746, 2094, 372, 117, 2162, 1099, 1, 1, 2272, 457, 3554, 1, 1498, 16493, 1877, 1, 134, 247, 7062, 1, 1, 1], [1, 5946, 4, 1067, 1790, 7062, 1, 1, 1], [1, 59, 1, 876, 2474, 4, 254, 290, 1, 1821, 1, 5, 33371, 1, 225, 2, 117, 11093, 52438, 308, 55, 87947, 527, 1, 1278, 7062, 1, 1, 1], [1431, 2, 1640, 1, 1, 1498, 16493, 1, 1, 1853, 7062, 1, 1, 1], [3271, 1, 1638, 1, 1, 1079, 112, 65, 2, 3338, 4665, 138, 87947, 527, 19, 1938], [65, 946, 7, 1, 11093, 87947, 527, 308, 16248, 1, 1, 19536, 25, 124, 87947, 527, 1445, 140, 1, 112, 1, 2876, 28, 1445], [34917, 1, 1498, 16493, 41508, 1105, 4511, 5, 40, 19059, 2597, 125, 830, 7062, 1, 1, 1, 346, 6, 1, 1, 1, 7062, 1, 1, 1], [1, 1498, 16493, 10717, 1278, 1, 11607, 1, 289, 1], [1, 1601, 138, 13, 2216, 1, 4, 66445, 1, 1, 14324, 158, 2, 2845, 1, 1, 7062, 1, 1, 1], [39183, 1, 20, 1, 11093, 87947, 527, 7062, 1, 1, 1], [34, 1687, 1, 1, 1, 1, 1, 1, 1, 1, 1, 1, 397, 1, 1, 69735, 1, 1, 1, 1498, 16493, 1, 821, 914, 1, 1, 34, 7527, 155, 1, 1, 1, 1, 1, 1, 7062, 1, 1, 1], [1, 1, 1, 397, 16114, 34, 1687, 212, 1, 1, 1, 37773, 1, 7417, 13712, 1, 1498, 16493, 1, 6597, 6581, 50, 1, 198, 1, 198, 1], [1343, 59, 2, 1, 5946, 22707, 61, 3151, 462, 2, 1, 11434], [1, 1, 5946, 4, 1, 157, 9, 26, 77, 1, 2, 146, 6623, 1161, 1864, 124, 1313], [569, 32, 9147, 1, 1, 1, 1, 1, 1, 47, 1, 1, 7062, 1, 1, 1], [1, 1498, 1228, 19472, 1, 411, 1, 411, 17, 83, 4560, 6, 1228, 1, 1, 7062, 1, 1, 1], [1, 47, 1, 1352, 1, 1, 1, 19, 132, 1, 89, 1, 1, 15, 7, 3732, 34, 1, 5, 1, 4, 374], [1, 1, 658, 1, 18, 929, 4082, 13, 1, 87947, 527, 308], [1, 11, 108, 511, 42, 1, 19, 6260, 4, 6, 2251, 1, 13, 1, 1046, 1, 31, 257, 2298, 6, 503, 1, 814, 1, 27, 1352, 1, 2, 79, 47, 814, 1, 19, 1, 744, 32, 3986, 260, 1, 801, 1, 469, 290, 15, 1, 1, 1, 1, 1, 1], [105548, 7062, 1, 1, 1], [1, 47, 1, 1352, 2606, 10976, 7062, 1, 1, 1], [109, 2, 23, 25, 27, 1699, 1, 41, 1, 667, 22440, 1672, 917, 1, 1352, 97, 47, 575, 2165, 1, 1], [1, 16, 2, 146, 2008, 19842, 1, 1, 69, 1, 1256, 36, 7062, 1, 1, 1], [61, 557, 5, 40, 397, 11177, 1, 2, 1, 7062, 1, 1, 1], [1690, 1, 1, 692, 1, 1199, 158, 1, 5946, 44, 19, 34, 42725, 3381, 4, 1, 19, 26, 1, 15, 30, 1, 5673, 1, 1, 1, 1, 1, 4, 1, 579, 958], [55, 573, 1, 1, 2810, 1], [27, 1, 102, 8, 47, 1, 1263, 41, 58, 1, 1, 1, 24, 1, 143, 771, 8, 87947, 527, 308, 1, 1, 104, 1, 1068, 2297, 1, 4441, 7, 1, 212, 1, 225, 1, 7062, 1, 1, 1], [1, 5946, 4, 2863, 7062, 1, 1, 1], [1074, 499, 67, 7, 1, 2912, 13, 6249, 4435, 1, 252, 494, 1, 1252, 9, 4435, 13390, 46313, 7, 140, 108, 1, 2635, 1, 1, 784, 86675, 1, 1, 1174, 9993, 307, 1, 47, 1, 1352, 1, 14, 1, 272, 195, 1, 61, 282, 1, 2088, 6, 83, 6862, 1], [9496, 1, 15700, 19, 58, 1, 1, 1828, 636, 1, 1, 1, 1, 1, 4, 1, 454, 6436, 2292, 45303, 18869, 28106, 453, 8666, 7625, 3656, 155, 5922, 4, 4367, 298, 223, 3313, 19587, 4, 1, 1, 72, 1139, 1, 1, 2, 19899, 3016, 118], [156, 252, 6503, 310, 8, 1106, 1, 438, 1, 1498, 16493, 212, 722, 8523, 4, 1, 8523, 1, 1, 579, 707, 259, 1733, 4424, 896, 1, 1, 8, 1106, 1, 15884], [1, 7485, 658, 2581, 1, 40, 2091, 2887, 195, 26, 26576, 4, 1, 6, 166, 19671, 1, 1, 1498, 16493, 15, 1, 143, 61, 4637, 7074, 1, 256], [1, 3651, 244, 18, 1, 105548, 19366, 1, 27, 11904, 98, 7, 2, 8815, 1, 575, 1, 146, 3956, 13, 1, 244, 307, 21, 27086, 4, 5776, 1, 791, 9, 118, 7677, 5, 1, 372, 3078], [1, 1, 166, 1752, 1226, 1, 1, 1, 105548, 1, 1], [1, 80975, 1, 1, 7062, 1, 1, 1], [1, 1, 36, 2350, 1, 4, 1, 19, 2, 146, 1, 19, 148, 74, 2, 234, 87947, 527], [15, 109, 1, 2, 1, 10976, 7062, 1, 1, 1], [1, 55, 1, 5946, 4, 1, 83, 454, 9827, 2464, 60, 1, 103], [48, 13, 1, 187, 2309, 26, 1, 1, 1180, 762, 1215, 6, 965, 24, 1, 916, 7062, 1, 1, 1], [1, 2472, 5996, 4, 1, 1, 1, 5946], [1, 379, 12598, 1, 2341, 1, 786, 1, 1, 7062, 1, 1, 1], [1, 1, 1498, 16493, 1877, 1, 1, 3561, 1, 1, 2, 3055, 3781, 1737, 15, 5088, 1071, 42, 1, 5027, 202, 1, 2559, 7, 1, 118, 58], [1, 80, 1, 225, 1, 5946, 4, 22089, 1, 1, 1], [1, 1, 1, 3276, 1, 4, 1, 1, 722, 26, 1, 1, 1, 1, 1498, 16493, 9608, 95765, 1, 1, 1, 4, 1, 1, 1, 1], [58, 87947, 527, 308, 1, 11093], [36, 2635, 209, 1, 1, 5946, 922, 4, 1, 242, 1, 1278, 283, 264, 1, 1, 6026], [1, 8, 349, 5, 8815, 105548, 1, 141, 18385, 4, 1, 1, 10363, 66, 8454, 215, 1, 1, 112], [1, 5946, 1, 1, 12923], [1, 18198, 3601, 5485, 1, 1, 4641, 1, 1, 1, 1, 1, 7062, 1, 1, 1], [1, 1498, 16493, 1877, 1, 1, 1, 1, 1, 1, 1, 1, 1498, 16493, 1653, 1, 1, 84712, 2, 10096, 1, 1, 1, 1, 1, 1, 1, 1, 1, 1, 1, 4, 1, 9, 2292, 699, 1, 1, 9474, 154, 1, 7062, 1, 1, 1], [7062, 1, 1, 1, 2, 117, 7364, 1099, 5, 2, 1688, 1, 4909, 1, 811, 8, 1106, 1, 3112, 32777, 12501, 1, 643, 1, 1, 4, 1, 47, 1, 1352, 4176, 5584, 10976, 1, 1, 1, 1099], [1, 1, 926, 120, 36, 2833, 4, 498, 249, 1, 1, 1, 1, 1, 298, 1, 1352, 4728, 961, 4143, 1, 20567, 999, 47, 121, 2717, 4, 1, 26699, 1, 729, 464, 865, 1, 1, 1], [2, 1, 11093, 87947, 527, 1, 95, 5481, 1, 55, 3312, 30912, 33, 1, 1, 14, 1, 4994, 224], [34, 1687, 1, 1, 1, 1, 1, 1, 1, 1, 1, 1, 1, 1, 1, 1, 397, 1, 1, 1, 155, 1, 69735, 1, 1, 1498, 16493, 1, 1, 821, 914, 1, 1, 1, 1, 1, 34, 7527, 155, 1, 1, 1, 1, 1, 2693, 11034, 1, 7062, 1, 1, 1], [1, 5946, 4, 1, 7062, 1, 1, 1], [1774, 1, 1, 98763, 27172, 7062, 1, 1, 1], [1, 26097, 1, 84, 1, 589, 3552, 1, 42, 1, 19, 521, 1, 1317, 1, 47, 1, 1352, 1, 2, 2064, 756, 7062, 1, 1, 1], [17167, 5, 1, 193, 510, 5, 1], [1, 1, 240, 1, 127, 7878, 1, 1, 36, 1, 8147, 2, 12154, 6249, 4435, 1, 47, 1, 111459, 1, 4593, 3673, 1, 1, 7, 1126, 15, 1, 1, 1], [50078, 2, 105548, 16006, 17, 108, 59, 1147, 33, 2, 1022, 1885, 1787, 1, 1326, 106, 1, 7062, 1, 1, 1], [1, 397, 10202, 4, 1, 5946], [4070, 1, 344, 52, 106, 42, 23, 1728, 95186, 1, 12501, 85, 15, 31, 1, 81, 1, 5946, 4, 2863, 10, 1, 17361, 1, 1, 1, 1, 11, 1, 58, 1, 10], [1, 1, 105548, 10976], [1028, 1, 61, 1, 1, 1, 1099, 109, 27172, 16, 1, 1, 1, 4400, 2384, 13], [1, 1, 47, 1, 1352, 1, 240, 41, 1, 2743], [1463, 4, 56334, 1, 12975, 1, 1498, 16493, 1, 15544, 1, 16988, 1, 7062, 1, 1, 1], [223, 41, 2, 117, 11360, 8938, 787, 1, 1, 1, 1, 30, 5182, 2, 117, 3422, 104, 1, 1, 5946, 137, 324, 1, 2, 1079], [1, 1606, 1955, 1, 105548, 10513, 11873, 2, 317, 1, 1, 746, 209, 1, 2, 134, 375, 4, 1, 1, 464], [2912, 13, 45, 1, 1, 98763, 7062, 1, 1, 1], [1, 1, 5946, 4, 397, 10202], [847, 2350, 1, 5946, 1, 1215, 1, 1, 1, 682, 1, 1, 454, 1, 1, 1, 3422, 104, 1, 1023, 2906, 159, 365, 13, 2, 2057, 17, 369], [1, 19, 1690, 1, 26, 2, 4288, 1, 36, 78, 1, 1, 3854, 1, 2, 146, 136], [1, 5748, 363, 1, 1, 36993, 1264, 1, 142, 1026, 1, 3551, 1, 36993, 1651, 1, 1, 1, 407, 1, 1, 148, 7342, 1, 78, 74, 1, 15, 1, 78, 1, 67, 40, 32, 36993, 74, 6, 13565, 6047, 1, 1, 457, 783, 1, 36993, 15, 1, 62, 98, 1, 40, 1, 1, 7700, 74, 7342, 7062, 1, 1, 1], [1, 38, 4213, 46478, 105548, 101278, 1, 1, 4003, 77642, 36, 1, 20, 130, 46478, 5, 1, 1, 1, 1, 1, 2, 1, 1, 1, 23086, 1, 2081, 15978, 1, 33371, 154, 1, 2279, 2, 1, 687, 77, 1, 12501, 101, 5, 34, 4507, 1106, 1, 2, 1, 1638, 1, 6526, 1, 7062, 1, 1, 1], [1, 4, 1, 9, 811, 26019, 15836, 4, 1, 14, 73, 1, 1712, 9736, 10550, 8171, 171, 4418, 4, 116846, 20091, 20, 105548, 4, 17, 223, 426, 87, 4, 26, 1, 74287, 37, 4861, 189, 1, 1, 387, 7062, 1, 1, 1], [87716, 80975, 4277, 1, 223, 202, 1, 200, 1, 7062, 1, 1, 1], [234, 260, 87947, 527, 13, 1, 19, 3559, 1431, 1, 5098, 1, 1664, 5, 2, 308, 248, 19, 2435, 1, 79975, 1, 2290, 62, 1, 5604, 42, 1, 225, 1, 961, 699], [1, 19, 159, 19285, 1, 130, 1271, 946, 1, 47, 1, 1352, 1, 223, 39682, 1, 103], [4, 30, 1, 826, 1, 6, 2, 9236, 2668, 1, 2, 1, 1685, 1, 335, 2863, 174, 44, 1, 13074, 105548, 1, 1, 4, 40, 840, 1, 1110, 15, 1, 1, 1, 7062, 1, 1, 1, 7062, 1, 1, 1], [1, 4, 1, 5946, 1, 750, 397, 10202, 19, 797, 58, 118, 7062, 1, 1, 1], [1455, 1, 8, 1, 34, 58, 280, 2, 1, 14, 1, 58, 5568, 955, 2, 10105, 30, 253, 9684, 1864, 5, 37, 468, 48, 9293, 474, 1, 4758, 9, 1, 123, 11360, 1, 230, 30, 2, 117, 11190, 18155, 17550, 1, 84, 1, 1, 3976], [1, 1, 1, 47, 1, 1, 1, 10, 31, 2, 189, 1, 2, 12154, 6249, 4435, 372, 15, 1, 55, 1, 35, 424, 42, 569, 32, 38062, 1, 1, 4, 1703, 126, 14, 1, 8388, 711, 1, 1, 1303, 584, 1, 6160, 505, 2264, 1, 110, 1, 1374, 1, 8, 2070, 644], [1, 407, 8, 1, 4773, 1, 1, 1, 1, 1, 1, 7062, 1, 1, 1], [234, 260, 87947, 527, 1, 4994, 224, 13, 1, 3915, 7062, 1, 1, 1], [1, 159, 6312, 455, 15, 155, 1, 44, 1, 77, 137, 3533, 4128, 8, 206, 1, 1, 1, 2, 5339, 1, 47, 1, 1352, 38812, 1, 5946, 1451, 2, 2472, 5996, 1, 393, 14, 15884, 2, 3533, 7527, 5, 1, 109, 17, 996, 1, 2, 142, 1921, 12792, 1, 508, 7062, 1, 1, 1], [847, 946, 1], [892, 11360, 24, 32, 1, 53, 529, 1498, 1, 1, 6, 6671, 1, 5946, 1, 1, 1, 36, 1, 1210, 1, 7062, 1, 1, 1], [1, 73343, 1, 1, 98763, 7062, 1, 1, 1], [97, 16346, 1, 1, 111, 1, 1, 1, 2179, 106, 30, 3805, 1, 1, 95, 5521, 5, 6, 1, 1, 1352, 1278, 4277, 38, 1, 47, 36, 67, 1, 1589, 365, 3805, 334, 1, 1855, 2623, 6, 18, 407, 2, 126, 1, 1, 3805, 7, 341, 20, 2, 2654, 1, 1, 1], [17874, 1, 479, 2, 6797, 1, 1, 1, 7062, 1, 1, 1], [1, 1, 1498, 16493, 38, 48, 72, 1, 2, 5776, 1, 36, 159, 80, 1, 1, 5668, 4, 1, 1, 34], [1, 1, 1, 885, 8074, 24, 1, 1, 1, 1, 1, 1, 5946, 393, 20, 579, 1, 136, 579, 1], [1, 1, 170, 1, 47, 1, 1352], [1, 1, 2912, 13, 1, 106, 30], [1, 1, 1, 1, 132, 211, 307, 105548], [847, 1, 2, 1864, 913, 1, 11, 61, 7, 1169, 1, 1, 189, 1, 2, 1192], [125, 1, 110, 117, 70600, 1593, 1, 110, 1, 511, 32, 7, 3536, 42163, 1, 1, 5946], [1, 1156, 198, 811, 13, 1, 3413, 1, 12534, 1, 20146, 1, 9669, 1, 20146, 1, 5946, 156, 1, 5727, 1, 1, 2796, 72, 2163, 1], [2, 105548, 1685, 5, 11434, 1, 1, 1, 1, 1, 1, 7062, 1, 1, 1], [491, 697, 1689, 179, 87947, 527, 1, 7241, 22588, 1, 5, 1, 559, 1, 151, 1, 1, 1, 1, 499, 1, 1, 120, 3100, 11, 1, 2944, 1, 1, 1185, 11073, 1, 1, 1, 24294, 1, 1, 1, 1, 7062, 1, 1, 1], [1, 1, 69, 8, 11, 2848, 1, 1, 7, 47, 1, 520, 3405, 5, 2, 134, 47, 4, 1, 499, 6079, 1, 1, 1, 1, 5804, 1, 1, 1, 99, 1, 1199, 4, 1, 19, 118, 4678, 1, 67, 148, 1, 2405, 1, 30, 6, 80, 1, 1, 1352, 85], [1, 225, 550, 1, 1, 2094, 1, 2, 1278, 1, 1, 1, 47, 1, 1352, 223, 312, 2, 4313, 17, 1004, 27061, 1, 1, 47, 8692], [164, 251, 13, 2183, 1, 1, 1, 106, 1, 1, 7062, 1, 1, 1], [1, 47, 1, 1352, 39682], [1, 1, 1498, 16493, 1, 1498, 16493, 1877, 1, 3760, 134, 1747, 12782, 1, 1, 1, 7062, 1, 1, 1, 7062, 1, 1, 1], [1, 1281, 8, 26, 1, 1, 373, 1621, 1, 2, 82105, 61, 2, 1, 2413, 1, 1, 231, 67, 24, 676, 17, 1, 1, 1, 19, 1, 3017, 1, 244, 60, 1, 40904, 1], [847, 946, 1, 5946, 2812, 19991, 13938, 1, 4, 20538, 1, 441, 1, 7062, 1, 1, 1], [1, 510, 1, 1, 1, 1, 529, 993, 46543, 57626, 1, 5862, 26, 1, 1, 14351], [892, 1, 117, 1, 1, 517, 1, 1, 26, 1, 1, 6, 26, 1, 155, 1, 319, 1, 11128, 1, 1, 8993, 2491, 2009, 11574, 452, 4367, 24429, 821, 914, 1, 1498, 16493, 40], [1, 1, 1, 220, 34, 1, 1, 526, 2797, 17, 14, 1, 1, 1, 1, 527, 109, 6, 1352, 3268, 1, 1, 88, 585, 4, 952, 2, 47, 17, 1, 48, 34, 475, 13, 294, 97074, 431, 1, 585, 1, 1, 55, 13696, 1, 1, 1, 162, 13, 1, 1, 36608, 1155, 2349, 1, 435, 24], [1, 1, 1, 1, 3805, 308, 3730, 432, 2573, 224, 28, 4769, 4, 151, 13827, 4199, 1, 1, 1, 1, 528, 1, 1, 491, 4, 1, 5, 1, 559, 1, 151, 1, 1, 1, 1, 1, 1, 1, 1, 37590, 1640, 62515, 20319, 7062, 1, 1, 1], [1, 1, 4, 1, 1, 19, 1, 137, 453, 1, 15, 5937, 19, 391, 1, 5946, 305, 137, 4, 3032, 3699], [2833, 2, 224, 1, 393, 1, 1, 980, 1, 1, 1, 2312, 1, 1, 1, 1, 7062, 1, 1, 1], [1343, 1, 1, 1, 7062, 1, 1, 1], [1, 4062, 39163, 15627, 726, 1, 6, 26, 105548, 1, 223, 1, 1, 1, 1821, 3491, 1, 28148, 43276, 6351, 5721, 3805, 5566, 4111, 1, 320, 1, 1228, 1, 7062, 1, 1, 1, 7062, 1, 1, 1, 7062, 1, 1, 1, 1, 2, 1161, 7062, 1, 1, 1], [928, 14539, 12634, 1, 5946], [1, 4, 1, 5946, 7062, 1, 1, 1, 7062, 1, 1, 1], [26, 248, 1451, 1451, 1, 1, 8104, 26, 1, 401, 1352, 1, 51, 644, 15, 1, 1, 2073, 33, 1, 6, 88, 1, 289, 26, 8, 1, 191, 1, 97, 47, 1, 1, 10831, 1074, 1, 3155, 111, 3741, 1, 800, 1, 48, 1065], [12395, 20, 1, 5946, 1343, 4466], [25, 408, 6, 1, 1, 1, 1, 7062, 1, 1, 1], [1, 1, 5748, 9801, 42552, 1, 1, 6565, 3783, 1, 105548, 1, 2, 82, 1, 2, 1741, 1, 2, 5433, 1, 63098, 1, 38812, 1, 6018, 1, 7062, 1, 1, 1], [1, 2863, 4, 1, 5946, 1], [1, 1, 5946, 4, 2, 10179, 1, 2, 1, 1075, 1, 41041, 1401, 212, 366, 1], [1, 2960, 1, 7125, 838, 244, 1, 1, 47, 1, 1352], [8, 1106, 2, 110221, 2478, 212, 211, 4645, 16, 1, 117, 2413, 4, 820, 117, 1864, 117, 2597, 2666, 25337, 17430, 1, 47, 1, 1352, 95142, 2278, 3059, 14601, 378, 1, 1, 42, 9866, 341, 2, 13750, 2135, 4, 7963, 6101, 7062, 1, 1, 1, 7062, 1, 1, 1], [1, 1, 4, 1, 20, 1, 1, 1, 1, 46766, 1, 1, 1, 1, 1, 11360, 1, 1, 1, 1, 1, 73561, 1, 1, 1, 7062, 1, 1, 1], [1, 1, 5946, 4, 1, 1067, 1790, 7062, 1, 1, 1], [6, 1, 293, 1, 47, 1, 1, 455, 33, 10, 552, 52, 1, 3619, 1, 17456, 1, 3713, 1636, 35625, 1, 6249, 4435, 1, 234, 18198, 3936, 1, 7062, 1, 1, 1], [1, 4, 1, 800, 8, 14377, 1, 1, 4, 1, 223, 97, 518, 1, 1, 7062, 1, 1, 1], [1, 47, 1, 1352, 7062, 1, 1, 1], [1327, 2, 1801, 163, 453, 1, 1498, 16493, 372, 11, 36, 7425, 102, 3630, 20, 2, 1222, 33429, 14737, 372, 1, 56, 2, 5588, 2, 6623, 3466, 2008, 7, 1, 34, 2810, 1, 15117, 2, 235, 526, 76593, 1, 2, 372, 7062, 1, 1, 1], [1, 47, 1, 1352, 7062, 1, 1, 1, 7062, 1, 1, 1], [1, 2164, 293, 1, 1, 1, 1, 30, 1, 1575, 1, 5946, 4, 2, 2472, 5996], [1, 1, 1, 2566], [1, 1444, 1, 1439, 27172, 1, 7062, 1, 1, 1], [1, 1, 1, 2566, 851, 282, 5, 17456, 1, 4435, 13, 16188, 6024, 39041, 4, 16932, 453, 178, 2, 746, 1, 4537, 1, 77, 5071, 1, 1, 127, 1, 1671, 746, 7, 24636, 40, 74, 1, 39416, 1, 1, 3619, 7062, 1, 1, 1, 7062, 1, 1, 1], [1, 81, 33, 249, 100, 2668, 1, 1, 87947, 527, 1, 312, 1, 225, 1, 72, 8, 774, 129, 204, 192, 4176, 1218, 128], [2, 1, 1, 1, 7062, 1, 1, 1], [1, 58, 1, 14, 8576, 13, 3046, 1, 7, 1, 407, 2, 106, 8797, 1, 77723, 34, 217, 1, 114, 52, 1886, 1, 1, 194, 5, 2, 106, 205, 4, 61, 7, 363, 201, 6802, 1672, 1, 724, 2, 87947, 527, 45421, 7062, 1, 1, 1], [1, 27172, 517, 1, 1, 73956, 7062, 1, 1, 1], [1, 1, 952, 136, 158, 105548, 106, 63, 1, 36, 1004, 12999], [569, 32, 41, 103, 12518, 1, 5946, 62, 14, 72, 1, 1431, 75, 1, 3103], [1752, 87947, 527, 1, 7, 58, 1, 156, 8377, 797, 3184], [166, 6, 10, 1, 1, 7062, 1, 1, 1], [36, 2350, 1, 1, 7062, 1, 1, 1], [1, 105548, 1, 1, 1, 1, 1, 2, 12479, 1, 666], [1, 397, 10202, 4, 1, 5946], [1, 1, 9935, 1, 1, 1, 13, 1, 13, 1, 87, 1, 7062, 1, 1, 1], [36, 2350, 1, 5946, 1, 1, 134, 1295, 464], [1, 1, 47, 1, 1352], [1, 27172, 1, 1, 1, 34, 987, 1, 202, 668, 1, 409, 7062, 1, 1, 1], [2, 167, 1, 1498, 16493, 19842, 1, 850, 2373, 1, 3651, 1, 12975, 12425, 1, 27, 303, 208, 1, 13, 1, 3042, 496], [1, 1, 5946, 4, 2, 5504, 1, 2, 34, 10149, 7, 318, 18469, 1, 2, 1, 175, 5, 2, 130, 9877, 57, 3805, 30, 1, 11, 877, 1606, 679, 21, 177, 868, 1, 61, 7, 10149, 101], [1463, 4, 56334, 12975, 1, 1498, 16493, 1, 51679, 7062, 1, 1, 1], [946, 1, 1498, 16493], [1, 1, 2, 72964, 1, 2, 21478, 1, 2, 79, 366, 1, 1, 18878, 8, 1, 1, 1, 101966, 4, 169, 1, 894, 7062, 1, 1, 1], [1, 1, 37441, 7, 3544, 1002, 1, 105548, 1, 318, 65, 1, 1, 1, 1], [1, 36, 2350, 105548, 2, 518, 952, 1, 1, 1853, 1, 3188, 2810, 1, 15, 1, 10, 1, 1036, 1, 372, 1, 80, 1, 81, 2, 167, 34, 2746], [1, 1, 21, 117, 87947, 527, 308, 19, 1164], [4976, 41, 1, 1728, 946, 1, 5946, 42, 41041, 980, 10, 1, 14, 12113, 1, 18, 42, 2, 5235, 83, 802, 1536, 1, 41, 1, 1, 1, 1433, 1, 67, 24, 1, 199, 8, 1, 370, 391, 7062, 1, 1, 1], [1, 1, 75, 1, 34, 597, 3619, 1, 105548, 7062, 1, 1, 1, 1864, 3774, 69304, 1, 1], [283, 225, 87947, 527, 1], [847, 763, 105548, 797, 137, 1, 411, 2385, 1, 2, 1, 4, 4142, 531, 1, 3150, 13, 1, 995, 481, 8929, 4, 21, 1726, 4, 1, 995, 40, 213, 1, 87, 5235, 126, 4, 18122], [571, 5, 25427, 1, 1, 27, 225, 2, 1636, 1, 1, 13, 34, 1, 1, 5934, 1029, 60925, 8354, 18198, 1, 1, 312], [1, 1, 1, 223, 1, 9579, 1640, 1672, 1, 1, 1498, 16493, 877, 1, 877], [1, 2863, 1, 115937, 48, 41, 13432, 761, 1, 5946], [1, 1, 15052, 1, 87947, 527, 79, 5835, 13, 87947, 527, 608, 87947, 15052, 257, 945, 2, 1085, 1126, 2019, 30, 1, 2, 2654, 1126, 1, 226, 1, 101417, 1, 87947, 527, 13, 15052, 1, 2, 234, 87947, 1, 1, 1, 1, 101, 2019], [1, 36, 2350, 2668, 1, 1, 1, 1, 1498, 16493, 7062, 1, 1, 1, 1, 7062, 1, 1, 1], [1, 36, 510, 909, 6, 225, 1, 5946, 4, 2, 1, 22530, 1], [1, 4867, 41450, 1, 1, 1498, 16493, 2039, 21, 1097, 4867, 1, 30992, 1], [1, 1, 1, 2377, 2, 18749, 505, 1, 4111, 9682, 13, 47, 2418, 1, 109, 1, 5297, 1, 1, 7, 4648, 1, 21, 1, 2475, 1, 4111, 1, 695, 155, 62, 1352, 18, 17, 110, 1, 1, 1, 1826, 13, 2, 2459, 1, 1488, 5, 4144, 1, 2, 107, 4, 121, 101, 3503, 31, 2716], [1, 2329, 1, 151, 1, 1, 6221, 1, 27698, 4, 1, 1, 1, 19240, 3528, 7062, 1, 1, 1], [1, 1, 1, 7347, 333, 1, 250, 65, 333, 4321, 1, 1498, 16493, 1, 1, 1, 1, 1, 1, 7062, 1, 1, 1], [1, 7, 87947, 527, 11978, 1, 1, 11093, 19, 7321]]\n"
     ]
    }
   ]
  },
  {
   "cell_type": "code",
   "metadata": {
    "colab": {
     "base_uri": "https://localhost:8080/"
    },
    "id": "YtQ6YCN1wmVO",
    "outputId": "5678e5e1-5979-4549-e671-ac396dd2b864"
   },
   "source": [
    "real_x = tf.keras.preprocessing.sequence.pad_sequences(real_x, maxlen=30, padding='pre')\n",
    "print(real_x)"
   ],
   "execution_count": 44,
   "outputs": [
    {
     "name": "stdout",
     "output_type": "stream",
     "text": [
      "[[    0     0     0 ...    47     1  1352]\n",
      " [    0     0     0 ...     1     1     1]\n",
      " [    0     0     0 ... 23584    77  6890]\n",
      " ...\n",
      " [    0     0     0 ...     1     1     1]\n",
      " [    0     0     0 ...     1     1     1]\n",
      " [    0     0     0 ... 11093    19  7321]]\n"
     ]
    }
   ]
  },
  {
   "cell_type": "code",
   "metadata": {
    "id": "ft-JBkCgw-0Y"
   },
   "source": [
    "real_y_pred = model.predict(real_x, verbose=1)"
   ],
   "execution_count": 62,
   "outputs": [
    {
     "name": "stdout",
     "output_type": "stream",
     "text": [
      "7/7 [==============================] - 0s 12ms/step\n"
     ]
    }
   ]
  },
  {
   "cell_type": "code",
   "metadata": {
    "colab": {
     "base_uri": "https://localhost:8080/"
    },
    "id": "HJuvN-MtxJyW",
    "outputId": "fb3eca48-9118-46bb-d94e-e013096acb04"
   },
   "source": [
    "print(real_y_pred)"
   ],
   "execution_count": 63,
   "outputs": [
    {
     "name": "stdout",
     "output_type": "stream",
     "text": [
      "[[1.03136248e-04 4.85147146e-04 9.99411702e-01]\n",
      " [7.26696244e-03 9.79101539e-01 1.36314435e-02]\n",
      " [6.21521054e-03 9.56946552e-01 3.68381888e-02]\n",
      " [1.43479891e-04 8.63575260e-05 9.99770224e-01]\n",
      " [2.58895278e-04 9.59550962e-04 9.98781502e-01]\n",
      " [1.38705736e-03 7.83432182e-03 9.90778685e-01]\n",
      " [5.23600914e-03 9.87384558e-01 7.37940473e-03]\n",
      " [4.57771216e-03 9.90250468e-01 5.17171994e-03]\n",
      " [2.27756619e-01 4.99334991e-01 2.72908330e-01]\n",
      " [5.92462299e-03 9.78526473e-01 1.55489082e-02]\n",
      " [7.66576350e-01 1.28673792e-01 1.04749903e-01]\n",
      " [2.27944255e-01 5.04786789e-01 2.67268956e-01]\n",
      " [2.20896071e-03 9.94867444e-01 2.92353565e-03]\n",
      " [9.97414626e-03 9.68940794e-01 2.10850947e-02]\n",
      " [6.42827072e-05 2.33463652e-04 9.99702275e-01]\n",
      " [6.18180726e-04 4.05774917e-03 9.95324075e-01]\n",
      " [8.79556477e-01 1.30936224e-02 1.07349873e-01]\n",
      " [7.95319498e-01 4.60548960e-02 1.58625573e-01]\n",
      " [5.72544755e-03 9.84620035e-01 9.65455081e-03]\n",
      " [5.22449845e-03 1.45944313e-03 9.93316114e-01]\n",
      " [1.03508480e-01 2.24468000e-02 8.74044657e-01]\n",
      " [9.32185113e-01 1.32271107e-02 5.45878038e-02]\n",
      " [4.43989923e-03 9.90316093e-01 5.24396216e-03]\n",
      " [1.94330001e-04 1.45997707e-04 9.99659657e-01]\n",
      " [5.61307091e-03 9.86977279e-01 7.40966387e-03]\n",
      " [1.76013669e-03 9.95380163e-01 2.85966904e-03]\n",
      " [4.37858235e-03 8.63376888e-04 9.94758070e-01]\n",
      " [4.42942232e-03 9.90381062e-01 5.18939598e-03]\n",
      " [2.53393084e-01 5.89417070e-02 6.87665224e-01]\n",
      " [2.22761789e-03 6.17316226e-03 9.91599202e-01]\n",
      " [9.92175400e-01 6.64775667e-04 7.15980632e-03]\n",
      " [9.88088071e-01 1.85253529e-03 1.00593073e-02]\n",
      " [2.26036948e-03 1.80733087e-03 9.95932281e-01]\n",
      " [5.58565930e-03 9.85593379e-01 8.82090162e-03]\n",
      " [9.66190636e-01 1.06553202e-02 2.31540557e-02]\n",
      " [9.83710825e-01 5.93536720e-03 1.03538344e-02]\n",
      " [6.56876922e-01 5.26521616e-02 2.90470958e-01]\n",
      " [5.31784415e-01 8.05597976e-02 3.87655795e-01]\n",
      " [9.77122009e-01 7.30384421e-03 1.55741135e-02]\n",
      " [1.20520381e-04 2.64286384e-04 9.99615192e-01]\n",
      " [1.03814518e-02 9.69141424e-01 2.04770863e-02]\n",
      " [3.01649664e-02 8.43160987e-01 1.26674056e-01]\n",
      " [1.08373901e-02 9.50085521e-01 3.90770510e-02]\n",
      " [8.82441223e-01 3.16120870e-02 8.59467164e-02]\n",
      " [2.27904528e-01 4.66219962e-01 3.05875510e-01]\n",
      " [3.19799362e-03 9.93483841e-01 3.31815006e-03]\n",
      " [1.14604104e-02 9.74901140e-01 1.36384834e-02]\n",
      " [2.30626203e-02 9.00223136e-01 7.67142326e-02]\n",
      " [4.33172390e-04 3.60468373e-04 9.99206364e-01]\n",
      " [9.52849223e-04 1.60937989e-03 9.97437716e-01]\n",
      " [4.46041264e-02 1.16103478e-02 9.43785489e-01]\n",
      " [2.93727458e-01 7.86556527e-02 6.27616882e-01]\n",
      " [2.20623370e-02 3.04820924e-03 9.74889457e-01]\n",
      " [4.13036300e-03 9.91181254e-01 4.68843849e-03]\n",
      " [4.57018130e-02 8.46324675e-03 9.45834935e-01]\n",
      " [1.00949733e-03 5.27699827e-04 9.98462796e-01]\n",
      " [1.71974897e-01 3.06042302e-02 7.97420919e-01]\n",
      " [4.04320570e-04 2.43569331e-04 9.99352157e-01]\n",
      " [2.45684700e-04 1.32102723e-04 9.99622226e-01]\n",
      " [3.75863630e-04 1.56462297e-03 9.98059452e-01]\n",
      " [4.70501604e-03 9.90497351e-01 4.79771430e-03]\n",
      " [7.36313523e-04 8.94787780e-04 9.98368919e-01]\n",
      " [4.55089426e-03 9.88490224e-01 6.95886742e-03]\n",
      " [6.45462424e-05 1.84515055e-04 9.99750912e-01]\n",
      " [2.53502832e-04 9.53490380e-04 9.98793006e-01]\n",
      " [3.82224703e-03 9.92692292e-01 3.48549150e-03]\n",
      " [7.53204618e-03 2.46649832e-02 9.67802942e-01]\n",
      " [1.02314679e-03 4.84211021e-04 9.98492599e-01]\n",
      " [4.96706273e-03 9.88102078e-01 6.93092216e-03]\n",
      " [3.13089117e-02 8.65830541e-01 1.02860518e-01]\n",
      " [1.85817387e-02 1.78308114e-02 9.63587463e-01]\n",
      " [6.83935010e-04 3.46018467e-03 9.95855868e-01]\n",
      " [1.24504825e-03 4.55217157e-03 9.94202793e-01]\n",
      " [3.74753494e-03 9.87530470e-01 8.72195140e-03]\n",
      " [2.63791587e-02 9.10977721e-01 6.26431331e-02]\n",
      " [2.72501688e-02 7.60148698e-03 9.65148330e-01]\n",
      " [2.20159262e-01 2.30655402e-01 5.49185336e-01]\n",
      " [9.24468157e-04 2.44039577e-04 9.98831451e-01]\n",
      " [1.65087264e-02 4.75831423e-03 9.78733003e-01]\n",
      " [2.32089207e-01 4.59108382e-01 3.08802396e-01]\n",
      " [4.02098475e-03 9.91376758e-01 4.60227579e-03]\n",
      " [4.72393353e-04 2.52897618e-03 9.96998668e-01]\n",
      " [3.80971865e-03 3.47669912e-03 9.92713511e-01]\n",
      " [2.84950924e-03 9.93436575e-01 3.71397147e-03]\n",
      " [3.80277224e-02 9.98944696e-03 9.51982796e-01]\n",
      " [2.41456809e-03 8.16187635e-03 9.89423573e-01]\n",
      " [9.82693076e-01 6.63312105e-03 1.06737996e-02]\n",
      " [2.63973568e-02 4.55836020e-03 9.69044209e-01]\n",
      " [2.49802368e-03 9.95553195e-01 1.94870308e-03]\n",
      " [3.50851240e-03 9.89318073e-01 7.17345392e-03]\n",
      " [4.31443937e-03 9.86676693e-01 9.00877640e-03]\n",
      " [8.08206107e-03 9.78992283e-01 1.29256183e-02]\n",
      " [1.17273921e-04 7.48143284e-05 9.99807894e-01]\n",
      " [8.66261253e-05 1.15107665e-04 9.99798238e-01]\n",
      " [9.95123565e-01 8.15002597e-04 4.06142417e-03]\n",
      " [9.52816069e-01 1.44909741e-02 3.26929018e-02]\n",
      " [2.87867937e-04 1.99549046e-04 9.99512553e-01]\n",
      " [8.73262688e-05 7.06608553e-05 9.99841928e-01]\n",
      " [1.97695033e-03 5.89220668e-04 9.97433841e-01]\n",
      " [1.03153147e-01 5.27639166e-02 8.44082952e-01]\n",
      " [1.94436796e-02 3.73284286e-03 9.76823449e-01]\n",
      " [8.13296007e-04 2.30059586e-03 9.96886075e-01]\n",
      " [9.02713120e-01 7.48765934e-03 8.97992477e-02]\n",
      " [2.81658227e-04 3.19962419e-04 9.99398351e-01]\n",
      " [3.04220151e-02 5.74331172e-03 9.63834703e-01]\n",
      " [1.88749819e-03 1.29614491e-03 9.96816337e-01]\n",
      " [8.08250252e-03 1.58643466e-03 9.90331054e-01]\n",
      " [1.36138976e-01 1.43588185e-01 7.20272839e-01]\n",
      " [3.87714982e-01 1.23300910e-01 4.88984078e-01]\n",
      " [6.32213831e-01 8.77100453e-02 2.80076027e-01]\n",
      " [1.28872944e-02 1.90481031e-03 9.85207915e-01]\n",
      " [2.12311745e-03 9.94693935e-01 3.18298070e-03]\n",
      " [1.25341956e-03 8.83298984e-04 9.97863352e-01]\n",
      " [4.85947495e-03 9.88854289e-01 6.28616940e-03]\n",
      " [5.45195118e-02 1.03536835e-02 9.35126781e-01]\n",
      " [9.94236171e-01 1.17494422e-03 4.58894996e-03]\n",
      " [2.22668778e-02 1.83133073e-02 9.59419787e-01]\n",
      " [2.26684264e-03 2.01160740e-03 9.95721579e-01]\n",
      " [3.40795796e-03 9.88281310e-01 8.31066631e-03]\n",
      " [9.78871286e-01 5.13143046e-03 1.59972366e-02]\n",
      " [2.61348160e-03 9.93766189e-01 3.62033141e-03]\n",
      " [3.53516266e-03 9.90495086e-01 5.96973021e-03]\n",
      " [9.51475322e-01 5.77172684e-03 4.27529216e-02]\n",
      " [8.95301055e-04 2.65729544e-03 9.96447384e-01]\n",
      " [1.25799719e-02 9.59118009e-01 2.83019841e-02]\n",
      " [7.73572689e-03 1.70868787e-03 9.90555584e-01]\n",
      " [1.78046264e-02 2.84270849e-03 9.79352653e-01]\n",
      " [2.00148318e-02 6.25678897e-03 9.73728418e-01]\n",
      " [9.88399982e-01 2.09943764e-03 9.50060040e-03]\n",
      " [1.96486944e-03 9.93864715e-01 4.17038053e-03]\n",
      " [2.65821395e-03 3.68017890e-03 9.93661642e-01]\n",
      " [2.62368526e-02 5.09854313e-03 9.68664587e-01]\n",
      " [5.52889258e-02 8.72463360e-02 8.57464671e-01]\n",
      " [3.57647426e-03 6.59366883e-03 9.89829838e-01]\n",
      " [2.03090273e-02 5.59793971e-03 9.74093080e-01]\n",
      " [8.85439944e-03 1.31538056e-03 9.89830196e-01]\n",
      " [6.28161896e-03 1.38077396e-03 9.92337644e-01]\n",
      " [1.15495677e-04 8.56921033e-05 9.99798834e-01]\n",
      " [4.76960326e-04 3.23166052e-04 9.99199927e-01]\n",
      " [5.40980184e-03 9.88256872e-01 6.33325754e-03]\n",
      " [4.11276817e-01 7.38986209e-02 5.14824569e-01]\n",
      " [2.97222077e-03 9.94306862e-01 2.72089383e-03]\n",
      " [5.87645778e-03 9.86748338e-01 7.37523008e-03]\n",
      " [9.95922208e-01 2.67372379e-04 3.81044298e-03]\n",
      " [3.79588222e-04 7.58129463e-04 9.98862267e-01]\n",
      " [5.40454313e-03 9.87313688e-01 7.28174718e-03]\n",
      " [2.22501293e-01 4.70566481e-01 3.06932181e-01]\n",
      " [4.05459851e-03 9.92204666e-01 3.74074327e-03]\n",
      " [8.06862314e-04 3.24965548e-03 9.95943487e-01]\n",
      " [7.29739992e-03 9.64550734e-01 2.81517934e-02]\n",
      " [1.93926245e-01 5.73217571e-01 2.32856154e-01]\n",
      " [2.15617478e-01 5.16931593e-01 2.67450899e-01]\n",
      " [5.44431387e-03 9.87431884e-01 7.12370034e-03]\n",
      " [1.83636211e-02 3.38402670e-03 9.78252351e-01]\n",
      " [7.03834288e-04 1.43704854e-03 9.97859061e-01]\n",
      " [5.84605942e-03 9.86452997e-01 7.70088611e-03]\n",
      " [3.18200663e-02 5.15913637e-03 9.63020742e-01]\n",
      " [9.65949055e-03 9.75126088e-01 1.52143762e-02]\n",
      " [3.23825446e-03 9.91626263e-01 5.13547705e-03]\n",
      " [4.31608554e-04 7.21588847e-04 9.98846769e-01]\n",
      " [1.84638862e-04 6.44618936e-04 9.99170780e-01]\n",
      " [2.55599096e-02 4.23723320e-03 9.70202863e-01]\n",
      " [9.90772963e-01 1.18484872e-03 8.04219209e-03]\n",
      " [4.50197281e-03 9.90036964e-01 5.46111679e-03]\n",
      " [2.26386916e-02 3.32593126e-03 9.74035382e-01]\n",
      " [5.36307879e-03 9.87525344e-01 7.11154798e-03]\n",
      " [1.18258730e-01 6.99287206e-02 8.11812520e-01]\n",
      " [9.59427189e-03 1.44643337e-02 9.75941420e-01]\n",
      " [1.59706024e-03 6.36131503e-04 9.97766852e-01]\n",
      " [4.57482086e-03 9.82801080e-01 1.26241092e-02]\n",
      " [4.09242325e-03 9.90913510e-01 4.99396957e-03]\n",
      " [9.70658243e-01 8.03474244e-03 2.13069599e-02]\n",
      " [9.82693076e-01 6.63312105e-03 1.06737996e-02]\n",
      " [9.44522560e-01 2.18323600e-02 3.36450748e-02]\n",
      " [3.54337571e-05 7.52114647e-05 9.99889374e-01]\n",
      " [2.76293862e-03 9.91178453e-01 6.05866592e-03]\n",
      " [6.60915440e-03 9.81764257e-01 1.16266273e-02]\n",
      " [1.84891038e-02 3.36330268e-03 9.78147566e-01]\n",
      " [1.16650779e-02 3.54554900e-03 9.84789371e-01]\n",
      " [5.41283702e-03 9.87138927e-01 7.44818198e-03]\n",
      " [4.22833208e-03 9.93273020e-01 2.49868748e-03]\n",
      " [4.21302840e-02 7.91102052e-01 1.66767687e-01]\n",
      " [9.85266685e-01 4.16735839e-03 1.05658928e-02]\n",
      " [3.17282043e-02 5.87196928e-03 9.62399840e-01]\n",
      " [5.39316796e-02 3.46682742e-02 9.11400020e-01]\n",
      " [1.07117131e-01 2.69220602e-02 8.65960777e-01]\n",
      " [1.07054599e-02 9.73409772e-01 1.58848204e-02]\n",
      " [9.88038301e-01 4.82656388e-03 7.13517517e-03]\n",
      " [9.09976568e-03 1.18607504e-03 9.89714086e-01]\n",
      " [9.55865085e-01 9.25046206e-03 3.48844714e-02]\n",
      " [1.58355618e-03 2.34378828e-03 9.96072650e-01]\n",
      " [4.92781494e-03 9.89054799e-01 6.01733010e-03]\n",
      " [6.00550413e-01 7.56895468e-02 3.23760003e-01]\n",
      " [1.11955442e-02 9.69110847e-01 1.96936838e-02]\n",
      " [4.22711717e-03 9.86020625e-01 9.75227635e-03]\n",
      " [4.37929388e-03 9.86182570e-01 9.43806767e-03]\n",
      " [1.03593273e-02 2.21514143e-03 9.87425506e-01]\n",
      " [7.47305166e-04 5.42040623e-04 9.98710632e-01]\n",
      " [4.27634502e-03 2.16060574e-03 9.93563056e-01]\n",
      " [9.71332908e-01 1.44088203e-02 1.42582180e-02]]\n"
     ]
    }
   ]
  },
  {
   "cell_type": "code",
   "metadata": {
    "colab": {
     "base_uri": "https://localhost:8080/"
    },
    "id": "oAqXq42nxWFI",
    "outputId": "9dac8da2-c442-4d9e-a479-6c0480731cac"
   },
   "source": [
    "real_y_pred = pd.DataFrame((real_y_pred ==real_y_pred.max(axis=1)[:,None]).astype(int)).rename({\n",
    "    0: -1,\n",
    "    1: 0,\n",
    "    2: 1\n",
    "}, axis=1)\n",
    "real_y_pred"
   ],
   "execution_count": 64,
   "outputs": [
    {
     "data": {
      "text/plain": "     -1   0   1\n0     0   0   1\n1     0   1   0\n2     0   1   0\n3     0   0   1\n4     0   0   1\n..   ..  ..  ..\n195   0   1   0\n196   0   0   1\n197   0   0   1\n198   0   0   1\n199   1   0   0\n\n[200 rows x 3 columns]",
      "text/html": "<div>\n<style scoped>\n    .dataframe tbody tr th:only-of-type {\n        vertical-align: middle;\n    }\n\n    .dataframe tbody tr th {\n        vertical-align: top;\n    }\n\n    .dataframe thead th {\n        text-align: right;\n    }\n</style>\n<table border=\"1\" class=\"dataframe\">\n  <thead>\n    <tr style=\"text-align: right;\">\n      <th></th>\n      <th>-1</th>\n      <th>0</th>\n      <th>1</th>\n    </tr>\n  </thead>\n  <tbody>\n    <tr>\n      <th>0</th>\n      <td>0</td>\n      <td>0</td>\n      <td>1</td>\n    </tr>\n    <tr>\n      <th>1</th>\n      <td>0</td>\n      <td>1</td>\n      <td>0</td>\n    </tr>\n    <tr>\n      <th>2</th>\n      <td>0</td>\n      <td>1</td>\n      <td>0</td>\n    </tr>\n    <tr>\n      <th>3</th>\n      <td>0</td>\n      <td>0</td>\n      <td>1</td>\n    </tr>\n    <tr>\n      <th>4</th>\n      <td>0</td>\n      <td>0</td>\n      <td>1</td>\n    </tr>\n    <tr>\n      <th>...</th>\n      <td>...</td>\n      <td>...</td>\n      <td>...</td>\n    </tr>\n    <tr>\n      <th>195</th>\n      <td>0</td>\n      <td>1</td>\n      <td>0</td>\n    </tr>\n    <tr>\n      <th>196</th>\n      <td>0</td>\n      <td>0</td>\n      <td>1</td>\n    </tr>\n    <tr>\n      <th>197</th>\n      <td>0</td>\n      <td>0</td>\n      <td>1</td>\n    </tr>\n    <tr>\n      <th>198</th>\n      <td>0</td>\n      <td>0</td>\n      <td>1</td>\n    </tr>\n    <tr>\n      <th>199</th>\n      <td>1</td>\n      <td>0</td>\n      <td>0</td>\n    </tr>\n  </tbody>\n</table>\n<p>200 rows × 3 columns</p>\n</div>"
     },
     "execution_count": 64,
     "metadata": {},
     "output_type": "execute_result"
    }
   ]
  },
  {
   "cell_type": "markdown",
   "metadata": {
    "id": "aQ3JTNt6Bpif"
   },
   "source": [
    "Accuracy from Twitter data"
   ]
  },
  {
   "cell_type": "code",
   "metadata": {
    "colab": {
     "base_uri": "https://localhost:8080/"
    },
    "id": "NZsIxTE8zSzb",
    "outputId": "69fab28c-4e1e-46a9-be57-e95faa47c0ea"
   },
   "source": [
    "accuracy_score(y_true = pd.get_dummies(df2['label']), y_pred = real_y_pred)"
   ],
   "execution_count": 66,
   "outputs": [
    {
     "data": {
      "text/plain": "0.55"
     },
     "execution_count": 66,
     "metadata": {},
     "output_type": "execute_result"
    }
   ]
  },
  {
   "cell_type": "code",
   "metadata": {
    "id": "zh7ULtDh_EZE"
   },
   "source": [
    "real_y_pred.sum()"
   ],
   "execution_count": 69,
   "outputs": [
    {
     "data": {
      "text/plain": "-1    31\n 0    71\n 1    98\ndtype: int64"
     },
     "execution_count": 69,
     "metadata": {},
     "output_type": "execute_result"
    }
   ]
  },
  {
   "cell_type": "code",
   "execution_count": 78,
   "outputs": [
    {
     "data": {
      "text/plain": "<Figure size 648x648 with 1 Axes>",
      "image/png": "[encoded data removed]"
     },
     "metadata": {},
     "output_type": "display_data"
    }
   ],
   "source": [
    "plt.figure(figsize=(9, 9))\n",
    "plt.pie(\n",
    "    real_y_pred.sum(),\n",
    "    labels=[\n",
    "        'Negative',\n",
    "        'Neutral',\n",
    "        'Positive'\n",
    "    ],\n",
    "    autopct='%1.1f%%'\n",
    ")\n",
    "plt.title('Sentiment distribution in sample tweet')\n",
    "plt.show()"
   ],
   "metadata": {
    "collapsed": false,
    "pycharm": {
     "name": "#%%\n"
    }
   }
  },
  {
   "cell_type": "markdown",
   "source": [
    "## Spread of sentiment in tweets about Squid Game"
   ],
   "metadata": {
    "collapsed": false
   }
  },
  {
   "cell_type": "code",
   "execution_count": 80,
   "outputs": [
    {
     "data": {
      "text/plain": "0    bringing back jungwon's cute and tiny reaction...\n1    Living in North Korea is like LITTERALLY playi...\n2    Variety | Squid Game's Jung Hoyeon and Park Ha...\n3    WE RECREATED SQUID GAME WITH 456 RANDOM PEOPLE...\n4    wouldnt last one round in squid game https://t...\nName: inferred_text, dtype: object"
     },
     "execution_count": 80,
     "metadata": {},
     "output_type": "execute_result"
    }
   ],
   "source": [
    "squid_df = pd.read_json('../dataset/movie-tweets/squid game.json', orient='index')['inferred_text']\n",
    "squid_df.head()"
   ],
   "metadata": {
    "collapsed": false,
    "pycharm": {
     "name": "#%%\n"
    }
   }
  },
  {
   "cell_type": "code",
   "execution_count": 81,
   "outputs": [
    {
     "data": {
      "text/plain": "[[1361,\n  101,\n  1,\n  4466,\n  4,\n  5105,\n  1994,\n  42,\n  1,\n  84,\n  1,\n  1,\n  225,\n  87947,\n  527,\n  455,\n  69,\n  1,\n  2,\n  1174,\n  7723,\n  1,\n  3283,\n  1,\n  1,\n  7062,\n  1,\n  1,\n  1],\n [704,\n  1,\n  742,\n  3283,\n  1,\n  26,\n  1,\n  811,\n  87947,\n  527,\n  155,\n  15680,\n  1,\n  2,\n  5416,\n  5996,\n  5,\n  1235,\n  87947,\n  527,\n  7062,\n  1,\n  1,\n  1],\n [5748,\n  87947,\n  1,\n  20322,\n  1,\n  4,\n  4418,\n  13565,\n  6047,\n  2187,\n  32,\n  36993,\n  41084,\n  1,\n  1,\n  363,\n  17,\n  9,\n  1598,\n  1,\n  36993,\n  7062,\n  1,\n  1,\n  1,\n  7062,\n  1,\n  1,\n  1],\n [1, 46591, 87947, 527, 13, 6001, 2928, 23, 1, 225],\n [1990, 130, 34, 2317, 1, 87947, 527, 7062, 1, 1, 1],\n [2,\n  42503,\n  292,\n  1,\n  155,\n  111,\n  15680,\n  1,\n  821,\n  5,\n  16939,\n  1,\n  1,\n  87947,\n  527,\n  158,\n  742,\n  3283,\n  4,\n  1,\n  11093,\n  9007,\n  21,\n  177,\n  12905,\n  1,\n  87947,\n  527,\n  695,\n  23,\n  1,\n  89,\n  1,\n  573,\n  32,\n  7453,\n  1198,\n  126,\n  904,\n  462,\n  37,\n  3774],\n [25,\n  11,\n  151,\n  87947,\n  527,\n  1,\n  2,\n  1636,\n  2668,\n  1,\n  2,\n  1,\n  87947,\n  527,\n  1,\n  1,\n  1,\n  202,\n  635,\n  1,\n  552,\n  1,\n  52,\n  7062,\n  1,\n  1,\n  1,\n  7062,\n  1,\n  1,\n  1],\n [89, 1, 1210, 5, 87947, 527, 7062, 1, 1, 1],\n [742,\n  3283,\n  16,\n  15680,\n  1,\n  821,\n  1,\n  155,\n  25,\n  27081,\n  4,\n  1117,\n  7096,\n  1,\n  2,\n  4994,\n  1079,\n  1,\n  95251,\n  65,\n  3062,\n  1787,\n  5543,\n  333,\n  1105,\n  1457,\n  946,\n  2,\n  10320,\n  707,\n  1125,\n  655,\n  224,\n  1648,\n  1,\n  2,\n  49,\n  503,\n  1,\n  7062,\n  1,\n  1,\n  1],\n [1,\n  1,\n  163,\n  946,\n  1,\n  11093,\n  87947,\n  527,\n  308,\n  7062,\n  1,\n  1,\n  1,\n  7062,\n  1,\n  1,\n  1,\n  7062,\n  1,\n  1,\n  1,\n  7062,\n  1,\n  1,\n  1],\n [1,\n  579,\n  65,\n  1,\n  1271,\n  2513,\n  1,\n  2,\n  13104,\n  1,\n  87947,\n  527,\n  4345,\n  4418,\n  10817,\n  61,\n  1,\n  5496,\n  1,\n  1,\n  8096,\n  1,\n  4,\n  1551,\n  1,\n  1,\n  21539,\n  9004,\n  1,\n  1,\n  2416,\n  1,\n  1,\n  6932,\n  7918,\n  19967,\n  1,\n  1,\n  697,\n  14,\n  2,\n  334,\n  22605,\n  1,\n  553,\n  1,\n  17872,\n  1451,\n  1,\n  1,\n  3103,\n  1,\n  1074,\n  2,\n  17872],\n [234,\n  260,\n  87947,\n  527,\n  13,\n  6001,\n  23,\n  349,\n  163,\n  145,\n  1,\n  25542,\n  3979,\n  7062,\n  1,\n  1,\n  1],\n [1, 179, 2157, 1, 1, 2, 87947, 527, 1],\n [1693,\n  26,\n  1,\n  305,\n  1,\n  117,\n  861,\n  1,\n  1441,\n  133,\n  1,\n  87947,\n  527,\n  4,\n  65,\n  1,\n  87947,\n  527],\n [1,\n  2635,\n  209,\n  18,\n  6001,\n  30392,\n  8411,\n  1932,\n  5,\n  1,\n  87947,\n  527,\n  1,\n  225,\n  1,\n  1381,\n  851,\n  1,\n  2677,\n  1,\n  1,\n  2928,\n  205,\n  25,\n  7273,\n  8,\n  143,\n  10,\n  2666,\n  8411,\n  7062,\n  1,\n  1,\n  1],\n [1,\n  1,\n  87947,\n  527,\n  308,\n  2835,\n  1,\n  1030,\n  1128,\n  1,\n  1,\n  1199,\n  464,\n  8,\n  366,\n  1,\n  1,\n  1959,\n  155,\n  7062,\n  1,\n  1,\n  1],\n [1,\n  11093,\n  303,\n  574,\n  45706,\n  23837,\n  1,\n  2,\n  87947,\n  527,\n  308,\n  234,\n  5036,\n  1,\n  391,\n  2,\n  1,\n  1,\n  293,\n  5,\n  2,\n  462,\n  657,\n  1,\n  1256,\n  36,\n  1,\n  409,\n  1431,\n  21,\n  189,\n  1,\n  6867,\n  15748,\n  1,\n  2434,\n  333,\n  45706,\n  23837,\n  1],\n [456,\n  111363,\n  87947,\n  527,\n  19,\n  312,\n  1,\n  225,\n  69,\n  1,\n  11296,\n  2,\n  95,\n  234,\n  3086,\n  1,\n  9150,\n  99,\n  4051,\n  1801,\n  19536,\n  1,\n  15,\n  24,\n  1,\n  1,\n  59,\n  1,\n  5,\n  234,\n  7062,\n  1,\n  1,\n  1],\n [2,\n  1611,\n  1,\n  87947,\n  527,\n  2,\n  142,\n  628,\n  224,\n  1,\n  4994,\n  459,\n  7,\n  124,\n  4994,\n  2405,\n  1,\n  1310,\n  4199,\n  19,\n  10,\n  612,\n  584,\n  1,\n  2,\n  1,\n  1068,\n  405,\n  7062,\n  1,\n  1,\n  1],\n [946,\n  1,\n  1,\n  8587,\n  6415,\n  1,\n  742,\n  3283,\n  4,\n  48,\n  821,\n  1,\n  1,\n  2,\n  286,\n  1,\n  1,\n  155,\n  25,\n  27081,\n  4,\n  1117,\n  7096,\n  1,\n  2,\n  224,\n  7062,\n  1,\n  1,\n  1,\n  7062,\n  1,\n  1,\n  1],\n [1,\n  2,\n  1,\n  2976,\n  1,\n  3805,\n  1,\n  1,\n  125,\n  4520,\n  1,\n  10320,\n  926,\n  1,\n  1,\n  4520,\n  34,\n  2,\n  1408,\n  225,\n  1,\n  118,\n  1,\n  87947,\n  527,\n  1,\n  87947,\n  527,\n  1,\n  733,\n  19259,\n  1,\n  87947,\n  527,\n  3840,\n  9122,\n  1,\n  6,\n  7062,\n  1,\n  1,\n  1],\n [1,\n  59,\n  1,\n  876,\n  2474,\n  4,\n  254,\n  290,\n  1,\n  1821,\n  1,\n  5,\n  33371,\n  1,\n  225,\n  2,\n  117,\n  11093,\n  52438,\n  308,\n  55,\n  87947,\n  527,\n  1,\n  1278,\n  7062,\n  1,\n  1,\n  1],\n [1, 4641, 2, 87947, 527, 1, 65, 724, 1, 7062, 1, 1, 1],\n [5752,\n  1,\n  1,\n  2,\n  1,\n  1,\n  1441,\n  1,\n  1,\n  713,\n  65,\n  7,\n  87947,\n  527,\n  308,\n  3559,\n  112,\n  916,\n  2,\n  510],\n [1028,\n  111,\n  8,\n  1721,\n  3300,\n  1,\n  240,\n  8,\n  32,\n  2,\n  1,\n  55,\n  1415,\n  2,\n  317,\n  1,\n  87947,\n  527,\n  8,\n  268,\n  26,\n  1,\n  59,\n  7062,\n  1,\n  1,\n  1],\n [117,\n  242,\n  163,\n  1446,\n  45723,\n  5496,\n  1,\n  1,\n  87947,\n  527,\n  18801,\n  1,\n  1,\n  15173,\n  1,\n  1446,\n  16396,\n  16,\n  72,\n  3151,\n  1,\n  9736,\n  454,\n  7062,\n  1,\n  1,\n  1,\n  7062,\n  1,\n  1,\n  1],\n [7,\n  65142,\n  4,\n  30213,\n  13441,\n  87947,\n  527,\n  575,\n  20,\n  2,\n  6009,\n  6468,\n  2242,\n  1,\n  36,\n  132,\n  1,\n  208,\n  9793,\n  4962],\n [65,\n  16693,\n  2,\n  87947,\n  527,\n  308,\n  1,\n  16,\n  4822,\n  452,\n  1821,\n  9005,\n  1,\n  1441,\n  1,\n  36,\n  1,\n  1199,\n  1,\n  26,\n  1,\n  1,\n  1,\n  8201,\n  1481,\n  1,\n  1,\n  38367,\n  8201,\n  2177,\n  1,\n  1,\n  1,\n  8201,\n  518,\n  7062,\n  1,\n  1,\n  1],\n [913, 491, 23, 1, 129, 1, 1999, 1, 87947, 527, 1, 10554, 1, 7062, 1, 1, 1],\n [27,\n  1,\n  102,\n  8,\n  47,\n  1,\n  1263,\n  41,\n  58,\n  1,\n  1,\n  1,\n  24,\n  1,\n  143,\n  771,\n  8,\n  87947,\n  527,\n  308,\n  1,\n  1,\n  104,\n  1,\n  1068,\n  2297,\n  1,\n  4441,\n  7,\n  1,\n  212,\n  1,\n  225,\n  1,\n  7062,\n  1,\n  1,\n  1],\n [586,\n  742,\n  10320,\n  155,\n  15680,\n  1,\n  821,\n  5,\n  16939,\n  7096,\n  1,\n  87947,\n  527,\n  7062,\n  1,\n  1,\n  1],\n [8,\n  1,\n  87947,\n  527,\n  308,\n  1,\n  1,\n  1710,\n  12649,\n  104,\n  2499,\n  112,\n  320,\n  699,\n  118,\n  2856,\n  1430,\n  15,\n  275,\n  8193,\n  2,\n  3533,\n  3903,\n  1,\n  724,\n  4,\n  1061,\n  1387,\n  1,\n  249,\n  25,\n  1281,\n  88,\n  1,\n  910,\n  2,\n  521,\n  8107,\n  7062,\n  1,\n  1,\n  1],\n [1,\n  2770,\n  338,\n  1,\n  1,\n  1,\n  87947,\n  527,\n  308,\n  1,\n  2,\n  3691,\n  17956,\n  2935,\n  1,\n  142,\n  1,\n  2,\n  3101,\n  665,\n  204,\n  7,\n  19,\n  1415,\n  20,\n  2,\n  1774,\n  224],\n [1,\n  15052,\n  1,\n  87947,\n  527,\n  79,\n  5835,\n  13,\n  87947,\n  527,\n  608,\n  87947,\n  15052,\n  257,\n  945,\n  2,\n  1085,\n  1126,\n  2019,\n  30,\n  1,\n  2,\n  2654,\n  1126,\n  1,\n  226,\n  1,\n  101417,\n  1,\n  87947,\n  527,\n  13,\n  15052,\n  1,\n  2,\n  234,\n  87947,\n  1,\n  1,\n  1,\n  1,\n  101,\n  2019],\n [72, 52, 263, 306, 5, 1, 1, 30, 98, 87947, 527, 4681],\n [3271,\n  1,\n  1638,\n  1,\n  1,\n  1079,\n  112,\n  65,\n  2,\n  3338,\n  4665,\n  138,\n  87947,\n  527,\n  19,\n  1938],\n [742,\n  10320,\n  155,\n  15680,\n  1,\n  821,\n  5,\n  1,\n  87947,\n  527,\n  7062,\n  1,\n  1,\n  1,\n  7062,\n  1,\n  1,\n  1],\n [1,\n  107099,\n  1,\n  6063,\n  1,\n  407,\n  1,\n  21,\n  90,\n  1,\n  562,\n  1,\n  1,\n  36,\n  13617,\n  13,\n  1,\n  4,\n  1,\n  10,\n  48,\n  1,\n  783,\n  1,\n  45,\n  1232,\n  1,\n  289,\n  26,\n  1,\n  4192,\n  1401,\n  2,\n  2560,\n  1,\n  1,\n  69,\n  87947,\n  527,\n  1,\n  2,\n  956,\n  2117],\n [1, 1, 87947, 527, 55, 4721, 1, 575, 663, 32, 295, 25, 5411, 20, 742, 3283],\n [100928, 742, 111363, 210, 811, 87947, 527, 2, 644, 17, 83, 1224],\n [1,\n  1,\n  742,\n  10320,\n  155,\n  16,\n  72,\n  15680,\n  1,\n  821,\n  1,\n  5416,\n  5996,\n  65,\n  16939,\n  4,\n  1235,\n  7096,\n  1,\n  2,\n  655,\n  1,\n  224,\n  87947,\n  527,\n  7062,\n  1,\n  1,\n  1],\n [2350,\n  2,\n  1,\n  11093,\n  87947,\n  527,\n  308,\n  4,\n  1,\n  1,\n  2054,\n  26,\n  1,\n  61,\n  1,\n  1,\n  3789,\n  2,\n  488,\n  479,\n  1,\n  4,\n  248,\n  15,\n  33,\n  59,\n  17,\n  163],\n [87947,\n  527,\n  16,\n  1,\n  46,\n  5,\n  142,\n  12181,\n  224,\n  1,\n  2,\n  2253,\n  1,\n  1,\n  18492,\n  1,\n  21948,\n  1,\n  2676,\n  1547,\n  1,\n  7995],\n [36,\n  1,\n  1,\n  155,\n  1,\n  3854,\n  1,\n  5416,\n  5996,\n  5,\n  16939,\n  7096,\n  1,\n  87947,\n  527,\n  158,\n  742,\n  1],\n [1613, 19659, 1, 145, 1, 87947, 527, 1],\n [1,\n  1,\n  2,\n  1305,\n  4994,\n  10320,\n  926,\n  1,\n  78119,\n  11452,\n  2,\n  2804,\n  8569,\n  1,\n  1,\n  575,\n  32,\n  1,\n  4862,\n  25,\n  2849,\n  52,\n  1,\n  2721,\n  1,\n  315,\n  1,\n  26734,\n  4,\n  3302,\n  3131,\n  1,\n  671,\n  789,\n  1,\n  4994,\n  7062,\n  1,\n  1,\n  1],\n [1, 6001, 1821, 87947, 527, 1, 234, 260, 7062, 1, 1, 1],\n [1,\n  1,\n  892,\n  1,\n  184,\n  2258,\n  20,\n  16656,\n  4,\n  2845,\n  1,\n  14,\n  72,\n  946,\n  1864,\n  4,\n  1079,\n  1313,\n  117,\n  105548,\n  4,\n  373,\n  105548,\n  4,\n  2635,\n  87947,\n  527],\n [742,\n  10320,\n  155,\n  7425,\n  15680,\n  1,\n  821,\n  5,\n  16939,\n  7096,\n  1,\n  87947,\n  527,\n  7062,\n  1,\n  1,\n  1,\n  7062,\n  1,\n  1,\n  1],\n [1, 1, 87947, 527, 1421, 36, 1, 7082, 1, 24, 704, 1, 742, 3283, 1, 26],\n [692,\n  1,\n  1256,\n  1860,\n  2,\n  334,\n  317,\n  1,\n  87947,\n  527,\n  1,\n  170,\n  3741,\n  1,\n  11093,\n  15,\n  1,\n  4235,\n  89,\n  1,\n  1,\n  45,\n  1,\n  16,\n  1,\n  729,\n  14339,\n  7062,\n  1,\n  1,\n  1],\n [1, 19655, 87947, 527, 1, 1853, 4, 18, 15, 7, 30276, 1, 415, 504, 159, 5918],\n [1,\n  335,\n  32,\n  1,\n  1,\n  1,\n  87947,\n  527,\n  308,\n  15,\n  1,\n  29733,\n  392,\n  202,\n  20,\n  1,\n  1,\n  3579,\n  856,\n  308,\n  1,\n  7062,\n  1,\n  1,\n  1],\n [8, 41, 25319, 871, 1, 42, 17, 392, 1, 1, 1, 87947, 527, 1, 1, 7062, 1, 1, 1],\n [283, 225, 87947, 527, 1],\n [98,\n  24,\n  6,\n  80,\n  32,\n  1,\n  11093,\n  4,\n  1610,\n  40,\n  1,\n  32,\n  23610,\n  204,\n  26,\n  87947,\n  527,\n  15,\n  34,\n  1030,\n  1128,\n  1,\n  2812,\n  1199,\n  1,\n  786,\n  788,\n  204,\n  1,\n  7062,\n  1,\n  1,\n  1],\n [204, 32, 87947, 527, 1, 1, 7062, 1, 1, 1],\n [1,\n  1,\n  1,\n  1,\n  15052,\n  1,\n  87947,\n  527,\n  79,\n  5835,\n  13,\n  87947,\n  527,\n  608,\n  87947,\n  15052,\n  257,\n  945,\n  2,\n  1085,\n  1126,\n  2019,\n  30,\n  1,\n  2,\n  2654,\n  1126,\n  1,\n  226,\n  1,\n  101417,\n  1,\n  87947,\n  527,\n  13,\n  15052,\n  1,\n  2,\n  234,\n  87947,\n  1,\n  1,\n  1,\n  1,\n  101,\n  2019],\n [1,\n  27,\n  6,\n  125,\n  2229,\n  1,\n  8,\n  1,\n  6,\n  81,\n  1,\n  933,\n  2,\n  87947,\n  527,\n  308,\n  19,\n  159,\n  1164],\n [1, 87947, 527, 308, 655, 1, 1030, 1128, 619, 1, 1, 7062, 1, 1, 1],\n [4,\n  7,\n  2268,\n  36,\n  15680,\n  1,\n  2868,\n  1,\n  821,\n  5,\n  16939,\n  2,\n  87947,\n  527,\n  7062,\n  1,\n  1,\n  1],\n [1,\n  5748,\n  363,\n  1,\n  1,\n  36993,\n  1264,\n  1,\n  142,\n  1026,\n  1,\n  3551,\n  1,\n  36993,\n  1651,\n  1,\n  1,\n  1,\n  407,\n  1,\n  1,\n  148,\n  7342,\n  1,\n  78,\n  74,\n  1,\n  15,\n  1,\n  78,\n  1,\n  67,\n  40,\n  32,\n  36993,\n  74,\n  6,\n  13565,\n  6047,\n  1,\n  1,\n  457,\n  783,\n  1,\n  36993,\n  15,\n  1,\n  62,\n  98,\n  1,\n  40,\n  1,\n  1,\n  7700,\n  74,\n  7342,\n  7062,\n  1,\n  1,\n  1],\n [1,\n  155,\n  16,\n  7425,\n  72,\n  15680,\n  1,\n  821,\n  1,\n  5416,\n  5996,\n  1,\n  742,\n  3283,\n  5,\n  16939,\n  7096,\n  1,\n  1,\n  17324,\n  1079,\n  1,\n  95251,\n  158,\n  2,\n  49,\n  1,\n  1,\n  2899,\n  1,\n  1,\n  1,\n  1,\n  1,\n  1,\n  1,\n  7062,\n  1,\n  1,\n  1,\n  7062,\n  1,\n  1,\n  1],\n [1,\n  15052,\n  1,\n  87947,\n  527,\n  79,\n  5835,\n  13,\n  87947,\n  527,\n  608,\n  87947,\n  15052,\n  257,\n  945,\n  2,\n  1085,\n  1126,\n  2019,\n  30,\n  1,\n  2,\n  2654,\n  1126,\n  1,\n  226,\n  1,\n  101417,\n  1,\n  87947,\n  527,\n  13,\n  15052,\n  1,\n  2,\n  234,\n  87947,\n  1,\n  1,\n  1,\n  1,\n  101,\n  2019],\n [742, 10320, 2868, 1, 1, 3854, 3498, 5, 946, 87947, 527, 7062, 1, 1, 1],\n [1,\n  1,\n  1,\n  234,\n  413,\n  1,\n  1699,\n  60,\n  32,\n  2,\n  1123,\n  126,\n  4,\n  1,\n  682,\n  88,\n  60,\n  1812,\n  7,\n  2,\n  505,\n  1,\n  114,\n  1,\n  37,\n  791,\n  4,\n  1,\n  1421,\n  114,\n  1,\n  1352,\n  5,\n  2,\n  742,\n  111363,\n  1,\n  5951,\n  241,\n  413,\n  1,\n  17,\n  27,\n  5496,\n  1,\n  1,\n  87947,\n  527,\n  5,\n  1],\n [1,\n  1,\n  88,\n  34,\n  389,\n  32,\n  87947,\n  527,\n  4,\n  1885,\n  1,\n  18,\n  32,\n  41,\n  5215,\n  1,\n  1,\n  32,\n  1,\n  545,\n  66,\n  742,\n  3283,\n  14444],\n [1, 11093, 87947, 527, 1, 2, 2280, 1, 2, 442],\n [2,\n  3154,\n  6680,\n  1,\n  2,\n  1010,\n  4,\n  461,\n  1547,\n  16,\n  72,\n  10834,\n  2,\n  814,\n  1,\n  6680,\n  65,\n  2,\n  655,\n  4994,\n  224,\n  7,\n  4721,\n  17376,\n  6797,\n  1,\n  1,\n  7062,\n  1,\n  1,\n  1],\n [87947, 527, 1, 7062, 1, 1, 1],\n [1,\n  15052,\n  1,\n  87947,\n  527,\n  79,\n  5835,\n  13,\n  87947,\n  527,\n  608,\n  87947,\n  15052,\n  257,\n  945,\n  2,\n  1085,\n  1126,\n  2019,\n  30,\n  1,\n  2,\n  2654,\n  1126,\n  1,\n  226,\n  1,\n  101417,\n  1,\n  87947,\n  527,\n  13,\n  15052,\n  1,\n  2,\n  234,\n  87947,\n  1,\n  1,\n  1,\n  1,\n  101,\n  2019],\n [36, 2350, 2, 85569, 527, 2668, 1, 87947, 527, 1, 1, 774, 7062, 1, 1, 1],\n [1752, 87947, 527, 1, 7, 58, 1, 156, 8377, 797, 3184],\n [1,\n  1,\n  59,\n  10,\n  1227,\n  1,\n  1,\n  21,\n  87947,\n  527,\n  1,\n  1,\n  1189,\n  1,\n  243,\n  23,\n  1,\n  21,\n  860,\n  804,\n  216,\n  1393,\n  860,\n  9666,\n  4,\n  9546,\n  1,\n  320,\n  8,\n  699,\n  1,\n  7,\n  1,\n  166,\n  8183,\n  23,\n  178,\n  243,\n  290,\n  1,\n  1,\n  1,\n  14294,\n  1,\n  21,\n  527,\n  752,\n  1],\n [1, 2, 334, 317, 1, 87947, 527, 19, 7, 24558, 3438, 745, 4681],\n [1, 87947, 527, 1, 17992, 5220],\n [1,\n  36,\n  2357,\n  317,\n  52,\n  7,\n  42,\n  456,\n  111363,\n  763,\n  87947,\n  527,\n  17,\n  59,\n  1,\n  632,\n  262,\n  15,\n  42,\n  3600,\n  763,\n  87947,\n  527,\n  17,\n  1784,\n  801,\n  1,\n  1,\n  1,\n  1,\n  234,\n  260],\n [1, 19, 4630, 65880, 1, 1, 87947, 527, 225, 1074, 1, 81, 1],\n [1,\n  1,\n  15052,\n  1,\n  87947,\n  527,\n  79,\n  5835,\n  13,\n  87947,\n  527,\n  608,\n  87947,\n  15052,\n  257,\n  945,\n  2,\n  1085,\n  1126,\n  2019,\n  30,\n  1,\n  2,\n  2654,\n  1126,\n  1,\n  226,\n  1,\n  101417,\n  1,\n  87947,\n  527,\n  13,\n  15052,\n  1,\n  2,\n  234,\n  87947,\n  1,\n  1,\n  1,\n  1,\n  101,\n  2019],\n [5191,\n  2919,\n  260,\n  1,\n  1640,\n  1487,\n  5288,\n  799,\n  5551,\n  155,\n  5,\n  16939,\n  1,\n  36422,\n  4051,\n  926,\n  1,\n  1,\n  7062,\n  1,\n  1,\n  1],\n [1,\n  1,\n  42660,\n  1,\n  1,\n  4,\n  765,\n  1,\n  1,\n  142,\n  2350,\n  619,\n  1,\n  1185,\n  1,\n  1,\n  7062,\n  1,\n  1,\n  1],\n [573, 2668, 1, 1, 87947, 527],\n [41,\n  1,\n  1,\n  87947,\n  527,\n  308,\n  10,\n  1,\n  2,\n  1441,\n  6160,\n  1755,\n  1,\n  1030,\n  1128,\n  1,\n  36,\n  1,\n  1185],\n [1, 44, 169, 1, 179, 87947, 527, 13, 7676, 1, 1],\n [1,\n  78,\n  77,\n  23,\n  14,\n  118,\n  103,\n  90,\n  658,\n  1,\n  1,\n  5178,\n  600,\n  15,\n  1,\n  36,\n  78,\n  1,\n  1,\n  75,\n  7,\n  103,\n  90,\n  1,\n  62,\n  10,\n  88,\n  87947,\n  527,\n  1,\n  224,\n  7,\n  1,\n  10,\n  48,\n  11795,\n  32,\n  1629,\n  11582,\n  4,\n  4051,\n  1,\n  234,\n  260,\n  15,\n  1,\n  10185,\n  1,\n  10185,\n  7062,\n  1,\n  1,\n  1],\n [1,\n  36,\n  2635,\n  946,\n  87947,\n  527,\n  1,\n  11093,\n  93010,\n  4,\n  1431,\n  1,\n  1752,\n  19,\n  797,\n  58,\n  1,\n  75,\n  1,\n  977,\n  7,\n  1,\n  62,\n  151,\n  1],\n [87947,\n  527,\n  18801,\n  1,\n  1,\n  1,\n  1,\n  1,\n  1,\n  1,\n  1,\n  1064,\n  111784,\n  1105,\n  1064,\n  2245,\n  1271,\n  1,\n  7062,\n  1,\n  1,\n  1],\n [1,\n  871,\n  208,\n  1,\n  1,\n  1,\n  2,\n  1,\n  11093,\n  87947,\n  527,\n  1,\n  1,\n  58,\n  1,\n  1,\n  19,\n  6578,\n  1,\n  1,\n  1,\n  184,\n  1,\n  2450,\n  692,\n  106,\n  4,\n  19,\n  96,\n  112,\n  15,\n  1,\n  1,\n  159,\n  655],\n [840, 7, 1, 87947, 527, 308, 19, 6295],\n [1, 87947, 527, 7062, 1, 1, 1],\n [1, 1, 87947, 527, 308, 349, 1, 145, 4, 1, 140, 1395, 2, 1489, 7062, 1, 1, 1],\n [2, 87947, 527, 1, 1, 19, 6295, 1, 103, 439, 44, 5, 1],\n [35,\n  87947,\n  527,\n  13,\n  6001,\n  2928,\n  23,\n  7481,\n  1,\n  3277,\n  1,\n  1,\n  97,\n  527,\n  11,\n  1,\n  9965,\n  1,\n  2152,\n  1],\n [36,\n  2635,\n  946,\n  1,\n  19655,\n  87947,\n  527,\n  143,\n  283,\n  14441,\n  1,\n  166,\n  1,\n  9196,\n  1,\n  4051],\n [1,\n  1,\n  1,\n  1,\n  1,\n  1,\n  1,\n  5723,\n  4,\n  5783,\n  1,\n  10475,\n  4,\n  12680,\n  608,\n  2737,\n  1,\n  45606,\n  4,\n  16002,\n  1,\n  41038,\n  1,\n  527,\n  1,\n  27119,\n  1,\n  2712,\n  1,\n  1,\n  1,\n  29738,\n  12643,\n  7316,\n  4,\n  20515,\n  1,\n  78423,\n  11073,\n  10701,\n  1,\n  1,\n  1,\n  7062,\n  1,\n  1,\n  1],\n [155,\n  3854,\n  1,\n  5416,\n  5996,\n  5,\n  16939,\n  7096,\n  1,\n  87947,\n  527,\n  158,\n  742,\n  3283,\n  7062,\n  1,\n  1,\n  1,\n  7062,\n  1,\n  1,\n  1],\n [1, 18508, 1, 87947, 527, 9675],\n [1,\n  31631,\n  1,\n  1,\n  575,\n  1,\n  1,\n  14367,\n  1,\n  346,\n  1,\n  1,\n  103,\n  1611,\n  1,\n  8,\n  19,\n  87947,\n  527,\n  1,\n  62,\n  14,\n  36,\n  1589,\n  7062,\n  1,\n  1,\n  1],\n [20,\n  1,\n  1,\n  1,\n  1,\n  1,\n  83215,\n  185,\n  120,\n  9,\n  1747,\n  16478,\n  42,\n  512,\n  5,\n  3783,\n  1,\n  1,\n  7062,\n  1,\n  1,\n  1],\n [1,\n  1,\n  36,\n  1,\n  25,\n  1693,\n  26,\n  6,\n  27,\n  228,\n  2,\n  1962,\n  1,\n  87947,\n  527,\n  4,\n  127,\n  320,\n  1,\n  1,\n  1023,\n  308,\n  7,\n  2830,\n  1170,\n  195,\n  5,\n  8555,\n  1,\n  9,\n  23,\n  1545,\n  69,\n  1,\n  11093,\n  1,\n  4246,\n  224,\n  7,\n  1,\n  3408,\n  2,\n  9196,\n  1,\n  1366,\n  479,\n  87947,\n  527],\n [1,\n  11093,\n  59,\n  1,\n  11978,\n  87947,\n  527,\n  1,\n  136,\n  1,\n  946,\n  8,\n  106,\n  30,\n  7062,\n  1,\n  1,\n  1,\n  7062,\n  1,\n  1,\n  1],\n [1,\n  1,\n  89,\n  252,\n  7202,\n  7,\n  295,\n  1,\n  8723,\n  87947,\n  527,\n  5,\n  1128,\n  1,\n  1256,\n  36,\n  291,\n  1,\n  2483,\n  2309,\n  4,\n  265,\n  1,\n  1,\n  1,\n  26,\n  14393,\n  295,\n  59,\n  1],\n [1, 1, 658, 1, 18, 929, 4082, 13, 1, 87947, 527, 308],\n [1,\n  1,\n  1,\n  1,\n  33,\n  2,\n  671,\n  9,\n  6,\n  335,\n  32,\n  87947,\n  527,\n  42,\n  1,\n  14,\n  1,\n  2094,\n  73726,\n  1,\n  38208,\n  7062,\n  1,\n  1,\n  1],\n [1, 1421, 742, 1, 3871, 505, 1, 2, 1, 527, 1],\n [102,\n  8,\n  11181,\n  908,\n  25,\n  316,\n  6578,\n  5,\n  1,\n  87947,\n  527,\n  7091,\n  1,\n  1,\n  1,\n  1,\n  7062,\n  1,\n  1,\n  1],\n [1,\n  155,\n  25,\n  27081,\n  7096,\n  1,\n  11362,\n  655,\n  456,\n  10320,\n  4994,\n  1079,\n  1,\n  158,\n  742,\n  3283,\n  16,\n  72,\n  15680,\n  1,\n  821,\n  65,\n  3062,\n  1787,\n  333,\n  1105,\n  1457,\n  946,\n  2,\n  224,\n  789,\n  1,\n  2809,\n  212,\n  2489,\n  1,\n  7062,\n  1,\n  1,\n  1,\n  7062,\n  1,\n  1,\n  1],\n [17613, 224, 6, 2, 234, 87947, 527, 7062, 1, 1, 1],\n [1,\n  19,\n  1164,\n  1,\n  1,\n  48,\n  225,\n  87947,\n  527,\n  15,\n  1,\n  10172,\n  7,\n  745,\n  1441,\n  308,\n  1,\n  1430],\n [36, 2350, 1, 87947, 527, 4, 1, 665, 6727, 1, 7062, 1, 1, 1],\n [10,\n  23,\n  199,\n  7,\n  1,\n  11093,\n  1860,\n  2,\n  317,\n  1,\n  2,\n  224,\n  1,\n  209,\n  87947,\n  527,\n  1,\n  234,\n  260,\n  1,\n  1,\n  1,\n  1,\n  11093,\n  1,\n  4019,\n  1527,\n  1,\n  8555,\n  469,\n  21,\n  177,\n  876,\n  326,\n  4,\n  1,\n  209,\n  1593,\n  1,\n  1705,\n  18,\n  1,\n  21,\n  129,\n  17426,\n  26,\n  2858,\n  2,\n  23515,\n  230],\n [2,\n  1,\n  11093,\n  87947,\n  527,\n  1,\n  95,\n  5481,\n  1,\n  55,\n  3312,\n  30912,\n  33,\n  1,\n  1,\n  14,\n  1,\n  4994,\n  224],\n [1, 87947, 527, 30, 16, 1, 1210],\n [1, 1, 1, 1, 8, 47, 1, 1, 1, 2, 87947, 527, 162],\n [1, 11093, 11978, 87947, 527, 52, 1, 1, 1, 1, 1, 1],\n [87947, 527, 1256, 111, 1, 141, 4398, 224, 118, 26],\n [1, 1, 2, 1, 11093, 87947, 527, 20733, 1, 7062, 1, 1, 1],\n [1,\n  1,\n  39276,\n  15680,\n  1,\n  821,\n  1,\n  742,\n  3283,\n  65,\n  1457,\n  1787,\n  946,\n  4994,\n  224,\n  1,\n  7062,\n  1,\n  1,\n  1],\n [1, 6132, 1, 10086, 1, 2, 87947, 527, 286, 7062, 1, 1, 1],\n [871, 1, 1, 11093, 42, 172, 87947, 1, 1, 527],\n [2, 1, 11093, 87947, 527, 308, 19, 19123, 27326, 1],\n [8,\n  665,\n  59,\n  10,\n  446,\n  1,\n  1,\n  19,\n  87947,\n  527,\n  1,\n  44,\n  1583,\n  1,\n  3691,\n  113,\n  1,\n  13637,\n  1983,\n  1,\n  742,\n  3283,\n  7062,\n  1,\n  1,\n  1],\n [1, 87947, 527, 5, 1],\n [1,\n  1994,\n  42,\n  1,\n  84,\n  1,\n  1,\n  67,\n  41,\n  1,\n  667,\n  87947,\n  527,\n  1,\n  1,\n  3595,\n  3513,\n  1,\n  360,\n  21,\n  1,\n  1,\n  1332,\n  1,\n  1,\n  7062,\n  1,\n  1,\n  1],\n [1, 986, 1, 1, 87947, 1515, 7, 527, 7062, 1, 1, 1],\n [1,\n  20322,\n  87947,\n  527,\n  1463,\n  3760,\n  1,\n  1,\n  1307,\n  363,\n  1,\n  28075,\n  3283,\n  7,\n  6785,\n  1,\n  72,\n  2912,\n  13,\n  18147,\n  4,\n  1,\n  20,\n  1,\n  17700,\n  1,\n  1,\n  1,\n  36,\n  78,\n  17,\n  9,\n  204,\n  2,\n  126,\n  302,\n  106,\n  30,\n  1792,\n  1,\n  81,\n  60,\n  1,\n  3013,\n  1483,\n  5,\n  2,\n  148,\n  1228,\n  7062,\n  1,\n  1,\n  1],\n [1,\n  742,\n  10320,\n  2868,\n  1,\n  1833,\n  821,\n  15262,\n  5,\n  16939,\n  4,\n  946,\n  1260,\n  4994,\n  1079,\n  87947,\n  527,\n  7062,\n  1,\n  1,\n  1],\n [1,\n  2,\n  343,\n  7,\n  38,\n  1,\n  112,\n  96,\n  1,\n  1210,\n  1,\n  14,\n  97,\n  427,\n  5364,\n  1,\n  87947,\n  527,\n  15,\n  8,\n  19,\n  1,\n  1,\n  4,\n  1,\n  13975,\n  152,\n  8,\n  13,\n  6001,\n  23,\n  1,\n  3559,\n  187,\n  1,\n  1,\n  11093,\n  1],\n [1,\n  36,\n  1,\n  1185,\n  1,\n  87947,\n  527,\n  1,\n  1220,\n  7288,\n  1430,\n  1,\n  1,\n  1,\n  3340,\n  1220,\n  308],\n [1, 27, 1, 615, 739, 1, 479, 2, 6797, 87947, 527, 308],\n [4172, 87947, 527, 7062, 1, 1, 1],\n [87947, 527, 44253, 1, 1, 7062, 1, 1, 1],\n [1, 36, 2350, 2668, 1, 1, 1, 87947, 527, 1, 7062, 1, 1, 1, 1, 7062, 1, 1, 1],\n [1,\n  779,\n  1,\n  1,\n  9563,\n  6,\n  1051,\n  1,\n  1,\n  31,\n  779,\n  52,\n  45,\n  15,\n  10,\n  249,\n  316,\n  5,\n  152,\n  1,\n  87947,\n  527,\n  1036,\n  308],\n [1, 208, 779, 45, 20, 87947, 527, 4, 4268, 32, 1195, 1, 1, 7062, 1, 1, 1],\n [1,\n  2377,\n  36,\n  408,\n  1,\n  1,\n  1,\n  1,\n  87947,\n  527,\n  11,\n  14,\n  1139,\n  1,\n  10,\n  1,\n  1,\n  67,\n  1,\n  1,\n  50,\n  2601,\n  1,\n  202,\n  5,\n  111,\n  558,\n  1,\n  1,\n  1280,\n  7,\n  1,\n  401,\n  1,\n  704,\n  13,\n  1,\n  381,\n  5790,\n  3676],\n [17,\n  36,\n  254,\n  1,\n  155,\n  2,\n  821,\n  3069,\n  1,\n  742,\n  3283,\n  5,\n  1,\n  87947,\n  527,\n  15006,\n  1156,\n  1],\n [1,\n  11093,\n  166,\n  7792,\n  364,\n  101,\n  7,\n  5170,\n  977,\n  1,\n  3803,\n  1,\n  75,\n  42,\n  2,\n  134,\n  4630,\n  156,\n  475,\n  1,\n  87947,\n  527,\n  1,\n  303,\n  1530,\n  2,\n  19011,\n  62,\n  1,\n  1,\n  995,\n  1,\n  1,\n  4598,\n  4,\n  1,\n  59,\n  98,\n  1,\n  62,\n  1,\n  1,\n  6315,\n  1,\n  438],\n [1, 42, 6, 452, 228, 2, 12567, 1, 87947, 527],\n [1,\n  10015,\n  1,\n  1,\n  1821,\n  87947,\n  527,\n  20042,\n  1,\n  35601,\n  225,\n  18,\n  1,\n  1,\n  1,\n  28,\n  2770,\n  7676,\n  3805,\n  44402,\n  804,\n  947,\n  3998,\n  1,\n  151,\n  1,\n  18,\n  1,\n  7062,\n  1,\n  1,\n  1,\n  1,\n  7062,\n  1,\n  1,\n  1],\n [8,\n  1999,\n  1,\n  2094,\n  1488,\n  2108,\n  1488,\n  1,\n  109779,\n  16,\n  72,\n  124,\n  6540,\n  42,\n  1,\n  1256,\n  2777,\n  52,\n  409,\n  429,\n  1,\n  3082,\n  1,\n  4641,\n  42094,\n  4,\n  2730,\n  41,\n  1,\n  253,\n  1,\n  13480,\n  109779,\n  401,\n  1633,\n  87947,\n  527],\n [155,\n  2,\n  1,\n  11093,\n  87947,\n  527,\n  308,\n  19,\n  248,\n  1,\n  1,\n  67,\n  1,\n  996,\n  1,\n  232,\n  1,\n  431,\n  45,\n  18,\n  4374,\n  1,\n  443,\n  1,\n  1,\n  27,\n  208,\n  243,\n  1,\n  352,\n  104,\n  1,\n  58,\n  923,\n  542],\n [1, 11093, 87947, 527, 1, 1, 200, 26, 791],\n [1, 46591, 87947, 527, 1, 234, 260, 1, 7062, 1, 1, 1],\n [1, 11093, 87947, 527, 308, 1, 303, 522, 1, 1441, 1],\n [1,\n  892,\n  1,\n  2292,\n  28,\n  87947,\n  527,\n  308,\n  2,\n  1977,\n  47,\n  38,\n  159,\n  2566,\n  15,\n  1,\n  229,\n  14,\n  6,\n  1,\n  110,\n  5,\n  2,\n  1,\n  2210,\n  20,\n  2,\n  130,\n  527,\n  1],\n [1, 11093, 850, 6727, 13, 8, 87947, 527, 5504, 1, 1, 1, 7062, 1, 1, 1],\n [1, 80, 479, 2, 6797, 1, 1, 87947, 527],\n [1,\n  1,\n  1,\n  267,\n  1,\n  6,\n  1,\n  2350,\n  87947,\n  527,\n  201,\n  986,\n  1,\n  6,\n  1,\n  2350,\n  87947,\n  527],\n [87947, 527, 11978, 59, 10, 1],\n [1110,\n  1,\n  4728,\n  1,\n  946,\n  1,\n  87947,\n  527,\n  308,\n  163,\n  30,\n  13,\n  40,\n  1179,\n  1,\n  1498,\n  7062,\n  1,\n  1,\n  1],\n [39183, 1, 20, 1, 11093, 87947, 527, 7062, 1, 1, 1],\n [786,\n  1,\n  282,\n  114,\n  30,\n  1,\n  14,\n  18,\n  8,\n  47,\n  1,\n  225,\n  87947,\n  527,\n  2426,\n  1,\n  1,\n  1,\n  3042,\n  1,\n  1,\n  667,\n  26576,\n  1,\n  1,\n  778,\n  1,\n  157,\n  1,\n  1,\n  529,\n  8169,\n  1,\n  778,\n  1,\n  786,\n  1,\n  59,\n  881,\n  1,\n  157,\n  1164],\n [3781,\n  5,\n  87947,\n  527,\n  10,\n  7481,\n  36,\n  2,\n  1431,\n  7,\n  27034,\n  340,\n  25,\n  1367,\n  2,\n  1529,\n  527,\n  7062,\n  1,\n  1,\n  1],\n [87947,\n  3526,\n  1,\n  1,\n  1,\n  783,\n  1,\n  8,\n  372,\n  4,\n  2161,\n  1,\n  19,\n  13,\n  8,\n  12350,\n  20,\n  2,\n  2280,\n  1,\n  240,\n  7,\n  87947,\n  527,\n  11,\n  848,\n  1,\n  38,\n  235,\n  375,\n  1,\n  364,\n  87947,\n  527,\n  101,\n  1,\n  38,\n  234,\n  375,\n  699,\n  736,\n  4,\n  972,\n  1,\n  1,\n  2,\n  2278,\n  95,\n  508,\n  1,\n  42895,\n  3526],\n [1, 1, 193, 240, 17, 1320, 6, 52, 1, 2, 1, 87947, 527, 308, 7062, 1, 1, 1],\n [1, 132, 1, 320, 2, 87947, 527, 10632, 1, 1, 1332, 7062, 1, 1, 1],\n [742,\n  3283,\n  16,\n  15680,\n  1,\n  821,\n  1,\n  155,\n  25,\n  27081,\n  4,\n  1117,\n  7096,\n  1,\n  2,\n  4994,\n  1079,\n  1,\n  527,\n  1228,\n  1,\n  9,\n  5184,\n  5872,\n  34988,\n  4,\n  1,\n  1,\n  50,\n  3933,\n  40,\n  1,\n  566,\n  282,\n  2,\n  19802,\n  1,\n  1,\n  9,\n  95,\n  2579,\n  2860,\n  1],\n [1,\n  1,\n  861,\n  1,\n  2353,\n  3139,\n  1,\n  4317,\n  7968,\n  5987,\n  1,\n  18122,\n  972,\n  235,\n  42,\n  105,\n  215,\n  888,\n  28499,\n  4,\n  2319,\n  435,\n  2519,\n  970,\n  2,\n  1250,\n  485,\n  1,\n  1833,\n  1269,\n  17548,\n  3139,\n  13,\n  239,\n  1121,\n  4,\n  304,\n  7062,\n  1,\n  1,\n  1],\n [1, 19655, 87947, 527, 308, 1, 1938, 1],\n [87947, 527, 3691, 18801, 166, 108, 1, 94744, 1, 1, 1, 1, 7062, 1, 1, 1],\n [1, 1, 1315, 1, 6, 1, 48, 15925, 87947, 527, 1, 234, 260],\n [178,\n  1,\n  10234,\n  46591,\n  2,\n  417,\n  87947,\n  527,\n  1,\n  234,\n  260,\n  1,\n  52,\n  120,\n  36,\n  209,\n  1,\n  3780,\n  30141,\n  7,\n  27,\n  6133,\n  5232,\n  12290,\n  7062,\n  1,\n  1,\n  1],\n [4613,\n  45706,\n  21115,\n  6,\n  1,\n  2464,\n  1,\n  1,\n  6001,\n  1821,\n  87947,\n  527,\n  1,\n  234,\n  260,\n  7062,\n  1,\n  1,\n  1],\n [1, 87947, 527, 308, 19, 850, 1164, 464],\n [156, 1, 1006, 1, 87947, 527, 1, 4952, 145, 504, 1, 58, 7062, 1, 1, 1],\n [20, 8, 154, 5910, 1, 11, 1, 40, 26, 1, 9375, 1, 87947, 527],\n [31292,\n  1,\n  14,\n  15680,\n  1,\n  155,\n  1,\n  821,\n  36,\n  5,\n  16939,\n  1,\n  7096,\n  1,\n  87947,\n  1,\n  1,\n  3624,\n  5,\n  41,\n  885,\n  1,\n  14,\n  1,\n  120,\n  1],\n [87947, 527, 15, 6, 151, 2, 106, 1, 1, 1, 3874, 26045],\n [2868,\n  1,\n  742,\n  3283,\n  15680,\n  1,\n  4446,\n  1,\n  5416,\n  5996,\n  5,\n  16939,\n  7096,\n  1,\n  1,\n  95251,\n  158,\n  2,\n  49,\n  7062,\n  1,\n  1,\n  1],\n [742,\n  10320,\n  15680,\n  1,\n  821,\n  65,\n  1457,\n  1787,\n  946,\n  87947,\n  527,\n  1,\n  135,\n  7062,\n  1,\n  1,\n  1],\n [87947, 527, 20, 1, 11093, 1, 146, 308, 250, 532, 1, 1441],\n [568,\n  1,\n  7564,\n  1,\n  2,\n  3559,\n  39089,\n  4668,\n  109,\n  77,\n  366,\n  46591,\n  87947,\n  527,\n  1,\n  234,\n  260,\n  5,\n  1,\n  1176],\n [8,\n  1,\n  104,\n  1,\n  3718,\n  672,\n  1,\n  23,\n  4,\n  2,\n  343,\n  3196,\n  946,\n  2,\n  1,\n  11093,\n  87947,\n  527,\n  308,\n  7062,\n  1,\n  1,\n  1],\n [1,\n  87947,\n  527,\n  5578,\n  1,\n  209,\n  8,\n  1079,\n  1,\n  224,\n  36,\n  41,\n  268,\n  4051,\n  1,\n  456,\n  3283,\n  159,\n  1,\n  742,\n  3283,\n  3513,\n  552,\n  8,\n  52,\n  27034,\n  366],\n [1,\n  378,\n  1,\n  499,\n  1,\n  1690,\n  1,\n  223,\n  2962,\n  26621,\n  1,\n  1,\n  1,\n  733,\n  19259,\n  1,\n  2278,\n  18305,\n  2,\n  2230,\n  1,\n  6,\n  25,\n  344,\n  20,\n  2,\n  3438,\n  1,\n  87947,\n  527,\n  3840,\n  9122,\n  1,\n  6],\n [1690,\n  98,\n  24,\n  1,\n  80,\n  32,\n  1,\n  11093,\n  15,\n  21,\n  87947,\n  527,\n  308,\n  19,\n  1384,\n  34,\n  1,\n  2,\n  146,\n  1441,\n  1445,\n  1,\n  2350,\n  8,\n  206,\n  958],\n [1, 28, 1, 2, 87947, 527],\n [58, 1299, 87947, 527, 48972, 44953, 1, 1, 7062, 1, 1, 1],\n [1, 3177, 65, 946, 1, 19655, 87947, 527, 465, 1, 7062, 1, 1, 1],\n [1933, 133, 6, 78, 1, 3637, 1, 552, 1, 1, 863, 1, 20, 1, 1, 87947, 527],\n [65,\n  946,\n  7,\n  1,\n  11093,\n  87947,\n  527,\n  308,\n  16248,\n  1,\n  1,\n  19536,\n  25,\n  124,\n  87947,\n  527,\n  1445,\n  140,\n  1,\n  112,\n  1,\n  2876,\n  28,\n  1445],\n [1,\n  72,\n  18905,\n  192,\n  1,\n  2350,\n  1,\n  11093,\n  4,\n  1,\n  1752,\n  1,\n  26,\n  45,\n  7,\n  103,\n  15,\n  1,\n  1,\n  529,\n  3017,\n  1,\n  225,\n  21,\n  87947,\n  527,\n  308,\n  961,\n  1,\n  27,\n  267,\n  36,\n  20,\n  36993,\n  1985,\n  7,\n  44,\n  19,\n  1,\n  200,\n  1,\n  5364,\n  320,\n  158,\n  7,\n  1,\n  871,\n  1,\n  1,\n  1853],\n [1,\n  2,\n  87947,\n  527,\n  1,\n  10,\n  31,\n  1,\n  11062,\n  527,\n  15,\n  55,\n  1,\n  5230,\n  610,\n  4,\n  1,\n  7062,\n  1,\n  1,\n  1],\n [234,\n  260,\n  87947,\n  527,\n  13,\n  1,\n  19,\n  3559,\n  1431,\n  1,\n  5098,\n  1,\n  1664,\n  5,\n  2,\n  308,\n  248,\n  19,\n  2435,\n  1,\n  79975,\n  1,\n  2290,\n  62,\n  1,\n  5604,\n  42,\n  1,\n  225,\n  1,\n  961,\n  699],\n [724,\n  6001,\n  1821,\n  1,\n  1,\n  87947,\n  527,\n  3139,\n  1,\n  729,\n  4,\n  95,\n  1135,\n  1,\n  1247,\n  6,\n  27,\n  1702,\n  1,\n  200,\n  40,\n  20,\n  1638,\n  28,\n  177,\n  514,\n  7182,\n  1,\n  28,\n  2111,\n  5260,\n  41915,\n  1484,\n  4,\n  40],\n [1, 1, 62, 1633, 87947, 527, 1, 1, 94744, 1, 7062, 1, 1, 1],\n [10544,\n  1,\n  2,\n  18801,\n  1,\n  87947,\n  527,\n  7,\n  577,\n  6954,\n  65,\n  913,\n  8,\n  1,\n  1,\n  7062,\n  1,\n  1,\n  1],\n [1, 87947, 527, 1, 1, 3581, 1],\n [1,\n  35,\n  804,\n  9954,\n  6,\n  1,\n  11093,\n  20,\n  2,\n  1,\n  87947,\n  527,\n  11073,\n  693,\n  4,\n  223,\n  1,\n  1],\n [7974, 32, 391, 26, 87947, 527, 13748, 225, 1, 1, 1, 1, 1, 332],\n [1, 1, 87947, 527, 1, 7062, 1, 1, 1],\n [87947,\n  3526,\n  1,\n  2,\n  87947,\n  527,\n  804,\n  1,\n  11268,\n  1,\n  726,\n  24070,\n  804,\n  577,\n  255,\n  56,\n  11,\n  665,\n  8773,\n  2,\n  10305,\n  126,\n  1,\n  7062,\n  1,\n  1,\n  1],\n [1,\n  1853,\n  1,\n  640,\n  13,\n  1,\n  2590,\n  30,\n  47,\n  1,\n  1,\n  5083,\n  133,\n  4728,\n  55,\n  1,\n  7989,\n  2,\n  1,\n  11093,\n  87947,\n  527,\n  20733],\n [1,\n  1,\n  87947,\n  527,\n  19,\n  3937,\n  198,\n  9125,\n  1,\n  1,\n  3778,\n  13,\n  1,\n  4091,\n  1028,\n  466,\n  2,\n  4091,\n  1,\n  1,\n  1,\n  1,\n  1,\n  1,\n  1,\n  1],\n [742, 3283, 11162, 155, 1, 821, 5, 16939, 7096, 1, 87947, 527, 7062, 1, 1, 1],\n [1, 234, 260, 87947, 527, 2080, 1306, 1593, 7062, 1, 1, 1],\n [5148, 1, 59, 7, 13, 2, 87947, 527, 308],\n [33, 1, 726, 19, 44, 1, 103, 3338, 5, 87947, 527, 1, 745, 2221],\n [1,\n  1,\n  10,\n  2817,\n  742,\n  3283,\n  1,\n  51,\n  7409,\n  15,\n  62,\n  87947,\n  527,\n  62,\n  1,\n  1,\n  148,\n  545,\n  66,\n  4051,\n  1,\n  36,\n  399,\n  69,\n  8,\n  1,\n  692,\n  88,\n  585],\n [1,\n  1008,\n  1,\n  2,\n  1,\n  527,\n  56,\n  11,\n  1715,\n  1,\n  861,\n  10305,\n  527,\n  2484,\n  1,\n  2,\n  4994,\n  1079,\n  87947,\n  527,\n  1,\n  584,\n  1,\n  2,\n  1,\n  4,\n  1,\n  7144,\n  1,\n  56,\n  6,\n  27,\n  64745,\n  762,\n  1,\n  1,\n  865,\n  409,\n  1486,\n  13,\n  2,\n  1875,\n  4,\n  151,\n  11312,\n  1],\n [491,\n  697,\n  1689,\n  179,\n  87947,\n  527,\n  1,\n  7241,\n  22588,\n  1,\n  5,\n  1,\n  559,\n  1,\n  151,\n  1,\n  1,\n  1,\n  1,\n  499,\n  1,\n  1,\n  120,\n  3100,\n  11,\n  1,\n  2944,\n  1,\n  1,\n  1185,\n  11073,\n  1,\n  1,\n  1,\n  24294,\n  1,\n  1,\n  1,\n  1,\n  7062,\n  1,\n  1,\n  1],\n [78367, 1, 62, 14, 440, 87947, 527, 7062, 1, 1, 1],\n [1,\n  1,\n  455,\n  6,\n  276,\n  4488,\n  1,\n  300,\n  32,\n  4051,\n  339,\n  1,\n  87947,\n  527,\n  4,\n  332,\n  223,\n  1,\n  300,\n  32,\n  41,\n  2483,\n  1,\n  1],\n [1,\n  850,\n  14829,\n  1,\n  2464,\n  2,\n  87947,\n  527,\n  1,\n  308,\n  55,\n  32677,\n  4,\n  11109,\n  1,\n  2239,\n  1,\n  61,\n  2944,\n  1,\n  151,\n  2,\n  12645,\n  1,\n  1821,\n  1,\n  1,\n  1,\n  566,\n  5,\n  1,\n  165,\n  1357,\n  9675,\n  1,\n  7062,\n  1,\n  1,\n  1],\n [33,\n  1,\n  1,\n  1,\n  2,\n  23645,\n  5804,\n  1,\n  2,\n  2103,\n  4,\n  108,\n  1133,\n  1,\n  1,\n  19655,\n  87947,\n  527,\n  1,\n  36,\n  2398,\n  7062,\n  1,\n  1,\n  1],\n [36798, 1, 87947, 527, 1, 1, 11093, 1],\n [6001, 1821, 87947, 527, 1, 234, 260, 7062, 1, 1, 1, 144, 1441],\n [1, 440, 1, 1, 87947, 527, 6, 36, 1, 81, 1],\n [1, 11093, 87947, 527, 308, 19, 1, 2, 375, 19, 159, 2435, 1, 1],\n [1, 1, 4395, 1, 65, 87947, 527, 1, 210, 293, 18, 2, 58, 1002, 44, 1],\n [1,\n  2810,\n  7,\n  1,\n  19,\n  26,\n  1,\n  5136,\n  1,\n  1,\n  4,\n  87947,\n  527,\n  15,\n  52,\n  1,\n  2,\n  820,\n  155,\n  2,\n  5754,\n  1229,\n  19,\n  36,\n  2,\n  2037,\n  1,\n  250,\n  293,\n  1],\n [112,\n  145,\n  1,\n  3162,\n  1,\n  195,\n  1,\n  24,\n  1,\n  26,\n  1,\n  88,\n  1,\n  334,\n  1877,\n  1,\n  87947,\n  527,\n  1,\n  1,\n  3577,\n  1,\n  4,\n  1,\n  87947,\n  527,\n  1,\n  1338,\n  1,\n  742,\n  3283,\n  1],\n [1, 3188, 26, 87947, 527, 63, 678, 1, 4172, 7062, 1, 1, 1],\n [1164, 7062, 1, 1, 1],\n [892,\n  1718,\n  145,\n  1,\n  300,\n  32,\n  10700,\n  1,\n  6386,\n  30,\n  105,\n  1,\n  6,\n  401,\n  14,\n  2350,\n  87947,\n  527,\n  4,\n  411,\n  1,\n  762,\n  8,\n  366,\n  362,\n  797,\n  137,\n  24,\n  316,\n  166,\n  1,\n  225,\n  13,\n  45,\n  112,\n  1,\n  72,\n  1,\n  77,\n  95,\n  58,\n  1864,\n  1,\n  33,\n  1,\n  1,\n  88,\n  1,\n  886,\n  24556,\n  1,\n  272,\n  1,\n  7062,\n  1,\n  1,\n  1],\n [4,\n  63,\n  2511,\n  8,\n  19025,\n  109,\n  1642,\n  2550,\n  3973,\n  5,\n  111,\n  481,\n  268,\n  8917,\n  19,\n  2,\n  234,\n  87947,\n  527,\n  109,\n  249,\n  1860,\n  2,\n  317,\n  1,\n  1,\n  7259,\n  1,\n  1,\n  10,\n  184,\n  1,\n  1],\n [6001,\n  1821,\n  87947,\n  527,\n  1,\n  234,\n  260,\n  7062,\n  1,\n  1,\n  1,\n  144,\n  1441,\n  30,\n  8,\n  1,\n  1593,\n  1,\n  2692,\n  1,\n  5,\n  1,\n  1,\n  1,\n  11093,\n  1],\n [1, 7, 87947, 527, 11978, 1, 1, 11093, 19, 7321],\n [2,\n  39276,\n  25,\n  613,\n  2,\n  7096,\n  1,\n  1,\n  87947,\n  527,\n  1,\n  1,\n  521,\n  1,\n  1,\n  574,\n  1,\n  5416,\n  5996,\n  789,\n  1,\n  2809,\n  212,\n  2489,\n  178,\n  2,\n  2868,\n  25,\n  1862,\n  2,\n  2486,\n  19,\n  15680,\n  1,\n  260,\n  1,\n  4695,\n  7062,\n  1,\n  1,\n  1],\n [1,\n  1,\n  59,\n  6,\n  81,\n  41,\n  77,\n  1,\n  10320,\n  1431,\n  19,\n  15680,\n  1,\n  260,\n  1,\n  4695,\n  4,\n  1,\n  821,\n  5,\n  16939,\n  7,\n  224,\n  1,\n  1,\n  1,\n  9315,\n  2474,\n  4,\n  23,\n  98,\n  2,\n  1,\n  1,\n  1,\n  3784,\n  1,\n  7062,\n  1,\n  1,\n  1],\n [29366, 4449, 84, 1875, 1, 224, 1, 1, 87947, 527, 7062, 1, 1, 1],\n [23,\n  524,\n  26,\n  295,\n  10,\n  266,\n  2,\n  541,\n  1,\n  204,\n  1,\n  968,\n  10,\n  7081,\n  1,\n  2,\n  442,\n  1,\n  2,\n  126,\n  25,\n  1717,\n  1,\n  10,\n  4550,\n  5,\n  3297,\n  52,\n  2,\n  2560,\n  1,\n  87947,\n  527,\n  12904],\n [1,\n  1,\n  10,\n  69,\n  1,\n  16939,\n  87947,\n  527,\n  1,\n  456,\n  10320,\n  746,\n  1,\n  1,\n  87947,\n  527,\n  1,\n  1,\n  1,\n  9,\n  1871,\n  4,\n  1338,\n  1,\n  742,\n  3283],\n [24, 1, 1, 19, 1, 87947, 527, 1, 1, 1, 1, 1, 7062, 1, 1, 1],\n [1,\n  1,\n  39276,\n  521,\n  1,\n  1352,\n  1,\n  5416,\n  5996,\n  1,\n  742,\n  3283,\n  586,\n  7062,\n  1,\n  1,\n  1,\n  7062,\n  1,\n  1,\n  1],\n [1, 87947, 527, 19967],\n [6001, 1821, 87947, 527, 1, 234, 260, 7062, 1, 1, 1, 144, 1441, 1],\n [1,\n  2377,\n  2350,\n  1,\n  2668,\n  4,\n  1,\n  952,\n  1,\n  87947,\n  527,\n  4,\n  172,\n  930,\n  1,\n  1,\n  1,\n  1,\n  4,\n  7,\n  1,\n  4,\n  1,\n  1911,\n  1],\n [338,\n  1,\n  1,\n  1,\n  10544,\n  5,\n  1,\n  1,\n  87947,\n  527,\n  1,\n  1,\n  30,\n  1,\n  1,\n  552,\n  1,\n  52,\n  7062,\n  1,\n  1,\n  1,\n  1],\n [1,\n  1,\n  1,\n  4306,\n  4,\n  1,\n  10517,\n  1,\n  24,\n  1,\n  11093,\n  16,\n  96,\n  1,\n  8,\n  308,\n  41,\n  59,\n  1,\n  88,\n  18,\n  1,\n  157,\n  3101,\n  1,\n  18,\n  504,\n  1,\n  58,\n  4,\n  1,\n  362,\n  1,\n  14,\n  320,\n  1,\n  103,\n  47,\n  4,\n  90,\n  158,\n  8,\n  308,\n  1,\n  6,\n  50,\n  1,\n  225,\n  1,\n  910,\n  1,\n  6,\n  3789,\n  87947,\n  527,\n  7062,\n  1,\n  1,\n  1],\n [2, 1, 11093, 87947, 527, 1, 5626],\n [742, 3283, 7425, 27034, 155, 5, 16939, 7096, 1, 1, 1, 7062, 1, 1, 1, 144, 1],\n [1, 1, 504, 26, 6, 9, 10104, 5, 556, 1, 1, 87947, 527, 464, 7062, 1, 1, 1],\n [1,\n  1,\n  1,\n  1,\n  1,\n  1135,\n  1,\n  4728,\n  1,\n  2094,\n  72683,\n  1,\n  1,\n  527,\n  1,\n  1,\n  108629,\n  28270,\n  1,\n  62,\n  108,\n  14,\n  3382,\n  158,\n  1612,\n  496,\n  26,\n  87947,\n  527,\n  1,\n  22428,\n  86513,\n  1,\n  233,\n  1,\n  1,\n  106,\n  530,\n  208,\n  18,\n  157,\n  22865,\n  1,\n  3281,\n  1],\n [1,\n  155,\n  16,\n  72,\n  15680,\n  1,\n  821,\n  1,\n  742,\n  3283,\n  65,\n  111,\n  1787,\n  16939,\n  7096,\n  1,\n  1,\n  1,\n  158,\n  2,\n  49,\n  1,\n  2868,\n  25,\n  5267,\n  2,\n  27081,\n  2474,\n  1806,\n  1,\n  260,\n  3069,\n  144,\n  5748,\n  7062,\n  1,\n  1,\n  1],\n [2997, 1, 240, 1, 11093, 303, 574, 2, 23, 1, 21, 87947, 527],\n [1, 184, 1, 1106, 1, 2350, 87947, 527, 1, 4994],\n [811,\n  87947,\n  527,\n  1,\n  1,\n  1199,\n  1,\n  19326,\n  553,\n  25,\n  264,\n  1,\n  667,\n  13,\n  1,\n  7062,\n  1,\n  1,\n  1],\n [1, 1, 797, 227, 15358, 14556, 16, 21, 177, 87947, 527],\n [1, 87947, 527, 337, 1444, 32, 1, 491],\n [55,\n  1028,\n  569,\n  87947,\n  527,\n  62,\n  1,\n  2,\n  1687,\n  1,\n  1,\n  10320,\n  113,\n  2,\n  2,\n  742,\n  62,\n  14,\n  1,\n  323,\n  13,\n  1,\n  1,\n  1,\n  558],\n [87947, 527, 1, 1, 7062, 1, 1, 1],\n [1, 1, 1, 87947, 527, 1877, 1, 1, 310, 7062, 1, 1, 1],\n [20,\n  8569,\n  1,\n  10569,\n  1,\n  552,\n  52,\n  8,\n  234,\n  260,\n  87947,\n  527,\n  16025,\n  1,\n  7062,\n  1,\n  1,\n  1],\n [87947,\n  126,\n  134,\n  527,\n  1,\n  310,\n  619,\n  1,\n  298,\n  20,\n  30,\n  552,\n  1,\n  52,\n  1009,\n  1,\n  7062,\n  1,\n  1,\n  1],\n [10,\n  227,\n  1,\n  17493,\n  1,\n  308,\n  527,\n  2484,\n  87947,\n  527,\n  1640,\n  16,\n  1,\n  8214,\n  1,\n  1,\n  666,\n  28993,\n  658,\n  239,\n  7062,\n  1,\n  1,\n  1],\n [6919, 2238, 7285, 5349, 1, 7, 87947, 527, 10976, 166, 469],\n [1, 232, 1, 11093, 2039, 234, 2789, 1, 8, 87947, 527, 16006],\n [1, 1, 1, 1484, 4047, 2, 87947, 527, 2619, 19, 797, 1671],\n [234, 260, 87947, 527, 1, 4994, 224, 13, 1, 3915, 7062, 1, 1, 1],\n [1,\n  840,\n  649,\n  15,\n  1,\n  10,\n  87947,\n  527,\n  3713,\n  794,\n  783,\n  1,\n  1,\n  482,\n  6,\n  80,\n  28,\n  234,\n  189],\n [1, 1, 1, 11093, 24, 32, 6, 3349, 87947, 527, 1685, 1, 667],\n [1, 871, 2802, 1, 36, 3252, 63202, 39340, 19, 1, 343, 1, 87947, 527],\n [1, 17, 1, 48, 121, 1, 13, 487, 7, 88, 585, 87947, 527, 1, 141, 4398],\n [779,\n  1,\n  30,\n  1,\n  87947,\n  527,\n  308,\n  11,\n  1,\n  129,\n  77923,\n  95199,\n  1128,\n  1,\n  1,\n  1,\n  4,\n  7,\n  1,\n  1,\n  4396,\n  5818,\n  1,\n  1],\n [1,\n  227,\n  306,\n  23,\n  14,\n  4203,\n  52,\n  41,\n  39089,\n  4,\n  23413,\n  1,\n  87947,\n  1,\n  12567,\n  1,\n  1,\n  1,\n  14,\n  1,\n  695,\n  13975,\n  15925,\n  87947,\n  527,\n  1,\n  3774,\n  15,\n  913,\n  1,\n  5,\n  234,\n  1,\n  179,\n  162,\n  3647],\n [87947, 527, 7062, 1, 1, 1],\n [87947, 527, 1, 1, 933, 29772, 7062, 1, 1, 1],\n [7652, 1, 1, 87947, 527, 1, 234, 260, 7062, 1, 1, 1],\n [1, 11093, 303, 31922, 87947, 527, 1],\n [1,\n  6,\n  2350,\n  87947,\n  527,\n  4,\n  19,\n  15662,\n  1,\n  23,\n  3119,\n  1,\n  19,\n  3638,\n  1,\n  4994,\n  25,\n  16,\n  1,\n  200,\n  1,\n  90,\n  204,\n  204,\n  4051,\n  268],\n [1,\n  6,\n  1,\n  2350,\n  1,\n  308,\n  1,\n  87947,\n  527,\n  6,\n  110,\n  1,\n  611,\n  1,\n  703,\n  199,\n  6,\n  9,\n  20,\n  1,\n  1,\n  1,\n  7062,\n  1,\n  1,\n  1],\n [1,\n  15680,\n  155,\n  1,\n  821,\n  25,\n  27081,\n  1,\n  67827,\n  7096,\n  1,\n  814,\n  1,\n  158,\n  2,\n  49,\n  7062,\n  1,\n  1,\n  1],\n [1,\n  1,\n  46591,\n  87947,\n  527,\n  13,\n  6001,\n  2928,\n  23,\n  15,\n  1,\n  18908,\n  22163,\n  1228,\n  3521,\n  1,\n  7504,\n  1,\n  7062,\n  1,\n  1,\n  1],\n [1, 1, 87947, 527, 1, 63778, 1, 10976, 7062, 1, 1, 1],\n [117,\n  1441,\n  308,\n  109,\n  1,\n  667,\n  87947,\n  527,\n  1,\n  35601,\n  1,\n  1,\n  1352,\n  1,\n  1233,\n  1650,\n  16982,\n  29637,\n  1,\n  1,\n  232,\n  6,\n  1290,\n  7062,\n  1,\n  1,\n  1,\n  7062,\n  1,\n  1,\n  1],\n [1, 23, 1, 5, 1, 1, 87947, 527, 30, 5, 1, 1, 11093, 2596],\n [36, 2350, 87947, 527, 124, 1, 1, 1, 1, 1, 58, 1, 1423, 1, 1310, 1128],\n [777, 1, 87947, 527, 225, 86, 7062, 1, 1, 1],\n [1774, 87947, 527, 7062, 1, 1, 1],\n [234,\n  260,\n  2346,\n  5,\n  1139,\n  1,\n  23,\n  1,\n  87947,\n  527,\n  163,\n  1,\n  11189,\n  3979,\n  7062,\n  1,\n  1,\n  1,\n  7062,\n  1,\n  1,\n  1],\n [18204, 946, 1, 11093, 87947, 527, 19, 1, 7074, 1387, 1, 2, 3100],\n [2947, 5814, 87947, 527, 14586, 310, 508, 1, 7062, 1, 1, 1],\n [1,\n  6133,\n  19790,\n  60939,\n  1,\n  1,\n  1084,\n  10700,\n  20322,\n  30733,\n  4,\n  1,\n  26709,\n  89061,\n  14,\n  72,\n  1712,\n  1,\n  1007,\n  1,\n  2,\n  206,\n  185,\n  60939,\n  1,\n  1,\n  110025,\n  7062,\n  1,\n  1,\n  1],\n [36,\n  2350,\n  1,\n  87947,\n  527,\n  106,\n  30,\n  1,\n  4212,\n  6,\n  1290,\n  1441,\n  1,\n  1,\n  1798,\n  1,\n  102,\n  1,\n  1,\n  1263,\n  1,\n  69,\n  65,\n  2,\n  87947,\n  527,\n  308,\n  1,\n  1895,\n  1441,\n  11,\n  108,\n  1,\n  2,\n  79,\n  1],\n [1,\n  1,\n  1,\n  369,\n  26,\n  1,\n  57,\n  1,\n  16006,\n  2,\n  27514,\n  2091,\n  4,\n  8,\n  366,\n  1,\n  87947,\n  527,\n  133,\n  1,\n  48,\n  61,\n  307,\n  34,\n  2668,\n  47,\n  11730,\n  1],\n [276, 1, 110218, 225, 1, 19655, 17677, 87947, 527, 308, 1, 1441, 7321, 1],\n [120,\n  1,\n  2848,\n  249,\n  1,\n  129,\n  1,\n  1,\n  1,\n  19655,\n  87947,\n  527,\n  1210,\n  1,\n  707,\n  1,\n  120,\n  15,\n  1,\n  282,\n  1,\n  1,\n  2483,\n  1,\n  1,\n  1,\n  276,\n  1,\n  1,\n  1,\n  47387,\n  205,\n  840,\n  1,\n  797,\n  745,\n  4843,\n  464,\n  7062,\n  1,\n  1,\n  1],\n [100928,\n  1,\n  2,\n  79,\n  154,\n  1,\n  4202,\n  21,\n  263,\n  3833,\n  87947,\n  527,\n  308,\n  135,\n  34550,\n  341,\n  52,\n  32,\n  742,\n  3283,\n  32,\n  79,\n  1682,\n  8,\n  1,\n  2805,\n  468,\n  6574],\n [11855,\n  366,\n  408,\n  5,\n  77,\n  3727,\n  332,\n  1,\n  84,\n  1,\n  45,\n  1,\n  225,\n  87947,\n  527,\n  1,\n  4994,\n  1,\n  6181,\n  1,\n  5,\n  2470,\n  21,\n  1531],\n [1,\n  1,\n  15052,\n  1,\n  87947,\n  527,\n  79,\n  5835,\n  13,\n  87947,\n  527,\n  608,\n  87947,\n  15052,\n  257,\n  945,\n  2,\n  1085,\n  1126,\n  2019,\n  30,\n  1,\n  2,\n  2654,\n  1126,\n  1,\n  226,\n  1,\n  101417,\n  1,\n  87947,\n  527,\n  13,\n  15052,\n  1,\n  2,\n  234,\n  87947,\n  1,\n  1,\n  1,\n  1,\n  101,\n  2019],\n [3100,\n  1,\n  1,\n  87947,\n  527,\n  1,\n  346,\n  6,\n  1,\n  103,\n  5,\n  8,\n  1253,\n  1,\n  4,\n  1,\n  5,\n  209,\n  8,\n  438,\n  7062,\n  1,\n  1,\n  1],\n [1, 62, 151, 87947, 527, 7062, 1, 1, 1],\n [1,\n  763,\n  2,\n  1,\n  11093,\n  87947,\n  527,\n  1,\n  19,\n  2085,\n  7,\n  1583,\n  1,\n  1198,\n  1139,\n  2796,\n  72,\n  946,\n  118,\n  103,\n  1,\n  1,\n  78,\n  7,\n  1,\n  11093,\n  62,\n  660,\n  1,\n  2711,\n  1,\n  1594],\n [3932,\n  59,\n  1,\n  1,\n  1,\n  1,\n  1,\n  87947,\n  527,\n  1,\n  55047,\n  1,\n  3932,\n  1,\n  55047,\n  7062,\n  1,\n  1,\n  1],\n [1,\n  155,\n  16,\n  7425,\n  72,\n  15680,\n  1,\n  821,\n  1,\n  5416,\n  5996,\n  1,\n  742,\n  3283,\n  5,\n  16939,\n  7096,\n  1,\n  1,\n  17324,\n  1079,\n  1,\n  95251,\n  158,\n  2,\n  49,\n  1,\n  1,\n  2899,\n  1,\n  1,\n  1,\n  1,\n  1,\n  1,\n  1,\n  7062,\n  1,\n  1,\n  1,\n  7062,\n  1,\n  1,\n  1],\n [1, 1, 1, 1, 1, 11093, 1, 87947, 527],\n [1690, 15, 1, 20, 1, 1, 87947, 527],\n [6001, 1821, 87947, 527, 1, 234, 260, 7062, 1, 1, 1, 144, 1441],\n [1,\n  1,\n  1,\n  1,\n  15052,\n  1,\n  87947,\n  527,\n  79,\n  5835,\n  13,\n  87947,\n  527,\n  608,\n  87947,\n  15052,\n  257,\n  945,\n  2,\n  1085,\n  1126,\n  2019,\n  30,\n  1,\n  2,\n  2654,\n  1126,\n  1,\n  226,\n  1,\n  101417,\n  1,\n  87947,\n  527,\n  13,\n  15052,\n  1,\n  2,\n  234,\n  87947,\n  1,\n  1,\n  1,\n  1,\n  101,\n  2019],\n [1,\n  2984,\n  12350,\n  87947,\n  527,\n  1877,\n  1,\n  34456,\n  1299,\n  19011,\n  145,\n  1,\n  1,\n  811,\n  5,\n  1,\n  1310,\n  1,\n  6,\n  14,\n  1,\n  956,\n  1,\n  527,\n  1,\n  2094,\n  31725,\n  1,\n  6,\n  1367,\n  1,\n  1395,\n  2,\n  685,\n  42,\n  17,\n  367,\n  6,\n  129,\n  6,\n  11,\n  1,\n  4748,\n  1228],\n [6001, 1821, 87947, 527, 1, 234, 260, 7062, 1, 1, 1, 144, 1441],\n [1, 1, 87947, 527],\n [2483, 1, 10, 87947, 527, 1685, 1999, 1409, 7062, 1, 1, 1],\n [649, 276, 193, 300, 907, 811, 87947, 527, 907],\n [2,\n  334,\n  1,\n  46591,\n  87947,\n  527,\n  11978,\n  162,\n  16,\n  1,\n  569,\n  32,\n  7,\n  1,\n  22055,\n  1,\n  488,\n  7,\n  1,\n  788,\n  1467,\n  731,\n  15,\n  1583,\n  1,\n  2240,\n  10963,\n  1,\n  2560,\n  287,\n  1,\n  2,\n  781,\n  1,\n  1,\n  7,\n  36,\n  431,\n  8,\n  1260,\n  162,\n  40562,\n  1,\n  103,\n  40,\n  2373],\n [87947, 527, 7062, 1, 1, 1],\n [10320,\n  8927,\n  1,\n  1322,\n  30871,\n  104,\n  1,\n  1,\n  1,\n  1,\n  230,\n  56,\n  83,\n  1230,\n  1,\n  4994,\n  8,\n  206,\n  9,\n  8438,\n  2,\n  1125,\n  10972,\n  1,\n  4994,\n  4,\n  4889,\n  405,\n  1,\n  95123,\n  1,\n  1,\n  7062,\n  1,\n  1,\n  1,\n  7062,\n  1,\n  1,\n  1],\n [1,\n  11093,\n  46591,\n  87947,\n  527,\n  13,\n  234,\n  23,\n  4,\n  254,\n  290,\n  1,\n  1,\n  78,\n  8,\n  11,\n  1,\n  2,\n  142,\n  2350,\n  1436,\n  129,\n  33371,\n  10976,\n  7062,\n  1,\n  1,\n  1],\n [946,\n  87947,\n  527,\n  5,\n  2,\n  134,\n  47,\n  1,\n  1,\n  2,\n  1532,\n  2668,\n  33,\n  1,\n  8,\n  224,\n  243,\n  1,\n  1,\n  103,\n  24901,\n  20,\n  1,\n  820,\n  759,\n  1,\n  39509,\n  83533,\n  1],\n [1, 87947, 527, 19967, 2091],\n [1,\n  1,\n  4135,\n  1,\n  8,\n  608,\n  8,\n  1,\n  2,\n  866,\n  1,\n  2,\n  2987,\n  226,\n  1,\n  8,\n  608,\n  1,\n  7062,\n  1,\n  1,\n  1,\n  10,\n  1,\n  1459,\n  2040,\n  1,\n  133,\n  5456,\n  1,\n  8,\n  401,\n  1,\n  2,\n  167,\n  87947,\n  527,\n  3622,\n  276,\n  3987,\n  7062,\n  1,\n  1,\n  1],\n [1,\n  6404,\n  2,\n  1,\n  11093,\n  87947,\n  527,\n  1436,\n  31,\n  1,\n  392,\n  52,\n  1,\n  11093,\n  1,\n  72,\n  234,\n  8,\n  417,\n  47,\n  4,\n  2,\n  24597,\n  8134,\n  9,\n  266,\n  557,\n  1,\n  553,\n  1326,\n  1,\n  1,\n  4,\n  2,\n  621,\n  1,\n  2,\n  31025,\n  7062,\n  1,\n  1,\n  1],\n [2,\n  1,\n  87947,\n  527,\n  19,\n  3559,\n  2,\n  3101,\n  47588,\n  8346,\n  3805,\n  8322,\n  19,\n  3421,\n  1,\n  1,\n  4047,\n  8967],\n [87947,\n  527,\n  1,\n  2,\n  2144,\n  314,\n  6,\n  27,\n  1486,\n  7062,\n  1,\n  1,\n  1,\n  1,\n  1,\n  1,\n  1,\n  45606,\n  1,\n  1,\n  7062,\n  1,\n  1,\n  1],\n [1431, 2, 521, 4, 3607, 1, 1, 163, 87947, 527, 19, 12923, 1],\n [1,\n  15,\n  1,\n  2,\n  286,\n  1,\n  1,\n  11093,\n  1,\n  1,\n  740,\n  340,\n  1,\n  5109,\n  1,\n  1,\n  877,\n  283,\n  4,\n  1,\n  612,\n  60,\n  18,\n  1,\n  2417,\n  818,\n  1,\n  90,\n  1,\n  369,\n  797,\n  103,\n  18,\n  2,\n  268,\n  2393,\n  32,\n  87947,\n  527,\n  4,\n  156,\n  1928,\n  1,\n  60],\n [6001,\n  1821,\n  87947,\n  527,\n  1,\n  234,\n  260,\n  7062,\n  1,\n  1,\n  1,\n  144,\n  1441,\n  1441,\n  11,\n  108,\n  1,\n  2,\n  79,\n  85],\n [1, 87947, 527, 1210],\n [234,\n  260,\n  87947,\n  527,\n  1,\n  1,\n  4976,\n  2,\n  146,\n  13975,\n  1,\n  2,\n  3837,\n  552,\n  52,\n  2,\n  308,\n  7062,\n  1,\n  1,\n  1],\n [135,\n  1,\n  45606,\n  15052,\n  1,\n  87947,\n  527,\n  79,\n  5835,\n  13,\n  87947,\n  527,\n  608,\n  87947,\n  15052,\n  257,\n  945,\n  2,\n  1085,\n  1126,\n  2019,\n  30,\n  1,\n  2,\n  2654,\n  1126,\n  1,\n  226,\n  1,\n  101417,\n  1,\n  87947,\n  527,\n  13,\n  15052,\n  1,\n  2,\n  234,\n  87947,\n  1,\n  1,\n  1,\n  1,\n  101,\n  2019],\n [1, 346, 6, 1, 5, 2292, 2, 87947, 527, 385, 55, 1, 2810, 8, 308, 1],\n [1,\n  58,\n  1,\n  14,\n  8576,\n  13,\n  3046,\n  1,\n  7,\n  1,\n  407,\n  2,\n  106,\n  8797,\n  1,\n  77723,\n  34,\n  217,\n  1,\n  114,\n  52,\n  1886,\n  1,\n  1,\n  194,\n  5,\n  2,\n  106,\n  205,\n  4,\n  61,\n  7,\n  363,\n  201,\n  6802,\n  1672,\n  1,\n  724,\n  2,\n  87947,\n  527,\n  45421,\n  7062,\n  1,\n  1,\n  1],\n [6001,\n  1821,\n  87947,\n  527,\n  1,\n  234,\n  260,\n  7062,\n  1,\n  1,\n  1,\n  144,\n  1441,\n  8,\n  1,\n  19,\n  3559,\n  1,\n  11093,\n  1,\n  2024],\n [135,\n  1,\n  45606,\n  5137,\n  1,\n  15052,\n  1,\n  87947,\n  527,\n  79,\n  5835,\n  13,\n  87947,\n  527,\n  608,\n  87947,\n  15052,\n  257,\n  945,\n  2,\n  1085,\n  1126,\n  2019,\n  30,\n  1,\n  2,\n  2654,\n  1126,\n  1,\n  226,\n  1,\n  101417,\n  1,\n  87947,\n  527,\n  13,\n  15052,\n  1,\n  2,\n  234,\n  87947,\n  1,\n  1,\n  1,\n  1,\n  101,\n  2019],\n [742, 3283, 50, 893, 17, 23, 1, 225, 2, 87947, 527, 1889, 1],\n [1, 11093, 87947, 527, 308, 1, 745, 1, 24],\n [1, 1, 1, 1, 6492, 1, 78, 87947, 527, 1455, 1, 1921, 1, 22163, 30],\n [249, 2817, 1, 11093, 13, 2, 87947, 527, 10108, 1, 449, 1747, 1176, 1, 1, 1],\n [1, 19, 152, 6511, 19892, 190, 1, 87947, 527, 3513, 7062, 1, 1, 1],\n [27,\n  2235,\n  1147,\n  1,\n  1,\n  33,\n  1,\n  87947,\n  527,\n  308,\n  1,\n  1,\n  6578,\n  108,\n  293,\n  87947,\n  2596,\n  15,\n  1,\n  1,\n  38,\n  36,\n  179,\n  308,\n  13,\n  1863,\n  3358,\n  1,\n  1395,\n  138,\n  1308,\n  1,\n  151,\n  90,\n  1,\n  10,\n  913,\n  8,\n  424,\n  5067,\n  2127,\n  249,\n  316,\n  1,\n  1,\n  9971,\n  36,\n  54,\n  61,\n  1,\n  1],\n [1, 47, 1, 174, 87947, 527, 1],\n [520, 20, 87947, 527, 1, 993, 22837, 234, 2312, 1, 7062, 1, 1, 1],\n [1,\n  87947,\n  527,\n  19,\n  1,\n  1,\n  1,\n  1,\n  19,\n  1,\n  4,\n  1,\n  231,\n  81,\n  103,\n  19536,\n  1,\n  19,\n  24430],\n [19572, 1, 24558, 3438, 87947, 527, 1],\n [55,\n  42,\n  1,\n  9488,\n  2,\n  87947,\n  527,\n  5385,\n  1,\n  63778,\n  43032,\n  1,\n  158,\n  1814,\n  1,\n  28588,\n  32,\n  2,\n  5235,\n  20,\n  1877,\n  34,\n  4,\n  740,\n  45,\n  1,\n  1685,\n  1,\n  1,\n  3595,\n  1,\n  25,\n  11,\n  198,\n  1,\n  7062,\n  1,\n  1,\n  1],\n [5613,\n  1,\n  15052,\n  1,\n  87947,\n  527,\n  79,\n  5835,\n  13,\n  87947,\n  527,\n  608,\n  87947,\n  15052,\n  257,\n  945,\n  2,\n  1085,\n  1126,\n  2019,\n  30,\n  1,\n  2,\n  2654,\n  1126,\n  1,\n  226,\n  1,\n  101417,\n  1,\n  87947,\n  527,\n  13,\n  15052,\n  1,\n  2,\n  234,\n  87947,\n  1,\n  1,\n  1,\n  1,\n  101,\n  2019],\n [1, 33, 2, 13695, 20, 87947, 527, 2746],\n [1, 11093, 87947, 527, 19, 4976],\n [45422, 1, 225, 2, 87947, 527, 42, 1, 61, 101, 20, 1105],\n [1,\n  847,\n  2350,\n  1,\n  1,\n  87947,\n  527,\n  308,\n  4,\n  27,\n  1,\n  300,\n  32,\n  7,\n  5330,\n  2712,\n  521,\n  374,\n  1343],\n [565, 1, 2, 87947, 527, 1, 234, 1, 8087, 1, 1, 40, 1091, 74, 159, 1091],\n [6,\n  14,\n  1,\n  1,\n  1650,\n  6308,\n  1,\n  81,\n  87947,\n  527,\n  1,\n  1023,\n  4,\n  10,\n  1,\n  95,\n  14113,\n  95,\n  234,\n  9891,\n  7628,\n  7,\n  62,\n  1,\n  13894,\n  1,\n  105,\n  105,\n  150,\n  23,\n  573,\n  18,\n  1,\n  6],\n [1,\n  1,\n  13768,\n  1,\n  1,\n  11093,\n  15,\n  1,\n  1248,\n  1,\n  81,\n  1,\n  457,\n  323,\n  2,\n  10596,\n  13,\n  2,\n  87947,\n  527,\n  791,\n  1,\n  7,\n  73,\n  23,\n  1,\n  41615,\n  2751,\n  9,\n  9679,\n  1297,\n  7015,\n  1,\n  5109,\n  1,\n  73,\n  1,\n  5,\n  2,\n  12875,\n  1,\n  2,\n  7435,\n  10147,\n  6035,\n  4051],\n [8, 1, 87947, 527, 308, 1, 39445, 58, 457, 827, 1, 1, 3607],\n [1, 87947, 527, 3713, 794, 783],\n [1256,\n  2,\n  234,\n  260,\n  8358,\n  1,\n  1,\n  527,\n  15,\n  2,\n  1251,\n  1,\n  1,\n  1315,\n  2,\n  573,\n  1,\n  7062,\n  1,\n  1,\n  1],\n [1,\n  1,\n  6,\n  4,\n  1,\n  239,\n  1,\n  1,\n  10,\n  2,\n  117,\n  87947,\n  527,\n  1,\n  1,\n  1,\n  87947,\n  527,\n  1,\n  87947,\n  527],\n [154,\n  1,\n  7983,\n  1,\n  4,\n  2433,\n  21,\n  2026,\n  87947,\n  527,\n  12904,\n  909,\n  1,\n  100,\n  1,\n  1,\n  1,\n  24959,\n  5403,\n  365,\n  1664,\n  33371,\n  249,\n  1,\n  1,\n  1,\n  7062,\n  1,\n  1,\n  1],\n [87947, 527, 20, 1, 3805, 90, 20, 24558, 3438, 7062, 1, 1, 1],\n [1,\n  1,\n  15052,\n  1,\n  87947,\n  527,\n  79,\n  5835,\n  13,\n  87947,\n  527,\n  608,\n  87947,\n  15052,\n  257,\n  945,\n  2,\n  1085,\n  1126,\n  2019,\n  30,\n  1,\n  2,\n  2654,\n  1126,\n  1,\n  226,\n  1,\n  101417,\n  1,\n  87947,\n  527,\n  13,\n  15052,\n  1,\n  2,\n  234,\n  87947,\n  1,\n  1,\n  1,\n  1,\n  101,\n  2019],\n [1,\n  4728,\n  145,\n  132,\n  1,\n  2577,\n  1,\n  1,\n  77,\n  317,\n  4,\n  225,\n  1,\n  19655,\n  87947,\n  527,\n  308,\n  1,\n  1,\n  365,\n  33371,\n  1106,\n  1],\n [1, 117, 1, 1, 87947, 527, 308, 655, 1, 1030, 1128, 619, 1, 1199],\n [1,\n  1,\n  1091,\n  1,\n  4630,\n  1,\n  1,\n  1,\n  1444,\n  1,\n  1,\n  522,\n  1,\n  1,\n  225,\n  1,\n  87947,\n  527,\n  308,\n  7062,\n  1,\n  1,\n  1],\n [1, 9, 6, 1139, 23, 1, 28, 87947, 527],\n [1,\n  1,\n  87947,\n  527,\n  1,\n  234,\n  260,\n  1,\n  1,\n  80,\n  1,\n  587,\n  1,\n  95,\n  312,\n  1,\n  1,\n  2357,\n  1352,\n  4,\n  1,\n  2357,\n  163,\n  1422],\n [1,\n  87947,\n  527,\n  26393,\n  1,\n  4,\n  1,\n  1,\n  20,\n  87947,\n  527,\n  9,\n  1,\n  17,\n  9,\n  239,\n  1,\n  26393,\n  1,\n  1,\n  1,\n  4,\n  1,\n  1,\n  1,\n  1,\n  16851,\n  7062,\n  1,\n  1,\n  1],\n [204,\n  1166,\n  1,\n  36,\n  2468,\n  1,\n  1,\n  87947,\n  527,\n  308,\n  2,\n  1651,\n  270,\n  20,\n  1,\n  1,\n  1,\n  1,\n  1,\n  2,\n  3277,\n  79,\n  1651,\n  1,\n  270,\n  42,\n  1,\n  1657,\n  2,\n  57935,\n  12634,\n  1,\n  1,\n  1305,\n  308,\n  2803,\n  19,\n  9965,\n  1,\n  1185,\n  3304,\n  1,\n  21,\n  2024,\n  6036,\n  1,\n  259,\n  13309,\n  1,\n  1119,\n  13421],\n [1,\n  1,\n  240,\n  17,\n  124,\n  2,\n  11203,\n  581,\n  1,\n  742,\n  3283,\n  56,\n  19,\n  1288,\n  1,\n  2,\n  655,\n  4994,\n  224,\n  87947,\n  527,\n  158,\n  1,\n  234,\n  375],\n [2,\n  1,\n  11093,\n  87947,\n  527,\n  308,\n  1,\n  1,\n  1176,\n  69,\n  17,\n  124,\n  1,\n  6318,\n  6315,\n  4,\n  4729,\n  40045,\n  1,\n  2,\n  2596,\n  7,\n  574,\n  3610,\n  1,\n  23,\n  1,\n  2,\n  224,\n  4,\n  17,\n  36,\n  2735,\n  1,\n  457,\n  1332,\n  11515,\n  1,\n  454,\n  1,\n  1,\n  7062,\n  1,\n  1,\n  1],\n [658, 1, 50, 81, 87947, 527],\n [1, 440, 2, 1, 11093, 87947, 527, 7062, 1, 1, 1],\n [1,\n  1,\n  87947,\n  527,\n  1,\n  1,\n  1,\n  1,\n  1,\n  1,\n  4411,\n  2113,\n  10002,\n  3870,\n  4,\n  1,\n  55,\n  2074,\n  1,\n  61,\n  158,\n  87,\n  1002,\n  15121,\n  1,\n  1,\n  1,\n  1108,\n  1,\n  364,\n  1,\n  1,\n  300,\n  32,\n  204,\n  1,\n  1624,\n  1],\n [276,\n  198,\n  209,\n  1023,\n  1,\n  23,\n  3479,\n  87947,\n  527,\n  274,\n  1,\n  10,\n  37,\n  1722,\n  7693,\n  2596,\n  1459,\n  7932,\n  4,\n  11265,\n  23523,\n  431,\n  5,\n  159,\n  1023,\n  274,\n  1,\n  17,\n  1,\n  26,\n  1,\n  17,\n  36471,\n  411,\n  32,\n  7,\n  133,\n  17,\n  124,\n  1,\n  1,\n  6424,\n  9196,\n  1,\n  4051],\n [510,\n  17,\n  253,\n  87947,\n  527,\n  93010,\n  5,\n  3396,\n  1271,\n  1,\n  1,\n  16857,\n  3396,\n  1271,\n  7062,\n  1,\n  1,\n  1],\n [87947, 527, 16, 182, 2, 117, 770, 1, 5, 3146, 2578, 7062, 1, 1, 1],\n [2,\n  1,\n  11093,\n  87947,\n  527,\n  308,\n  16,\n  1,\n  1128,\n  1,\n  36,\n  1,\n  3577,\n  8,\n  366,\n  1,\n  2,\n  15518,\n  1921,\n  1,\n  1441,\n  7062,\n  1,\n  1,\n  1],\n [87947,\n  527,\n  16,\n  72,\n  21299,\n  4,\n  30,\n  36,\n  302,\n  8346,\n  1,\n  1,\n  2,\n  28759,\n  308,\n  1,\n  250,\n  21299,\n  256,\n  452,\n  50,\n  1,\n  1,\n  1664,\n  167,\n  1106],\n [28608,\n  1,\n  6,\n  10419,\n  2809,\n  212,\n  2489,\n  1,\n  175,\n  3234,\n  113,\n  5,\n  28,\n  575,\n  32,\n  87947,\n  527,\n  1,\n  742,\n  3283,\n  767,\n  1,\n  1,\n  1167,\n  445,\n  2,\n  224,\n  789,\n  1,\n  19899,\n  2520,\n  3805,\n  1,\n  1,\n  1,\n  2242,\n  7062,\n  1,\n  1,\n  1,\n  7062,\n  1,\n  1,\n  1],\n [1, 87947, 527, 19, 1, 2417, 1079, 909, 340, 305, 1465, 1, 1, 2850],\n [155,\n  15680,\n  1,\n  821,\n  1,\n  742,\n  3283,\n  5,\n  16939,\n  7096,\n  1,\n  1,\n  1,\n  158,\n  49,\n  7062,\n  1,\n  1,\n  1,\n  1,\n  7062,\n  1,\n  1,\n  1],\n [19439,\n  4,\n  21,\n  1999,\n  1,\n  7,\n  11682,\n  87947,\n  527,\n  63202,\n  39340,\n  3016,\n  1,\n  5041,\n  1,\n  1,\n  1,\n  7062,\n  1,\n  1,\n  1],\n [1, 1, 87947, 527, 19, 1, 23619, 1486, 1, 225, 21, 308, 30, 1, 7062, 1, 1, 1],\n [1,\n  1,\n  7,\n  11978,\n  87947,\n  527,\n  1,\n  303,\n  1326,\n  1,\n  573,\n  58,\n  217,\n  1,\n  3880,\n  6001,\n  23,\n  1,\n  1,\n  2719,\n  1,\n  1,\n  745,\n  136,\n  1,\n  166,\n  14],\n [87947, 527, 2, 23935, 476, 7062, 1, 1, 1],\n [6001, 1821, 87947, 527, 1, 234, 260, 7062, 1, 1, 1],\n [1, 247, 26, 87947, 527, 2, 224, 1, 4994],\n [1,\n  289,\n  268,\n  5,\n  2,\n  19536,\n  25,\n  1895,\n  1,\n  308,\n  2,\n  79,\n  47,\n  1,\n  3137,\n  21,\n  87947,\n  527,\n  308,\n  26,\n  13748,\n  1,\n  48,\n  2,\n  317,\n  30,\n  1],\n [1,\n  1,\n  1,\n  15052,\n  1,\n  87947,\n  527,\n  79,\n  5835,\n  13,\n  87947,\n  527,\n  608,\n  87947,\n  15052,\n  257,\n  945,\n  2,\n  1085,\n  1126,\n  2019,\n  30,\n  1,\n  2,\n  2654,\n  1126,\n  1,\n  226,\n  1,\n  101417,\n  1,\n  87947,\n  527,\n  13,\n  15052,\n  1,\n  2,\n  234,\n  87947,\n  1,\n  1,\n  1,\n  1,\n  101,\n  2019],\n [1,\n  1,\n  151,\n  2,\n  87947,\n  527,\n  10632,\n  1,\n  129,\n  5,\n  6,\n  18,\n  7062,\n  1,\n  1,\n  1,\n  7062,\n  1,\n  1,\n  1],\n [283, 316, 5746, 32, 1, 11093, 209, 2, 87947, 527, 308, 26, 1, 1, 36, 1],\n [742,\n  10320,\n  155,\n  25,\n  27081,\n  2486,\n  1,\n  87947,\n  527,\n  15680,\n  1,\n  5416,\n  5996,\n  821,\n  7062,\n  1,\n  1,\n  1],\n [2569,\n  742,\n  10320,\n  2868,\n  4990,\n  5,\n  2043,\n  7096,\n  1,\n  87947,\n  527,\n  100928,\n  431,\n  14394,\n  920,\n  32,\n  1,\n  27,\n  8,\n  573,\n  55,\n  4034,\n  20,\n  260],\n [225,\n  30601,\n  25612,\n  1999,\n  1,\n  1,\n  1,\n  13,\n  6001,\n  23,\n  3805,\n  6001,\n  1821,\n  3915,\n  7062,\n  1,\n  1,\n  1],\n [225,\n  30601,\n  25612,\n  1999,\n  1,\n  1,\n  1,\n  13,\n  6001,\n  23,\n  3805,\n  6001,\n  1821,\n  3915,\n  7062,\n  1,\n  1,\n  1],\n [225,\n  30601,\n  25612,\n  1999,\n  1,\n  1,\n  1,\n  13,\n  6001,\n  23,\n  3805,\n  6001,\n  1821,\n  3915,\n  7062,\n  1,\n  1,\n  1],\n [225,\n  30601,\n  25612,\n  1999,\n  1,\n  1,\n  1,\n  13,\n  6001,\n  23,\n  3805,\n  6001,\n  1821,\n  3915,\n  7062,\n  1,\n  1,\n  1],\n [225,\n  30601,\n  25612,\n  1999,\n  1,\n  1,\n  1,\n  13,\n  6001,\n  23,\n  3805,\n  6001,\n  1821,\n  3915,\n  7062,\n  1,\n  1,\n  1],\n [225,\n  30601,\n  25612,\n  1999,\n  1,\n  1,\n  1,\n  13,\n  6001,\n  23,\n  3805,\n  6001,\n  1821,\n  3915,\n  7062,\n  1,\n  1,\n  1],\n [1639, 148, 74, 2, 1198, 87947, 527, 7062, 1, 1, 1],\n [87947, 527, 1, 234, 260, 1, 96, 2, 1851, 20158, 7062, 1, 1, 1, 1, 225, 1],\n [225,\n  30601,\n  25612,\n  1999,\n  1,\n  1,\n  1,\n  13,\n  6001,\n  23,\n  3805,\n  6001,\n  1821,\n  3915,\n  7062,\n  1,\n  1,\n  1],\n [62,\n  6,\n  250,\n  416,\n  1,\n  163,\n  307,\n  2299,\n  2752,\n  5,\n  1,\n  1094,\n  5951,\n  1,\n  1090,\n  7062,\n  1,\n  1,\n  1],\n [225,\n  30601,\n  25612,\n  1999,\n  1,\n  1,\n  1,\n  13,\n  6001,\n  23,\n  3805,\n  6001,\n  1821,\n  3915,\n  7062,\n  1,\n  1,\n  1],\n [25,\n  1,\n  7989,\n  87947,\n  527,\n  4,\n  930,\n  47778,\n  1,\n  2357,\n  416,\n  38518,\n  9,\n  1,\n  2,\n  373,\n  155,\n  7062,\n  1,\n  1,\n  1],\n [109, 1, 1, 1, 17, 27, 88, 111279, 87947, 527, 1593],\n [1,\n  6,\n  2464,\n  87947,\n  527,\n  1,\n  103,\n  1,\n  1,\n  59,\n  6,\n  4235,\n  552,\n  52,\n  8,\n  1,\n  2127,\n  850,\n  3421,\n  7062,\n  1,\n  1,\n  1,\n  7062,\n  1,\n  1,\n  1],\n [1,\n  1,\n  4449,\n  6302,\n  1,\n  65,\n  2730,\n  307,\n  1,\n  1,\n  491,\n  7,\n  295,\n  93995,\n  87947,\n  527,\n  158,\n  2,\n  49,\n  7062,\n  1,\n  1,\n  1],\n [55181, 11149, 1, 48, 1, 87947, 527, 75, 1198, 1530],\n [3164,\n  742,\n  10320,\n  155,\n  25,\n  27081,\n  7096,\n  1,\n  87947,\n  527,\n  16,\n  72,\n  15680,\n  1,\n  821,\n  65,\n  1457,\n  83,\n  1787,\n  946,\n  2,\n  1079,\n  7062,\n  1,\n  1,\n  1],\n [2,\n  457,\n  1,\n  1,\n  87947,\n  527,\n  1,\n  806,\n  38,\n  297,\n  1,\n  18,\n  69,\n  44,\n  1,\n  1,\n  297,\n  6421,\n  804,\n  479,\n  1,\n  1,\n  7062,\n  1,\n  1,\n  1],\n [742, 10320, 15680, 1, 821, 65, 1457, 1787, 946, 87947, 527, 7062, 1, 1, 1],\n [1,\n  2350,\n  87947,\n  527,\n  15,\n  8,\n  19,\n  1853,\n  1,\n  225,\n  4,\n  159,\n  1023,\n  401,\n  225,\n  87947,\n  527,\n  30,\n  7062,\n  1,\n  1,\n  1],\n [45706,\n  1,\n  1,\n  87947,\n  527,\n  4012,\n  1,\n  3188,\n  1,\n  26,\n  769,\n  1,\n  265,\n  1,\n  4012,\n  21,\n  977,\n  5,\n  1007],\n [2, 87947, 527, 10873, 124, 234, 1, 742, 3283, 7062, 1, 1, 1],\n [1, 973, 1, 1, 2, 11039, 5, 8, 1, 234, 260, 87947, 527, 7062, 1, 1, 1],\n [1,\n  41,\n  6177,\n  7,\n  135,\n  34550,\n  344,\n  1,\n  2,\n  79,\n  154,\n  1,\n  1230,\n  21,\n  87947,\n  527,\n  308,\n  56,\n  19,\n  227,\n  1,\n  598,\n  3229,\n  308,\n  4,\n  324,\n  3113,\n  1,\n  491,\n  4,\n  30,\n  42,\n  23,\n  2633,\n  1,\n  87947,\n  527,\n  1,\n  134,\n  162,\n  17,\n  81,\n  1,\n  575,\n  32,\n  1,\n  1,\n  1,\n  1],\n [1,\n  1,\n  56,\n  19,\n  1230,\n  1,\n  7154,\n  1196,\n  38,\n  1504,\n  1,\n  1,\n  9608,\n  1,\n  4,\n  1,\n  1,\n  7062,\n  1,\n  1,\n  1,\n  7062,\n  1,\n  1,\n  1],\n [1,\n  7130,\n  6,\n  35,\n  1946,\n  5017,\n  1,\n  750,\n  1,\n  24645,\n  87947,\n  527,\n  11298,\n  4206,\n  579,\n  515,\n  1,\n  140,\n  1,\n  85],\n [1,\n  344,\n  1,\n  35,\n  1559,\n  1,\n  2,\n  442,\n  1,\n  2,\n  527,\n  4,\n  29729,\n  1,\n  28714,\n  1,\n  1784,\n  520,\n  158,\n  2,\n  5120,\n  4,\n  1,\n  1,\n  1,\n  4,\n  24996,\n  1,\n  87947,\n  1,\n  11,\n  1352,\n  5,\n  7,\n  155,\n  1],\n [1, 19, 1, 1, 1, 19655, 87947, 527, 7062, 1, 1, 1, 7062, 1, 1, 1],\n [1, 1, 36, 4638, 715, 1, 248, 27, 1, 1690, 87947, 527, 7062, 1, 1, 1],\n [1, 11093, 1230, 2, 87947, 527, 20733, 871, 225, 1, 30],\n [1,\n  1,\n  1,\n  15052,\n  1,\n  87947,\n  527,\n  79,\n  5835,\n  13,\n  87947,\n  527,\n  608,\n  87947,\n  15052,\n  257,\n  945,\n  2,\n  1085,\n  1126,\n  2019,\n  30,\n  1,\n  2,\n  2654,\n  1126,\n  1,\n  226,\n  1,\n  101417,\n  1,\n  87947,\n  527,\n  13,\n  15052,\n  1,\n  2,\n  234,\n  87947,\n  1,\n  1,\n  1,\n  1,\n  101,\n  2019],\n [87947,\n  527,\n  1,\n  234,\n  260,\n  1,\n  2,\n  1441,\n  308,\n  1,\n  2,\n  206,\n  1164,\n  27115,\n  1,\n  5364,\n  4,\n  1,\n  312,\n  1,\n  240,\n  41,\n  1430,\n  17,\n  59,\n  8,\n  1,\n  1,\n  1803,\n  2,\n  527,\n  7062,\n  1,\n  1,\n  1],\n [1,\n  2,\n  343,\n  7,\n  1,\n  88,\n  585,\n  32,\n  8,\n  1,\n  7,\n  87947,\n  527,\n  1,\n  1,\n  15285,\n  1,\n  456,\n  10320,\n  791,\n  4,\n  41,\n  37,\n  5262,\n  722,\n  1,\n  4051,\n  4394,\n  23,\n  1,\n  1352,\n  1,\n  78,\n  7,\n  87947,\n  527,\n  62,\n  1,\n  4892,\n  1,\n  1,\n  3062,\n  4,\n  1,\n  1402,\n  946,\n  10,\n  45782],\n [87947,\n  527,\n  18198,\n  1,\n  1,\n  946,\n  87947,\n  527,\n  69,\n  2,\n  134,\n  47,\n  1,\n  429,\n  1,\n  11219,\n  307,\n  1,\n  256,\n  4,\n  1,\n  55,\n  589,\n  1,\n  559,\n  1,\n  225,\n  2,\n  224,\n  201,\n  2,\n  1,\n  23362,\n  4,\n  2,\n  1,\n  1951,\n  1,\n  1091,\n  1408,\n  24,\n  2,\n  573,\n  41,\n  59,\n  1,\n  1828,\n  7],\n [1,\n  2978,\n  568,\n  2235,\n  62,\n  88,\n  1,\n  2309,\n  1,\n  1260,\n  1,\n  87947,\n  527,\n  7,\n  968,\n  3211,\n  24,\n  4700,\n  1,\n  36,\n  1,\n  58,\n  22200,\n  5,\n  2,\n  23,\n  1,\n  2,\n  1,\n  299,\n  658,\n  7,\n  62,\n  255],\n [1, 2, 1, 11093, 87947, 527, 162, 1, 17, 1415, 2, 334, 317, 1, 2, 224, 1],\n [33, 1, 1, 1256, 2, 252, 1933, 20, 87947, 527, 1, 193, 1, 8],\n [1234, 1, 223, 87947, 527, 93010, 1, 1, 1, 1, 1, 7062, 1, 1, 1],\n [1,\n  39437,\n  582,\n  777,\n  1,\n  1,\n  1,\n  3184,\n  81,\n  8,\n  784,\n  2,\n  1214,\n  742,\n  10320,\n  15680,\n  1,\n  821,\n  1,\n  5416,\n  5996,\n  65,\n  1457,\n  1787,\n  946,\n  27081,\n  2486,\n  1,\n  87947,\n  527,\n  1,\n  7062,\n  1,\n  1,\n  1],\n [397, 6664, 87947, 527, 4, 13533, 1, 7062, 1, 1, 1],\n [1,\n  1,\n  11093,\n  1,\n  1574,\n  1,\n  117,\n  87947,\n  527,\n  224,\n  234,\n  260,\n  16006,\n  15,\n  715,\n  155,\n  1712,\n  1,\n  4949,\n  290,\n  17361,\n  212,\n  13,\n  1,\n  1,\n  1030,\n  4199],\n [87947, 527, 1, 1999, 1, 310, 7062, 1, 1, 1],\n [33, 1, 87947, 1, 527],\n [6001, 1821, 87947, 527, 1, 234, 260, 7062, 1, 1, 1, 144, 1441],\n [1,\n  1,\n  87947,\n  527,\n  308,\n  655,\n  1,\n  1030,\n  1128,\n  619,\n  1,\n  1199,\n  385,\n  1,\n  7062,\n  1,\n  1,\n  1],\n [1, 3772, 87947, 1],\n [1,\n  81,\n  33,\n  249,\n  100,\n  2668,\n  1,\n  1,\n  87947,\n  527,\n  1,\n  312,\n  1,\n  225,\n  1,\n  72,\n  8,\n  774,\n  129,\n  204,\n  192,\n  4176,\n  1218,\n  128],\n [1, 4235, 225, 7, 1, 11093, 87947, 527, 308, 65, 14973],\n [1, 87947, 527],\n [4288,\n  4598,\n  1,\n  1,\n  6664,\n  1,\n  2,\n  87947,\n  2596,\n  4,\n  1,\n  5061,\n  1,\n  527,\n  8,\n  1,\n  2,\n  18981,\n  3152,\n  1,\n  1,\n  58,\n  2749,\n  30,\n  1,\n  101,\n  1,\n  1930],\n [993,\n  1075,\n  4064,\n  1039,\n  2724,\n  1,\n  100,\n  491,\n  742,\n  3283,\n  1423,\n  1,\n  2128,\n  69,\n  77,\n  366,\n  19,\n  3854,\n  5,\n  946,\n  87947,\n  527],\n [255, 2, 2006, 2712, 247, 36, 26, 2, 34, 20, 87947, 527, 7062, 1, 1, 1],\n [7, 11978, 87947, 527, 19, 6295, 1265, 667],\n [1,\n  568,\n  1,\n  166,\n  2434,\n  52,\n  36,\n  1,\n  1,\n  1,\n  7,\n  87947,\n  527,\n  1551,\n  2,\n  3101,\n  958,\n  9,\n  12923,\n  1,\n  1,\n  62,\n  48,\n  800,\n  1,\n  158,\n  1,\n  26490,\n  464],\n [87947, 527, 7062, 1, 1, 1],\n [1, 520, 2024, 1, 8, 87947, 527, 308, 464],\n [1, 11093, 10015, 1, 87947, 527, 1, 234, 260, 4, 1, 750, 1, 1, 1468, 1, 1, 1],\n [1, 1, 2423, 124, 8, 32476, 1, 2, 87947, 527, 276, 7062, 1, 1, 1],\n [1,\n  1441,\n  1,\n  75,\n  1,\n  234,\n  379,\n  1,\n  1,\n  2702,\n  1169,\n  15,\n  1,\n  369,\n  1,\n  138,\n  1,\n  3338,\n  5,\n  87947,\n  527,\n  1,\n  952,\n  10320,\n  1,\n  1,\n  19,\n  365,\n  1,\n  123],\n [1,\n  2323,\n  1,\n  2,\n  206,\n  1,\n  3283,\n  7913,\n  9671,\n  1,\n  47,\n  452,\n  23,\n  8,\n  10976,\n  55184,\n  56370,\n  65011,\n  19587,\n  2007,\n  3100,\n  63778,\n  43032,\n  1,\n  87947,\n  1,\n  1611,\n  39340,\n  30733,\n  1,\n  171,\n  22470,\n  78367,\n  65011,\n  9375,\n  3266,\n  1,\n  36993,\n  1125,\n  5840,\n  1,\n  117,\n  260,\n  1,\n  2845,\n  1983,\n  7062,\n  1,\n  1,\n  1],\n [6001, 1821, 87947, 527, 1, 234, 260, 7062, 1, 1, 1, 144, 1441],\n [1, 1387, 5, 724, 87947, 527, 1],\n [8, 1, 87947, 527, 308, 1, 3559],\n [6001, 1821, 87947, 527, 1, 234, 260, 1441, 7062, 1, 1, 1],\n [8,\n  1,\n  127,\n  34,\n  1,\n  2,\n  13027,\n  6797,\n  1,\n  87947,\n  527,\n  1,\n  1630,\n  1,\n  13480,\n  69,\n  21,\n  2423,\n  62,\n  170,\n  89,\n  45,\n  2623,\n  936,\n  7,\n  1,\n  5069,\n  1,\n  102,\n  1,\n  1105,\n  1,\n  1,\n  264,\n  1,\n  1853,\n  34,\n  712,\n  24,\n  1,\n  460,\n  1,\n  87947,\n  830,\n  7062,\n  1,\n  1,\n  1,\n  1,\n  1,\n  7062,\n  1,\n  1,\n  1],\n [1,\n  658,\n  4143,\n  62,\n  1,\n  1,\n  58,\n  47,\n  5,\n  1,\n  1,\n  2426,\n  1,\n  1,\n  77,\n  4994,\n  1,\n  661,\n  87947,\n  527,\n  1,\n  797,\n  58,\n  1,\n  1,\n  1],\n [1,\n  36,\n  156,\n  96,\n  946,\n  1,\n  87947,\n  527,\n  4,\n  1,\n  19,\n  1164,\n  6,\n  18,\n  110,\n  1,\n  225,\n  1,\n  1,\n  223,\n  41,\n  103,\n  47,\n  4,\n  114,\n  19,\n  320,\n  158,\n  8,\n  308,\n  1,\n  1],\n [348,\n  1,\n  1,\n  527,\n  69,\n  1,\n  203,\n  87947,\n  100583,\n  1,\n  427,\n  5786,\n  1137,\n  318,\n  4,\n  5287,\n  1,\n  7062,\n  1,\n  1,\n  1],\n [1, 166, 163, 2, 621, 1, 1, 260, 10, 1839, 24, 1, 87947, 527, 1],\n [21753, 1, 87947, 527, 7062, 1, 1, 1],\n [1,\n  1,\n  1,\n  5,\n  37,\n  23,\n  1,\n  225,\n  87947,\n  527,\n  1,\n  224,\n  32,\n  2,\n  10310,\n  4,\n  3563,\n  1,\n  39583,\n  4051,\n  7062,\n  1,\n  1,\n  1],\n [1, 28, 6773, 87947, 527, 821],\n [1,\n  1,\n  152,\n  1,\n  44301,\n  5403,\n  32,\n  87947,\n  527,\n  2,\n  4004,\n  380,\n  1,\n  2,\n  1197,\n  456,\n  10320,\n  64,\n  4,\n  40,\n  8,\n  3394,\n  20567,\n  76876,\n  101806,\n  14833,\n  1,\n  67,\n  1,\n  1664,\n  5,\n  1,\n  23,\n  15,\n  1,\n  11,\n  1,\n  5035,\n  1,\n  1,\n  1,\n  1441,\n  24959,\n  491,\n  230,\n  727,\n  961,\n  8,\n  1106,\n  7062,\n  1,\n  1,\n  1],\n [742, 3283, 1, 1, 87947, 527, 3426, 24723],\n [1, 1, 504, 26, 2, 87947, 527, 4430],\n [1,\n  4387,\n  2465,\n  1,\n  308,\n  361,\n  1278,\n  69,\n  1,\n  1,\n  11093,\n  917,\n  1,\n  11,\n  10945,\n  1,\n  627,\n  1,\n  1128,\n  13,\n  21,\n  87947,\n  527,\n  308,\n  1,\n  1,\n  1030,\n  1128,\n  1,\n  1,\n  1199,\n  786],\n [1, 1, 36, 2350, 1, 4, 1, 19, 2, 146, 1, 19, 148, 74, 2, 234, 87947, 527],\n [1, 16683, 1, 1, 7734, 87947, 527, 1],\n [1, 1, 2668, 1, 1, 87947, 527, 1, 661, 8, 34, 431, 23, 1444, 1, 1, 744],\n [2, 234, 87947, 527, 46059, 93560, 7062, 1, 1, 1],\n [1,\n  1,\n  745,\n  136,\n  1,\n  7,\n  224,\n  916,\n  12316,\n  28,\n  260,\n  1,\n  225,\n  166,\n  6,\n  1028,\n  2877,\n  7,\n  1,\n  87947,\n  527],\n [72,\n  1,\n  1,\n  946,\n  12282,\n  5,\n  26,\n  1,\n  1449,\n  2349,\n  1,\n  1,\n  1445,\n  4,\n  30,\n  1,\n  341,\n  9007,\n  21,\n  87947,\n  527,\n  20733,\n  1,\n  2497,\n  1,\n  1,\n  1,\n  1],\n [1, 42, 87947, 527, 344, 52],\n [1, 1, 87947, 527, 552, 1, 52, 7062, 1, 1, 1],\n [1,\n  1,\n  1,\n  1,\n  490,\n  1,\n  667,\n  1,\n  1265,\n  527,\n  99,\n  2,\n  79,\n  2752,\n  9,\n  6,\n  557,\n  1,\n  667,\n  7062,\n  1,\n  1,\n  1,\n  587,\n  1,\n  7062,\n  1,\n  1,\n  1,\n  1,\n  1,\n  41038,\n  23779,\n  1,\n  27859,\n  11073,\n  42895,\n  1,\n  1,\n  1,\n  1,\n  23779,\n  17296,\n  87947,\n  7062,\n  1,\n  1,\n  1],\n [13260,\n  15,\n  1,\n  682,\n  16,\n  34,\n  1,\n  2,\n  146,\n  32651,\n  250,\n  30,\n  87947,\n  2596,\n  17866,\n  7699,\n  1,\n  5,\n  724,\n  526,\n  527,\n  1,\n  2341,\n  1,\n  1,\n  1,\n  1,\n  7062,\n  1,\n  1,\n  1],\n [6,\n  407,\n  1,\n  267,\n  1,\n  1,\n  1,\n  61,\n  1,\n  58800,\n  2049,\n  32,\n  195,\n  874,\n  1,\n  742,\n  3283,\n  909,\n  87947,\n  527,\n  1,\n  1260,\n  224,\n  1,\n  2,\n  1214,\n  1,\n  1,\n  109648,\n  653,\n  33,\n  164,\n  344,\n  52,\n  190,\n  1,\n  88721,\n  1,\n  1,\n  1,\n  1],\n [2, 13794, 59, 1, 1, 46591, 18, 1, 87947, 527, 7062, 1, 1, 1],\n [1,\n  1,\n  1,\n  1,\n  1,\n  475,\n  117,\n  2390,\n  1,\n  6491,\n  1,\n  527,\n  2404,\n  1,\n  1,\n  2484,\n  1,\n  87947,\n  527,\n  1079,\n  1,\n  1,\n  1,\n  85868,\n  1,\n  1,\n  1,\n  81,\n  6,\n  167,\n  2404,\n  1,\n  1,\n  1,\n  1,\n  1,\n  1,\n  1,\n  7062,\n  1,\n  1,\n  1],\n [1,\n  1,\n  2,\n  2560,\n  120,\n  55,\n  111,\n  7,\n  87947,\n  527,\n  4715,\n  1527,\n  1,\n  1,\n  1043,\n  1,\n  2350,\n  1,\n  200,\n  1,\n  1,\n  1491,\n  1507,\n  1,\n  87947,\n  527,\n  18,\n  774,\n  4,\n  8848,\n  1,\n  225,\n  15,\n  1,\n  4051,\n  16,\n  4,\n  170,\n  62,\n  1,\n  120,\n  4,\n  6,\n  1,\n  10,\n  825,\n  391,\n  32,\n  5,\n  1,\n  1,\n  1079,\n  1,\n  1,\n  1],\n [44,\n  9,\n  105,\n  1,\n  1,\n  4,\n  15779,\n  25978,\n  380,\n  1,\n  15,\n  1,\n  1,\n  40,\n  1135,\n  1,\n  2435,\n  60,\n  69,\n  2,\n  6954,\n  9729,\n  7,\n  787,\n  1,\n  451,\n  4,\n  17038,\n  8015,\n  479,\n  2505,\n  9157,\n  4,\n  1,\n  28584,\n  45363,\n  45828,\n  104,\n  1,\n  1672,\n  20895,\n  7062,\n  1,\n  1,\n  1],\n [8, 1, 87947, 527, 106, 7062, 1, 1, 1],\n [1,\n  1,\n  14,\n  1337,\n  1,\n  272,\n  5,\n  697,\n  2223,\n  759,\n  17,\n  208,\n  243,\n  1,\n  53455,\n  20,\n  1306,\n  9089,\n  4,\n  34,\n  1,\n  48,\n  152,\n  1,\n  87947,\n  527,\n  5,\n  71897,\n  3915,\n  44,\n  16,\n  1,\n  1,\n  280,\n  1,\n  972,\n  8,\n  1,\n  2064,\n  15,\n  23,\n  159,\n  1,\n  152,\n  7],\n [11978, 87947, 527, 19, 1326, 1, 52, 1, 8967],\n [742,\n  3283,\n  11162,\n  155,\n  1,\n  821,\n  1,\n  5416,\n  5996,\n  5,\n  32335,\n  2486,\n  1,\n  87947,\n  527,\n  158,\n  2,\n  49,\n  333,\n  1105,\n  2868,\n  176,\n  260,\n  3069,\n  5,\n  946,\n  1,\n  3826,\n  1086,\n  1,\n  19017,\n  1,\n  11779,\n  5,\n  590,\n  1,\n  3127,\n  2868,\n  20,\n  946,\n  1,\n  7062,\n  1,\n  1,\n  1],\n [58, 87947, 527, 308, 1, 11093],\n [1,\n  6,\n  80,\n  1,\n  151,\n  2182,\n  8358,\n  10720,\n  2484,\n  1,\n  87947,\n  527,\n  17309,\n  195,\n  2,\n  34423,\n  1,\n  4,\n  40,\n  2571,\n  1,\n  1,\n  7062,\n  1,\n  1,\n  1,\n  1006,\n  1303,\n  7062,\n  1,\n  1,\n  1,\n  7062,\n  1,\n  1,\n  1],\n [1,\n  1,\n  1,\n  2,\n  136,\n  1,\n  81,\n  1907,\n  3119,\n  1,\n  2094,\n  1488,\n  2108,\n  1488,\n  1,\n  42,\n  2,\n  1488,\n  349,\n  2108,\n  1,\n  324,\n  1,\n  469,\n  4,\n  1,\n  88,\n  1,\n  251,\n  827,\n  4,\n  3850,\n  1,\n  1,\n  27,\n  1028,\n  6,\n  4,\n  1,\n  1,\n  87947,\n  527,\n  4,\n  1,\n  324,\n  66488,\n  190,\n  2108,\n  1488,\n  4,\n  1,\n  3850,\n  4,\n  1352,\n  4,\n  1,\n  26,\n  24,\n  2,\n  671,\n  36,\n  337,\n  1],\n [1,\n  1,\n  19191,\n  1,\n  864,\n  5,\n  946,\n  1,\n  372,\n  87947,\n  527,\n  1,\n  4100,\n  8,\n  1,\n  8060,\n  3805,\n  1467,\n  1,\n  1242,\n  1,\n  1,\n  5004,\n  993,\n  106,\n  56,\n  1,\n  817,\n  1,\n  756,\n  2,\n  1,\n  302,\n  1,\n  1,\n  204,\n  32,\n  8,\n  1784,\n  3262,\n  2592,\n  104,\n  10512,\n  1,\n  5478,\n  1,\n  10,\n  9311],\n [742, 3283, 6, 407, 26, 1, 87947, 527, 7062, 1, 1, 1],\n [4447, 1, 1, 87947, 527, 1, 148, 74, 2, 4288, 1, 2, 1198, 224],\n [1,\n  42,\n  1,\n  392,\n  52,\n  946,\n  87947,\n  527,\n  1,\n  4994,\n  349,\n  66,\n  2,\n  541,\n  1,\n  87947,\n  527,\n  1,\n  23296,\n  4051,\n  7062,\n  1,\n  1,\n  1],\n [1, 910, 77, 32775, 87947, 527, 1720],\n [17708,\n  1,\n  742,\n  10320,\n  15680,\n  1,\n  821,\n  65,\n  1457,\n  1787,\n  946,\n  87947,\n  527,\n  7062,\n  1,\n  1,\n  1],\n [8, 8, 1, 41, 77, 1, 6, 1630, 1, 225, 87947, 527, 7062, 1, 1, 1],\n [5251, 1, 6001, 1821, 87947, 527, 1, 234, 260, 7062, 1, 1, 1, 144, 1441],\n [1,\n  742,\n  10320,\n  333,\n  1105,\n  1457,\n  11,\n  1,\n  3854,\n  1,\n  5416,\n  5996,\n  65,\n  111,\n  1787,\n  946,\n  87947,\n  527,\n  18,\n  7,\n  1343,\n  224,\n  59,\n  19,\n  89,\n  60,\n  1443],\n [1, 11093, 59, 234, 260, 87947, 527, 3805, 254, 1, 1, 3100, 7062, 1, 1, 1],\n [1,\n  1,\n  1,\n  1,\n  495,\n  1,\n  43178,\n  1,\n  172,\n  9004,\n  1,\n  2,\n  1,\n  4584,\n  7062,\n  1,\n  1,\n  1,\n  7062,\n  1,\n  1,\n  1],\n [2,\n  87947,\n  527,\n  308,\n  2396,\n  1,\n  8,\n  159,\n  1166,\n  10701,\n  8002,\n  1,\n  41,\n  1499,\n  102,\n  8306,\n  6424,\n  2049,\n  4,\n  1784,\n  2823,\n  60,\n  1,\n  15869,\n  1,\n  1593,\n  1,\n  100,\n  40,\n  32,\n  791,\n  74,\n  87947,\n  527,\n  1877,\n  1,\n  250,\n  166],\n [1,\n  39276,\n  25,\n  1117,\n  7096,\n  1,\n  1,\n  1,\n  95251,\n  1,\n  742,\n  3283,\n  16,\n  72,\n  15680,\n  1,\n  821,\n  1,\n  5416,\n  5996,\n  1,\n  2868,\n  25,\n  1862,\n  1,\n  1,\n  2,\n  8084,\n  7151,\n  1806,\n  1,\n  260,\n  3069,\n  178,\n  1,\n  352,\n  25,\n  2350,\n  2,\n  5485,\n  14,\n  72,\n  15680,\n  1,\n  1,\n  57,\n  1,\n  312,\n  5958,\n  7062,\n  1,\n  1,\n  1],\n [55,\n  6,\n  434,\n  36,\n  1,\n  1,\n  87947,\n  527,\n  26,\n  1,\n  343,\n  7,\n  1061,\n  821,\n  1,\n  1,\n  2070,\n  338,\n  1,\n  2,\n  541,\n  7,\n  63778,\n  43032,\n  1,\n  19,\n  265,\n  1,\n  5356],\n [1,\n  834,\n  1256,\n  2,\n  31,\n  308,\n  1,\n  1,\n  1,\n  1,\n  87947,\n  527,\n  1,\n  156,\n  52,\n  159,\n  1664,\n  1,\n  7062,\n  1,\n  1,\n  1],\n [1,\n  11093,\n  50,\n  14,\n  3936,\n  1,\n  3132,\n  3016,\n  1,\n  88,\n  1,\n  87947,\n  527,\n  2668,\n  1494,\n  6654,\n  6751],\n [1,\n  19,\n  871,\n  88,\n  1,\n  242,\n  1385,\n  87947,\n  527,\n  10015,\n  1,\n  1,\n  11093,\n  15,\n  6,\n  27,\n  303,\n  61,\n  12729,\n  30536,\n  1,\n  491,\n  1,\n  1,\n  1,\n  1676,\n  7,\n  52],\n [789,\n  1,\n  1,\n  21753,\n  19,\n  466,\n  5174,\n  13,\n  63202,\n  39340,\n  1,\n  19,\n  1,\n  87947,\n  527,\n  7062,\n  1,\n  1,\n  1],\n [6001, 1821, 87947, 527, 1, 234, 260, 7062, 1, 1, 1, 144, 1441],\n [1, 87947, 527, 19, 75, 1, 1, 1907, 1, 6213, 1156, 1],\n [1,\n  742,\n  10320,\n  1431,\n  19,\n  15680,\n  1,\n  821,\n  5,\n  16939,\n  87947,\n  527,\n  1,\n  9315,\n  9463,\n  158,\n  2,\n  49,\n  1,\n  644,\n  1,\n  2397,\n  5,\n  35,\n  1872,\n  3502,\n  1498,\n  7062,\n  1,\n  1,\n  1],\n [2, 1, 11093, 87947, 527, 308, 1, 3559],\n [1, 1, 10, 7259, 42, 1, 84, 1, 2357, 16006, 87947, 527, 2341],\n [1, 1, 97, 3114, 1, 1, 11767, 7, 1, 80, 37, 1311, 913, 87947, 527, 1],\n [1, 11093, 87947, 527, 847],\n [1,\n  1,\n  3037,\n  524,\n  1,\n  577,\n  3825,\n  28663,\n  16,\n  1344,\n  239,\n  8683,\n  4,\n  4165,\n  20,\n  2,\n  1636,\n  2317,\n  2257,\n  40691,\n  1,\n  1,\n  2,\n  78802,\n  587,\n  1,\n  120,\n  5,\n  2,\n  167,\n  87947,\n  527,\n  5,\n  171,\n  86,\n  400,\n  1,\n  1,\n  272,\n  759,\n  7062,\n  1,\n  1,\n  1],\n [1327,\n  15151,\n  13,\n  5403,\n  699,\n  87947,\n  527,\n  7901,\n  2,\n  6974,\n  1692,\n  1,\n  1,\n  1,\n  11,\n  10,\n  198,\n  44,\n  2,\n  442,\n  1,\n  3153,\n  1,\n  1,\n  1024,\n  1,\n  5353,\n  1,\n  1451,\n  52,\n  108986,\n  1,\n  13,\n  2,\n  2940,\n  1,\n  11062,\n  610,\n  1,\n  2067,\n  1,\n  18,\n  5071,\n  1,\n  1,\n  1,\n  7062,\n  1,\n  1,\n  1],\n [1164, 308, 1, 87947, 527, 1, 1],\n [87947, 527, 1, 1, 111, 1, 1, 13326, 861, 3805, 1, 1, 136, 1, 2, 454],\n [1, 87947, 527, 308, 16, 1, 1, 34, 21, 146, 1, 2, 146, 13975],\n [6001, 1821, 87947, 527, 1, 234, 260, 7062, 1, 1, 1, 144, 1441],\n [87947, 527, 10976, 1, 7062, 1, 1, 1],\n [1,\n  1256,\n  1189,\n  808,\n  1,\n  1,\n  12126,\n  1,\n  15925,\n  87947,\n  527,\n  1,\n  34,\n  1,\n  2781,\n  263,\n  308,\n  6704,\n  7062,\n  1,\n  1,\n  1],\n [1, 1, 2350, 1, 19655, 87947, 527, 308, 455, 510],\n [1, 1, 21, 117, 87947, 527, 308, 19, 1164]]"
     },
     "execution_count": 81,
     "metadata": {},
     "output_type": "execute_result"
    }
   ],
   "source": [
    "squid_seq = tokenizer.texts_to_sequences(squid_df)\n",
    "squid_seq"
   ],
   "metadata": {
    "collapsed": false,
    "pycharm": {
     "name": "#%%\n"
    }
   }
  },
  {
   "cell_type": "code",
   "execution_count": 83,
   "outputs": [
    {
     "data": {
      "text/plain": "array([[    0,  1361,   101, ...,     1,     1,     1],\n       [    0,     0,     0, ...,     1,     1,     1],\n       [    0,  5748, 87947, ...,     1,     1,     1],\n       ...,\n       [    0,     0,     0, ...,     1,     1,     1],\n       [    0,     0,     0, ...,   308,   455,   510],\n       [    0,     0,     0, ...,   308,    19,  1164]])"
     },
     "execution_count": 83,
     "metadata": {},
     "output_type": "execute_result"
    }
   ],
   "source": [
    "squid_pad = tf.keras.preprocessing.sequence.pad_sequences(squid_seq, maxlen=30)\n",
    "squid_pad"
   ],
   "metadata": {
    "collapsed": false,
    "pycharm": {
     "name": "#%%\n"
    }
   }
  },
  {
   "cell_type": "code",
   "execution_count": 84,
   "outputs": [
    {
     "data": {
      "text/plain": "array([[0.20836587, 0.0372365 , 0.75439763],\n       [0.97715616, 0.00347976, 0.01936404],\n       [0.20346959, 0.54432476, 0.25220567],\n       ...,\n       [0.9894426 , 0.00163585, 0.00892158],\n       [0.9795399 , 0.0081644 , 0.01229583],\n       [0.05393168, 0.03466827, 0.9114    ]], dtype=float32)"
     },
     "execution_count": 84,
     "metadata": {},
     "output_type": "execute_result"
    }
   ],
   "source": [
    "squid_pred = model.predict(squid_pad)\n",
    "squid_pred"
   ],
   "metadata": {
    "collapsed": false,
    "pycharm": {
     "name": "#%%\n"
    }
   }
  },
  {
   "cell_type": "code",
   "execution_count": 85,
   "outputs": [],
   "source": [
    "squid_pred = pd.DataFrame((squid_pred ==squid_pred.max(axis=1)[:,None]).astype(int)).rename({\n",
    "    0: -1,\n",
    "    1: 0,\n",
    "    2: 1\n",
    "}, axis=1)"
   ],
   "metadata": {
    "collapsed": false,
    "pycharm": {
     "name": "#%%\n"
    }
   }
  },
  {
   "cell_type": "code",
   "execution_count": 86,
   "outputs": [
    {
     "data": {
      "text/plain": "   -1   0   1\n0   0   0   1\n1   1   0   0\n2   0   1   0\n3   1   0   0\n4   1   0   0",
      "text/html": "<div>\n<style scoped>\n    .dataframe tbody tr th:only-of-type {\n        vertical-align: middle;\n    }\n\n    .dataframe tbody tr th {\n        vertical-align: top;\n    }\n\n    .dataframe thead th {\n        text-align: right;\n    }\n</style>\n<table border=\"1\" class=\"dataframe\">\n  <thead>\n    <tr style=\"text-align: right;\">\n      <th></th>\n      <th>-1</th>\n      <th>0</th>\n      <th>1</th>\n    </tr>\n  </thead>\n  <tbody>\n    <tr>\n      <th>0</th>\n      <td>0</td>\n      <td>0</td>\n      <td>1</td>\n    </tr>\n    <tr>\n      <th>1</th>\n      <td>1</td>\n      <td>0</td>\n      <td>0</td>\n    </tr>\n    <tr>\n      <th>2</th>\n      <td>0</td>\n      <td>1</td>\n      <td>0</td>\n    </tr>\n    <tr>\n      <th>3</th>\n      <td>1</td>\n      <td>0</td>\n      <td>0</td>\n    </tr>\n    <tr>\n      <th>4</th>\n      <td>1</td>\n      <td>0</td>\n      <td>0</td>\n    </tr>\n  </tbody>\n</table>\n</div>"
     },
     "execution_count": 86,
     "metadata": {},
     "output_type": "execute_result"
    }
   ],
   "source": [
    "squid_pred.head()"
   ],
   "metadata": {
    "collapsed": false,
    "pycharm": {
     "name": "#%%\n"
    }
   }
  },
  {
   "cell_type": "code",
   "execution_count": 87,
   "outputs": [
    {
     "data": {
      "text/plain": "<Figure size 648x648 with 1 Axes>",
      "image/png": "[encoded data removed]"
     },
     "metadata": {},
     "output_type": "display_data"
    }
   ],
   "source": [
    "plt.figure(figsize=(9, 9))\n",
    "plt.pie(\n",
    "    squid_pred.sum(),\n",
    "    labels=[\n",
    "        'Negative',\n",
    "        'Neutral',\n",
    "        'Positive'\n",
    "    ],\n",
    "    autopct='%1.1f%%'\n",
    ")\n",
    "plt.title('Sentiment distribution in Tweets about Squid Game!')\n",
    "plt.show()"
   ],
   "metadata": {
    "collapsed": false,
    "pycharm": {
     "name": "#%%\n"
    }
   }
  },
  {
   "cell_type": "code",
   "execution_count": 97,
   "outputs": [
    {
     "name": "stdout",
     "output_type": "stream",
     "text": [
      "Living in North Korea is like LITTERALLY playing Squid Game\n",
      "MAN SENTENCED TO THE FIRING SQUAD FOR SELLING SQUID GAME. \n",
      "https://t.co/KoZUYUiI2W\n",
      "WE RECREATED SQUID GAME WITH 456 RANDOM PEOPLE, GO WATCH!\n",
      "wouldnt last one round in squid game https://t.co/D7sUhr3XS7\n",
      "Give me likes for squid game https://t.co/DZiBUQbphC\n",
      "Yo I'm live \n",
      "\n",
      "WATCHING MR BEAST SQUID GAME VIDEO \n",
      "\n",
      "https://t.co/sb2Otf172m \n",
      "https://t.co/sb2Otf172m \n",
      "https://t.co/sb2Otf172m https://t.co/CwYswXSihd\n",
      "at home after my night shift at the samsung 삼성전자 squid game theme park (visitors get to dress up in pink jumpsuits and shoot me). my paycheck arrives (25x25 px corner of a poorly drawn ape nft) i almost have the whole jpeg.  i open a drawer inside is a gun. i close the drawer\n",
      "@radiogreenman Another victim vanquished in the \"squid game\"😂😂😂😂\n",
      "Feels like we've started a new era of YouTube\n",
      "\n",
      "Before MrBeast Squid Game and after MrBeast Squid Game\n",
      "I finished making all 456 wireless explosive charges for MrBeast's Squid Game. Go watch it!! Ill send a board to a random person who retweets this (does not include explosive) https://t.co/Q1uk9wDTK9\n",
      "#THEBOYZ The B Japan Q&amp;A 76\n",
      "\n",
      "Please recommend a Korean drama\n",
      "\n",
      "🍐 I recommend \"One the Woman\"!!! Watch Younghoon too!\n",
      "🎁 \"Squid Game\"\n",
      "🌙 \"Squid Game\"...\n",
      "🐿️ \"Reply 1988!\"\n",
      "🦄  \"Squid Game\", \"Crash Landing on You\" https://t.co/yXkVdQxlI9\n",
      "Yep @MrBeast is the 🐐 of YouTube, there’s no debate after that Squid Game video. INSANE, well worth the wait!\n",
      "Imagine being this empty headed to believe this about the DPRK🇰🇵while also missing the point of Squid Game this bad like @DiscussingFilm did. https://t.co/SxG3G52m0g\n",
      "that unverifiable and anonymously sourced squid game story from the cia mouthpiece website is just going to keep circulating huh\n",
      "Seeing Twitter people mald over @MrBeast's version of Squid Game **chef's kiss** 😗👌 https://t.co/Ilf5kOme21\n",
      "Report: North Korean Man Sentenced To Death For Smuggling Copies Of Squid Game https://t.co/w9xNcksTTr\n",
      "@redrxp $Marbles of Squid game \n",
      "Same dev with Squid game project($Squid)\n",
      "$ Marbles once reached the highest price $400, Now is the bottom price.\n",
      " Contract address: 0x9531c509a24ceec710529645fc347341ff9f15ea\n",
      " \n",
      " ❗️The squid game with marbles is the real squid game❗️\n",
      "  Let us go back $400\n",
      "been out long enough for me to now say Squid Game sucks\n",
      "ceo of starting a banger series well after the hype dies down. squid game was sick\n",
      "North Korean man sentenced to death for bootlegging Squid Game https://t.co/Xvm2wlUTUD https://t.co/3OiuEWcTSp\n",
      "@markle_sparklez Eh. Idk. I mean it's his money or whatever so I just vibe with it and I'm not even a fan of him anyway. I feel like it's unnecessary plus the irony of it because Squid Game is the complete opposite.\n",
      "@rasslebaby @RadioFreeAsia Squid game also includes a story line about someone who escaped from North Korea.\n",
      "@KEEMSTAR North koreans already playing squid game the moment they were born\n",
      "🚨 - A North Korean man has been sentenced to death by firing squad after smuggling and selling copies of the hit TV show Squid Game. https://t.co/enmp9K0kux\n",
      "Watched the Mr.Beast Squid Game video and I'm so confused. \n",
      "\n",
      "Like I get it, I enjoyed the idea behind it and everything but;\n",
      "\n",
      "Why did they live?\n",
      "JUST IN: A man is executed by firing squad for smuggling copies of Squid Game into North Korea‼️😳\n",
      "energy booster 4 today svt's squid game 😂\n",
      "\"Hellbound\" is the latest Netflix Korean drama to captivate audiences.\n",
      "\n",
      "The dark fantasy is \"a story about otherworldly beings who appear out of nowhere to issue a decree and condemn individuals to hell,\" according to Netflix. https://t.co/8KWiIbAzT0\n",
      "MrBeast - $456,000 Squid Game in Real Life\n",
      "https://t.co/JzJTOUEboI\n",
      "North Korean man reportedly sentenced to death for smuggling copies of Squid Game. https://t.co/nl2L82R8pb https://t.co/otapDoVJGA\n",
      "@RadioFreeAsia Isn't squid game basically just a documentary of what living in North Korea is like?\n",
      "y’all talking about 067 in mrbeasts squid game video but im tryna find her @ from mrbeasts 1 dollar house video 😂😂 https://t.co/P9KSSE0DWF\n",
      "This how mfs gonna be when they find 067 @ in mrbeasts squid game 😭😭😭\n",
      "\n",
      "#MrBeastSquidGame https://t.co/l8hhyhdP2i\n",
      "Anyone watch squid game? #chucky\n",
      "something about squid game 067’s #MrBeastSquidGame https://t.co/2DJuWW9fyt\n",
      "@CrabsAndScience @ChemicalKevy @NileRed2 @MrBeast $Marbles of Squid game \n",
      "Same dev with Squid game project($Squid)\n",
      "$ Marbles once reached the highest price $400, Now is the bottom price.\n",
      " Contract address: 0x9531c509a24ceec710529645fc347341ff9f15ea\n",
      " \n",
      " ❗️The squid game with marbles is the real squid game❗️\n",
      "  Let us go back $400\n",
      "MrBeast’s Squid Game video hit 1 million views within 9 minutes🤯 https://t.co/dyq54mnVsF\n",
      "And that dictator just sentenced a student to death for smuggling the Squid Game. https://t.co/sQ854F4fvH\n",
      "@RadioFreeAsia $Marbles of Squid game \n",
      "Same dev with Squid game project($Squid)\n",
      "$ Marbles once reached the highest price $400, Now is the bottom price.\n",
      " Contract address: 0x9531c509a24ceec710529645fc347341ff9f15ea\n",
      " \n",
      " ❗️The squid game with marbles is the real squid game❗️\n",
      "  Let us go back $400\n",
      "North Korean student to be executed publicly for watching Squid Game https://t.co/29mAJCGRyC\n",
      "@Eugene_Patilio @the47cat real answer? to teach them about the outside world and to probably make them realize that the system doesn’t work in their society and it’s basically work or die for the north koreans or sum, fake answer? so they can dress up as squid game for halloween :))))\n",
      "@Morecarbons4 I make one tweet about Squid Game...and suddenly it's all about how gullible I am about US propaganda against North Korea...? Lulz.\n",
      "Mr beast squid game is the beginning of the end\n",
      "Squid Game: Cyberjaya https://t.co/1jXfK3F381\n",
      "@MrBeast $Marbles of Squid game \n",
      "Same dev with Squid game project($Squid)\n",
      "$ Marbles once reached the highest price $400, Now is the bottom price.\n",
      " Contract address: 0x9531c509a24ceec710529645fc347341ff9f15ea\n",
      " \n",
      " ❗️The squid game with marbles is the real squid game❗️\n",
      "  Let us go back $400\n",
      "just watched the marble game episode of squid game im so sad https://t.co/1Knm7c0GZR\n",
      "No MrBeast did not waste $3M on his Squid Game video… he spent $3M giving people in his local community jobs, paying local vendors and contractors to put this together so that he could entertain people while giving away $1.5M in prizes.\n",
      "\n",
      "In his Game nobody loses…\n",
      "@NapeMango the whole point of Squid game was that Brawl Stars fucking sucks\n",
      "mrbeast squid game is unbelievably boring\n",
      "I just wanna point out that when South Koreans saw Squid Game they did a general strike, but when Americans saw Squid Game they immediately tried to do it in real life\n",
      "I was player 457 in mrbeast’s squid game watch close to see me\n",
      "@MrBeast @KSI $Marbles of Squid game \n",
      "Same dev with Squid game project($Squid)\n",
      "$ Marbles once reached the highest price $400, Now is the bottom price.\n",
      " Contract address: 0x9531c509a24ceec710529645fc347341ff9f15ea\n",
      " \n",
      " ❗️The squid game with marbles is the real squid game❗️\n",
      "  Let us go back $400\n",
      "Fuck episode 6 of squid game\n",
      "How is @MrBeast Squid game video not on the @youtube trading page? 10 million views in just 4 hours!!\n",
      "@MrBeast There must be another Squid Game with Creators in it!!!!!!!\n",
      "Squid Game Doll x FNF Pico VS Ankha x Huggy Wuggy – Vampire School – Friday Night Funkin' Animation https://t.co/lo36vYqQCC\n",
      "Yeah, that MrBeast Squid Game video was NUTS\n",
      "@Top5Gamingx Squid game@ https://t.co/I5THs6w1m9\n",
      "Mr Beast's Squid Game video goes up today and it may break the internet https://t.co/CHvyZbr9AT\n",
      "the squid game by @MrBeast was NUTS\n",
      "\n",
      "so much respect there for it\n",
      "Our Squid Game with 456 random people competing in exact recreations of every game will be uploaded on Wednesday 👀\n",
      "Just finished watching Mr Beasts squid game! Does anyone reckon it could be critique of capitalism?\n",
      "🦑 SQUIDVERSE 3D 🦑\n",
      "\n",
      "🎮 SQUIDVERSE 3D revolutionary and innovative 3D GAMING and UTILITY project, launching on BSC and bridging to ETH\n",
      "\n",
      "✅P2E Game\n",
      "✅SQUID Staking\n",
      "✅SQUID Bridge\n",
      "✅SQUID NFTs\n",
      "✅SQUID LaunchPad \n",
      "✅ Audit and KYC\n",
      "\n",
      "#NFT #BNB #CRYPTO #META #Metaverse #P2E #Play2Earn https://t.co/Cx8qVZ6d7H\n",
      "Man executed by firing squad for smuggling copies of Squid Game into North Korea\n",
      "\n",
      "https://t.co/UlJS4ZVgqA https://t.co/minKqdqC6L\n",
      "@AlbertsStuff 540 shuv squid game funeral\n",
      "[jj_1986_jj IG Story] 211124 #J_JUN #JAEJOONG;\n",
      "\n",
      "Thank U sosososo Much Director\n",
      "\n",
      "If this was Squid Game, I would have just died https://t.co/AdMhXdQw9X\n",
      "Is it just me who feels like you can understand the meaning of Squid Game and still put on a fun video that eventually funds things for charity?\n",
      "\n",
      "Or are people upset because Mr.Beast didn't actively show that he understands the critique of criticism behind Squid Game?\n",
      "Mr. Beast did an IRL Squid Game...no way...\n",
      "\n",
      "we're watching this right now..\n",
      "\n",
      "https://t.co/9P1e1ivNru https://t.co/14ebT7Z3k0\n",
      "@Dianodrama @YouTubeCreators Maybe they're all busy dealing with @MrBeast  squid game video\n",
      "@Enmanuelvila2 @TheSwiftSociety @deuxmoiworld @taylorswift13 why the hell are you talking about squid game when we have a RED SCARF on GOBLIN?? https://t.co/LUI2zIzLok\n",
      "@RadioFreeAsia Basically, North Korea's injustice system is the ‘Squid Game.’😳\n",
      "Take this \"cursed\" image\n",
      "Who else hyped for @MrBeast Squid Game? ❤\n",
      "#SquidGame #mrbeast #MrBeastSquidGame #mrbeastgame https://t.co/BcgGsK31es\n",
      "Lemme show you the real Squid Game. https://t.co/E5gsdFUEBp\n",
      "Just watched @MrBeast squid game and he definitely nailed it. https://t.co/ToykugStEa\n",
      "MrBeast Squid Game now has 2M likes.\n",
      "@brekkykins What’d he do this time or is it the squid game thing\n",
      "MR. BEAST IRL SQUID GAME OUT NOWWW WTFFFF IT'S SO REALLL 😭\n",
      "squid game literally being an anti-capitalist show too like..\n",
      "067 in the Mr.Beast squid game vid 😍😍😍 https://t.co/2VknnMUwVy\n",
      "@RadioFreeAsia Leaked courtroom recording of the squid game case https://t.co/L4DLWGOxw9\n",
      "gonna go mr beast when she squid on my game\n",
      "The Mr.Beast squid game video was sooooo underwhelming 😭\n",
      "this definitely did not happen bc it was squid game on there, theres a giant media flashdrive trafficking industry in north korea https://t.co/Oj3xQG7Ygy\n",
      "@theheraldsun Squid Game for realz...\n",
      "You're telling me a Squid played that game? https://t.co/O7wH8hgdgE\n",
      "@MrBeast the fact that its so well done it likes doesn't have every single detail in squid game but this was a banger and a youtuber doing this with 456 people that's insane big up Mr beast  🙌🙌\n",
      "In just 4 hours, MrBeast Squid Game is growing historically fast. It is MrBeast's fastest growing video.\n",
      "@MrBeast can u pls release a behind the scenes squid game video\n",
      "reverse SQUID GAME https://t.co/QylPdQg8MY\n",
      "Squid Game // Alice in Borderland https://t.co/X8kVw3ZHCg\n",
      "I've just watched episode S01 | E02 of Squid Game! #squidgames  https://t.co/3f9YYbmsbn #tvtime https://t.co/Yvw7nX85RQ\n",
      "@deitydrm Calling me a dumbass you seem to be only calling out him but not everyone else for doing a squid game type video\n",
      "Y'all keep calling him from squid game and forgetting about Train To Busan https://t.co/6WdqkXK6Xu\n",
      "My sister just asked me if @MrBeast 's squid game will have killing or not. I don't know if I should laugh at her for being stupid or be worried that I might be living with a future serial killer\n",
      "They just gave a man the death sentence in North Korea for slangin squid game tapes bro 😬\n",
      "@MrBeast When you 100% understand the themes of Squid Game...\n",
      "mr beast squid game is a lot like society\n",
      "MRBEAST RECREATED SQUID GAME IN REAL LIFE 🤯 https://t.co/GsCQSLz8xC\n",
      "Mr beast squid game video is actually class on YouTube ✌🏼👏🏼👏🏼👏🏼\n",
      "Mr.Beast absolutely nailed with this squid game legend 🔥 #MrBeastSquidGame #mrbeast https://t.co/kkEhdBx30m\n",
      "I want behind the scenes of mrbeast squid game\n",
      "@CatarinaHelm @memebigjad @VaushV Tell us you haven't watched Squid Game without telling us you haven't watched Squid Game.\n",
      "squid game irl did not disappoint🥳💙\n",
      "STAN 067 FROM MR BEAST SQUID GAME https://t.co/UFwRkIUFdY\n",
      "Training For Squid Game. \n",
      "\n",
      "Not Competing. Just The Dude That Executes Ppl Who Fail The 2nd Game. https://t.co/IQQ7ilSaPl\n",
      "@dreamwastaken i cant believe they cut you out of the mrbeast squid game video https://t.co/XQxeHTHNct\n",
      "I’m going to put the squid game robot in my ass https://t.co/oYOU3gzUUl\n",
      "mr. beasts squid game video is sick af🔥\n",
      "squid game giant doll could never 😗 #GOSE_SebongHigh #세븐틴 @pledis_17 https://t.co/YLZqTYbnpM\n",
      "@RamboEdits @MrBeast Shut up!\n",
      "You can't even Recreate Squid Game In Real Life\n",
      "North Korean sentenced to death after students caught watching Squid Game \n",
      "\n",
      "#northkorea #news\n",
      "\n",
      "https://t.co/Y4cZZGsyy5\n",
      "wish we werent in the insane dystopian timeline where some guy recreated squid game in real life for a funny\n",
      "THIS IS SUCH AN ODD GROUP OF PEOPLE AND THE FACT THEYRE WATCHING THE MR BEAST SQUID GAME VIDEO??!!??!? https://t.co/WbxpYhNMus\n",
      "@ReticulatedS Squid game writers: We're making this series to show just how bad capitalism in South Korea really is\n",
      "\n",
      "North Korea: lmao check this out *executes guy*\n",
      "@AlbertsStuff Your in the squid game?\n",
      "in conclusion after watching mr beasts squid game : women 💕 https://t.co/R6aMOULk4R\n",
      "girls before you think he’s loyal go check if he’s following # 67 from @MrBeast ‘s squid game\n",
      "After watching that mr beast squid game video “all of u YouTubers who made squid game videos may as well go delete your videos.\n",
      "@MrBeast The Squid game is not only a virtual game, but also an ongoing reality and lifestyle！ https://t.co/MAt1MT7rbs\n",
      "REAL LIFE SQUID GAME WITH @MrBeast WAS INSANE DUDE, I WOKE UP EARLY FOR THE VIDEO, EVERYTHING WAS SPOT ON ASF. MY DAD WOULD BE AMAZED WHEN WE WATCH IT LATER TOGETHER !!\n",
      "13/13 would survive squid game @pledis_17 #GOSE_SebongHigh https://t.co/w6As5xEVbd\n",
      "pov: you're the doll in squid game that self-destructive after seeing this hoseok selca https://t.co/RfsLgv4MEv\n",
      "el squid game de mrbeast una locura\n",
      "stfu about shit like Squid game bruh watch A nagy ho-ho-horgász instead\n",
      "ni-ki squid game?!?😭😭 https://t.co/RPJvWXCc9c\n",
      "@squid_holders @MrBeast The squid game community is experiencing an earth-shattering community self-help, which will definitely stir the blockchain world!🚀🚀🚀 https://t.co/d4zNJfCro5\n",
      "@KSI @MrBeast Squid game was trash. Stop milking it u frauds with no taste. Imagine having the taste of a 15 y/o couldn’t be me.\n",
      "North Korea Sentences Man to Death for Smuggling Copies of Squid Game https://t.co/MDLPr7ep4Q\n",
      "Alright mrbeast DID THAT with the squid game video\n",
      "Why on earth was there so much hype for Squid Game? It’s fucking crap.\n",
      "choi seungcheol would have won squid game https://t.co/kDxKDJkyZo\n",
      "Why is Fundy in the shortest shots in the background and never speaks in Mr Beasts Squid Game? He’s just existing??? https://t.co/YNmYZqTKPc\n",
      "Waa aning squid game ni mr beast uy\n",
      "$456,000 Squid Game In Real Life! https://t.co/S2Mxo8kqkQ via @YouTube\n",
      "I won Mr.Beast’s squid game, you just couldn’t see me.\n",
      "Mr. Beast Squid game video was 🔥 the place was really spot on ngl\n",
      "Well, today I learned 2 things: 1. What it’s like to make a whole season of squid game in 20 mins. #MrBeastSquidGame AND 2. Squid Game is banned in North Korea. #TheMoreYouKnow\n",
      "So, kinda like Squid Game then, except in reverse. https://t.co/I2RRA1bqWl\n",
      "and then somewhere this flipped where everybody praises chaos for being less bad. SMT was the REAL squid game where everyone missed the point (i am joking. no im not. yes i am)\n",
      "$456,000 Squid Game In Real Life! https://t.co/XSlGb5ZkEV via @YouTube\n",
      "\n",
      "Now this is content I signed up for .\n",
      "@MrBeast is a beast 🤯\n",
      "ok that squid game irl by mr beast was lit\n",
      "Nigga Kim said bet I’ll show y’all a squid game https://t.co/3IHav2idhU\n",
      "People act like someone not getting the message of something or simply not caring is the end of the world\n",
      "\n",
      "Who cares. You're not clever for pointing out the irony of Squid Game merch\n",
      "@Naija_PR Not because of smuggling squid game, buh south korean film (i.e squid game e.t.c) are illegal and banned in North Korea\n",
      "what if seungyeop was on squid game...?!🦑\n",
      "\n",
      "#ELAST #SEUNGYEOP #승엽 @ELASTofficial https://t.co/n0Nv9vbeOK\n",
      "@ApeKidsClub Squid game ape!\n",
      "$456,000 Squid Game In Real Life! https://t.co/yP5UEFmqsz via @YouTube @MrBeast\n",
      "my sister watched an episode and a half of squid game and she thinks ilnam is a girlboss and that sangwoo and gihun arent scrunklies???\n",
      "Part 1 of my POV for @TeamPWR 's Squid Game Tourney is now up, go check it out! https://t.co/eztnYRHuXp #PWRUP\n",
      "The Mr. Beast squid game is wild\n",
      "Omg can’t believe mr beast actually killed the people in his squid game\n",
      "@natmiletic Yes 😊last week we watched Squid Game on Netflix\n",
      "mrbeast squid game happened, cry about it twitter\n",
      "also imagine thinking squid game would be the piece of s korean media the the north would have a problem with 😭 so fawking stupid\n",
      "Squid Game #오징어게임 🦑 https://t.co/xVyoUx6CAe\n",
      "@TheSwiftSociety @deuxmoiworld @taylorswift13 squid game season 2 is coming https://t.co/UI3gYfvJP8\n",
      "From fantasy to fruition 🦑 Check out this real life Squid Game simulation 😤 https://t.co/YNUx9jGkpb\n",
      "Squid World First Game is coming within 10 days from now. Check it out ⁦@SquidworldGames⁩ https://t.co/FzlU0QeVql\n",
      "not sure if @ink_trash's Video Game inspired Squid Game art has me terrified or a little nostalgic. maybe both? https://t.co/ZnHndhhzdc\n",
      "rat race (2001) walked so that squid game (2021) could run\n",
      "i hope mr beast uses real guns in this squid game remake\n",
      "Real-life Squid Game recreates Netflix show with $456k prize https://t.co/MwTUFJUpVE\n",
      "@SquidGameEpic Yeah sorry but I’m not Squid Game Epic Pro Fan in my level, you want your real name?\n",
      "@MrBeast Hi mr.beast what about you invite squid game cast to play\n",
      "im gonna kms i just realized gong yoo was in fact in squid game\n",
      "@facebookvillain They can't even come up with lies that make sense. Squid Game is anti-capitalist\n",
      "Calling it now. @MrBeast Squid Game video will do over 40M-50M views in 24 hours… and that is my CONSERVATIVE ESTIMATE.\n",
      "\n",
      "Don’t @ me.\n",
      "squid game https://t.co/NdEOXdxfc1\n",
      "squid game is splatoon btw …… https://t.co/PPxtMVfdhU\n",
      "Reacting to MrBeast's Squid Game in Real Life! https://t.co/o8GObIxhgO\n",
      "mr beast ACTUALLY remade squid game 😭\n",
      "@NapeMango you watched squid game and was entertained by people dying. it was produced by Netflix who has a lot of money, something something capitalism bad.\n",
      "if you haven't watched @MrBeast video on Squid Game, you need to👏 leave a comment saying you are from @SquidMoonCoin $SQM 🚀\n",
      "\n",
      "https://t.co/5blXSDHO2G\n",
      "#StopAsianHate “We recreated Squid Game with 456 random people but we excluded Asians.” #racist #MrBeast  #Racism 🙄🙄🙄 https://t.co/ez0cWrYCli\n",
      "hajoon in squid game as hwang junho (2021) https://t.co/4l8gGGyq78\n",
      "@AlbertsStuff people simping for 067 in squid game now for 067 in BEAST GAMES\n",
      "Office @MrBeast Squid Game watch party https://t.co/1VGqXhzA6s\n",
      "OMFG watching Mr.Beast Squid Game was SO INTENSE Congrats to the winner!!\n",
      "Animal Crossing Squid Game stickers coming soon! 🐶🐱🦑 https://t.co/gTwLxPbeOi\n",
      "@APompliano @MrBeast It took like 30 years to remake the karate kid, and this guy remaking squid game before I even get through one episode. \n",
      "\n",
      "Time flies 😂\n",
      "GUYS who’s goona watch Mr Beasts anticipated Squid game video on YouTube #lit #squidgame\n",
      "@KEEMSTAR On the same day MrBeast releases his long promoted Squid Game video \"news artical\" comes out about North Korea about same topic, this is pushing agenda 101.\n",
      "homeless guy asked for some spare. instead I said to him to watch Squid Game on Netflix. he thanked me for opening his eyes\n",
      "@binance @FCPorto $Marbles of Squid game \n",
      "Same dev with Squid game project($Squid)\n",
      "$ Marbles once reached the highest price $400, Now is the bottom price.\n",
      " Contract address: 0x9531c509a24ceec710529645fc347341ff9f15ea\n",
      " \n",
      " ❗️The squid game with marbles is the real squid game❗️\n",
      "  Let us go back $400\n",
      "Winner of @MrBeast Squid Game 🏆\n",
      "\n",
      "Thank you so much for this opportunity @MrBeast and @BrawlStars for making this possible! https://t.co/h5gMHRkGOl\n",
      "I saw the mr beast squid game\n",
      "\n",
      "I was disappointed that theres no actual killing\n",
      "\n",
      "Ive been watching too much @meatcanyon to think that mr beast would continue to slowly be evil\n",
      "Solar did an impersonation of Saebyeok of Squid Game~\n",
      "\n",
      "#마마무 #MAMAMOO\n",
      "#솔라 #SOLAR\n",
      "@RBW_MAMAMOO\n",
      "\n",
      "https://t.co/qUwhS1YAGx\n",
      "@CasasBahia Vou assistir ao mr beast @MrBeast squid game\n",
      "$456,000 Squid Game In Real Life! https://t.co/MM07vEcUsn via @YouTube\n",
      "@justinsuntron @DeutscheBoerse @vaneck_us $Marbles of Squid game \n",
      "Same dev with Squid game project($Squid)\n",
      "$ Marbles once reached the highest price $400, Now is the bottom price.\n",
      " Contract address: 0x9531c509a24ceec710529645fc347341ff9f15ea\n",
      " \n",
      " ❗️The squid game with marbles is the real squid game❗️\n",
      "  Let us go back $400\n",
      "@ShibainuCoin @Trees_token Squid game season 2 “good morning contestants, today you’ll be playing for 10 billion shib, you have to complete a game of red rover, if you fail to break the hands when they call you over, you will be eliminated.”\n",
      "$456,000 Squid Game In Real Life! https://t.co/c87WkxCcQs via @YouTube\n",
      "@TruegritG @Dljwinter1 Squid game\n",
      "sorry guys cant talk …. playing squid game …..\n",
      "squid game https://t.co/8Hu2Ak9nC2\n",
      "@ApeKidsClub Squid game ape kid\n",
      "@EthereumMeta @Metaverse Beware of this project, this is the result of the contract address of this project on https://t.co/jdzD1jjVot... not a financial advice DYOR before jumping in! This might be the next SQUID GAME careful guys ✌️ https://t.co/BgBNzJNuNy\n",
      "The @MrBeast Squid Game was insane! \n",
      "\n",
      "The sets, videography, editing &amp; format was incredible. \n",
      "\n",
      "You’re a genius, Jimmy!\n",
      "#Squid game in the internal test, you can experience https://t.co/N4h5ot7e3X\n",
      "  #SquidGame #SquidGameToken\n",
      "#CherrySwap #GameFi #BSC @cz_binance👇👇👇 https://t.co/01qqut5WOc\n",
      "Dude, the set and production of @MrBeast's live squid game WAS DOPE!!! 👏🏻💯\n",
      "@chhopsky but in the case of mr beast, he didn’t force ppl to participate, he didn’t kill anyone, and he paid them all a decent amount of money. He took pretty much all the bad parts about squid game and got rid of them\n",
      "$456,000 Squid Game In Real Life! https://t.co/g6BiTpftFr via @YouTube \n",
      "\n",
      "YouTube will never be the same again\n",
      "@NolansRollin Squid game=likes\n",
      "@news_of_bsc $Marbles of Squid game \n",
      "Same dev with Squid game project($Squid)\n",
      "$ Marbles once reached the highest price $400, Now is the bottom price.\n",
      " Contract address: 0x9531c509a24ceec710529645fc347341ff9f15ea\n",
      " \n",
      " ❗️The squid game with marbles is the real squid game❗️\n",
      "  Let us go back $400\n",
      "$456,000 Squid Game In Real Life! https://t.co/WUCld7S0rh via @YouTube THIS IS WAS INSANE MR BEAST IS CRAZY\n",
      "@news_of_bsc @coin_racer $Marbles of Squid game \n",
      "Same dev with Squid game project($Squid)\n",
      "$ Marbles once reached the highest price $400, Now is the bottom price.\n",
      " Contract address: 0x9531c509a24ceec710529645fc347341ff9f15ea\n",
      " \n",
      " ❗️The squid game with marbles is the real squid game❗️\n",
      "  Let us go back $400\n",
      "North Korea should allow they people go watch The Squid Game Wtf 😳\n",
      "Mr Beast Squid game video is fucking CRAZYYYYY What????\n",
      "@jenownsu @chartdata @RIAA @jackharlow Nah I think squid game girl is king of Asians now\n",
      "it’s time to let squid game go\n",
      "mrbeast squid game was a 9/10 it was instresting and  i didnt see much youtubers it was noice\n",
      "@panda_bs_ Brawl stars squid game 🌚\n",
      "@gate_io $Marbles of Squid game \n",
      "Same dev with Squid game project($Squid)\n",
      "$ Marbles once reached the highest price $400, Now is the bottom price.\n",
      " Contract address: 0x9531c509a24ceec710529645fc347341ff9f15ea\n",
      " \n",
      " ❗️The squid game with marbles is the real squid game❗️\n",
      "  Let us go back $400\n",
      "@SAWARESEVEN why the shooter from squid game tho\n",
      "Mr beast squid game was legit\n",
      "AAAA I'll watch the Squid Game when I get back from school\n",
      "ok finally watched mr beast’s squid game video and CAN WE TALK ABOUT THAT GLASS BRIDGE SET???? GOD DAMN\n",
      "Trust me the squid game is real me david can't me more dead than really dead\n",
      "@chhopsky I’m indifferent on mr beast, but I personally don’t see a huge problem. The prob with the squid game society is that these people in crippling debt are seemingly forced/exploited to participate in these “games” for the enjoyment of the ultra wealthy (essentially capitalism)\n",
      "@chocobargd Squid Game Epic Pro Fan\n",
      "Literally the real life edition of “squid game but the challenge is to shut the fuck up” https://t.co/3py093HOKz\n",
      "@CharklesTimon @cnni You and me both. Hellbound is NOT the new Squid Game. Hellbound is Hellbound. Squid Game is Squid Game.\n",
      "Squid Game from MrBeast &amp; Money from Brawl Stars https://t.co/Y0P6AHuAKK\n",
      "@JM_BKEX $Marbles of Squid game \n",
      "Same dev with Squid game project($Squid)\n",
      "$ Marbles once reached the highest price $400, Now is the bottom price.\n",
      " Contract address: 0x9531c509a24ceec710529645fc347341ff9f15ea\n",
      " \n",
      " ❗️The squid game with marbles is the real squid game❗️\n",
      "  Let us go back $400\n",
      "🚨 | NEW: Mr Beast’s Squid Game video hit 1 million views within 9 minutes\n",
      "i am dead\n",
      "ily player 067\n",
      "\n",
      "(i can't cry, im in class 😭)\n",
      "\n",
      "GO WATCH MRBEAST'S SQUID GAME VIDEO https://t.co/eyhNcjDmML\n",
      "@MrBeast are you killing people in your squid game?\n",
      "// tw squid game\n",
      "\n",
      "Sae-Byeok and Ji-Yeong from Squid Game are aro4aro! They are both aromantics, Sae-Byeok is pansexual and Ji-Yeong is a lesbian https://t.co/NVtKi2PVfz\n",
      "@VaushV Can't believe they made the fictional land of North Korea (which was mentioned in the hit Netflix show squid game) into a real place\n",
      "Maybe I should see Squid Game.\n",
      "i won the mr beast squid game :) https://t.co/bxZ4Zf2VRp\n",
      "Wait... they use Squid Game ver for Dreaming Night www🤣 #JO1 #WANDERING #Dreaming_Night https://t.co/nfaAx6enxh\n",
      "squid game has become the new among us for shitty ads https://t.co/b1JyLD3NxR\n",
      "The Mr Beast Squid Game video has 1M views in just 10 mins. This guy is the undisputed king of YouTube. https://t.co/HgJ49QffVr\n",
      "Squid Game has been filmed and now just needs editing, it is the craziest video we’ve ever filmed times 100!\n",
      "\n",
      "Should be up early next week :)\n",
      "@mishcoIlins squid game was a decent series until ppl started acting up 💀 tired\n",
      "Rocky and his version of that iconic squid game - Gong yoo scene !! He succeeded 🤩\n",
      "\n",
      "#아스트로 #라키 https://t.co/mfAnAV8A3x\n",
      "Mr Beast’s Squid Game was a surreal experience! Go watch his video now! #174 https://t.co/SqzmSfufKg\n",
      "Damnnnnnn. @MrBeast that irl squid game is actually fire as fuck. Good job on handling 456 people in a room. Ain't no fucking way I could have.\n",
      "Squid Game The Untold Truth https://t.co/8vfQPfNgJi\n",
      "$456,000 Squid Game In Real Life! https://t.co/NiHXxBeJrE\n",
      "@MrBeast look like Squid Game !!! (the show on Netflix)\n",
      "i feel bad for the youtubers who posted a video the same time mrbeast dropped his squid game video, like bruh what's even the point now HAHSHASHAHSAHS\n",
      "@BKEXGlobal @JM_BKEX $Marbles of Squid game \n",
      "Same dev with Squid game project($Squid)\n",
      "$ Marbles once reached the highest price $400, Now is the bottom price.\n",
      " Contract address: 0x9531c509a24ceec710529645fc347341ff9f15ea\n",
      " \n",
      " ❗️The squid game with marbles is the real squid game❗️\n",
      "  Let us go back $400\n",
      "Anyone else disturbed about mr beast making the squid game video?? Like is it just me?\n",
      "North Korean man who smuggled copy of Squid Game sentenced to firing squad death https://t.co/tVB8g196h5\n",
      "Unfortunate North Korean Student: *Murdered for sharing copies of Squid Game*\n",
      "\n",
      "Keemstar: *Makes distasteful joke about it*\n",
      "\n",
      "Can this fuck also retire from life?\n",
      "Squid game in real life ! @MrBeast done the impossible ❤️❤️❤️\n",
      "https://t.co/pGYPwthqDx\n",
      "Go watch it\n",
      "Who tf watches squid game and thinks “yeah I wanna try that”? Are u the old man?? https://t.co/rA7lIXsZGg\n",
      "where is 3LAMESTUDIO so they can make rancid squid game content\n",
      "@maxthesnowflak3 @joshuaknowsball kim jong un after learning through rapcom on twitter that someone sneaked squid game into the country https://t.co/0PZsAVHc0f\n",
      "@joon_ace @MrBeast Even penguinz0s squid game had actual shooting\n",
      "ALERT: North Korean man who smuggled copies of Squid Game has been sentenced to death after students were caught watching the series\n",
      "\n",
      "https://t.co/xVTQZRyyAB\n",
      "North Korean sentenced to death after students caught watching Squid Game https://t.co/TGzGCYvB0W\n",
      "karl as a squid game guard is kinda fruity like whats he trying to guard?? his feeling for men!?!?!\n",
      "The Squid Game premise made real by North Korea. https://t.co/p0e3OMR9bf\n",
      "No lie @MrBeast is the GOAT for this 👏🏾👏🏾👏🏾👏🏾 REAL LIFE SQUID GAME\n",
      "https://t.co/X3hnERft0a\n",
      "Hurley came to our section at the end of the game and yells let’s fcking go…I immediately went into the ocean and wrestled an Orca and punched a squid. I will die for that man @dhurley15\n",
      "I WAS IN MR MR BEASTS SQUID GAME!!\n",
      "https://t.co/508t1zJsVK https://t.co/1z2sU46mwk\n",
      "MR BEAST RELEASED THE SQUID GAME VID GONNA WATCH IT NOW\n",
      "@binance @cz_binance $Marbles of Squid game \n",
      "Same dev with Squid game project($Squid)\n",
      "$ Marbles once reached the highest price $400, Now is the bottom price.\n",
      " Contract address: 0x9531c509a24ceec710529645fc347341ff9f15ea\n",
      " \n",
      " ❗️The squid game with marbles is the real squid game❗️\n",
      "  Let us go back $400\n",
      "@RadioFreeAsia The fact that doesn’t make sense about this is that Squid Game is an indictment on SOUTH Korean society, and how their brutal form of capitalism leaves people to die. You’d think that Squid Game would be celebrated by NK authorities and be required watching, not contraband.\n",
      "//squid game spoilers.\n",
      ".\n",
      ".\n",
      ".\n",
      "im re watching squid game because the first time i kind of skipped through at times and i also wanted a chance to watch the show without the englih dub and THE GAURDS FUCKED A DEAD WOMAN?? WHAT THE FUCK HOW DID I MISS THAT???\n",
      "So the Mr Beast Squid Game thing.....\n",
      "\n",
      "aren't they missing the whole point of the show or.....\n",
      "why is it literally the two girls from squid game i cant do this\n",
      "Dangerous in Love (Squid Game Ver.) - @5ecretNumber\n",
      "\n",
      "zuu as boneka mampang https://t.co/WqwvYrhnuV\n",
      "Black sheep, Squid game and Chrome hearts🦅 https://t.co/971IkduZ6o\n",
      "Squid Game (Taylor's Version) is coming https://t.co/st6v28Zktq\n",
      "Why is squid a game?\n",
      "$456,000 Squid Game In Real Life! https://t.co/YIaGTWIlVQ via @YouTube\n",
      "Mr Beast’s Squid Game video hit 1 million views within 10 minutes!\n",
      "\n",
      "Congratulations 🎉🎉 https://t.co/9eyiHKORgT\n",
      "I see why everyone says episode 6 of Squid Game is hard to watch.\n",
      "\n",
      "Haven't been this sad over something since December 1st, 2019.\n",
      "I gotta watch that mr beast squid game video after survivor\n",
      "@ApeKidsClub Squid game!!!\n",
      "Human rights violations? Nuclear threats? No, says Twitter. North Korea deserves to trend because some guy was executed for watching Squid Game.\n",
      "HELP THE JET BRIDGE LOOK JUST LIKE THE ONE FROM SQUID GAME https://t.co/9OVhw5Uwkp\n",
      "squid game https://t.co/ZBKQWigmNQ\n",
      "mr.beast hosted a squid game in real life and of course i wasn’t apart of it 🥲\n",
      "@chrisTyson My mom made this cookie of the Squid Game guys! https://t.co/kNJdbr993w\n",
      "$456,000 Squid Game In Real Life! https://t.co/7NJFVz73Vf via @YouTube\n",
      "This @MrBeast Squid Game video is insane!!\n",
      "$456,000 Squid Game In Real Life! - YouTube https://t.co/CxOHwxxLZq\n",
      "Lost a clam game because my team squid partied at single digit points left and wiped :') https://t.co/usbXs5Y3aG\n",
      "I could live the rest of my life not knowing what a squid game is.\n",
      "taylor in squid game??? https://t.co/ujgI9G8Ty3\n",
      "Wouldn’t it be…good for their people to watch Squid Game? A show about the shortcomings and consequences of unfettered capitalism? https://t.co/Q7somIs9k0\n",
      "@RadioFreeAsia \"Your honor, Squid Game\"\n",
      "\n",
      "\"Death\"\n",
      "North Korea don’t fw squid game das tuff\n",
      "@schweepus He looks like the squid game buddy\n",
      "I delayed posting my video till tomorrow because of Mr. Beast, cause he will swallow my small 2K views with his Squid Game video! \n",
      "\n",
      "1.1 Million Views in 11 Minutes. Wow\n",
      "Tita talkin to me bout squid game LMAOO\n",
      "i’m on episode 6 of squid game i heard this one makes people cry so i’m Scared\n",
      "the real squid game yak berarti https://t.co/lPJjVy8LNP\n",
      "@OrwellNGoode No fucking way is that show worth risking your life to watch\n",
      "\n",
      "Could you imagine wasting that on Squid Game?\n",
      "@natmiletic When Squid Game came out\n",
      "@MrBeast recreates SQUID GAME!\n",
      "\n",
      "Check it out:\n",
      "\n",
      "https://t.co/zxybRoGAG4\n",
      "The madman did it. @MrBeast recreated all of Squid Game. https://t.co/qSZ8dJhlcA\n",
      "a e i o u  shot!\n",
      "New drop E-pig SQ game collection 10/10\n",
      "Inspired by Squid Game series \n",
      "\n",
      "0.005-0.008 polygon \n",
      "On @opensea \n",
      "See you next collection!\n",
      "#NFTs #NFTTHAILAND #NFTdrop #NFTshill #NFTCommmunity #openseanfts #SquidGame https://t.co/rfcC3I5OB8\n",
      "@bananashlamma @MrBeast The irony here also being that Squid Game generated millions to a company. I've watched a lot of in deep analysis of Squid Game, all sad and fascinating to watch, but c'mon. Capitalism has and always would be here and you must've not known shit about for a TV series to do so.\n",
      "\"There are many Ki-Huns and Sang-Woos around us, but it is more difficult to spot them, because the destructive habits that lead to poverty and despair thrive behind closed doors, and in technologically mediated environments such as online gambling\" https://t.co/GGjuYUp0Lv\n",
      "this is squid game right https://t.co/ArahmRDO5R\n",
      "@PRINTMYMINT I have held a few for almost six months, they keep giving me airdrops from quality artists and one is even doing a squid game for ether prize.  There has to be reason to hold, this is obvious but people really aren’t doing that\n",
      "Irl squid game was fire, ahout out to jimmy\n",
      "@MaiWaifu46 @MrBeast XD the way I see myself dying in red light, green light is when the light goes green I start to run and I make a wrong step and trip XD. I can imagine you and me in squid game and I start hauling during green light and I trip and die and you're like what the hell just happened XD\n",
      "North Korea? You mean like in Squid Game? https://t.co/QDYyTMnwKT\n",
      "me when i find out watching squid game on netflix goes against the message of squid game (im fueling capitalism) https://t.co/Sss6Znqxdb\n",
      "@stevewilldoit Especially some satanic squid game bullshit\n",
      "Horrendous\n",
      "\n",
      "#NorthKorea \n",
      "\n",
      "North Korean sentenced to death after students caught watching Squid Game https://t.co/aBlmlHkrVo\n",
      "this... this is how some of you *chose* to watch Squid Game? https://t.co/1NyKXlcGpL\n",
      "Bravo MrBeast\n",
      "\n",
      "$456,000 Squid Game In Real Life! https://t.co/JXIRiGovSD via @YouTube\n",
      "Me Beast did real life squid game &amp; gave $456k to winner. https://t.co/BTlcl8X0VB\n",
      "A smuggler who sold copies of Netflix’s “Squid Game” in North Korea has been sentenced to death by firing squad\n",
      "\n",
      "A student who bought 1 of the flash drives received a life sentence, while 6 others who watched the footage have been sentenced to 5 years of hard labor https://t.co/KEreU0BjvM\n",
      "Also you cannot just “re-enact” Squid Game like this—the fact that losing=death is a critical part of the message that Hwang Dong-hyuk was trying to convey!\n",
      "Mr Beast should have included a sex scene to make it (squid game episode) fully authentic smh.\n",
      "I was gonna make a post regarding Squid Game hosted by Mr. Beast, but you can actually get copyright striked on Twitter. \n",
      "\n",
      "So I can't figure that out.\n",
      "according to deuxmoi taylor was having lunch with gong yoo (he was in squid game) https://t.co/7I0b4T8ZCd\n",
      "$456,000 Squid Game In Real Life! https://t.co/FLGpSWbUSl via @YouTube\n",
      "mrbeast squid game was had me shittin myself in suspense bro #MrBeastSquidGame\n",
      "The Mr Beast Squid Game video is insane!\n",
      "@MrBeast YOU'RE NOT JOKING WHEN U SAID U WANNA REMAKE SQUID GAME HOLY\n",
      "@joltbtw @MrBeast Every dislike is a Karen that doesn’t want their kids seeing squid game 😂😂😂\n",
      "MR. BEAST SQUID GAME FINALLY!!!\n",
      "In a shocking act of self-sacrifice, Collins has removed both Bridges and herself from the final round leaving Christopher Luxon as the victor.\n",
      "\n",
      "Join us here for the next Squid Game for National Party Leadership in a few months. https://t.co/2Bu8UuWp3Z\n",
      "BREAKING!\n",
      "\n",
      "Initiating with Chat Together, Squid Game marked the founding steps of Metaverse. We will not stop there.\n",
      "\n",
      "The end of Phase 4 is expected to introduce an inside-out renovated Binemon with the application of Virtual Reality (VR) tech in all aspects of Binemon #Metaverse https://t.co/wE4kA0mYTw\n",
      "$456,000 Squid Game In Real Life! https://t.co/BYBKUbxq0K via @YouTube\n",
      "squid game (2021)\n",
      "\n",
      "★★★★½ https://t.co/YFe5NhGCsP\n",
      "he literally spent abt 3,5 mill to recreate squid game to one 25 min long video ffs https://t.co/CGHORJvrN1\n",
      "I HQVENT WATCHED MR BEASTS SQUID GAME VIDEO YET WAIT\n"
     ]
    }
   ],
   "source": [
    "for i in squid_pred[squid_pred[-1] == 1].index:\n",
    "    print(squid_df.iloc[i])"
   ],
   "metadata": {
    "collapsed": false,
    "pycharm": {
     "name": "#%%\n"
    }
   }
  },
  {
   "cell_type": "code",
   "execution_count": null,
   "outputs": [],
   "source": [],
   "metadata": {
    "collapsed": false,
    "pycharm": {
     "name": "#%%\n"
    }
   }
  }
 ]
}