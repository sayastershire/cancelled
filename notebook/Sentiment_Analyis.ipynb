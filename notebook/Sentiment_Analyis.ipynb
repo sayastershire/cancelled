{
 "nbformat": 4,
 "nbformat_minor": 0,
 "metadata": {
  "colab": {
   "name": "Sentiment Analyis.ipynb",
   "provenance": [],
   "collapsed_sections": []
  },
  "kernelspec": {
   "name": "python3",
   "display_name": "Python 3"
  },
  "language_info": {
   "name": "python"
  },
  "accelerator": "GPU"
 },
 "cells": [
  {
   "cell_type": "markdown",
   "source": [
    "# Sentiment Analysis"
   ],
   "metadata": {
    "collapsed": false
   }
  },
  {
   "cell_type": "markdown",
   "source": [
    "## Preparation"
   ],
   "metadata": {
    "collapsed": false
   }
  },
  {
   "cell_type": "code",
   "metadata": {
    "id": "JVMqibFVc1ci"
   },
   "source": [
    "import pandas as pd\n",
    "import numpy as np"
   ],
   "execution_count": 1,
   "outputs": []
  },
  {
   "cell_type": "markdown",
   "source": [
    "## Data loading"
   ],
   "metadata": {
    "collapsed": false
   }
  },
  {
   "cell_type": "code",
   "metadata": {
    "colab": {
     "base_uri": "https://localhost:8080/",
     "height": 195
    },
    "id": "VgRpPip8dkHW",
    "outputId": "8057e2f9-8682-47ef-c24b-e3fc821060cf"
   },
   "source": [
    "df = pd.read_csv(\"../dataset/sentiment-analysis/Reddit_Data.csv\").rename(columns = {\"clean_comment\":\"clean_text\"}).append(pd.read_csv(\"../dataset/sentiment-analysis/Twitter_Data.csv\"))\n",
    "df.head()"
   ],
   "execution_count": 2,
   "outputs": [
    {
     "data": {
      "text/plain": "                                          clean_text  category\n0   family mormon have never tried explain them t...       1.0\n1  buddhism has very much lot compatible with chr...       1.0\n2  seriously don say thing first all they won get...      -1.0\n3  what you have learned yours and only yours wha...       0.0\n4  for your own benefit you may want read living ...       1.0",
      "text/html": "<div>\n<style scoped>\n    .dataframe tbody tr th:only-of-type {\n        vertical-align: middle;\n    }\n\n    .dataframe tbody tr th {\n        vertical-align: top;\n    }\n\n    .dataframe thead th {\n        text-align: right;\n    }\n</style>\n<table border=\"1\" class=\"dataframe\">\n  <thead>\n    <tr style=\"text-align: right;\">\n      <th></th>\n      <th>clean_text</th>\n      <th>category</th>\n    </tr>\n  </thead>\n  <tbody>\n    <tr>\n      <th>0</th>\n      <td>family mormon have never tried explain them t...</td>\n      <td>1.0</td>\n    </tr>\n    <tr>\n      <th>1</th>\n      <td>buddhism has very much lot compatible with chr...</td>\n      <td>1.0</td>\n    </tr>\n    <tr>\n      <th>2</th>\n      <td>seriously don say thing first all they won get...</td>\n      <td>-1.0</td>\n    </tr>\n    <tr>\n      <th>3</th>\n      <td>what you have learned yours and only yours wha...</td>\n      <td>0.0</td>\n    </tr>\n    <tr>\n      <th>4</th>\n      <td>for your own benefit you may want read living ...</td>\n      <td>1.0</td>\n    </tr>\n  </tbody>\n</table>\n</div>"
     },
     "execution_count": 2,
     "metadata": {},
     "output_type": "execute_result"
    }
   ]
  },
  {
   "cell_type": "markdown",
   "metadata": {
    "id": "hHDFzmtpgiS8"
   },
   "source": [
    "Preprocess"
   ]
  },
  {
   "cell_type": "code",
   "metadata": {
    "id": "xtE5T7LvlO62"
   },
   "source": [
    "df = df.astype({'clean_text': str})\n",
    "df.head()"
   ],
   "execution_count": 3,
   "outputs": [
    {
     "data": {
      "text/plain": "                                          clean_text  category\n0   family mormon have never tried explain them t...       1.0\n1  buddhism has very much lot compatible with chr...       1.0\n2  seriously don say thing first all they won get...      -1.0\n3  what you have learned yours and only yours wha...       0.0\n4  for your own benefit you may want read living ...       1.0",
      "text/html": "<div>\n<style scoped>\n    .dataframe tbody tr th:only-of-type {\n        vertical-align: middle;\n    }\n\n    .dataframe tbody tr th {\n        vertical-align: top;\n    }\n\n    .dataframe thead th {\n        text-align: right;\n    }\n</style>\n<table border=\"1\" class=\"dataframe\">\n  <thead>\n    <tr style=\"text-align: right;\">\n      <th></th>\n      <th>clean_text</th>\n      <th>category</th>\n    </tr>\n  </thead>\n  <tbody>\n    <tr>\n      <th>0</th>\n      <td>family mormon have never tried explain them t...</td>\n      <td>1.0</td>\n    </tr>\n    <tr>\n      <th>1</th>\n      <td>buddhism has very much lot compatible with chr...</td>\n      <td>1.0</td>\n    </tr>\n    <tr>\n      <th>2</th>\n      <td>seriously don say thing first all they won get...</td>\n      <td>-1.0</td>\n    </tr>\n    <tr>\n      <th>3</th>\n      <td>what you have learned yours and only yours wha...</td>\n      <td>0.0</td>\n    </tr>\n    <tr>\n      <th>4</th>\n      <td>for your own benefit you may want read living ...</td>\n      <td>1.0</td>\n    </tr>\n  </tbody>\n</table>\n</div>"
     },
     "execution_count": 3,
     "metadata": {},
     "output_type": "execute_result"
    }
   ]
  },
  {
   "cell_type": "markdown",
   "metadata": {
    "id": "ys4sxjkcoyPn"
   },
   "source": [
    "Split"
   ]
  },
  {
   "cell_type": "code",
   "execution_count": 4,
   "outputs": [
    {
     "data": {
      "text/plain": "clean_text    False\ncategory       True\ndtype: bool"
     },
     "execution_count": 4,
     "metadata": {},
     "output_type": "execute_result"
    }
   ],
   "source": [
    "df.isnull().any()"
   ],
   "metadata": {
    "collapsed": false,
    "pycharm": {
     "name": "#%%\n"
    }
   }
  },
  {
   "cell_type": "code",
   "execution_count": 5,
   "outputs": [
    {
     "data": {
      "text/plain": "                                               clean_text  category\n130448  the foundation stone northeast gas grid inaugu...       NaN\n155642  dear terrorists you can run but you cant hide ...       NaN\n155698  offense the best defence with mission shakti m...       NaN\n155770  have always heard politicians backing out thei...       NaN\n158693  modi government plans felicitate the faceless ...       NaN\n159442               chidambaram gives praises modinomics       NaN\n160559  the reason why modi contested from seats 2014 ...       NaN",
      "text/html": "<div>\n<style scoped>\n    .dataframe tbody tr th:only-of-type {\n        vertical-align: middle;\n    }\n\n    .dataframe tbody tr th {\n        vertical-align: top;\n    }\n\n    .dataframe thead th {\n        text-align: right;\n    }\n</style>\n<table border=\"1\" class=\"dataframe\">\n  <thead>\n    <tr style=\"text-align: right;\">\n      <th></th>\n      <th>clean_text</th>\n      <th>category</th>\n    </tr>\n  </thead>\n  <tbody>\n    <tr>\n      <th>130448</th>\n      <td>the foundation stone northeast gas grid inaugu...</td>\n      <td>NaN</td>\n    </tr>\n    <tr>\n      <th>155642</th>\n      <td>dear terrorists you can run but you cant hide ...</td>\n      <td>NaN</td>\n    </tr>\n    <tr>\n      <th>155698</th>\n      <td>offense the best defence with mission shakti m...</td>\n      <td>NaN</td>\n    </tr>\n    <tr>\n      <th>155770</th>\n      <td>have always heard politicians backing out thei...</td>\n      <td>NaN</td>\n    </tr>\n    <tr>\n      <th>158693</th>\n      <td>modi government plans felicitate the faceless ...</td>\n      <td>NaN</td>\n    </tr>\n    <tr>\n      <th>159442</th>\n      <td>chidambaram gives praises modinomics</td>\n      <td>NaN</td>\n    </tr>\n    <tr>\n      <th>160559</th>\n      <td>the reason why modi contested from seats 2014 ...</td>\n      <td>NaN</td>\n    </tr>\n  </tbody>\n</table>\n</div>"
     },
     "execution_count": 5,
     "metadata": {},
     "output_type": "execute_result"
    }
   ],
   "source": [
    "df[df['category'].isnull()]"
   ],
   "metadata": {
    "collapsed": false,
    "pycharm": {
     "name": "#%%\n"
    }
   }
  },
  {
   "cell_type": "code",
   "execution_count": 6,
   "outputs": [],
   "source": [
    "df.dropna(inplace=True)"
   ],
   "metadata": {
    "collapsed": false,
    "pycharm": {
     "name": "#%%\n"
    }
   }
  },
  {
   "cell_type": "markdown",
   "source": [
    "Counting word count"
   ],
   "metadata": {
    "collapsed": false
   }
  },
  {
   "cell_type": "code",
   "execution_count": 7,
   "outputs": [],
   "source": [
    "import nltk\n",
    "\n",
    "df['token'] = df['clean_text'].apply(nltk.tokenize.word_tokenize)"
   ],
   "metadata": {
    "collapsed": false,
    "pycharm": {
     "name": "#%%\n"
    }
   }
  },
  {
   "cell_type": "code",
   "execution_count": 8,
   "outputs": [],
   "source": [
    "df['len'] = df['token'].apply(len)"
   ],
   "metadata": {
    "collapsed": false,
    "pycharm": {
     "name": "#%%\n"
    }
   }
  },
  {
   "cell_type": "code",
   "execution_count": 9,
   "outputs": [
    {
     "data": {
      "text/plain": "0          39\n1         196\n2          86\n3          29\n4         112\n         ... \n162975     18\n162976     36\n162977      9\n162978     13\n162979     34\nName: len, Length: 200222, dtype: int64"
     },
     "execution_count": 9,
     "metadata": {},
     "output_type": "execute_result"
    }
   ],
   "source": [
    "df.len"
   ],
   "metadata": {
    "collapsed": false,
    "pycharm": {
     "name": "#%%\n"
    }
   }
  },
  {
   "cell_type": "code",
   "execution_count": 10,
   "outputs": [
    {
     "data": {
      "text/plain": "count    200222.000000\nmean         21.931296\nstd          26.686952\nmin           0.000000\n25%          10.000000\n50%          18.000000\n75%          30.000000\nmax        1307.000000\nName: len, dtype: float64"
     },
     "execution_count": 10,
     "metadata": {},
     "output_type": "execute_result"
    }
   ],
   "source": [
    "df['len'].describe()"
   ],
   "metadata": {
    "collapsed": false,
    "pycharm": {
     "name": "#%%\n"
    }
   }
  },
  {
   "cell_type": "code",
   "execution_count": 11,
   "outputs": [
    {
     "data": {
      "text/plain": "                                              clean_text  category  \\\n1682    going churlish and ahead and puncture your ba...       1.0   \n6016   the reason very simple copy and paste from red...       1.0   \n29923   india pakistan html for the past few decades ...       1.0   \n24431   modi’ government last four years has recovere...       1.0   \n4184   too much dependence people from iit and iim ca...       1.0   \n10440   demonetisation fails then blame modi told cab...       1.0   \n20979  there redemption for the crimes committed agai...       1.0   \n7231   let one one food beef obviously same thing her...       1.0   \n4373   part you have something mind please let know c...       1.0   \n28490  first all extremely sad people misunderstood y...       1.0   \n34281   read answer quora but direct links aren allow...       1.0   \n23361  hello have few questions related development s...       1.0   \n30639   what your opinion about social media being us...       1.0   \n8646   brilliant point point breakdown one other argu...       1.0   \n\n                                                   token   len  \n1682   [going, churlish, and, ahead, and, puncture, y...  1003  \n6016   [the, reason, very, simple, copy, and, paste, ...  1006  \n29923  [india, pakistan, html, for, the, past, few, d...  1009  \n24431  [modi, ’, government, last, four, years, has, ...  1035  \n4184   [too, much, dependence, people, from, iit, and...  1054  \n10440  [demonetisation, fails, then, blame, modi, tol...  1084  \n20979  [there, redemption, for, the, crimes, committe...  1103  \n7231   [let, one, one, food, beef, obviously, same, t...  1119  \n4373   [part, you, have, something, mind, please, let...  1177  \n28490  [first, all, extremely, sad, people, misunders...  1181  \n34281  [read, answer, quora, but, direct, links, aren...  1207  \n23361  [hello, have, few, questions, related, develop...  1260  \n30639  [what, your, opinion, about, social, media, be...  1303  \n8646   [brilliant, point, point, breakdown, one, othe...  1307  ",
      "text/html": "<div>\n<style scoped>\n    .dataframe tbody tr th:only-of-type {\n        vertical-align: middle;\n    }\n\n    .dataframe tbody tr th {\n        vertical-align: top;\n    }\n\n    .dataframe thead th {\n        text-align: right;\n    }\n</style>\n<table border=\"1\" class=\"dataframe\">\n  <thead>\n    <tr style=\"text-align: right;\">\n      <th></th>\n      <th>clean_text</th>\n      <th>category</th>\n      <th>token</th>\n      <th>len</th>\n    </tr>\n  </thead>\n  <tbody>\n    <tr>\n      <th>1682</th>\n      <td>going churlish and ahead and puncture your ba...</td>\n      <td>1.0</td>\n      <td>[going, churlish, and, ahead, and, puncture, y...</td>\n      <td>1003</td>\n    </tr>\n    <tr>\n      <th>6016</th>\n      <td>the reason very simple copy and paste from red...</td>\n      <td>1.0</td>\n      <td>[the, reason, very, simple, copy, and, paste, ...</td>\n      <td>1006</td>\n    </tr>\n    <tr>\n      <th>29923</th>\n      <td>india pakistan html for the past few decades ...</td>\n      <td>1.0</td>\n      <td>[india, pakistan, html, for, the, past, few, d...</td>\n      <td>1009</td>\n    </tr>\n    <tr>\n      <th>24431</th>\n      <td>modi’ government last four years has recovere...</td>\n      <td>1.0</td>\n      <td>[modi, ’, government, last, four, years, has, ...</td>\n      <td>1035</td>\n    </tr>\n    <tr>\n      <th>4184</th>\n      <td>too much dependence people from iit and iim ca...</td>\n      <td>1.0</td>\n      <td>[too, much, dependence, people, from, iit, and...</td>\n      <td>1054</td>\n    </tr>\n    <tr>\n      <th>10440</th>\n      <td>demonetisation fails then blame modi told cab...</td>\n      <td>1.0</td>\n      <td>[demonetisation, fails, then, blame, modi, tol...</td>\n      <td>1084</td>\n    </tr>\n    <tr>\n      <th>20979</th>\n      <td>there redemption for the crimes committed agai...</td>\n      <td>1.0</td>\n      <td>[there, redemption, for, the, crimes, committe...</td>\n      <td>1103</td>\n    </tr>\n    <tr>\n      <th>7231</th>\n      <td>let one one food beef obviously same thing her...</td>\n      <td>1.0</td>\n      <td>[let, one, one, food, beef, obviously, same, t...</td>\n      <td>1119</td>\n    </tr>\n    <tr>\n      <th>4373</th>\n      <td>part you have something mind please let know c...</td>\n      <td>1.0</td>\n      <td>[part, you, have, something, mind, please, let...</td>\n      <td>1177</td>\n    </tr>\n    <tr>\n      <th>28490</th>\n      <td>first all extremely sad people misunderstood y...</td>\n      <td>1.0</td>\n      <td>[first, all, extremely, sad, people, misunders...</td>\n      <td>1181</td>\n    </tr>\n    <tr>\n      <th>34281</th>\n      <td>read answer quora but direct links aren allow...</td>\n      <td>1.0</td>\n      <td>[read, answer, quora, but, direct, links, aren...</td>\n      <td>1207</td>\n    </tr>\n    <tr>\n      <th>23361</th>\n      <td>hello have few questions related development s...</td>\n      <td>1.0</td>\n      <td>[hello, have, few, questions, related, develop...</td>\n      <td>1260</td>\n    </tr>\n    <tr>\n      <th>30639</th>\n      <td>what your opinion about social media being us...</td>\n      <td>1.0</td>\n      <td>[what, your, opinion, about, social, media, be...</td>\n      <td>1303</td>\n    </tr>\n    <tr>\n      <th>8646</th>\n      <td>brilliant point point breakdown one other argu...</td>\n      <td>1.0</td>\n      <td>[brilliant, point, point, breakdown, one, othe...</td>\n      <td>1307</td>\n    </tr>\n  </tbody>\n</table>\n</div>"
     },
     "execution_count": 11,
     "metadata": {},
     "output_type": "execute_result"
    }
   ],
   "source": [
    "df[df['len'] > 1000].sort_values('len')"
   ],
   "metadata": {
    "collapsed": false,
    "pycharm": {
     "name": "#%%\n"
    }
   }
  },
  {
   "cell_type": "code",
   "execution_count": 12,
   "outputs": [
    {
     "data": {
      "text/plain": "'brilliant point point breakdown one other argument making the rounds false argument okay maybe the strikes took place but should have been kept secret and deniable there good reason for dgmo make statements about covert actions except for bjp score political points there are massive number reasons make strike like this public exposes pakistan bluster just tough talk for all their talk being high alert for indian troop movement along the loc after the uri attack they didn even see coming massively boosts morale within the armed forces morale which has been getting steadily lower our bases kept getting hit while they were not allowed take charge the offensive the troops are also being vilified the media national and international while trying control spiral violence srinagar fueled pakistan propaganda machine makes the best use pakistan blunder overreaching and outmaneuvers them pakistan has its hands tied now after making bold statements about defending against indian adventurism aggression and denying that any terrorist camps even exist the region that they have the support their government pakistan has left itself publicly admissible out can either promise retaliation for strikes thereby confirming the existence such terror bases deny the strike and claim ignorance any bases the area releasing statements and evidence the strikes india makes pakistan look weak and incompetent defense while also making the point that pakistan harbors terrorists and uses them proxy war against india manner that exceeds just providing moral and diplomatic support they have claimed the past calls pakistan bluff threats start nuclear conflict their nuclear arsenal while still being very real and implicit threat longer their impenetrable shield striking within pok and then making public india has taken control the escalatory ladden you said earlier out the open for everyone see which leads the next point makes public the strategic shift indian policy dealing with cross border infiltration and terrorism this now means that india controls the play events and that infiltration will actively fought against taking the fight the terror outposts and leaving open the possibility even striking training camps situated further inland this means that india will make pakistan work and pay for every infiltration attempt literally not just pay terms revenge and bloodshed pakistan will need actually spend more time money resources manpower actual defense and surveillance near these bases their terror outposts will have constantly vigilant and more resources dedicated keeping eye out for incoming strikes the future this very different from the past where the outposts had nothing worry about till they crossed the border and their entire focus was offensive not defensive nature points out very little fencing the pakistani side because they never even felt the need defend themselves but that will all change now terrorists will not sleep peacefully their beds they will possibly make more mistakes and every new person recruited keep watch patrol their perimeter potential vulnerability too accidentally leaked info paid informant mole many these will make increasingly expensive and difficult maintain multiple such bases leading demoralized terrorists demoralized pakistani troops demoralized and disillusioned pakistani public pakistan currently damage control mode firing off more propaganda than artillery and trying pooh pooh the stories the strikes indian propaganda but inaccuracies their accounts will begin add and morale will definitely take hit everyone the pakistani side currently denial but that expected ultimately again makes the government look dishonest incompetent and erodes their imaginary moral high ground that they lay claim strengthens the indian public support for the government this definitely well deserved win for the bjp but more importantly makes the indian public lot more unified behind their central government regardless who was power when such action was taken there are certainly plenty who question the narrative and events but there definite surge public approval favor retaliation for uri and the strikes themselves regardless their position the who how where why covert overt bragging courting war etc this demonstrates among other things that the goi proactive that was receptive the outrage about uri across the nation that was willing take stand such attacks indian sovereignty demonstrates india ability operate within the bounds previous agreements and treaties while still taking decisive action defend itself and not being enslaved those treaties pakistan has always played victim when came any border related issue and deny any involvement previous incursions from their side meanwhile india hamstrung restrictive treaties preventing military retaliation for numerous actions carried out pakistan and its proxy fighters till now this deft navigation not altering the loc while striking terrorist camps falls well within the bounds the simla agreement and the charter surgical strikes across loc line with shimla agreement and charter 3026586 html exploring this avenue publicly means that india can now freely continue perform such strikes the future without invoking any backlash from most other nations and getting active support from several now let assume that the strikes took place but the government kept absolutely secret the outcome not making the strikes public knowledge would have been quite disadvantageous the whole india maintains deniability for aggressive action great but pakistan will constantly play the victim anyway portray cross border terrorism domestic rebellion foment unrest and paint india oppressive bully state committing atrocities kashmir very little advantage here while the strike killed handful terrorists and prevented few attacks the near future would fail adequately capitalize that victory other terror outfits and individual members such organisations may remain unaware and unafraid pakistani turf terrorists sleeping soundly before attempting border crossing isn good for indian defense maintaining state combat ready vigilance and tension impossible for more than few days for all but the most highly trained soldiers demoralizes indian troops they would feel abandoned the govt and the people left deal with bloodthirsty militants all themselves without any chance take action and preempt such attacks the indian soldiers continue the only ones who sleep fear with the fatigue constant vigilance making them weaker while the enemy gets stronger indian silence taken for weakness emboldens our enemies india seen soft target home and abroad india loses control the narrative the few who would aware the covert action the other side could later alter the narrative they have done several times the past and claim india committed atrocities and crimes pakistani territory and killed civilians blaming raw and other agencies and using justify further attacks several years the future the context and events this time would have faded from the public mind and india would the diplomatic back foot having either deny the action ever took place and look guilty forced justify such action and remind the public that was retaliation for uri not random unprovoked attack better claim upfront and connect the two events inextricably forever india retaliates for uri massacre today lot better than india denies committing war crimes pok years later when the conspiracy theorists would have had plenty time concoct alternate narrative pakistan would continue have the facade nuclear shield despite successful strike until challenged head publicly pakistan claims would continue hold weight pakistan retains control the escalatory ladder pakistan bluff not called and continues project the image competent military pakistan retains the facade harboring terrorists its soil what terrorists public acknowledgement shift the policy strategic restraint indian public loses faith the government not knowing about any retaliation would mean that the indian public would just have another item list complain about how the government all talk action critics the government perceived restraint would continue make the government look weak and ineffective bjp would crucified the public eye for not taking stronger measures because the public wouldn know about the strike the voice the people would appear have been ignored future governments would unlikely continue the shift strategy reluctance take control the offensive would persist continued veil secrecy would mean that their efforts would unnoticed while the costs and risks such operations would for little political benefit '"
     },
     "execution_count": 12,
     "metadata": {},
     "output_type": "execute_result"
    }
   ],
   "source": [
    "df['clean_text'].iloc[8646]"
   ],
   "metadata": {
    "collapsed": false,
    "pycharm": {
     "name": "#%%\n"
    }
   }
  },
  {
   "cell_type": "code",
   "execution_count": 14,
   "outputs": [],
   "source": [
    "# df['label'] = df['category'].map({\n",
    "#     -1.0: np.array([1, 0, 0], dtype=float),\n",
    "#     0.0: np.array([0, 1, 0], dtype=float),\n",
    "#     1.0: np.array([0, 0, 1], dtype=float)\n",
    "# })\n",
    "# df.drop('label', axis=1)\n",
    "df['label'] = df['category'].map({\n",
    "    -1.0: [1, 0, 0],\n",
    "    0.0: [0, 1, 0],\n",
    "    1.0: [0, 0, 1]\n",
    "})"
   ],
   "metadata": {
    "collapsed": false,
    "pycharm": {
     "name": "#%%\n"
    }
   }
  },
  {
   "cell_type": "code",
   "execution_count": 15,
   "outputs": [
    {
     "data": {
      "text/plain": "                                          clean_text  category  \\\n0   family mormon have never tried explain them t...       1.0   \n1  buddhism has very much lot compatible with chr...       1.0   \n2  seriously don say thing first all they won get...      -1.0   \n3  what you have learned yours and only yours wha...       0.0   \n4  for your own benefit you may want read living ...       1.0   \n\n                                               token  len      label  \n0  [family, mormon, have, never, tried, explain, ...   39  [0, 0, 1]  \n1  [buddhism, has, very, much, lot, compatible, w...  196  [0, 0, 1]  \n2  [seriously, don, say, thing, first, all, they,...   86  [1, 0, 0]  \n3  [what, you, have, learned, yours, and, only, y...   29  [0, 1, 0]  \n4  [for, your, own, benefit, you, may, want, read...  112  [0, 0, 1]  ",
      "text/html": "<div>\n<style scoped>\n    .dataframe tbody tr th:only-of-type {\n        vertical-align: middle;\n    }\n\n    .dataframe tbody tr th {\n        vertical-align: top;\n    }\n\n    .dataframe thead th {\n        text-align: right;\n    }\n</style>\n<table border=\"1\" class=\"dataframe\">\n  <thead>\n    <tr style=\"text-align: right;\">\n      <th></th>\n      <th>clean_text</th>\n      <th>category</th>\n      <th>token</th>\n      <th>len</th>\n      <th>label</th>\n    </tr>\n  </thead>\n  <tbody>\n    <tr>\n      <th>0</th>\n      <td>family mormon have never tried explain them t...</td>\n      <td>1.0</td>\n      <td>[family, mormon, have, never, tried, explain, ...</td>\n      <td>39</td>\n      <td>[0, 0, 1]</td>\n    </tr>\n    <tr>\n      <th>1</th>\n      <td>buddhism has very much lot compatible with chr...</td>\n      <td>1.0</td>\n      <td>[buddhism, has, very, much, lot, compatible, w...</td>\n      <td>196</td>\n      <td>[0, 0, 1]</td>\n    </tr>\n    <tr>\n      <th>2</th>\n      <td>seriously don say thing first all they won get...</td>\n      <td>-1.0</td>\n      <td>[seriously, don, say, thing, first, all, they,...</td>\n      <td>86</td>\n      <td>[1, 0, 0]</td>\n    </tr>\n    <tr>\n      <th>3</th>\n      <td>what you have learned yours and only yours wha...</td>\n      <td>0.0</td>\n      <td>[what, you, have, learned, yours, and, only, y...</td>\n      <td>29</td>\n      <td>[0, 1, 0]</td>\n    </tr>\n    <tr>\n      <th>4</th>\n      <td>for your own benefit you may want read living ...</td>\n      <td>1.0</td>\n      <td>[for, your, own, benefit, you, may, want, read...</td>\n      <td>112</td>\n      <td>[0, 0, 1]</td>\n    </tr>\n  </tbody>\n</table>\n</div>"
     },
     "execution_count": 15,
     "metadata": {},
     "output_type": "execute_result"
    }
   ],
   "source": [
    "df.head()"
   ],
   "metadata": {
    "collapsed": false,
    "pycharm": {
     "name": "#%%\n"
    }
   }
  },
  {
   "cell_type": "code",
   "metadata": {
    "id": "vLAIMiIEoxL3"
   },
   "source": [
    "sample = df.sample(frac=1.0, random_state=4)\n",
    "train = sample[:int(0.8*len(sample))]\n",
    "test = sample[int(0.8*len(sample)):]"
   ],
   "execution_count": 16,
   "outputs": []
  },
  {
   "cell_type": "code",
   "metadata": {
    "id": "B3rqexT-gX0v"
   },
   "source": [
    "import tensorflow as tf\n",
    "\n",
    "tokenizer = tf.keras.preprocessing.text.Tokenizer(oov_token='<OOV>')\n",
    "tokenizer.fit_on_texts(train['clean_text'].values)\n"
   ],
   "execution_count": 17,
   "outputs": []
  },
  {
   "cell_type": "code",
   "metadata": {
    "id": "WUqF-M8TlCkK",
    "colab": {
     "base_uri": "https://localhost:8080/"
    },
    "outputId": "20b5ca6c-f8ca-490a-9762-c2985cbeea7c"
   },
   "source": [
    "print(len(tokenizer.word_index))\n",
    "len(tokenizer.word_index)**0.25\n"
   ],
   "execution_count": 18,
   "outputs": [
    {
     "name": "stdout",
     "output_type": "stream",
     "text": [
      "121047\n"
     ]
    },
    {
     "data": {
      "text/plain": "18.65256266064929"
     },
     "execution_count": 18,
     "metadata": {},
     "output_type": "execute_result"
    }
   ]
  },
  {
   "cell_type": "code",
   "metadata": {
    "id": "WcTVRSXYmKdw"
   },
   "source": [
    "# a = \"I remember it all too well\"\n",
    "# tokenizer.texts_to_sequences([a])"
   ],
   "execution_count": 19,
   "outputs": []
  },
  {
   "cell_type": "code",
   "metadata": {
    "id": "PV3M1LfNmz9p"
   },
   "source": [
    "sequence_train = tokenizer.texts_to_sequences(train[\"clean_text\"])\n",
    "sequence_test = tokenizer.texts_to_sequences(test[\"clean_text\"])"
   ],
   "execution_count": 20,
   "outputs": []
  },
  {
   "cell_type": "code",
   "metadata": {
    "id": "D_bl8yNAnOLm"
   },
   "source": [
    "pad_train= tf.keras.preprocessing.sequence.pad_sequences(sequence_train, maxlen=50, padding='pre')\n",
    "pad_test= tf.keras.preprocessing.sequence.pad_sequences(sequence_test, maxlen=50, padding='pre')\n"
   ],
   "execution_count": 45,
   "outputs": []
  },
  {
   "cell_type": "markdown",
   "metadata": {
    "id": "4hPB61QUw2MN"
   },
   "source": [
    "RNN"
   ]
  },
  {
   "cell_type": "code",
   "metadata": {
    "colab": {
     "base_uri": "https://localhost:8080/"
    },
    "id": "lbDcaa6Bw1-D",
    "outputId": "83cb0035-f143-4c9e-d6e6-8616540ac076"
   },
   "source": [
    "import tensorflow as tf\n",
    "from tensorflow import keras\n",
    "from tensorflow.keras import layers\n",
    "\n",
    "#hidden and output layer\n",
    "model = keras.Sequential(\n",
    "    [\n",
    "     tf.keras.layers.Embedding(len(tokenizer.word_index)+1,64,input_length=50, trainable=True), #total vocab, output (dari total vocab akar 4)\n",
    "     layers.LSTM(64, name=\"hai_shaq\"), #hidden layer\n",
    "     # layers.LSTM(64, return_sequences=True), #hidden layer\n",
    "     # layers.LSTM(64, return_sequences=True), #hidden layer\n",
    "     # layers.LSTM(64, return_sequences=True), #hidden layer\n",
    "     # layers.LSTM(64), #hidden layer\n",
    "     # layers.Dense(64, activation=tf.nn.relu),\n",
    "     layers.Dense(64, activation=tf.nn.relu),\n",
    "     # layers.Dense(3, activation =\"softmax\", name=\"layer3\") #output layer\n",
    "     layers.Dense(3, activation =\"softmax\", name=\"layer3\") #output layer\n",
    "    ]\n",
    ")\n",
    "model.summary()"
   ],
   "execution_count": 92,
   "outputs": [
    {
     "name": "stdout",
     "output_type": "stream",
     "text": [
      "Model: \"sequential_13\"\n",
      "_________________________________________________________________\n",
      " Layer (type)                Output Shape              Param #   \n",
      "=================================================================\n",
      " embedding_13 (Embedding)    (None, 50, 64)            7747072   \n",
      "                                                                 \n",
      " hai_shaq (LSTM)             (None, 64)                33024     \n",
      "                                                                 \n",
      " dense_9 (Dense)             (None, 64)                4160      \n",
      "                                                                 \n",
      " layer3 (Dense)              (None, 3)                 195       \n",
      "                                                                 \n",
      "=================================================================\n",
      "Total params: 7,784,451\n",
      "Trainable params: 7,784,451\n",
      "Non-trainable params: 0\n",
      "_________________________________________________________________\n"
     ]
    }
   ]
  },
  {
   "cell_type": "markdown",
   "metadata": {
    "id": "rA4_EbaV3bd4"
   },
   "source": [
    "Compile the model"
   ]
  },
  {
   "cell_type": "code",
   "metadata": {
    "id": "nSM_ZaDxqdUo"
   },
   "source": [
    "model.compile(optimizer=tf.keras.optimizers.Adam(), loss=\"categorical_crossentropy\" , metrics=['accuracy'])\n",
    "# model.compile(optimizer=tf.keras.optimizers.Adam(), loss=\"categorical_crossentropy\" , metrics=['accuracy'])"
   ],
   "execution_count": 93,
   "outputs": []
  },
  {
   "cell_type": "markdown",
   "metadata": {
    "id": "VTFSXU8g4oe6"
   },
   "source": [
    "Fit the model"
   ]
  },
  {
   "cell_type": "code",
   "execution_count": 94,
   "outputs": [
    {
     "name": "stdout",
     "output_type": "stream",
     "text": [
      "tf.Tensor([1 0 0], shape=(3,), dtype=int32)\n",
      "[1, 0, 0]\n"
     ]
    },
    {
     "ename": "ValueError",
     "evalue": "Failed to convert a NumPy array to a Tensor (Unsupported object type list).",
     "output_type": "error",
     "traceback": [
      "\u001B[1;31m---------------------------------------------------------------------------\u001B[0m",
      "\u001B[1;31mValueError\u001B[0m                                Traceback (most recent call last)",
      "\u001B[1;32m~\\AppData\\Local\\Temp/ipykernel_3108/1770709347.py\u001B[0m in \u001B[0;36m<module>\u001B[1;34m\u001B[0m\n\u001B[0;32m      1\u001B[0m \u001B[0mprint\u001B[0m\u001B[1;33m(\u001B[0m\u001B[0mtf\u001B[0m\u001B[1;33m.\u001B[0m\u001B[0mconvert_to_tensor\u001B[0m\u001B[1;33m(\u001B[0m\u001B[1;33m[\u001B[0m\u001B[1;36m1\u001B[0m\u001B[1;33m,\u001B[0m \u001B[1;36m0\u001B[0m\u001B[1;33m,\u001B[0m \u001B[1;36m0\u001B[0m\u001B[1;33m]\u001B[0m\u001B[1;33m)\u001B[0m\u001B[1;33m)\u001B[0m\u001B[1;33m\u001B[0m\u001B[1;33m\u001B[0m\u001B[0m\n\u001B[0;32m      2\u001B[0m \u001B[0mprint\u001B[0m\u001B[1;33m(\u001B[0m\u001B[0mtrain\u001B[0m\u001B[1;33m[\u001B[0m\u001B[1;34m'label'\u001B[0m\u001B[1;33m]\u001B[0m\u001B[1;33m.\u001B[0m\u001B[0miloc\u001B[0m\u001B[1;33m[\u001B[0m\u001B[1;36m0\u001B[0m\u001B[1;33m]\u001B[0m\u001B[1;33m)\u001B[0m\u001B[1;33m\u001B[0m\u001B[1;33m\u001B[0m\u001B[0m\n\u001B[1;32m----> 3\u001B[1;33m \u001B[0mprint\u001B[0m\u001B[1;33m(\u001B[0m\u001B[0mtf\u001B[0m\u001B[1;33m.\u001B[0m\u001B[0mconvert_to_tensor\u001B[0m\u001B[1;33m(\u001B[0m\u001B[0mtrain\u001B[0m\u001B[1;33m[\u001B[0m\u001B[1;34m'label'\u001B[0m\u001B[1;33m]\u001B[0m\u001B[1;33m.\u001B[0m\u001B[0mvalues\u001B[0m\u001B[1;33m)\u001B[0m\u001B[1;33m)\u001B[0m\u001B[1;33m\u001B[0m\u001B[1;33m\u001B[0m\u001B[0m\n\u001B[0m",
      "\u001B[1;32m~\\miniconda3\\lib\\site-packages\\tensorflow\\python\\util\\traceback_utils.py\u001B[0m in \u001B[0;36merror_handler\u001B[1;34m(*args, **kwargs)\u001B[0m\n\u001B[0;32m    151\u001B[0m     \u001B[1;32mexcept\u001B[0m \u001B[0mException\u001B[0m \u001B[1;32mas\u001B[0m \u001B[0me\u001B[0m\u001B[1;33m:\u001B[0m\u001B[1;33m\u001B[0m\u001B[1;33m\u001B[0m\u001B[0m\n\u001B[0;32m    152\u001B[0m       \u001B[0mfiltered_tb\u001B[0m \u001B[1;33m=\u001B[0m \u001B[0m_process_traceback_frames\u001B[0m\u001B[1;33m(\u001B[0m\u001B[0me\u001B[0m\u001B[1;33m.\u001B[0m\u001B[0m__traceback__\u001B[0m\u001B[1;33m)\u001B[0m\u001B[1;33m\u001B[0m\u001B[1;33m\u001B[0m\u001B[0m\n\u001B[1;32m--> 153\u001B[1;33m       \u001B[1;32mraise\u001B[0m \u001B[0me\u001B[0m\u001B[1;33m.\u001B[0m\u001B[0mwith_traceback\u001B[0m\u001B[1;33m(\u001B[0m\u001B[0mfiltered_tb\u001B[0m\u001B[1;33m)\u001B[0m \u001B[1;32mfrom\u001B[0m \u001B[1;32mNone\u001B[0m\u001B[1;33m\u001B[0m\u001B[1;33m\u001B[0m\u001B[0m\n\u001B[0m\u001B[0;32m    154\u001B[0m     \u001B[1;32mfinally\u001B[0m\u001B[1;33m:\u001B[0m\u001B[1;33m\u001B[0m\u001B[1;33m\u001B[0m\u001B[0m\n\u001B[0;32m    155\u001B[0m       \u001B[1;32mdel\u001B[0m \u001B[0mfiltered_tb\u001B[0m\u001B[1;33m\u001B[0m\u001B[1;33m\u001B[0m\u001B[0m\n",
      "\u001B[1;32m~\\miniconda3\\lib\\site-packages\\tensorflow\\python\\framework\\constant_op.py\u001B[0m in \u001B[0;36mconvert_to_eager_tensor\u001B[1;34m(value, ctx, dtype)\u001B[0m\n\u001B[0;32m    104\u001B[0m       \u001B[0mdtype\u001B[0m \u001B[1;33m=\u001B[0m \u001B[0mdtypes\u001B[0m\u001B[1;33m.\u001B[0m\u001B[0mas_dtype\u001B[0m\u001B[1;33m(\u001B[0m\u001B[0mdtype\u001B[0m\u001B[1;33m)\u001B[0m\u001B[1;33m.\u001B[0m\u001B[0mas_datatype_enum\u001B[0m\u001B[1;33m\u001B[0m\u001B[1;33m\u001B[0m\u001B[0m\n\u001B[0;32m    105\u001B[0m   \u001B[0mctx\u001B[0m\u001B[1;33m.\u001B[0m\u001B[0mensure_initialized\u001B[0m\u001B[1;33m(\u001B[0m\u001B[1;33m)\u001B[0m\u001B[1;33m\u001B[0m\u001B[1;33m\u001B[0m\u001B[0m\n\u001B[1;32m--> 106\u001B[1;33m   \u001B[1;32mreturn\u001B[0m \u001B[0mops\u001B[0m\u001B[1;33m.\u001B[0m\u001B[0mEagerTensor\u001B[0m\u001B[1;33m(\u001B[0m\u001B[0mvalue\u001B[0m\u001B[1;33m,\u001B[0m \u001B[0mctx\u001B[0m\u001B[1;33m.\u001B[0m\u001B[0mdevice_name\u001B[0m\u001B[1;33m,\u001B[0m \u001B[0mdtype\u001B[0m\u001B[1;33m)\u001B[0m\u001B[1;33m\u001B[0m\u001B[1;33m\u001B[0m\u001B[0m\n\u001B[0m\u001B[0;32m    107\u001B[0m \u001B[1;33m\u001B[0m\u001B[0m\n\u001B[0;32m    108\u001B[0m \u001B[1;33m\u001B[0m\u001B[0m\n",
      "\u001B[1;31mValueError\u001B[0m: Failed to convert a NumPy array to a Tensor (Unsupported object type list)."
     ]
    }
   ],
   "source": [
    "print(tf.convert_to_tensor([1, 0, 0]))\n",
    "print(train['label'].iloc[0])\n",
    "print(tf.convert_to_tensor(train['label'].values))"
   ],
   "metadata": {
    "collapsed": false,
    "pycharm": {
     "name": "#%%\n"
    }
   }
  },
  {
   "cell_type": "code",
   "execution_count": 95,
   "outputs": [
    {
     "data": {
      "text/plain": "20126    -1.0\n160018    1.0\n13740     0.0\n118913    0.0\n16820     1.0\n         ... \n20433     0.0\n64887     0.0\n59823     1.0\n17789    -1.0\n92015     1.0\nName: category, Length: 160177, dtype: float64"
     },
     "execution_count": 95,
     "metadata": {},
     "output_type": "execute_result"
    }
   ],
   "source": [
    "train['category']"
   ],
   "metadata": {
    "collapsed": false,
    "pycharm": {
     "name": "#%%\n"
    }
   }
  },
  {
   "cell_type": "code",
   "execution_count": 96,
   "outputs": [
    {
     "data": {
      "text/plain": "        -1.0   0.0   1.0\n20126      1     0     0\n160018     0     0     1\n13740      0     1     0\n118913     0     1     0\n16820      0     0     1\n...      ...   ...   ...\n20433      0     1     0\n64887      0     1     0\n59823      0     0     1\n17789      1     0     0\n92015      0     0     1\n\n[160177 rows x 3 columns]",
      "text/html": "<div>\n<style scoped>\n    .dataframe tbody tr th:only-of-type {\n        vertical-align: middle;\n    }\n\n    .dataframe tbody tr th {\n        vertical-align: top;\n    }\n\n    .dataframe thead th {\n        text-align: right;\n    }\n</style>\n<table border=\"1\" class=\"dataframe\">\n  <thead>\n    <tr style=\"text-align: right;\">\n      <th></th>\n      <th>-1.0</th>\n      <th>0.0</th>\n      <th>1.0</th>\n    </tr>\n  </thead>\n  <tbody>\n    <tr>\n      <th>20126</th>\n      <td>1</td>\n      <td>0</td>\n      <td>0</td>\n    </tr>\n    <tr>\n      <th>160018</th>\n      <td>0</td>\n      <td>0</td>\n      <td>1</td>\n    </tr>\n    <tr>\n      <th>13740</th>\n      <td>0</td>\n      <td>1</td>\n      <td>0</td>\n    </tr>\n    <tr>\n      <th>118913</th>\n      <td>0</td>\n      <td>1</td>\n      <td>0</td>\n    </tr>\n    <tr>\n      <th>16820</th>\n      <td>0</td>\n      <td>0</td>\n      <td>1</td>\n    </tr>\n    <tr>\n      <th>...</th>\n      <td>...</td>\n      <td>...</td>\n      <td>...</td>\n    </tr>\n    <tr>\n      <th>20433</th>\n      <td>0</td>\n      <td>1</td>\n      <td>0</td>\n    </tr>\n    <tr>\n      <th>64887</th>\n      <td>0</td>\n      <td>1</td>\n      <td>0</td>\n    </tr>\n    <tr>\n      <th>59823</th>\n      <td>0</td>\n      <td>0</td>\n      <td>1</td>\n    </tr>\n    <tr>\n      <th>17789</th>\n      <td>1</td>\n      <td>0</td>\n      <td>0</td>\n    </tr>\n    <tr>\n      <th>92015</th>\n      <td>0</td>\n      <td>0</td>\n      <td>1</td>\n    </tr>\n  </tbody>\n</table>\n<p>160177 rows × 3 columns</p>\n</div>"
     },
     "execution_count": 96,
     "metadata": {},
     "output_type": "execute_result"
    }
   ],
   "source": [
    "pd.get_dummies(train['category'])"
   ],
   "metadata": {
    "collapsed": false,
    "pycharm": {
     "name": "#%%\n"
    }
   }
  },
  {
   "cell_type": "code",
   "metadata": {
    "colab": {
     "base_uri": "https://localhost:8080/"
    },
    "id": "fq68mIbC4oB1",
    "outputId": "412e442d-6fb2-4d8a-f9d0-5763b63d9c2a",
    "pycharm": {
     "name": "#%%\n"
    }
   },
   "source": [
    "history = model.fit(x=pad_train, y=pd.get_dummies(train['category']), batch_size=32, epochs=100, verbose=1,\n",
    "    validation_data=[pad_test,pd.get_dummies(test['category'])],\n",
    "          steps_per_epoch=32)"
   ],
   "execution_count": 97,
   "outputs": [
    {
     "name": "stdout",
     "output_type": "stream",
     "text": [
      "Epoch 1/100\n",
      "32/32 [==============================] - 9s 237ms/step - loss: 1.0461 - accuracy: 0.4346 - val_loss: 1.0028 - val_accuracy: 0.5289\n",
      "Epoch 2/100\n",
      "32/32 [==============================] - 7s 218ms/step - loss: 0.9726 - accuracy: 0.5391 - val_loss: 0.9637 - val_accuracy: 0.5471\n",
      "Epoch 3/100\n",
      "32/32 [==============================] - 7s 218ms/step - loss: 0.9612 - accuracy: 0.5449 - val_loss: 0.9343 - val_accuracy: 0.5616\n",
      "Epoch 4/100\n",
      "32/32 [==============================] - 7s 220ms/step - loss: 0.9402 - accuracy: 0.5557 - val_loss: 0.8829 - val_accuracy: 0.5969\n",
      "Epoch 5/100\n",
      "32/32 [==============================] - 7s 217ms/step - loss: 0.8611 - accuracy: 0.6201 - val_loss: 0.8312 - val_accuracy: 0.6217\n",
      "Epoch 6/100\n",
      "32/32 [==============================] - 7s 222ms/step - loss: 0.8059 - accuracy: 0.6309 - val_loss: 0.7561 - val_accuracy: 0.6592\n",
      "Epoch 7/100\n",
      "32/32 [==============================] - 7s 222ms/step - loss: 0.7508 - accuracy: 0.6582 - val_loss: 0.7354 - val_accuracy: 0.6909\n",
      "Epoch 8/100\n",
      "32/32 [==============================] - 7s 218ms/step - loss: 0.7060 - accuracy: 0.7041 - val_loss: 0.6682 - val_accuracy: 0.7185\n",
      "Epoch 9/100\n",
      "32/32 [==============================] - 7s 225ms/step - loss: 0.6506 - accuracy: 0.7168 - val_loss: 0.5925 - val_accuracy: 0.7589\n",
      "Epoch 10/100\n",
      "32/32 [==============================] - 7s 217ms/step - loss: 0.5829 - accuracy: 0.7812 - val_loss: 0.5685 - val_accuracy: 0.7718\n",
      "Epoch 11/100\n",
      "32/32 [==============================] - 7s 218ms/step - loss: 0.5241 - accuracy: 0.7930 - val_loss: 0.5542 - val_accuracy: 0.7912\n",
      "Epoch 12/100\n",
      "32/32 [==============================] - 7s 218ms/step - loss: 0.5216 - accuracy: 0.8086 - val_loss: 0.5337 - val_accuracy: 0.8046\n",
      "Epoch 13/100\n",
      "32/32 [==============================] - 7s 218ms/step - loss: 0.4848 - accuracy: 0.8213 - val_loss: 0.4826 - val_accuracy: 0.8177\n",
      "Epoch 14/100\n",
      "32/32 [==============================] - 7s 218ms/step - loss: 0.4998 - accuracy: 0.8125 - val_loss: 0.4373 - val_accuracy: 0.8396\n",
      "Epoch 15/100\n",
      "32/32 [==============================] - 7s 223ms/step - loss: 0.4037 - accuracy: 0.8447 - val_loss: 0.4194 - val_accuracy: 0.8469\n",
      "Epoch 16/100\n",
      "32/32 [==============================] - 7s 218ms/step - loss: 0.4502 - accuracy: 0.8418 - val_loss: 0.4747 - val_accuracy: 0.8520\n",
      "Epoch 17/100\n",
      "32/32 [==============================] - 7s 218ms/step - loss: 0.4231 - accuracy: 0.8535 - val_loss: 0.3884 - val_accuracy: 0.8619\n",
      "Epoch 18/100\n",
      "32/32 [==============================] - 7s 215ms/step - loss: 0.3976 - accuracy: 0.8643 - val_loss: 0.3945 - val_accuracy: 0.8648\n",
      "Epoch 19/100\n",
      "32/32 [==============================] - 7s 218ms/step - loss: 0.3607 - accuracy: 0.8809 - val_loss: 0.3655 - val_accuracy: 0.8752\n",
      "Epoch 20/100\n",
      "32/32 [==============================] - 7s 215ms/step - loss: 0.3762 - accuracy: 0.8779 - val_loss: 0.3507 - val_accuracy: 0.8822\n",
      "Epoch 21/100\n",
      "32/32 [==============================] - 7s 218ms/step - loss: 0.3286 - accuracy: 0.8896 - val_loss: 0.3450 - val_accuracy: 0.8848\n",
      "Epoch 22/100\n",
      "32/32 [==============================] - 7s 213ms/step - loss: 0.2903 - accuracy: 0.9062 - val_loss: 0.3318 - val_accuracy: 0.8891\n",
      "Epoch 23/100\n",
      "32/32 [==============================] - 7s 215ms/step - loss: 0.2902 - accuracy: 0.9053 - val_loss: 0.3360 - val_accuracy: 0.8855\n",
      "Epoch 24/100\n",
      "32/32 [==============================] - 7s 225ms/step - loss: 0.2973 - accuracy: 0.9111 - val_loss: 0.3409 - val_accuracy: 0.8825\n",
      "Epoch 25/100\n",
      "32/32 [==============================] - 7s 218ms/step - loss: 0.3175 - accuracy: 0.8848 - val_loss: 0.3220 - val_accuracy: 0.8943\n",
      "Epoch 26/100\n",
      "32/32 [==============================] - 7s 219ms/step - loss: 0.3027 - accuracy: 0.8965 - val_loss: 0.3074 - val_accuracy: 0.8995\n",
      "Epoch 27/100\n",
      "32/32 [==============================] - 7s 221ms/step - loss: 0.2828 - accuracy: 0.9111 - val_loss: 0.2983 - val_accuracy: 0.9017\n",
      "Epoch 28/100\n",
      "32/32 [==============================] - 7s 220ms/step - loss: 0.2782 - accuracy: 0.9150 - val_loss: 0.3161 - val_accuracy: 0.8948\n",
      "Epoch 29/100\n",
      "32/32 [==============================] - 7s 218ms/step - loss: 0.3046 - accuracy: 0.9072 - val_loss: 0.2985 - val_accuracy: 0.9052\n",
      "Epoch 30/100\n",
      "32/32 [==============================] - 7s 223ms/step - loss: 0.2802 - accuracy: 0.9053 - val_loss: 0.2838 - val_accuracy: 0.9081\n",
      "Epoch 31/100\n",
      "32/32 [==============================] - 7s 215ms/step - loss: 0.2871 - accuracy: 0.9092 - val_loss: 0.2697 - val_accuracy: 0.9144\n",
      "Epoch 32/100\n",
      "32/32 [==============================] - 7s 220ms/step - loss: 0.2789 - accuracy: 0.9150 - val_loss: 0.2791 - val_accuracy: 0.9113\n",
      "Epoch 33/100\n",
      "32/32 [==============================] - 7s 215ms/step - loss: 0.2668 - accuracy: 0.9131 - val_loss: 0.2657 - val_accuracy: 0.9171\n",
      "Epoch 34/100\n",
      "32/32 [==============================] - 7s 219ms/step - loss: 0.2553 - accuracy: 0.9170 - val_loss: 0.2580 - val_accuracy: 0.9191\n",
      "Epoch 35/100\n",
      "32/32 [==============================] - 7s 221ms/step - loss: 0.2707 - accuracy: 0.9141 - val_loss: 0.2702 - val_accuracy: 0.9162\n",
      "Epoch 36/100\n",
      "32/32 [==============================] - 7s 220ms/step - loss: 0.2726 - accuracy: 0.9121 - val_loss: 0.2660 - val_accuracy: 0.9135\n",
      "Epoch 37/100\n",
      "32/32 [==============================] - 7s 218ms/step - loss: 0.2622 - accuracy: 0.9189 - val_loss: 0.2487 - val_accuracy: 0.9215\n",
      "Epoch 38/100\n",
      "32/32 [==============================] - 7s 221ms/step - loss: 0.2614 - accuracy: 0.9238 - val_loss: 0.2451 - val_accuracy: 0.9245\n",
      "Epoch 39/100\n",
      "32/32 [==============================] - 7s 217ms/step - loss: 0.1895 - accuracy: 0.9463 - val_loss: 0.2500 - val_accuracy: 0.9217\n",
      "Epoch 40/100\n",
      "32/32 [==============================] - 7s 219ms/step - loss: 0.2366 - accuracy: 0.9248 - val_loss: 0.2446 - val_accuracy: 0.9229\n",
      "Epoch 41/100\n",
      "32/32 [==============================] - 7s 211ms/step - loss: 0.2693 - accuracy: 0.9092 - val_loss: 0.2478 - val_accuracy: 0.9223\n",
      "Epoch 42/100\n",
      "32/32 [==============================] - 6s 205ms/step - loss: 0.2553 - accuracy: 0.9229 - val_loss: 0.2387 - val_accuracy: 0.9267\n",
      "Epoch 43/100\n",
      "32/32 [==============================] - 6s 203ms/step - loss: 0.2218 - accuracy: 0.9297 - val_loss: 0.2324 - val_accuracy: 0.9278\n",
      "Epoch 44/100\n",
      "32/32 [==============================] - 7s 213ms/step - loss: 0.2216 - accuracy: 0.9355 - val_loss: 0.2284 - val_accuracy: 0.9308\n",
      "Epoch 45/100\n",
      "32/32 [==============================] - 7s 209ms/step - loss: 0.2206 - accuracy: 0.9385 - val_loss: 0.2333 - val_accuracy: 0.9271\n",
      "Epoch 46/100\n",
      "32/32 [==============================] - 7s 213ms/step - loss: 0.2132 - accuracy: 0.9287 - val_loss: 0.2299 - val_accuracy: 0.9311\n",
      "Epoch 47/100\n",
      "32/32 [==============================] - 7s 219ms/step - loss: 0.2162 - accuracy: 0.9287 - val_loss: 0.2247 - val_accuracy: 0.9294\n",
      "Epoch 48/100\n",
      "32/32 [==============================] - 7s 221ms/step - loss: 0.2365 - accuracy: 0.9268 - val_loss: 0.2191 - val_accuracy: 0.9326\n",
      "Epoch 49/100\n",
      "32/32 [==============================] - 7s 212ms/step - loss: 0.1971 - accuracy: 0.9453 - val_loss: 0.2271 - val_accuracy: 0.9291\n",
      "Epoch 50/100\n",
      "32/32 [==============================] - 7s 219ms/step - loss: 0.2071 - accuracy: 0.9316 - val_loss: 0.2209 - val_accuracy: 0.9319\n",
      "Epoch 51/100\n",
      "32/32 [==============================] - 7s 218ms/step - loss: 0.2045 - accuracy: 0.9414 - val_loss: 0.2135 - val_accuracy: 0.9355\n",
      "Epoch 52/100\n",
      "32/32 [==============================] - 7s 218ms/step - loss: 0.1694 - accuracy: 0.9482 - val_loss: 0.2154 - val_accuracy: 0.9347\n",
      "Epoch 53/100\n",
      "32/32 [==============================] - 7s 218ms/step - loss: 0.1909 - accuracy: 0.9404 - val_loss: 0.2278 - val_accuracy: 0.9333\n",
      "Epoch 54/100\n",
      "32/32 [==============================] - 7s 218ms/step - loss: 0.2480 - accuracy: 0.9238 - val_loss: 0.2136 - val_accuracy: 0.9354\n",
      "Epoch 55/100\n",
      "32/32 [==============================] - 7s 217ms/step - loss: 0.2168 - accuracy: 0.9365 - val_loss: 0.2135 - val_accuracy: 0.9352\n",
      "Epoch 56/100\n",
      "32/32 [==============================] - 7s 224ms/step - loss: 0.2167 - accuracy: 0.9355 - val_loss: 0.2156 - val_accuracy: 0.9359\n",
      "Epoch 57/100\n",
      "32/32 [==============================] - 7s 222ms/step - loss: 0.2258 - accuracy: 0.9258 - val_loss: 0.2163 - val_accuracy: 0.9344\n",
      "Epoch 58/100\n",
      "32/32 [==============================] - 7s 213ms/step - loss: 0.2013 - accuracy: 0.9443 - val_loss: 0.2041 - val_accuracy: 0.9393\n",
      "Epoch 59/100\n",
      "32/32 [==============================] - 7s 217ms/step - loss: 0.1980 - accuracy: 0.9355 - val_loss: 0.2013 - val_accuracy: 0.9394\n",
      "Epoch 60/100\n",
      "32/32 [==============================] - 7s 211ms/step - loss: 0.2227 - accuracy: 0.9336 - val_loss: 0.2043 - val_accuracy: 0.9398\n",
      "Epoch 61/100\n",
      "32/32 [==============================] - 6s 207ms/step - loss: 0.2195 - accuracy: 0.9355 - val_loss: 0.2033 - val_accuracy: 0.9387\n",
      "Epoch 62/100\n",
      "32/32 [==============================] - 7s 210ms/step - loss: 0.2207 - accuracy: 0.9336 - val_loss: 0.1997 - val_accuracy: 0.9409\n",
      "Epoch 63/100\n",
      "32/32 [==============================] - 7s 211ms/step - loss: 0.1988 - accuracy: 0.9404 - val_loss: 0.1965 - val_accuracy: 0.9412\n",
      "Epoch 64/100\n",
      "32/32 [==============================] - 6s 207ms/step - loss: 0.1473 - accuracy: 0.9561 - val_loss: 0.1985 - val_accuracy: 0.9409\n",
      "Epoch 65/100\n",
      "32/32 [==============================] - 6s 205ms/step - loss: 0.1639 - accuracy: 0.9531 - val_loss: 0.1982 - val_accuracy: 0.9415\n",
      "Epoch 66/100\n",
      "32/32 [==============================] - 6s 207ms/step - loss: 0.2122 - accuracy: 0.9375 - val_loss: 0.2035 - val_accuracy: 0.9399\n",
      "Epoch 67/100\n",
      "32/32 [==============================] - 6s 207ms/step - loss: 0.2398 - accuracy: 0.9365 - val_loss: 0.1957 - val_accuracy: 0.9431\n",
      "Epoch 68/100\n",
      "32/32 [==============================] - 6s 206ms/step - loss: 0.1776 - accuracy: 0.9541 - val_loss: 0.1935 - val_accuracy: 0.9422\n",
      "Epoch 69/100\n",
      "32/32 [==============================] - 6s 208ms/step - loss: 0.2099 - accuracy: 0.9453 - val_loss: 0.1895 - val_accuracy: 0.9423\n",
      "Epoch 70/100\n",
      "32/32 [==============================] - 6s 205ms/step - loss: 0.1839 - accuracy: 0.9443 - val_loss: 0.1888 - val_accuracy: 0.9422\n",
      "Epoch 71/100\n",
      "32/32 [==============================] - 7s 212ms/step - loss: 0.1740 - accuracy: 0.9443 - val_loss: 0.1946 - val_accuracy: 0.9395\n",
      "Epoch 72/100\n",
      "32/32 [==============================] - 6s 202ms/step - loss: 0.1862 - accuracy: 0.9414 - val_loss: 0.1908 - val_accuracy: 0.9412\n",
      "Epoch 73/100\n",
      "32/32 [==============================] - 6s 205ms/step - loss: 0.1456 - accuracy: 0.9580 - val_loss: 0.1889 - val_accuracy: 0.9418\n",
      "Epoch 74/100\n",
      "32/32 [==============================] - 7s 209ms/step - loss: 0.1787 - accuracy: 0.9473 - val_loss: 0.1885 - val_accuracy: 0.9429\n",
      "Epoch 75/100\n",
      "32/32 [==============================] - 6s 208ms/step - loss: 0.1806 - accuracy: 0.9434 - val_loss: 0.1878 - val_accuracy: 0.9449\n",
      "Epoch 76/100\n",
      "32/32 [==============================] - 6s 203ms/step - loss: 0.1721 - accuracy: 0.9414 - val_loss: 0.1921 - val_accuracy: 0.9399\n",
      "Epoch 77/100\n",
      "32/32 [==============================] - 6s 207ms/step - loss: 0.1529 - accuracy: 0.9541 - val_loss: 0.1793 - val_accuracy: 0.9463\n",
      "Epoch 78/100\n",
      "32/32 [==============================] - 7s 214ms/step - loss: 0.1771 - accuracy: 0.9473 - val_loss: 0.1925 - val_accuracy: 0.9410\n",
      "Epoch 79/100\n",
      "32/32 [==============================] - 7s 216ms/step - loss: 0.1841 - accuracy: 0.9443 - val_loss: 0.1837 - val_accuracy: 0.9449\n",
      "Epoch 80/100\n",
      "32/32 [==============================] - 7s 218ms/step - loss: 0.2262 - accuracy: 0.9238 - val_loss: 0.1846 - val_accuracy: 0.9456\n",
      "Epoch 81/100\n",
      "32/32 [==============================] - 7s 216ms/step - loss: 0.1598 - accuracy: 0.9541 - val_loss: 0.1818 - val_accuracy: 0.9455\n",
      "Epoch 82/100\n",
      "32/32 [==============================] - 7s 220ms/step - loss: 0.1685 - accuracy: 0.9453 - val_loss: 0.1808 - val_accuracy: 0.9452\n",
      "Epoch 83/100\n",
      "32/32 [==============================] - 7s 217ms/step - loss: 0.2186 - accuracy: 0.9395 - val_loss: 0.1814 - val_accuracy: 0.9465\n",
      "Epoch 84/100\n",
      "32/32 [==============================] - 7s 218ms/step - loss: 0.1700 - accuracy: 0.9473 - val_loss: 0.1798 - val_accuracy: 0.9482\n",
      "Epoch 85/100\n",
      "32/32 [==============================] - 7s 223ms/step - loss: 0.1682 - accuracy: 0.9502 - val_loss: 0.1779 - val_accuracy: 0.9461\n",
      "Epoch 86/100\n",
      "32/32 [==============================] - 7s 221ms/step - loss: 0.1493 - accuracy: 0.9551 - val_loss: 0.1728 - val_accuracy: 0.9501\n",
      "Epoch 87/100\n",
      "32/32 [==============================] - 7s 220ms/step - loss: 0.1697 - accuracy: 0.9492 - val_loss: 0.1866 - val_accuracy: 0.9438\n",
      "Epoch 88/100\n",
      "32/32 [==============================] - 7s 223ms/step - loss: 0.1829 - accuracy: 0.9443 - val_loss: 0.1770 - val_accuracy: 0.9469\n",
      "Epoch 89/100\n",
      "32/32 [==============================] - 7s 220ms/step - loss: 0.1413 - accuracy: 0.9551 - val_loss: 0.1761 - val_accuracy: 0.9491\n",
      "Epoch 90/100\n",
      "32/32 [==============================] - 7s 218ms/step - loss: 0.1642 - accuracy: 0.9531 - val_loss: 0.1749 - val_accuracy: 0.9488\n",
      "Epoch 91/100\n",
      "32/32 [==============================] - 7s 219ms/step - loss: 0.1640 - accuracy: 0.9463 - val_loss: 0.1729 - val_accuracy: 0.9481\n",
      "Epoch 92/100\n",
      "32/32 [==============================] - 7s 218ms/step - loss: 0.1718 - accuracy: 0.9512 - val_loss: 0.1701 - val_accuracy: 0.9493\n",
      "Epoch 93/100\n",
      "32/32 [==============================] - 7s 218ms/step - loss: 0.1731 - accuracy: 0.9482 - val_loss: 0.1747 - val_accuracy: 0.9468\n",
      "Epoch 94/100\n",
      "32/32 [==============================] - 7s 215ms/step - loss: 0.1411 - accuracy: 0.9600 - val_loss: 0.1789 - val_accuracy: 0.9461\n",
      "Epoch 95/100\n",
      "32/32 [==============================] - 6s 208ms/step - loss: 0.1542 - accuracy: 0.9502 - val_loss: 0.1716 - val_accuracy: 0.9464\n",
      "Epoch 96/100\n",
      "32/32 [==============================] - 6s 206ms/step - loss: 0.1690 - accuracy: 0.9443 - val_loss: 0.1649 - val_accuracy: 0.9504\n",
      "Epoch 97/100\n",
      "32/32 [==============================] - 6s 205ms/step - loss: 0.1998 - accuracy: 0.9326 - val_loss: 0.1782 - val_accuracy: 0.9497\n",
      "Epoch 98/100\n",
      "32/32 [==============================] - 6s 201ms/step - loss: 0.1795 - accuracy: 0.9463 - val_loss: 0.1709 - val_accuracy: 0.9471\n",
      "Epoch 99/100\n",
      "32/32 [==============================] - 6s 206ms/step - loss: 0.1546 - accuracy: 0.9492 - val_loss: 0.1623 - val_accuracy: 0.9510\n",
      "Epoch 100/100\n",
      "32/32 [==============================] - 7s 216ms/step - loss: 0.1737 - accuracy: 0.9424 - val_loss: 0.1726 - val_accuracy: 0.9461\n"
     ]
    }
   ]
  },
  {
   "cell_type": "code",
   "execution_count": 98,
   "outputs": [
    {
     "name": "stderr",
     "output_type": "stream",
     "text": [
      "WARNING:absl:Found untraced functions such as lstm_cell_29_layer_call_fn, lstm_cell_29_layer_call_and_return_conditional_losses, lstm_cell_29_layer_call_fn, lstm_cell_29_layer_call_and_return_conditional_losses, lstm_cell_29_layer_call_and_return_conditional_losses while saving (showing 5 of 5). These functions will not be directly callable after loading.\n"
     ]
    },
    {
     "name": "stdout",
     "output_type": "stream",
     "text": [
      "INFO:tensorflow:Assets written to: ../model/sentiment-model\\assets\n"
     ]
    },
    {
     "name": "stderr",
     "output_type": "stream",
     "text": [
      "INFO:tensorflow:Assets written to: ../model/sentiment-model\\assets\n",
      "WARNING:absl:<keras.layers.recurrent.LSTMCell object at 0x000002138364C460> has the same name 'LSTMCell' as a built-in Keras object. Consider renaming <class 'keras.layers.recurrent.LSTMCell'> to avoid naming conflicts when loading with `tf.keras.models.load_model`. If renaming is not possible, pass the object in the `custom_objects` parameter of the load function.\n"
     ]
    }
   ],
   "source": [
    "model.save('../model/sentiment-model')"
   ],
   "metadata": {
    "collapsed": false,
    "pycharm": {
     "name": "#%%\n"
    }
   }
  },
  {
   "cell_type": "code",
   "execution_count": 99,
   "outputs": [],
   "source": [
    "prediction = model.predict(pad_test)"
   ],
   "metadata": {
    "collapsed": false,
    "pycharm": {
     "name": "#%%\n"
    }
   }
  },
  {
   "cell_type": "code",
   "execution_count": 102,
   "outputs": [
    {
     "data": {
      "text/plain": "numpy.ndarray"
     },
     "execution_count": 102,
     "metadata": {},
     "output_type": "execute_result"
    }
   ],
   "source": [
    "type(prediction.round())"
   ],
   "metadata": {
    "collapsed": false,
    "pycharm": {
     "name": "#%%\n"
    }
   }
  },
  {
   "cell_type": "code",
   "execution_count": 103,
   "outputs": [
    {
     "data": {
      "text/plain": "pandas.core.frame.DataFrame"
     },
     "execution_count": 103,
     "metadata": {},
     "output_type": "execute_result"
    }
   ],
   "source": [
    "type(pd.get_dummies(test['category']))"
   ],
   "metadata": {
    "collapsed": false,
    "pycharm": {
     "name": "#%%\n"
    }
   }
  },
  {
   "cell_type": "code",
   "execution_count": 104,
   "outputs": [
    {
     "data": {
      "text/plain": "0.9399925084280185"
     },
     "execution_count": 104,
     "metadata": {},
     "output_type": "execute_result"
    }
   ],
   "source": [
    "from sklearn.metrics import accuracy_score\n",
    "\n",
    "accuracy_score(pd.get_dummies(test['category']), prediction.round())"
   ],
   "metadata": {
    "collapsed": false,
    "pycharm": {
     "name": "#%%\n"
    }
   }
  },
  {
   "cell_type": "code",
   "execution_count": 106,
   "outputs": [
    {
     "ename": "TypeError",
     "evalue": "'dict' object is not callable",
     "output_type": "error",
     "traceback": [
      "\u001B[1;31m---------------------------------------------------------------------------\u001B[0m",
      "\u001B[1;31mTypeError\u001B[0m                                 Traceback (most recent call last)",
      "\u001B[1;32m~\\AppData\\Local\\Temp/ipykernel_3108/441085979.py\u001B[0m in \u001B[0;36m<module>\u001B[1;34m\u001B[0m\n\u001B[1;32m----> 1\u001B[1;33m \u001B[0mhistory\u001B[0m\u001B[1;33m.\u001B[0m\u001B[0mhistory\u001B[0m\u001B[1;33m(\u001B[0m\u001B[1;34m'accuracy'\u001B[0m\u001B[1;33m)\u001B[0m\u001B[1;33m\u001B[0m\u001B[1;33m\u001B[0m\u001B[0m\n\u001B[0m",
      "\u001B[1;31mTypeError\u001B[0m: 'dict' object is not callable"
     ]
    }
   ],
   "source": [
    "history.history['accuracy']"
   ],
   "metadata": {
    "collapsed": false,
    "pycharm": {
     "name": "#%%\n"
    }
   }
  },
  {
   "cell_type": "code",
   "execution_count": 109,
   "outputs": [
    {
     "data": {
      "text/plain": "<Figure size 432x288 with 1 Axes>",
      "image/png": "[encoded data removed]"
     },
     "metadata": {
      "needs_background": "light"
     },
     "output_type": "display_data"
    }
   ],
   "source": [
    "from matplotlib import pyplot as plt\n",
    "\n",
    "plt.plot(range(len(history.history['accuracy'])), history.history['accuracy'], 'r')\n",
    "plt.plot(range(len(history.history['accuracy'])), history.history['val_accuracy'], 'y')\n",
    "plt.show()"
   ],
   "metadata": {
    "collapsed": false,
    "pycharm": {
     "name": "#%%\n"
    }
   }
  },
  {
   "cell_type": "code",
   "execution_count": null,
   "outputs": [],
   "source": [],
   "metadata": {
    "collapsed": false,
    "pycharm": {
     "name": "#%%\n"
    }
   }
  }
 ]
}