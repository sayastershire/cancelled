{
 "nbformat": 4,
 "nbformat_minor": 0,
 "metadata": {
  "colab": {
   "name": "Sentiment Analyis.ipynb",
   "provenance": [],
   "collapsed_sections": []
  },
  "kernelspec": {
   "name": "python3",
   "display_name": "Python 3"
  },
  "language_info": {
   "name": "python"
  },
  "accelerator": "GPU"
 },
 "cells": [
  {
   "cell_type": "code",
   "metadata": {
    "id": "JVMqibFVc1ci"
   },
   "source": [
    "import pandas as pd\n",
    "import numpy as np"
   ],
   "execution_count": 1,
   "outputs": []
  },
  {
   "cell_type": "code",
   "metadata": {
    "colab": {
     "base_uri": "https://localhost:8080/",
     "height": 195
    },
    "id": "VgRpPip8dkHW",
    "outputId": "8057e2f9-8682-47ef-c24b-e3fc821060cf"
   },
   "source": [
    "df = pd.read_csv(\"../dataset/sentiment-analysis/Reddit_Data.csv\").rename(columns = {\"clean_comment\":\"clean_text\"}).append(pd.read_csv(\"../dataset/sentiment-analysis/Twitter_Data.csv\"))\n",
    "df.head()"
   ],
   "execution_count": 2,
   "outputs": [
    {
     "data": {
      "text/plain": "                                          clean_text  category\n0   family mormon have never tried explain them t...       1.0\n1  buddhism has very much lot compatible with chr...       1.0\n2  seriously don say thing first all they won get...      -1.0\n3  what you have learned yours and only yours wha...       0.0\n4  for your own benefit you may want read living ...       1.0",
      "text/html": "<div>\n<style scoped>\n    .dataframe tbody tr th:only-of-type {\n        vertical-align: middle;\n    }\n\n    .dataframe tbody tr th {\n        vertical-align: top;\n    }\n\n    .dataframe thead th {\n        text-align: right;\n    }\n</style>\n<table border=\"1\" class=\"dataframe\">\n  <thead>\n    <tr style=\"text-align: right;\">\n      <th></th>\n      <th>clean_text</th>\n      <th>category</th>\n    </tr>\n  </thead>\n  <tbody>\n    <tr>\n      <th>0</th>\n      <td>family mormon have never tried explain them t...</td>\n      <td>1.0</td>\n    </tr>\n    <tr>\n      <th>1</th>\n      <td>buddhism has very much lot compatible with chr...</td>\n      <td>1.0</td>\n    </tr>\n    <tr>\n      <th>2</th>\n      <td>seriously don say thing first all they won get...</td>\n      <td>-1.0</td>\n    </tr>\n    <tr>\n      <th>3</th>\n      <td>what you have learned yours and only yours wha...</td>\n      <td>0.0</td>\n    </tr>\n    <tr>\n      <th>4</th>\n      <td>for your own benefit you may want read living ...</td>\n      <td>1.0</td>\n    </tr>\n  </tbody>\n</table>\n</div>"
     },
     "execution_count": 2,
     "metadata": {},
     "output_type": "execute_result"
    }
   ]
  },
  {
   "cell_type": "code",
   "execution_count": 3,
   "outputs": [
    {
     "data": {
      "text/plain": "dtype('float64')"
     },
     "execution_count": 3,
     "metadata": {},
     "output_type": "execute_result"
    }
   ],
   "source": [
    "df['category'].dtype"
   ],
   "metadata": {
    "collapsed": false,
    "pycharm": {
     "name": "#%%\n"
    }
   }
  },
  {
   "cell_type": "code",
   "metadata": {
    "colab": {
     "base_uri": "https://localhost:8080/"
    },
    "id": "oksIujEjlMfW",
    "outputId": "ac73cd02-ec50-4a0a-a09c-23e14e00766d"
   },
   "source": [
    "df.dtypes"
   ],
   "execution_count": 4,
   "outputs": [
    {
     "data": {
      "text/plain": "clean_text     object\ncategory      float64\ndtype: object"
     },
     "execution_count": 4,
     "metadata": {},
     "output_type": "execute_result"
    }
   ]
  },
  {
   "cell_type": "markdown",
   "metadata": {
    "id": "hHDFzmtpgiS8"
   },
   "source": [
    "Preprocess"
   ]
  },
  {
   "cell_type": "code",
   "metadata": {
    "id": "xtE5T7LvlO62"
   },
   "source": [
    "df = df.astype({'clean_text': str})"
   ],
   "execution_count": 5,
   "outputs": []
  },
  {
   "cell_type": "code",
   "metadata": {
    "colab": {
     "base_uri": "https://localhost:8080/"
    },
    "id": "jgNmdgbIk-YK",
    "outputId": "49f11dd0-a7a6-47dc-e2ae-da98b84c8a43"
   },
   "source": [
    "df['clean_text']"
   ],
   "execution_count": 6,
   "outputs": [
    {
     "data": {
      "text/plain": "0          family mormon have never tried explain them t...\n1         buddhism has very much lot compatible with chr...\n2         seriously don say thing first all they won get...\n3         what you have learned yours and only yours wha...\n4         for your own benefit you may want read living ...\n                                ...                        \n162975    why these 456 crores paid neerav modi not reco...\n162976    dear rss terrorist payal gawar what about modi...\n162977    did you cover her interaction forum where she ...\n162978    there big project came into india modi dream p...\n162979    have you ever listen about like gurukul where ...\nName: clean_text, Length: 200229, dtype: object"
     },
     "execution_count": 6,
     "metadata": {},
     "output_type": "execute_result"
    }
   ]
  },
  {
   "cell_type": "markdown",
   "metadata": {
    "id": "ys4sxjkcoyPn"
   },
   "source": [
    "Split"
   ]
  },
  {
   "cell_type": "code",
   "execution_count": 7,
   "outputs": [
    {
     "data": {
      "text/plain": "clean_text    False\ncategory       True\ndtype: bool"
     },
     "execution_count": 7,
     "metadata": {},
     "output_type": "execute_result"
    }
   ],
   "source": [
    "df.isnull().any()"
   ],
   "metadata": {
    "collapsed": false,
    "pycharm": {
     "name": "#%%\n"
    }
   }
  },
  {
   "cell_type": "code",
   "execution_count": 8,
   "outputs": [
    {
     "data": {
      "text/plain": "                                               clean_text  category\n130448  the foundation stone northeast gas grid inaugu...       NaN\n155642  dear terrorists you can run but you cant hide ...       NaN\n155698  offense the best defence with mission shakti m...       NaN\n155770  have always heard politicians backing out thei...       NaN\n158693  modi government plans felicitate the faceless ...       NaN\n159442               chidambaram gives praises modinomics       NaN\n160559  the reason why modi contested from seats 2014 ...       NaN",
      "text/html": "<div>\n<style scoped>\n    .dataframe tbody tr th:only-of-type {\n        vertical-align: middle;\n    }\n\n    .dataframe tbody tr th {\n        vertical-align: top;\n    }\n\n    .dataframe thead th {\n        text-align: right;\n    }\n</style>\n<table border=\"1\" class=\"dataframe\">\n  <thead>\n    <tr style=\"text-align: right;\">\n      <th></th>\n      <th>clean_text</th>\n      <th>category</th>\n    </tr>\n  </thead>\n  <tbody>\n    <tr>\n      <th>130448</th>\n      <td>the foundation stone northeast gas grid inaugu...</td>\n      <td>NaN</td>\n    </tr>\n    <tr>\n      <th>155642</th>\n      <td>dear terrorists you can run but you cant hide ...</td>\n      <td>NaN</td>\n    </tr>\n    <tr>\n      <th>155698</th>\n      <td>offense the best defence with mission shakti m...</td>\n      <td>NaN</td>\n    </tr>\n    <tr>\n      <th>155770</th>\n      <td>have always heard politicians backing out thei...</td>\n      <td>NaN</td>\n    </tr>\n    <tr>\n      <th>158693</th>\n      <td>modi government plans felicitate the faceless ...</td>\n      <td>NaN</td>\n    </tr>\n    <tr>\n      <th>159442</th>\n      <td>chidambaram gives praises modinomics</td>\n      <td>NaN</td>\n    </tr>\n    <tr>\n      <th>160559</th>\n      <td>the reason why modi contested from seats 2014 ...</td>\n      <td>NaN</td>\n    </tr>\n  </tbody>\n</table>\n</div>"
     },
     "execution_count": 8,
     "metadata": {},
     "output_type": "execute_result"
    }
   ],
   "source": [
    "df[df['category'].isnull()]"
   ],
   "metadata": {
    "collapsed": false,
    "pycharm": {
     "name": "#%%\n"
    }
   }
  },
  {
   "cell_type": "code",
   "execution_count": 9,
   "outputs": [],
   "source": [
    "import nltk\n",
    "\n",
    "df['token'] = df['clean_text'].apply(nltk.tokenize.word_tokenize)"
   ],
   "metadata": {
    "collapsed": false,
    "pycharm": {
     "name": "#%%\n"
    }
   }
  },
  {
   "cell_type": "code",
   "execution_count": 10,
   "outputs": [],
   "source": [
    "df['len'] = df['token'].apply(len)"
   ],
   "metadata": {
    "collapsed": false,
    "pycharm": {
     "name": "#%%\n"
    }
   }
  },
  {
   "cell_type": "code",
   "execution_count": 11,
   "outputs": [
    {
     "data": {
      "text/plain": "0          39\n1         196\n2          86\n3          29\n4         112\n         ... \n162975     18\n162976     36\n162977      9\n162978     13\n162979     34\nName: len, Length: 200229, dtype: int64"
     },
     "execution_count": 11,
     "metadata": {},
     "output_type": "execute_result"
    }
   ],
   "source": [
    "df.len"
   ],
   "metadata": {
    "collapsed": false,
    "pycharm": {
     "name": "#%%\n"
    }
   }
  },
  {
   "cell_type": "code",
   "execution_count": 26,
   "outputs": [
    {
     "data": {
      "text/plain": "'buddhism has very much lot compatible with christianity especially considering that sin and suffering are almost the same thing suffering caused wanting things shouldn want going about getting things the wrong way christian this would mean wanting things that don coincide with god will and wanting things that coincide but without the aid jesus buddhism could also seen proof god all mighty will and omnipotence certainly christians are lucky have one such christ there side but what about everyone else well many christians believe god grace salvation and buddhism god way showing grace upon others would also help study the things jesus said and see how buddha has made similar claims such rich man getting into heaven joke basically advocating that should rid ourselves material possessions fact distinctly remembered jesus making someone cry because that someone asked what achieve salvation and jesus replied with live like buddhist very very roughly translated also point out that buddha rarely spoke anything about god theory personally because knew well enough leave that jesus and mohamed who came later just remember conflict difference opinion but education can fun involving and enlightening easier teach something than prove right like intelligent design '"
     },
     "execution_count": 26,
     "metadata": {},
     "output_type": "execute_result"
    }
   ],
   "source": [
    "df['clean_text'].iloc[1]"
   ],
   "metadata": {
    "collapsed": false,
    "pycharm": {
     "name": "#%%\n"
    }
   }
  },
  {
   "cell_type": "code",
   "execution_count": 28,
   "outputs": [
    {
     "data": {
      "text/plain": "196"
     },
     "execution_count": 28,
     "metadata": {},
     "output_type": "execute_result"
    }
   ],
   "source": [
    "len(df['token'].iloc[1])"
   ],
   "metadata": {
    "collapsed": false,
    "pycharm": {
     "name": "#%%\n"
    }
   }
  },
  {
   "cell_type": "code",
   "execution_count": 24,
   "outputs": [
    {
     "data": {
      "text/plain": "count    200222.000000\nmean         21.931296\nstd          26.686952\nmin           0.000000\n25%          10.000000\n50%          18.000000\n75%          30.000000\nmax        1307.000000\nName: len, dtype: float64"
     },
     "execution_count": 24,
     "metadata": {},
     "output_type": "execute_result"
    }
   ],
   "source": [
    "df['len'].describe()"
   ],
   "metadata": {
    "collapsed": false,
    "pycharm": {
     "name": "#%%\n"
    }
   }
  },
  {
   "cell_type": "code",
   "execution_count": 31,
   "outputs": [
    {
     "data": {
      "text/plain": "                                              clean_text  category  \\\n1682    going churlish and ahead and puncture your ba...       1.0   \n4184   too much dependence people from iit and iim ca...       1.0   \n4373   part you have something mind please let know c...       1.0   \n6016   the reason very simple copy and paste from red...       1.0   \n7231   let one one food beef obviously same thing her...       1.0   \n8646   brilliant point point breakdown one other argu...       1.0   \n10440   demonetisation fails then blame modi told cab...       1.0   \n20979  there redemption for the crimes committed agai...       1.0   \n23361  hello have few questions related development s...       1.0   \n24431   modi’ government last four years has recovere...       1.0   \n28490  first all extremely sad people misunderstood y...       1.0   \n29923   india pakistan html for the past few decades ...       1.0   \n30639   what your opinion about social media being us...       1.0   \n34281   read answer quora but direct links aren allow...       1.0   \n\n                                                   token   len  \n1682   [going, churlish, and, ahead, and, puncture, y...  1003  \n4184   [too, much, dependence, people, from, iit, and...  1054  \n4373   [part, you, have, something, mind, please, let...  1177  \n6016   [the, reason, very, simple, copy, and, paste, ...  1006  \n7231   [let, one, one, food, beef, obviously, same, t...  1119  \n8646   [brilliant, point, point, breakdown, one, othe...  1307  \n10440  [demonetisation, fails, then, blame, modi, tol...  1084  \n20979  [there, redemption, for, the, crimes, committe...  1103  \n23361  [hello, have, few, questions, related, develop...  1260  \n24431  [modi, ’, government, last, four, years, has, ...  1035  \n28490  [first, all, extremely, sad, people, misunders...  1181  \n29923  [india, pakistan, html, for, the, past, few, d...  1009  \n30639  [what, your, opinion, about, social, media, be...  1303  \n34281  [read, answer, quora, but, direct, links, aren...  1207  ",
      "text/html": "<div>\n<style scoped>\n    .dataframe tbody tr th:only-of-type {\n        vertical-align: middle;\n    }\n\n    .dataframe tbody tr th {\n        vertical-align: top;\n    }\n\n    .dataframe thead th {\n        text-align: right;\n    }\n</style>\n<table border=\"1\" class=\"dataframe\">\n  <thead>\n    <tr style=\"text-align: right;\">\n      <th></th>\n      <th>clean_text</th>\n      <th>category</th>\n      <th>token</th>\n      <th>len</th>\n    </tr>\n  </thead>\n  <tbody>\n    <tr>\n      <th>1682</th>\n      <td>going churlish and ahead and puncture your ba...</td>\n      <td>1.0</td>\n      <td>[going, churlish, and, ahead, and, puncture, y...</td>\n      <td>1003</td>\n    </tr>\n    <tr>\n      <th>4184</th>\n      <td>too much dependence people from iit and iim ca...</td>\n      <td>1.0</td>\n      <td>[too, much, dependence, people, from, iit, and...</td>\n      <td>1054</td>\n    </tr>\n    <tr>\n      <th>4373</th>\n      <td>part you have something mind please let know c...</td>\n      <td>1.0</td>\n      <td>[part, you, have, something, mind, please, let...</td>\n      <td>1177</td>\n    </tr>\n    <tr>\n      <th>6016</th>\n      <td>the reason very simple copy and paste from red...</td>\n      <td>1.0</td>\n      <td>[the, reason, very, simple, copy, and, paste, ...</td>\n      <td>1006</td>\n    </tr>\n    <tr>\n      <th>7231</th>\n      <td>let one one food beef obviously same thing her...</td>\n      <td>1.0</td>\n      <td>[let, one, one, food, beef, obviously, same, t...</td>\n      <td>1119</td>\n    </tr>\n    <tr>\n      <th>8646</th>\n      <td>brilliant point point breakdown one other argu...</td>\n      <td>1.0</td>\n      <td>[brilliant, point, point, breakdown, one, othe...</td>\n      <td>1307</td>\n    </tr>\n    <tr>\n      <th>10440</th>\n      <td>demonetisation fails then blame modi told cab...</td>\n      <td>1.0</td>\n      <td>[demonetisation, fails, then, blame, modi, tol...</td>\n      <td>1084</td>\n    </tr>\n    <tr>\n      <th>20979</th>\n      <td>there redemption for the crimes committed agai...</td>\n      <td>1.0</td>\n      <td>[there, redemption, for, the, crimes, committe...</td>\n      <td>1103</td>\n    </tr>\n    <tr>\n      <th>23361</th>\n      <td>hello have few questions related development s...</td>\n      <td>1.0</td>\n      <td>[hello, have, few, questions, related, develop...</td>\n      <td>1260</td>\n    </tr>\n    <tr>\n      <th>24431</th>\n      <td>modi’ government last four years has recovere...</td>\n      <td>1.0</td>\n      <td>[modi, ’, government, last, four, years, has, ...</td>\n      <td>1035</td>\n    </tr>\n    <tr>\n      <th>28490</th>\n      <td>first all extremely sad people misunderstood y...</td>\n      <td>1.0</td>\n      <td>[first, all, extremely, sad, people, misunders...</td>\n      <td>1181</td>\n    </tr>\n    <tr>\n      <th>29923</th>\n      <td>india pakistan html for the past few decades ...</td>\n      <td>1.0</td>\n      <td>[india, pakistan, html, for, the, past, few, d...</td>\n      <td>1009</td>\n    </tr>\n    <tr>\n      <th>30639</th>\n      <td>what your opinion about social media being us...</td>\n      <td>1.0</td>\n      <td>[what, your, opinion, about, social, media, be...</td>\n      <td>1303</td>\n    </tr>\n    <tr>\n      <th>34281</th>\n      <td>read answer quora but direct links aren allow...</td>\n      <td>1.0</td>\n      <td>[read, answer, quora, but, direct, links, aren...</td>\n      <td>1207</td>\n    </tr>\n  </tbody>\n</table>\n</div>"
     },
     "execution_count": 31,
     "metadata": {},
     "output_type": "execute_result"
    }
   ],
   "source": [
    "df[df['len'] > 1000]"
   ],
   "metadata": {
    "collapsed": false,
    "pycharm": {
     "name": "#%%\n"
    }
   }
  },
  {
   "cell_type": "code",
   "execution_count": 32,
   "outputs": [
    {
     "data": {
      "text/plain": "'brilliant point point breakdown one other argument making the rounds false argument okay maybe the strikes took place but should have been kept secret and deniable there good reason for dgmo make statements about covert actions except for bjp score political points there are massive number reasons make strike like this public exposes pakistan bluster just tough talk for all their talk being high alert for indian troop movement along the loc after the uri attack they didn even see coming massively boosts morale within the armed forces morale which has been getting steadily lower our bases kept getting hit while they were not allowed take charge the offensive the troops are also being vilified the media national and international while trying control spiral violence srinagar fueled pakistan propaganda machine makes the best use pakistan blunder overreaching and outmaneuvers them pakistan has its hands tied now after making bold statements about defending against indian adventurism aggression and denying that any terrorist camps even exist the region that they have the support their government pakistan has left itself publicly admissible out can either promise retaliation for strikes thereby confirming the existence such terror bases deny the strike and claim ignorance any bases the area releasing statements and evidence the strikes india makes pakistan look weak and incompetent defense while also making the point that pakistan harbors terrorists and uses them proxy war against india manner that exceeds just providing moral and diplomatic support they have claimed the past calls pakistan bluff threats start nuclear conflict their nuclear arsenal while still being very real and implicit threat longer their impenetrable shield striking within pok and then making public india has taken control the escalatory ladden you said earlier out the open for everyone see which leads the next point makes public the strategic shift indian policy dealing with cross border infiltration and terrorism this now means that india controls the play events and that infiltration will actively fought against taking the fight the terror outposts and leaving open the possibility even striking training camps situated further inland this means that india will make pakistan work and pay for every infiltration attempt literally not just pay terms revenge and bloodshed pakistan will need actually spend more time money resources manpower actual defense and surveillance near these bases their terror outposts will have constantly vigilant and more resources dedicated keeping eye out for incoming strikes the future this very different from the past where the outposts had nothing worry about till they crossed the border and their entire focus was offensive not defensive nature points out very little fencing the pakistani side because they never even felt the need defend themselves but that will all change now terrorists will not sleep peacefully their beds they will possibly make more mistakes and every new person recruited keep watch patrol their perimeter potential vulnerability too accidentally leaked info paid informant mole many these will make increasingly expensive and difficult maintain multiple such bases leading demoralized terrorists demoralized pakistani troops demoralized and disillusioned pakistani public pakistan currently damage control mode firing off more propaganda than artillery and trying pooh pooh the stories the strikes indian propaganda but inaccuracies their accounts will begin add and morale will definitely take hit everyone the pakistani side currently denial but that expected ultimately again makes the government look dishonest incompetent and erodes their imaginary moral high ground that they lay claim strengthens the indian public support for the government this definitely well deserved win for the bjp but more importantly makes the indian public lot more unified behind their central government regardless who was power when such action was taken there are certainly plenty who question the narrative and events but there definite surge public approval favor retaliation for uri and the strikes themselves regardless their position the who how where why covert overt bragging courting war etc this demonstrates among other things that the goi proactive that was receptive the outrage about uri across the nation that was willing take stand such attacks indian sovereignty demonstrates india ability operate within the bounds previous agreements and treaties while still taking decisive action defend itself and not being enslaved those treaties pakistan has always played victim when came any border related issue and deny any involvement previous incursions from their side meanwhile india hamstrung restrictive treaties preventing military retaliation for numerous actions carried out pakistan and its proxy fighters till now this deft navigation not altering the loc while striking terrorist camps falls well within the bounds the simla agreement and the charter surgical strikes across loc line with shimla agreement and charter 3026586 html exploring this avenue publicly means that india can now freely continue perform such strikes the future without invoking any backlash from most other nations and getting active support from several now let assume that the strikes took place but the government kept absolutely secret the outcome not making the strikes public knowledge would have been quite disadvantageous the whole india maintains deniability for aggressive action great but pakistan will constantly play the victim anyway portray cross border terrorism domestic rebellion foment unrest and paint india oppressive bully state committing atrocities kashmir very little advantage here while the strike killed handful terrorists and prevented few attacks the near future would fail adequately capitalize that victory other terror outfits and individual members such organisations may remain unaware and unafraid pakistani turf terrorists sleeping soundly before attempting border crossing isn good for indian defense maintaining state combat ready vigilance and tension impossible for more than few days for all but the most highly trained soldiers demoralizes indian troops they would feel abandoned the govt and the people left deal with bloodthirsty militants all themselves without any chance take action and preempt such attacks the indian soldiers continue the only ones who sleep fear with the fatigue constant vigilance making them weaker while the enemy gets stronger indian silence taken for weakness emboldens our enemies india seen soft target home and abroad india loses control the narrative the few who would aware the covert action the other side could later alter the narrative they have done several times the past and claim india committed atrocities and crimes pakistani territory and killed civilians blaming raw and other agencies and using justify further attacks several years the future the context and events this time would have faded from the public mind and india would the diplomatic back foot having either deny the action ever took place and look guilty forced justify such action and remind the public that was retaliation for uri not random unprovoked attack better claim upfront and connect the two events inextricably forever india retaliates for uri massacre today lot better than india denies committing war crimes pok years later when the conspiracy theorists would have had plenty time concoct alternate narrative pakistan would continue have the facade nuclear shield despite successful strike until challenged head publicly pakistan claims would continue hold weight pakistan retains control the escalatory ladder pakistan bluff not called and continues project the image competent military pakistan retains the facade harboring terrorists its soil what terrorists public acknowledgement shift the policy strategic restraint indian public loses faith the government not knowing about any retaliation would mean that the indian public would just have another item list complain about how the government all talk action critics the government perceived restraint would continue make the government look weak and ineffective bjp would crucified the public eye for not taking stronger measures because the public wouldn know about the strike the voice the people would appear have been ignored future governments would unlikely continue the shift strategy reluctance take control the offensive would persist continued veil secrecy would mean that their efforts would unnoticed while the costs and risks such operations would for little political benefit '"
     },
     "execution_count": 32,
     "metadata": {},
     "output_type": "execute_result"
    }
   ],
   "source": [
    "df['clean_text'].iloc[8646]"
   ],
   "metadata": {
    "collapsed": false,
    "pycharm": {
     "name": "#%%\n"
    }
   }
  },
  {
   "cell_type": "code",
   "execution_count": 14,
   "outputs": [],
   "source": [
    "df.dropna(inplace=True)"
   ],
   "metadata": {
    "collapsed": false,
    "pycharm": {
     "name": "#%%\n"
    }
   }
  },
  {
   "cell_type": "code",
   "execution_count": 15,
   "outputs": [
    {
     "data": {
      "text/plain": "                                               clean_text  category  \\\n0        family mormon have never tried explain them t...       1.0   \n1       buddhism has very much lot compatible with chr...       1.0   \n2       seriously don say thing first all they won get...      -1.0   \n3       what you have learned yours and only yours wha...       0.0   \n4       for your own benefit you may want read living ...       1.0   \n...                                                   ...       ...   \n162975  why these 456 crores paid neerav modi not reco...      -1.0   \n162976  dear rss terrorist payal gawar what about modi...      -1.0   \n162977  did you cover her interaction forum where she ...       0.0   \n162978  there big project came into india modi dream p...       0.0   \n162979  have you ever listen about like gurukul where ...       1.0   \n\n                                                    token  len  \n0       [family, mormon, have, never, tried, explain, ...   39  \n1       [buddhism, has, very, much, lot, compatible, w...  196  \n2       [seriously, don, say, thing, first, all, they,...   86  \n3       [what, you, have, learned, yours, and, only, y...   29  \n4       [for, your, own, benefit, you, may, want, read...  112  \n...                                                   ...  ...  \n162975  [why, these, 456, crores, paid, neerav, modi, ...   18  \n162976  [dear, rss, terrorist, payal, gawar, what, abo...   36  \n162977  [did, you, cover, her, interaction, forum, whe...    9  \n162978  [there, big, project, came, into, india, modi,...   13  \n162979  [have, you, ever, listen, about, like, gurukul...   34  \n\n[200222 rows x 4 columns]",
      "text/html": "<div>\n<style scoped>\n    .dataframe tbody tr th:only-of-type {\n        vertical-align: middle;\n    }\n\n    .dataframe tbody tr th {\n        vertical-align: top;\n    }\n\n    .dataframe thead th {\n        text-align: right;\n    }\n</style>\n<table border=\"1\" class=\"dataframe\">\n  <thead>\n    <tr style=\"text-align: right;\">\n      <th></th>\n      <th>clean_text</th>\n      <th>category</th>\n      <th>token</th>\n      <th>len</th>\n    </tr>\n  </thead>\n  <tbody>\n    <tr>\n      <th>0</th>\n      <td>family mormon have never tried explain them t...</td>\n      <td>1.0</td>\n      <td>[family, mormon, have, never, tried, explain, ...</td>\n      <td>39</td>\n    </tr>\n    <tr>\n      <th>1</th>\n      <td>buddhism has very much lot compatible with chr...</td>\n      <td>1.0</td>\n      <td>[buddhism, has, very, much, lot, compatible, w...</td>\n      <td>196</td>\n    </tr>\n    <tr>\n      <th>2</th>\n      <td>seriously don say thing first all they won get...</td>\n      <td>-1.0</td>\n      <td>[seriously, don, say, thing, first, all, they,...</td>\n      <td>86</td>\n    </tr>\n    <tr>\n      <th>3</th>\n      <td>what you have learned yours and only yours wha...</td>\n      <td>0.0</td>\n      <td>[what, you, have, learned, yours, and, only, y...</td>\n      <td>29</td>\n    </tr>\n    <tr>\n      <th>4</th>\n      <td>for your own benefit you may want read living ...</td>\n      <td>1.0</td>\n      <td>[for, your, own, benefit, you, may, want, read...</td>\n      <td>112</td>\n    </tr>\n    <tr>\n      <th>...</th>\n      <td>...</td>\n      <td>...</td>\n      <td>...</td>\n      <td>...</td>\n    </tr>\n    <tr>\n      <th>162975</th>\n      <td>why these 456 crores paid neerav modi not reco...</td>\n      <td>-1.0</td>\n      <td>[why, these, 456, crores, paid, neerav, modi, ...</td>\n      <td>18</td>\n    </tr>\n    <tr>\n      <th>162976</th>\n      <td>dear rss terrorist payal gawar what about modi...</td>\n      <td>-1.0</td>\n      <td>[dear, rss, terrorist, payal, gawar, what, abo...</td>\n      <td>36</td>\n    </tr>\n    <tr>\n      <th>162977</th>\n      <td>did you cover her interaction forum where she ...</td>\n      <td>0.0</td>\n      <td>[did, you, cover, her, interaction, forum, whe...</td>\n      <td>9</td>\n    </tr>\n    <tr>\n      <th>162978</th>\n      <td>there big project came into india modi dream p...</td>\n      <td>0.0</td>\n      <td>[there, big, project, came, into, india, modi,...</td>\n      <td>13</td>\n    </tr>\n    <tr>\n      <th>162979</th>\n      <td>have you ever listen about like gurukul where ...</td>\n      <td>1.0</td>\n      <td>[have, you, ever, listen, about, like, gurukul...</td>\n      <td>34</td>\n    </tr>\n  </tbody>\n</table>\n<p>200222 rows × 4 columns</p>\n</div>"
     },
     "execution_count": 15,
     "metadata": {},
     "output_type": "execute_result"
    }
   ],
   "source": [
    "df"
   ],
   "metadata": {
    "collapsed": false,
    "pycharm": {
     "name": "#%%\n"
    }
   }
  },
  {
   "cell_type": "code",
   "metadata": {
    "id": "vLAIMiIEoxL3"
   },
   "source": [
    "sample = df.sample(frac=1.0, random_state=4)\n",
    "train = sample[:int(0.8*len(sample))]\n",
    "test = sample[int(0.8*len(sample)):]"
   ],
   "execution_count": 16,
   "outputs": []
  },
  {
   "cell_type": "code",
   "metadata": {
    "id": "B3rqexT-gX0v"
   },
   "source": [
    "import tensorflow as tf\n",
    "\n",
    "tokenizer = tf.keras.preprocessing.text.Tokenizer(oov_token='<OOV>')\n",
    "tokenizer.fit_on_texts(train['clean_text'].values)\n"
   ],
   "execution_count": 17,
   "outputs": []
  },
  {
   "cell_type": "code",
   "metadata": {
    "id": "WUqF-M8TlCkK",
    "colab": {
     "base_uri": "https://localhost:8080/"
    },
    "outputId": "20b5ca6c-f8ca-490a-9762-c2985cbeea7c"
   },
   "source": [
    "print(len(tokenizer.word_index))\n",
    "len(tokenizer.word_index)**0.25\n"
   ],
   "execution_count": 18,
   "outputs": [
    {
     "name": "stdout",
     "output_type": "stream",
     "text": [
      "121047\n"
     ]
    },
    {
     "data": {
      "text/plain": "18.65256266064929"
     },
     "execution_count": 18,
     "metadata": {},
     "output_type": "execute_result"
    }
   ]
  },
  {
   "cell_type": "code",
   "metadata": {
    "id": "WcTVRSXYmKdw"
   },
   "source": [
    "# a = \"I remember it all too well\"\n",
    "# tokenizer.texts_to_sequences([a])"
   ],
   "execution_count": 19,
   "outputs": []
  },
  {
   "cell_type": "code",
   "metadata": {
    "id": "PV3M1LfNmz9p"
   },
   "source": [
    "sequence_train = tokenizer.texts_to_sequences(train[\"clean_text\"])\n",
    "sequence_test = tokenizer.texts_to_sequences(test[\"clean_text\"])"
   ],
   "execution_count": 20,
   "outputs": []
  },
  {
   "cell_type": "code",
   "metadata": {
    "id": "D_bl8yNAnOLm"
   },
   "source": [
    "pad_train= tf.keras.preprocessing.sequence.pad_sequences(sequence_train, maxlen=30, padding='pre')\n",
    "pad_test= tf.keras.preprocessing.sequence.pad_sequences(sequence_test, maxlen=30, padding='pre')\n"
   ],
   "execution_count": 33,
   "outputs": []
  },
  {
   "cell_type": "markdown",
   "metadata": {
    "id": "4hPB61QUw2MN"
   },
   "source": [
    "RNN"
   ]
  },
  {
   "cell_type": "code",
   "metadata": {
    "colab": {
     "base_uri": "https://localhost:8080/"
    },
    "id": "lbDcaa6Bw1-D",
    "outputId": "83cb0035-f143-4c9e-d6e6-8616540ac076"
   },
   "source": [
    "import tensorflow as tf\n",
    "from tensorflow import keras\n",
    "from tensorflow.keras import layers\n",
    "\n",
    "#hidden and output layer\n",
    "model = keras.Sequential(\n",
    "    [\n",
    "     tf.keras.layers.Embedding(len(tokenizer.word_index)+1,12,input_length=30, trainable=True), #total vocab, output (dari total vocab akar 4)\n",
    "     layers.LSTM(256, activation = \"relu\", name=\"hai_shaq\"), #hidden layer\n",
    "     layers.Dense(1, activation =\"tanh\", name=\"layer3\") #output layer\n",
    "    ]\n",
    ")\n",
    "model.summary()"
   ],
   "execution_count": 41,
   "outputs": [
    {
     "name": "stdout",
     "output_type": "stream",
     "text": [
      "WARNING:tensorflow:Layer hai_shaq will not use cuDNN kernels since it doesn't meet the criteria. It will use a generic GPU kernel as fallback when running on GPU.\n",
      "Model: \"sequential_3\"\n",
      "_________________________________________________________________\n",
      " Layer (type)                Output Shape              Param #   \n",
      "=================================================================\n",
      " embedding_3 (Embedding)     (None, 30, 12)            1452576   \n",
      "                                                                 \n",
      " hai_shaq (LSTM)             (None, 256)               275456    \n",
      "                                                                 \n",
      " layer3 (Dense)              (None, 1)                 257       \n",
      "                                                                 \n",
      "=================================================================\n",
      "Total params: 1,728,289\n",
      "Trainable params: 1,728,289\n",
      "Non-trainable params: 0\n",
      "_________________________________________________________________\n"
     ]
    }
   ]
  },
  {
   "cell_type": "markdown",
   "metadata": {
    "id": "rA4_EbaV3bd4"
   },
   "source": [
    "Compile the model"
   ]
  },
  {
   "cell_type": "code",
   "metadata": {
    "id": "nSM_ZaDxqdUo"
   },
   "source": [
    "model.compile(optimizer=tf.keras.optimizers.SGD(learning_rate=0.1), loss=\"squared_hinge\" , metrics=['accuracy', 'binary_accuracy'])"
   ],
   "execution_count": 42,
   "outputs": []
  },
  {
   "cell_type": "markdown",
   "metadata": {
    "id": "VTFSXU8g4oe6"
   },
   "source": [
    "Fit the model"
   ]
  },
  {
   "cell_type": "code",
   "metadata": {
    "colab": {
     "base_uri": "https://localhost:8080/"
    },
    "id": "fq68mIbC4oB1",
    "outputId": "412e442d-6fb2-4d8a-f9d0-5763b63d9c2a",
    "pycharm": {
     "is_executing": true
    }
   },
   "source": [
    "model.fit(x=pad_train, y=train['category'].values, batch_size=32, epochs=100, verbose=1,\n",
    "    callbacks=None, validation_data=[pad_test,test['category'].values],\n",
    "          steps_per_epoch=32)"
   ],
   "execution_count": null,
   "outputs": [
    {
     "name": "stdout",
     "output_type": "stream",
     "text": [
      "Epoch 1/100\n",
      "32/32 [==============================] - 21s 623ms/step - loss: 0.9270 - accuracy: 0.3350 - binary_accuracy: 0.3350 - val_loss: 0.9302 - val_accuracy: 0.3410 - val_binary_accuracy: 0.3410\n",
      "Epoch 2/100\n",
      "32/32 [==============================] - 19s 618ms/step - loss: 0.9497 - accuracy: 0.3359 - binary_accuracy: 0.3359 - val_loss: 0.9361 - val_accuracy: 0.3410 - val_binary_accuracy: 0.3410\n",
      "Epoch 3/100\n",
      "32/32 [==============================] - 20s 636ms/step - loss: 0.9118 - accuracy: 0.3359 - binary_accuracy: 0.3359 - val_loss: 0.9485 - val_accuracy: 0.3334 - val_binary_accuracy: 0.3334\n",
      "Epoch 4/100\n",
      "32/32 [==============================] - 20s 633ms/step - loss: 0.9231 - accuracy: 0.3369 - binary_accuracy: 0.3369 - val_loss: 0.9297 - val_accuracy: 0.3410 - val_binary_accuracy: 0.3410\n"
     ]
    }
   ]
  },
  {
   "cell_type": "code",
   "execution_count": null,
   "outputs": [],
   "source": [],
   "metadata": {
    "collapsed": false,
    "pycharm": {
     "name": "#%%\n"
    }
   }
  }
 ]
}