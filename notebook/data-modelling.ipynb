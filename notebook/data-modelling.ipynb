{
 "cells": [
  {
   "cell_type": "code",
   "execution_count": 1,
   "metadata": {
    "collapsed": true
   },
   "outputs": [
    {
     "data": {
      "text/plain": "   is_quote_status  retweet_count  favorite_count  is-spam  \\\n0            False            247               0        0   \n1            False           2543               0        0   \n2            False            816               0        0   \n3            False           2687               0        0   \n4            False              0               0        0   \n\n   user_followers_count  user_friends_count  user_listed_count  \\\n0                  1452                1085                 14   \n1                   176                1297                  0   \n2                    48                 130                  0   \n3                    21                 102                  1   \n4                   155                 401                  3   \n\n   user_favourites_count  user_geo_enabled  user_verified  ...    vec_40  \\\n0                  40794              True          False  ...  0.466278   \n1                   7620             False          False  ...  0.114854   \n2                   8648             False          False  ...  0.500366   \n3                  16040             False          False  ...  0.160209   \n4                   8729             False          False  ...  0.230221   \n\n     vec_41    vec_42    vec_43    vec_44    vec_45    vec_46    vec_47  \\\n0  0.067953 -0.251913  0.106986  1.408329  0.461382 -0.314719  0.043074   \n1  0.012156 -0.051351  0.009402  0.352569  0.109051 -0.090185  0.026282   \n2  0.109100 -0.130674  0.052167  1.606052  0.420022 -0.392770  0.070301   \n3  0.016627 -0.045942  0.034811  0.492251  0.144090 -0.115983  0.030251   \n4  0.037889 -0.066517  0.031774  0.692398  0.203983 -0.149367  0.017939   \n\n     vec_48    vec_49  \n0  0.457783  0.228383  \n1  0.104716  0.063480  \n2  0.437388  0.295437  \n3  0.159176  0.100163  \n4  0.195040  0.117355  \n\n[5 rows x 90 columns]",
      "text/html": "<div>\n<style scoped>\n    .dataframe tbody tr th:only-of-type {\n        vertical-align: middle;\n    }\n\n    .dataframe tbody tr th {\n        vertical-align: top;\n    }\n\n    .dataframe thead th {\n        text-align: right;\n    }\n</style>\n<table border=\"1\" class=\"dataframe\">\n  <thead>\n    <tr style=\"text-align: right;\">\n      <th></th>\n      <th>is_quote_status</th>\n      <th>retweet_count</th>\n      <th>favorite_count</th>\n      <th>is-spam</th>\n      <th>user_followers_count</th>\n      <th>user_friends_count</th>\n      <th>user_listed_count</th>\n      <th>user_favourites_count</th>\n      <th>user_geo_enabled</th>\n      <th>user_verified</th>\n      <th>...</th>\n      <th>vec_40</th>\n      <th>vec_41</th>\n      <th>vec_42</th>\n      <th>vec_43</th>\n      <th>vec_44</th>\n      <th>vec_45</th>\n      <th>vec_46</th>\n      <th>vec_47</th>\n      <th>vec_48</th>\n      <th>vec_49</th>\n    </tr>\n  </thead>\n  <tbody>\n    <tr>\n      <th>0</th>\n      <td>False</td>\n      <td>247</td>\n      <td>0</td>\n      <td>0</td>\n      <td>1452</td>\n      <td>1085</td>\n      <td>14</td>\n      <td>40794</td>\n      <td>True</td>\n      <td>False</td>\n      <td>...</td>\n      <td>0.466278</td>\n      <td>0.067953</td>\n      <td>-0.251913</td>\n      <td>0.106986</td>\n      <td>1.408329</td>\n      <td>0.461382</td>\n      <td>-0.314719</td>\n      <td>0.043074</td>\n      <td>0.457783</td>\n      <td>0.228383</td>\n    </tr>\n    <tr>\n      <th>1</th>\n      <td>False</td>\n      <td>2543</td>\n      <td>0</td>\n      <td>0</td>\n      <td>176</td>\n      <td>1297</td>\n      <td>0</td>\n      <td>7620</td>\n      <td>False</td>\n      <td>False</td>\n      <td>...</td>\n      <td>0.114854</td>\n      <td>0.012156</td>\n      <td>-0.051351</td>\n      <td>0.009402</td>\n      <td>0.352569</td>\n      <td>0.109051</td>\n      <td>-0.090185</td>\n      <td>0.026282</td>\n      <td>0.104716</td>\n      <td>0.063480</td>\n    </tr>\n    <tr>\n      <th>2</th>\n      <td>False</td>\n      <td>816</td>\n      <td>0</td>\n      <td>0</td>\n      <td>48</td>\n      <td>130</td>\n      <td>0</td>\n      <td>8648</td>\n      <td>False</td>\n      <td>False</td>\n      <td>...</td>\n      <td>0.500366</td>\n      <td>0.109100</td>\n      <td>-0.130674</td>\n      <td>0.052167</td>\n      <td>1.606052</td>\n      <td>0.420022</td>\n      <td>-0.392770</td>\n      <td>0.070301</td>\n      <td>0.437388</td>\n      <td>0.295437</td>\n    </tr>\n    <tr>\n      <th>3</th>\n      <td>False</td>\n      <td>2687</td>\n      <td>0</td>\n      <td>0</td>\n      <td>21</td>\n      <td>102</td>\n      <td>1</td>\n      <td>16040</td>\n      <td>False</td>\n      <td>False</td>\n      <td>...</td>\n      <td>0.160209</td>\n      <td>0.016627</td>\n      <td>-0.045942</td>\n      <td>0.034811</td>\n      <td>0.492251</td>\n      <td>0.144090</td>\n      <td>-0.115983</td>\n      <td>0.030251</td>\n      <td>0.159176</td>\n      <td>0.100163</td>\n    </tr>\n    <tr>\n      <th>4</th>\n      <td>False</td>\n      <td>0</td>\n      <td>0</td>\n      <td>0</td>\n      <td>155</td>\n      <td>401</td>\n      <td>3</td>\n      <td>8729</td>\n      <td>False</td>\n      <td>False</td>\n      <td>...</td>\n      <td>0.230221</td>\n      <td>0.037889</td>\n      <td>-0.066517</td>\n      <td>0.031774</td>\n      <td>0.692398</td>\n      <td>0.203983</td>\n      <td>-0.149367</td>\n      <td>0.017939</td>\n      <td>0.195040</td>\n      <td>0.117355</td>\n    </tr>\n  </tbody>\n</table>\n<p>5 rows × 90 columns</p>\n</div>"
     },
     "execution_count": 1,
     "metadata": {},
     "output_type": "execute_result"
    }
   ],
   "source": [
    "import pandas as pd\n",
    "import sklearn\n",
    "from scipy.stats import randint, uniform\n",
    "\n",
    "tweet_features_df = pd.read_json('../dataset/tweet-vectorised.json', orient='index').drop(['inferred_text', 'user_name', 'possibly_sensitive', 'user_location', 'user_description', 'user_created_at'], axis=1)\n",
    "tweet_features_df.head()"
   ]
  },
  {
   "cell_type": "code",
   "execution_count": 2,
   "outputs": [],
   "source": [
    "TRAIN_SPLIT = 0.8\n",
    "\n",
    "sample = tweet_features_df.sample(frac=1.0, random_state=42)\n",
    "predictors_train = sample.drop('is-spam', axis=1).iloc[:int(len(sample) * TRAIN_SPLIT)]\n",
    "predictors_valid = sample.drop('is-spam', axis=1).iloc[int(len(sample) * TRAIN_SPLIT):]\n",
    "target_train = sample['is-spam'].iloc[:int(len(sample) * TRAIN_SPLIT)]\n",
    "target_valid = sample['is-spam'].iloc[int(len(sample) * TRAIN_SPLIT):]"
   ],
   "metadata": {
    "collapsed": false,
    "pycharm": {
     "name": "#%%\n"
    }
   }
  },
  {
   "cell_type": "code",
   "execution_count": 3,
   "outputs": [
    {
     "data": {
      "text/plain": "      is_quote_status  retweet_count  favorite_count  user_followers_count  \\\n1549            False              0               0                   692   \n1256            False              1               0                  1236   \n2094            False              0               0                   239   \n1555            False              0               0                     7   \n3621            False             18               0                   150   \n...               ...            ...             ...                   ...   \n3444            False              0               7                   863   \n466             False             12               0                   369   \n3092            False              0               1                   345   \n3772            False              0               0                   870   \n860             False              9               0                  1127   \n\n      user_friends_count  user_listed_count  user_favourites_count  \\\n1549                 296                  2                  20750   \n1256                1350                 10                  38536   \n2094                 354                  4                   4695   \n1555                  18                  0                    226   \n3621                1135                 12                   2555   \n...                  ...                ...                    ...   \n3444                 559                 29                  13193   \n466                  368                  4                   4837   \n3092                 237                  0                     54   \n3772                 240                 44                  34842   \n860                 4998                  7                 161720   \n\n      user_geo_enabled  user_verified  user_statuses_count  ...    vec_40  \\\n1549              True          False               102823  ...  0.543487   \n1256              True          False                32183  ...  0.450330   \n2094             False          False                 6018  ...  0.526300   \n1555             False          False                  243  ...  0.263634   \n3621              True          False               155341  ...  0.230466   \n...                ...            ...                  ...  ...       ...   \n3444              True          False                 8694  ...  0.221837   \n466              False          False                 1109  ...  0.230444   \n3092             False          False                  554  ...  0.356836   \n3772             False          False                21394  ...  0.332828   \n860              False          False                97838  ...  0.363062   \n\n        vec_41    vec_42    vec_43    vec_44    vec_45    vec_46    vec_47  \\\n1549  0.122533 -0.132868  0.071706  1.787908  0.484664 -0.457557  0.083385   \n1256  0.136012 -0.075901  0.023585  1.603727  0.394888 -0.437601  0.124210   \n2094  0.037698 -0.113256  0.038169  1.543225  0.322131 -0.305236  0.043952   \n1555  0.044343 -0.065287  0.010375  0.840499  0.222799 -0.188154  0.044243   \n3621  0.057927 -0.065660  0.019738  0.720248  0.190735 -0.181772  0.010237   \n...        ...       ...       ...       ...       ...       ...       ...   \n3444  0.072342 -0.072447  0.028501  0.786127  0.230351 -0.235719  0.037302   \n466   0.045388 -0.068571  0.034979  0.735764  0.201392 -0.193078  0.033807   \n3092  0.078983 -0.106835  0.040553  1.176486  0.337114 -0.320365  0.044157   \n3772 -0.031062 -0.155249  0.128149  1.040161  0.231927 -0.175956  0.092493   \n860   0.007452 -0.083829  0.036019  0.984587  0.209654 -0.195653 -0.003284   \n\n        vec_48    vec_49  \n1549  0.475254  0.314095  \n1256  0.392712  0.302579  \n2094  0.456495  0.324178  \n1555  0.223314  0.169943  \n3621  0.199209  0.121725  \n...        ...       ...  \n3444  0.166300  0.128002  \n466   0.206101  0.144451  \n3092  0.298037  0.216625  \n3772  0.457714  0.230146  \n860   0.355008  0.214855  \n\n[832 rows x 89 columns]",
      "text/html": "<div>\n<style scoped>\n    .dataframe tbody tr th:only-of-type {\n        vertical-align: middle;\n    }\n\n    .dataframe tbody tr th {\n        vertical-align: top;\n    }\n\n    .dataframe thead th {\n        text-align: right;\n    }\n</style>\n<table border=\"1\" class=\"dataframe\">\n  <thead>\n    <tr style=\"text-align: right;\">\n      <th></th>\n      <th>is_quote_status</th>\n      <th>retweet_count</th>\n      <th>favorite_count</th>\n      <th>user_followers_count</th>\n      <th>user_friends_count</th>\n      <th>user_listed_count</th>\n      <th>user_favourites_count</th>\n      <th>user_geo_enabled</th>\n      <th>user_verified</th>\n      <th>user_statuses_count</th>\n      <th>...</th>\n      <th>vec_40</th>\n      <th>vec_41</th>\n      <th>vec_42</th>\n      <th>vec_43</th>\n      <th>vec_44</th>\n      <th>vec_45</th>\n      <th>vec_46</th>\n      <th>vec_47</th>\n      <th>vec_48</th>\n      <th>vec_49</th>\n    </tr>\n  </thead>\n  <tbody>\n    <tr>\n      <th>1549</th>\n      <td>False</td>\n      <td>0</td>\n      <td>0</td>\n      <td>692</td>\n      <td>296</td>\n      <td>2</td>\n      <td>20750</td>\n      <td>True</td>\n      <td>False</td>\n      <td>102823</td>\n      <td>...</td>\n      <td>0.543487</td>\n      <td>0.122533</td>\n      <td>-0.132868</td>\n      <td>0.071706</td>\n      <td>1.787908</td>\n      <td>0.484664</td>\n      <td>-0.457557</td>\n      <td>0.083385</td>\n      <td>0.475254</td>\n      <td>0.314095</td>\n    </tr>\n    <tr>\n      <th>1256</th>\n      <td>False</td>\n      <td>1</td>\n      <td>0</td>\n      <td>1236</td>\n      <td>1350</td>\n      <td>10</td>\n      <td>38536</td>\n      <td>True</td>\n      <td>False</td>\n      <td>32183</td>\n      <td>...</td>\n      <td>0.450330</td>\n      <td>0.136012</td>\n      <td>-0.075901</td>\n      <td>0.023585</td>\n      <td>1.603727</td>\n      <td>0.394888</td>\n      <td>-0.437601</td>\n      <td>0.124210</td>\n      <td>0.392712</td>\n      <td>0.302579</td>\n    </tr>\n    <tr>\n      <th>2094</th>\n      <td>False</td>\n      <td>0</td>\n      <td>0</td>\n      <td>239</td>\n      <td>354</td>\n      <td>4</td>\n      <td>4695</td>\n      <td>False</td>\n      <td>False</td>\n      <td>6018</td>\n      <td>...</td>\n      <td>0.526300</td>\n      <td>0.037698</td>\n      <td>-0.113256</td>\n      <td>0.038169</td>\n      <td>1.543225</td>\n      <td>0.322131</td>\n      <td>-0.305236</td>\n      <td>0.043952</td>\n      <td>0.456495</td>\n      <td>0.324178</td>\n    </tr>\n    <tr>\n      <th>1555</th>\n      <td>False</td>\n      <td>0</td>\n      <td>0</td>\n      <td>7</td>\n      <td>18</td>\n      <td>0</td>\n      <td>226</td>\n      <td>False</td>\n      <td>False</td>\n      <td>243</td>\n      <td>...</td>\n      <td>0.263634</td>\n      <td>0.044343</td>\n      <td>-0.065287</td>\n      <td>0.010375</td>\n      <td>0.840499</td>\n      <td>0.222799</td>\n      <td>-0.188154</td>\n      <td>0.044243</td>\n      <td>0.223314</td>\n      <td>0.169943</td>\n    </tr>\n    <tr>\n      <th>3621</th>\n      <td>False</td>\n      <td>18</td>\n      <td>0</td>\n      <td>150</td>\n      <td>1135</td>\n      <td>12</td>\n      <td>2555</td>\n      <td>True</td>\n      <td>False</td>\n      <td>155341</td>\n      <td>...</td>\n      <td>0.230466</td>\n      <td>0.057927</td>\n      <td>-0.065660</td>\n      <td>0.019738</td>\n      <td>0.720248</td>\n      <td>0.190735</td>\n      <td>-0.181772</td>\n      <td>0.010237</td>\n      <td>0.199209</td>\n      <td>0.121725</td>\n    </tr>\n    <tr>\n      <th>...</th>\n      <td>...</td>\n      <td>...</td>\n      <td>...</td>\n      <td>...</td>\n      <td>...</td>\n      <td>...</td>\n      <td>...</td>\n      <td>...</td>\n      <td>...</td>\n      <td>...</td>\n      <td>...</td>\n      <td>...</td>\n      <td>...</td>\n      <td>...</td>\n      <td>...</td>\n      <td>...</td>\n      <td>...</td>\n      <td>...</td>\n      <td>...</td>\n      <td>...</td>\n      <td>...</td>\n    </tr>\n    <tr>\n      <th>3444</th>\n      <td>False</td>\n      <td>0</td>\n      <td>7</td>\n      <td>863</td>\n      <td>559</td>\n      <td>29</td>\n      <td>13193</td>\n      <td>True</td>\n      <td>False</td>\n      <td>8694</td>\n      <td>...</td>\n      <td>0.221837</td>\n      <td>0.072342</td>\n      <td>-0.072447</td>\n      <td>0.028501</td>\n      <td>0.786127</td>\n      <td>0.230351</td>\n      <td>-0.235719</td>\n      <td>0.037302</td>\n      <td>0.166300</td>\n      <td>0.128002</td>\n    </tr>\n    <tr>\n      <th>466</th>\n      <td>False</td>\n      <td>12</td>\n      <td>0</td>\n      <td>369</td>\n      <td>368</td>\n      <td>4</td>\n      <td>4837</td>\n      <td>False</td>\n      <td>False</td>\n      <td>1109</td>\n      <td>...</td>\n      <td>0.230444</td>\n      <td>0.045388</td>\n      <td>-0.068571</td>\n      <td>0.034979</td>\n      <td>0.735764</td>\n      <td>0.201392</td>\n      <td>-0.193078</td>\n      <td>0.033807</td>\n      <td>0.206101</td>\n      <td>0.144451</td>\n    </tr>\n    <tr>\n      <th>3092</th>\n      <td>False</td>\n      <td>0</td>\n      <td>1</td>\n      <td>345</td>\n      <td>237</td>\n      <td>0</td>\n      <td>54</td>\n      <td>False</td>\n      <td>False</td>\n      <td>554</td>\n      <td>...</td>\n      <td>0.356836</td>\n      <td>0.078983</td>\n      <td>-0.106835</td>\n      <td>0.040553</td>\n      <td>1.176486</td>\n      <td>0.337114</td>\n      <td>-0.320365</td>\n      <td>0.044157</td>\n      <td>0.298037</td>\n      <td>0.216625</td>\n    </tr>\n    <tr>\n      <th>3772</th>\n      <td>False</td>\n      <td>0</td>\n      <td>0</td>\n      <td>870</td>\n      <td>240</td>\n      <td>44</td>\n      <td>34842</td>\n      <td>False</td>\n      <td>False</td>\n      <td>21394</td>\n      <td>...</td>\n      <td>0.332828</td>\n      <td>-0.031062</td>\n      <td>-0.155249</td>\n      <td>0.128149</td>\n      <td>1.040161</td>\n      <td>0.231927</td>\n      <td>-0.175956</td>\n      <td>0.092493</td>\n      <td>0.457714</td>\n      <td>0.230146</td>\n    </tr>\n    <tr>\n      <th>860</th>\n      <td>False</td>\n      <td>9</td>\n      <td>0</td>\n      <td>1127</td>\n      <td>4998</td>\n      <td>7</td>\n      <td>161720</td>\n      <td>False</td>\n      <td>False</td>\n      <td>97838</td>\n      <td>...</td>\n      <td>0.363062</td>\n      <td>0.007452</td>\n      <td>-0.083829</td>\n      <td>0.036019</td>\n      <td>0.984587</td>\n      <td>0.209654</td>\n      <td>-0.195653</td>\n      <td>-0.003284</td>\n      <td>0.355008</td>\n      <td>0.214855</td>\n    </tr>\n  </tbody>\n</table>\n<p>832 rows × 89 columns</p>\n</div>"
     },
     "execution_count": 3,
     "metadata": {},
     "output_type": "execute_result"
    }
   ],
   "source": [
    "predictors_valid"
   ],
   "metadata": {
    "collapsed": false,
    "pycharm": {
     "name": "#%%\n"
    }
   }
  },
  {
   "cell_type": "code",
   "execution_count": 26,
   "outputs": [
    {
     "data": {
      "text/plain": "GridSearchCV(estimator=RandomForestClassifier(n_jobs=-1, random_state=42),\n             param_grid={'bootstrap': [True, False],\n                         'class_weight': ['balanced', 'balanced_subsample'],\n                         'criterion': ['gini', 'entropy'],\n                         'max_features': ['auto', 'sqrt', 'log2'],\n                         'n_estimators': [1, 2, 5, 10, 25, 50, 100, 250, 500]})"
     },
     "execution_count": 26,
     "metadata": {},
     "output_type": "execute_result"
    }
   ],
   "source": [
    "parameters = {\n",
    "    'n_estimators': [1, 2, 5, 10, 25, 50, 100, 250, 500],\n",
    "    'criterion': ['gini', 'entropy'],\n",
    "    'max_features': ['auto', 'sqrt', 'log2'],\n",
    "    'bootstrap': [True, False],\n",
    "    'class_weight': ['balanced', 'balanced_subsample']\n",
    "}\n",
    "\n",
    "from sklearn.ensemble import RandomForestClassifier\n",
    "\n",
    "_model_rf = RandomForestClassifier(n_jobs=-1, random_state=42)\n",
    "grid_search_rf = sklearn.model_selection.GridSearchCV(_model_rf, parameters)\n",
    "\n",
    "grid_search_rf.fit(predictors_train, target_train)"
   ],
   "metadata": {
    "collapsed": false,
    "pycharm": {
     "name": "#%%\n"
    }
   }
  },
  {
   "cell_type": "code",
   "execution_count": 27,
   "outputs": [
    {
     "data": {
      "text/plain": "{'bootstrap': False,\n 'class_weight': 'balanced',\n 'criterion': 'gini',\n 'max_features': 'auto',\n 'n_estimators': 25}"
     },
     "execution_count": 27,
     "metadata": {},
     "output_type": "execute_result"
    }
   ],
   "source": [
    "grid_search_rf.best_params_"
   ],
   "metadata": {
    "collapsed": false,
    "pycharm": {
     "name": "#%%\n"
    }
   }
  },
  {
   "cell_type": "code",
   "execution_count": 28,
   "outputs": [
    {
     "data": {
      "text/plain": "array([0, 0, 0, 0, 0, 0, 0, 0, 0, 0, 0, 0, 0, 0, 0, 0, 0, 0, 0, 0, 0, 0,\n       0, 0, 0, 0, 0, 0, 0, 0, 0, 0, 0, 0, 1, 0, 0, 0, 0, 0, 0, 0, 0, 0,\n       0, 0, 0, 0, 0, 0, 0, 0, 0, 0, 0, 0, 0, 0, 0, 0, 0, 0, 0, 0, 0, 0,\n       0, 0, 0, 0, 0, 0, 0, 0, 0, 0, 0, 0, 0, 0, 0, 0, 0, 0, 0, 0, 0, 0,\n       0, 0, 0, 0, 0, 0, 0, 0, 0, 0, 0, 0, 0, 0, 0, 0, 0, 0, 0, 0, 0, 0,\n       0, 0, 0, 0, 0, 0, 0, 0, 0, 0, 0, 0, 0, 0, 0, 0, 0, 0, 0, 0, 0, 0,\n       0, 0, 0, 0, 0, 0, 0, 0, 0, 0, 0, 0, 0, 0, 0, 0, 0, 0, 0, 0, 0, 0,\n       0, 1, 0, 0, 0, 0, 0, 0, 0, 0, 0, 0, 0, 0, 0, 0, 0, 0, 0, 0, 0, 0,\n       0, 0, 0, 0, 0, 0, 0, 0, 0, 0, 0, 0, 0, 0, 0, 0, 0, 0, 0, 0, 0, 0,\n       0, 0, 0, 0, 0, 0, 0, 0, 0, 0, 0, 0, 0, 0, 0, 0, 0, 0, 0, 0, 0, 0,\n       0, 0, 0, 0, 0, 0, 0, 0, 0, 0, 0, 0, 0, 0, 0, 0, 0, 0, 0, 0, 0, 0,\n       0, 0, 0, 0, 0, 0, 0, 0, 0, 0, 0, 0, 0, 0, 0, 0, 0, 0, 0, 0, 0, 0,\n       0, 0, 0, 0, 0, 0, 0, 0, 0, 0, 0, 0, 0, 0, 0, 0, 0, 0, 0, 0, 0, 0,\n       0, 0, 0, 0, 0, 0, 0, 0, 0, 0, 0, 0, 0, 0, 0, 0, 0, 0, 0, 0, 0, 0,\n       0, 0, 0, 0, 0, 0, 0, 0, 0, 0, 0, 0, 1, 0, 0, 0, 0, 0, 0, 0, 0, 0,\n       0, 0, 0, 0, 0, 0, 0, 0, 0, 0, 0, 0, 0, 0, 0, 0, 0, 0, 0, 0, 0, 0,\n       0, 0, 0, 1, 0, 0, 0, 0, 0, 0, 0, 0, 0, 0, 0, 0, 0, 0, 0, 1, 0, 0,\n       1, 0, 0, 0, 0, 0, 0, 1, 0, 0, 0, 0, 0, 0, 0, 0, 0, 0, 0, 0, 0, 0,\n       0, 0, 1, 0, 0, 0, 0, 0, 0, 0, 0, 0, 0, 0, 0, 0, 0, 0, 0, 0, 0, 0,\n       0, 0, 0, 0, 0, 0, 0, 0, 0, 0, 0, 0, 0, 0, 0, 0, 0, 0, 0, 0, 0, 0,\n       0, 0, 0, 0, 0, 0, 0, 0, 0, 0, 0, 0, 0, 0, 0, 0, 0, 0, 0, 0, 0, 0,\n       1, 0, 0, 0, 0, 0, 0, 0, 0, 0, 0, 0, 0, 0, 0, 0, 0, 0, 0, 0, 0, 0,\n       0, 0, 0, 0, 0, 0, 0, 0, 0, 0, 0, 0, 0, 0, 1, 0, 0, 0, 0, 0, 0, 0,\n       0, 0, 0, 0, 0, 0, 0, 0, 0, 0, 0, 0, 0, 0, 0, 0, 0, 0, 0, 0, 0, 0,\n       0, 0, 0, 0, 0, 0, 0, 0, 0, 0, 0, 0, 0, 0, 0, 0, 0, 0, 0, 0, 0, 0,\n       0, 0, 0, 0, 0, 0, 0, 0, 0, 0, 0, 0, 0, 0, 0, 0, 0, 0, 0, 0, 0, 0,\n       0, 0, 0, 0, 0, 0, 0, 0, 0, 0, 0, 0, 0, 0, 0, 0, 0, 0, 0, 0, 0, 0,\n       0, 0, 0, 0, 0, 0, 0, 0, 0, 0, 0, 0, 0, 0, 0, 0, 0, 0, 0, 0, 0, 0,\n       0, 0, 0, 0, 0, 0, 0, 0, 0, 0, 0, 0, 0, 0, 0, 0, 0, 0, 0, 0, 0, 0,\n       0, 0, 0, 0, 0, 0, 0, 0, 0, 0, 0, 1, 0, 0, 0, 0, 0, 0, 0, 0, 0, 0,\n       0, 0, 0, 0, 0, 0, 0, 0, 0, 0, 0, 0, 0, 0, 0, 0, 0, 0, 0, 0, 0, 0,\n       0, 0, 0, 0, 0, 0, 0, 0, 0, 0, 0, 0, 0, 0, 0, 0, 0, 0, 0, 0, 0, 0,\n       0, 0, 0, 0, 0, 0, 0, 0, 0, 0, 0, 0, 0, 0, 0, 0, 0, 0, 0, 0, 0, 0,\n       0, 0, 0, 0, 0, 0, 0, 0, 0, 0, 0, 1, 0, 0, 0, 0, 0, 0, 0, 0, 0, 0,\n       0, 0, 0, 0, 0, 0, 0, 0, 0, 0, 0, 0, 0, 0, 0, 0, 0, 0, 0, 0, 0, 0,\n       0, 0, 0, 0, 0, 0, 0, 0, 0, 0, 0, 0, 0, 0, 0, 0, 0, 0, 0, 0, 0, 0,\n       0, 0, 0, 0, 0, 0, 0, 0, 0, 0, 0, 0, 0, 0, 0, 0, 0, 0, 0, 0, 0, 0,\n       0, 0, 0, 0, 0, 0, 0, 0, 0, 0, 0, 0, 0, 0, 0, 0, 0, 0], dtype=int64)"
     },
     "execution_count": 28,
     "metadata": {},
     "output_type": "execute_result"
    }
   ],
   "source": [
    "grid_search_rf.predict(predictors_valid)"
   ],
   "metadata": {
    "collapsed": false,
    "pycharm": {
     "name": "#%%\n"
    }
   }
  },
  {
   "cell_type": "code",
   "execution_count": 29,
   "outputs": [
    {
     "data": {
      "text/plain": "0.9807692307692307"
     },
     "execution_count": 29,
     "metadata": {},
     "output_type": "execute_result"
    }
   ],
   "source": [
    "sklearn.metrics.accuracy_score(target_valid, grid_search_rf.predict(predictors_valid))"
   ],
   "metadata": {
    "collapsed": false,
    "pycharm": {
     "name": "#%%\n"
    }
   }
  },
  {
   "cell_type": "markdown",
   "source": [
    "Conclusion: the above parameters are the best for our use case. As per what have been demonstrated in Orange, this is the highest model, with XGB performing on 0.975 at highest (of which the results were deleted due to BSOD sadly) and SVM performing on the range of 97.1, this is ideal for us."
   ],
   "metadata": {
    "collapsed": false
   }
  },
  {
   "cell_type": "code",
   "execution_count": 4,
   "outputs": [
    {
     "data": {
      "text/plain": "RandomForestClassifier(bootstrap=False, class_weight='balanced',\n                       n_estimators=25, n_jobs=-1, random_state=42)"
     },
     "execution_count": 4,
     "metadata": {},
     "output_type": "execute_result"
    }
   ],
   "source": [
    "# Loading the model.\n",
    "from sklearn.ensemble import RandomForestClassifier\n",
    "model_rf = RandomForestClassifier(n_jobs=-1, random_state=42, bootstrap=False, class_weight='balanced', criterion='gini', max_features='auto', n_estimators=25)\n",
    "model_rf.fit(predictors_train, target_train)"
   ],
   "metadata": {
    "collapsed": false,
    "pycharm": {
     "name": "#%%\n"
    }
   }
  },
  {
   "cell_type": "code",
   "execution_count": 5,
   "outputs": [
    {
     "data": {
      "text/plain": "0.9807692307692307"
     },
     "execution_count": 5,
     "metadata": {},
     "output_type": "execute_result"
    }
   ],
   "source": [
    "sklearn.metrics.accuracy_score(target_valid, model_rf.predict(predictors_valid))"
   ],
   "metadata": {
    "collapsed": false,
    "pycharm": {
     "name": "#%%\n"
    }
   }
  },
  {
   "cell_type": "code",
   "execution_count": 6,
   "outputs": [],
   "source": [
    "import pickle\n",
    "with open('../model/model_rf.pickle', 'wb') as f:\n",
    "    pickle.dump(model_rf, f)"
   ],
   "metadata": {
    "collapsed": false,
    "pycharm": {
     "name": "#%%\n"
    }
   }
  },
  {
   "cell_type": "code",
   "execution_count": 16,
   "outputs": [
    {
     "data": {
      "text/plain": "Int64Index([2481,  308, 2414, 2720,  463, 1185,   96, 2031, 1886,  843,\n            ...\n            1926, 2856, 3931, 1736, 1320, 1803, 2259, 1961, 1965, 3868],\n           dtype='int64', length=200)"
     },
     "execution_count": 16,
     "metadata": {},
     "output_type": "execute_result"
    }
   ],
   "source": [
    "sample.iloc[:200].index"
   ],
   "metadata": {
    "collapsed": false,
    "pycharm": {
     "name": "#%%\n"
    }
   }
  },
  {
   "cell_type": "code",
   "execution_count": 20,
   "outputs": [],
   "source": [
    "tweets_df.loc[sample.iloc[:200].index].to_excel('../dataset/tweet-sample.xlsx')"
   ],
   "metadata": {
    "collapsed": false,
    "pycharm": {
     "name": "#%%\n"
    }
   }
  },
  {
   "cell_type": "code",
   "execution_count": null,
   "outputs": [],
   "source": [],
   "metadata": {
    "collapsed": false,
    "pycharm": {
     "name": "#%%\n"
    }
   }
  }
 ],
 "metadata": {
  "kernelspec": {
   "display_name": "Python 3",
   "language": "python",
   "name": "python3"
  },
  "language_info": {
   "codemirror_mode": {
    "name": "ipython",
    "version": 2
   },
   "file_extension": ".py",
   "mimetype": "text/x-python",
   "name": "python",
   "nbconvert_exporter": "python",
   "pygments_lexer": "ipython2",
   "version": "2.7.6"
  }
 },
 "nbformat": 4,
 "nbformat_minor": 0
}