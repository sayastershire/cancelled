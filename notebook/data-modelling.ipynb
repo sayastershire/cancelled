{
 "cells": [
  {
   "cell_type": "code",
   "execution_count": 8,
   "metadata": {
    "collapsed": true
   },
   "outputs": [
    {
     "data": {
      "text/plain": "   is_quote_status  retweet_count  favorite_count  is-spam  \\\n0            False            247               0        0   \n1            False           2543               0        0   \n2            False            816               0        0   \n3            False           2687               0        0   \n4            False              0               0        0   \n\n   user_followers_count  user_friends_count  user_listed_count  \\\n0                  1452                1085                 14   \n1                   176                1297                  0   \n2                    48                 130                  0   \n3                    21                 102                  1   \n4                   155                 401                  3   \n\n   user_favourites_count  user_geo_enabled  user_verified  ...    vec_40  \\\n0                  40794              True          False  ...  0.466278   \n1                   7620             False          False  ...  0.114854   \n2                   8648             False          False  ...  0.500366   \n3                  16040             False          False  ...  0.160209   \n4                   8729             False          False  ...  0.230221   \n\n     vec_41    vec_42    vec_43    vec_44    vec_45    vec_46    vec_47  \\\n0  0.067953 -0.251913  0.106986  1.408329  0.461382 -0.314719  0.043074   \n1  0.012156 -0.051351  0.009402  0.352569  0.109051 -0.090185  0.026282   \n2  0.109100 -0.130674  0.052167  1.606052  0.420022 -0.392770  0.070301   \n3  0.016627 -0.045942  0.034811  0.492251  0.144090 -0.115983  0.030251   \n4  0.037889 -0.066517  0.031774  0.692398  0.203983 -0.149367  0.017939   \n\n     vec_48    vec_49  \n0  0.457783  0.228383  \n1  0.104716  0.063480  \n2  0.437388  0.295437  \n3  0.159176  0.100163  \n4  0.195040  0.117355  \n\n[5 rows x 90 columns]",
      "text/html": "<div>\n<style scoped>\n    .dataframe tbody tr th:only-of-type {\n        vertical-align: middle;\n    }\n\n    .dataframe tbody tr th {\n        vertical-align: top;\n    }\n\n    .dataframe thead th {\n        text-align: right;\n    }\n</style>\n<table border=\"1\" class=\"dataframe\">\n  <thead>\n    <tr style=\"text-align: right;\">\n      <th></th>\n      <th>is_quote_status</th>\n      <th>retweet_count</th>\n      <th>favorite_count</th>\n      <th>is-spam</th>\n      <th>user_followers_count</th>\n      <th>user_friends_count</th>\n      <th>user_listed_count</th>\n      <th>user_favourites_count</th>\n      <th>user_geo_enabled</th>\n      <th>user_verified</th>\n      <th>...</th>\n      <th>vec_40</th>\n      <th>vec_41</th>\n      <th>vec_42</th>\n      <th>vec_43</th>\n      <th>vec_44</th>\n      <th>vec_45</th>\n      <th>vec_46</th>\n      <th>vec_47</th>\n      <th>vec_48</th>\n      <th>vec_49</th>\n    </tr>\n  </thead>\n  <tbody>\n    <tr>\n      <th>0</th>\n      <td>False</td>\n      <td>247</td>\n      <td>0</td>\n      <td>0</td>\n      <td>1452</td>\n      <td>1085</td>\n      <td>14</td>\n      <td>40794</td>\n      <td>True</td>\n      <td>False</td>\n      <td>...</td>\n      <td>0.466278</td>\n      <td>0.067953</td>\n      <td>-0.251913</td>\n      <td>0.106986</td>\n      <td>1.408329</td>\n      <td>0.461382</td>\n      <td>-0.314719</td>\n      <td>0.043074</td>\n      <td>0.457783</td>\n      <td>0.228383</td>\n    </tr>\n    <tr>\n      <th>1</th>\n      <td>False</td>\n      <td>2543</td>\n      <td>0</td>\n      <td>0</td>\n      <td>176</td>\n      <td>1297</td>\n      <td>0</td>\n      <td>7620</td>\n      <td>False</td>\n      <td>False</td>\n      <td>...</td>\n      <td>0.114854</td>\n      <td>0.012156</td>\n      <td>-0.051351</td>\n      <td>0.009402</td>\n      <td>0.352569</td>\n      <td>0.109051</td>\n      <td>-0.090185</td>\n      <td>0.026282</td>\n      <td>0.104716</td>\n      <td>0.063480</td>\n    </tr>\n    <tr>\n      <th>2</th>\n      <td>False</td>\n      <td>816</td>\n      <td>0</td>\n      <td>0</td>\n      <td>48</td>\n      <td>130</td>\n      <td>0</td>\n      <td>8648</td>\n      <td>False</td>\n      <td>False</td>\n      <td>...</td>\n      <td>0.500366</td>\n      <td>0.109100</td>\n      <td>-0.130674</td>\n      <td>0.052167</td>\n      <td>1.606052</td>\n      <td>0.420022</td>\n      <td>-0.392770</td>\n      <td>0.070301</td>\n      <td>0.437388</td>\n      <td>0.295437</td>\n    </tr>\n    <tr>\n      <th>3</th>\n      <td>False</td>\n      <td>2687</td>\n      <td>0</td>\n      <td>0</td>\n      <td>21</td>\n      <td>102</td>\n      <td>1</td>\n      <td>16040</td>\n      <td>False</td>\n      <td>False</td>\n      <td>...</td>\n      <td>0.160209</td>\n      <td>0.016627</td>\n      <td>-0.045942</td>\n      <td>0.034811</td>\n      <td>0.492251</td>\n      <td>0.144090</td>\n      <td>-0.115983</td>\n      <td>0.030251</td>\n      <td>0.159176</td>\n      <td>0.100163</td>\n    </tr>\n    <tr>\n      <th>4</th>\n      <td>False</td>\n      <td>0</td>\n      <td>0</td>\n      <td>0</td>\n      <td>155</td>\n      <td>401</td>\n      <td>3</td>\n      <td>8729</td>\n      <td>False</td>\n      <td>False</td>\n      <td>...</td>\n      <td>0.230221</td>\n      <td>0.037889</td>\n      <td>-0.066517</td>\n      <td>0.031774</td>\n      <td>0.692398</td>\n      <td>0.203983</td>\n      <td>-0.149367</td>\n      <td>0.017939</td>\n      <td>0.195040</td>\n      <td>0.117355</td>\n    </tr>\n  </tbody>\n</table>\n<p>5 rows × 90 columns</p>\n</div>"
     },
     "execution_count": 8,
     "metadata": {},
     "output_type": "execute_result"
    }
   ],
   "source": [
    "import pandas as pd\n",
    "import sklearn\n",
    "from scipy.stats import randint, uniform\n",
    "\n",
    "tweet_features_df = pd.read_json('../dataset/tweet-vectorised.json', orient='index').drop(['inferred_text', 'user_name', 'possibly_sensitive', 'user_location', 'user_description', 'user_created_at'], axis=1)\n",
    "tweet_features_df.head()"
   ]
  },
  {
   "cell_type": "code",
   "execution_count": 25,
   "outputs": [],
   "source": [
    "TRAIN_SPLIT = 0.8\n",
    "\n",
    "sample = tweet_features_df.sample(frac=1.0, random_state=42)\n",
    "predictors_train = sample.drop('is-spam', axis=1).iloc[:int(len(sample) * TRAIN_SPLIT)]\n",
    "predictors_valid = sample.drop('is-spam', axis=1).iloc[int(len(sample) * TRAIN_SPLIT):]\n",
    "target_train = sample['is-spam'].iloc[:int(len(sample) * TRAIN_SPLIT)]\n",
    "target_valid = sample['is-spam'].iloc[int(len(sample) * TRAIN_SPLIT):]"
   ],
   "metadata": {
    "collapsed": false,
    "pycharm": {
     "name": "#%%\n"
    }
   }
  },
  {
   "cell_type": "code",
   "execution_count": 11,
   "outputs": [
    {
     "data": {
      "text/plain": "      is_quote_status  retweet_count  favorite_count  user_followers_count  \\\n2481            False              0               0                  3754   \n308             False              0               1                    99   \n2414            False             16               0                  3275   \n2720            False              0               0                   450   \n463              True              1               0                   810   \n...               ...            ...             ...                   ...   \n3018            False              0              16                  3530   \n470             False           3902               0                   282   \n3971            False              0               0                     6   \n1396            False              0               0                   126   \n3668            False             13               0                   246   \n\n      user_friends_count  user_listed_count  user_favourites_count  \\\n2481                1603                 43                   2367   \n308                  100                  1                   3330   \n2414                4621                  8                  60518   \n2720                 426                  5                   7685   \n463                  316                  2                   3041   \n...                  ...                ...                    ...   \n3018                 416                  5                   7082   \n470                  599                  5                  40702   \n3971                  51                  0                    404   \n1396                 272                  1                   7374   \n3668                 192                  0                   9722   \n\n      user_geo_enabled  user_verified  user_statuses_count  ...    vec_40  \\\n2481             False          False                38064  ...  0.730406   \n308              False          False                 1087  ...  0.420321   \n2414              True          False                30937  ...  1.003360   \n2720              True          False                 2992  ...  0.714012   \n463              False          False                 1036  ...  0.128209   \n...                ...            ...                  ...  ...       ...   \n3018             False          False                 6492  ...  0.207023   \n470              False          False                51871  ...  0.092584   \n3971             False          False                 1665  ...  0.790218   \n1396             False          False                 4293  ...  0.451121   \n3668              True          False                 1334  ...  0.579972   \n\n        vec_41    vec_42    vec_43    vec_44    vec_45    vec_46    vec_47  \\\n2481 -0.062034 -0.087188 -0.023475  1.615328  0.123264 -0.217048 -0.040272   \n308   0.077871 -0.093500  0.065404  1.332428  0.373594 -0.311858  0.049198   \n2414 -0.120500 -0.117903 -0.120431  2.032404  0.179862 -0.165535 -0.108204   \n2720  0.190532 -0.211104  0.084997  2.471956  0.701526 -0.639765  0.107569   \n463   0.024969 -0.056590  0.022643  0.412362  0.123325 -0.096041  0.026945   \n...        ...       ...       ...       ...       ...       ...       ...   \n3018  0.091418 -0.078592  0.002897  0.770543  0.224006 -0.275655  0.028913   \n470   0.012619 -0.031853  0.010847  0.283162  0.082167 -0.068727  0.013897   \n3971  0.070981 -0.191493  0.122514  2.351590  0.609034 -0.532824  0.111865   \n1396  0.042677 -0.125943  0.046147  1.385850  0.352104 -0.328679  0.032158   \n3668  0.049725 -0.207291  0.127482  1.790897  0.451950 -0.386007  0.096125   \n\n        vec_48    vec_49  \n2481  0.518828  0.504778  \n308   0.361423  0.235732  \n2414  0.800850  0.567319  \n2720  0.624439  0.451710  \n463   0.109482  0.069944  \n...        ...       ...  \n3018  0.134709  0.134510  \n470   0.083990  0.050564  \n3971  0.726020  0.435849  \n1396  0.417157  0.264050  \n3668  0.597648  0.339798  \n\n[3325 rows x 89 columns]",
      "text/html": "<div>\n<style scoped>\n    .dataframe tbody tr th:only-of-type {\n        vertical-align: middle;\n    }\n\n    .dataframe tbody tr th {\n        vertical-align: top;\n    }\n\n    .dataframe thead th {\n        text-align: right;\n    }\n</style>\n<table border=\"1\" class=\"dataframe\">\n  <thead>\n    <tr style=\"text-align: right;\">\n      <th></th>\n      <th>is_quote_status</th>\n      <th>retweet_count</th>\n      <th>favorite_count</th>\n      <th>user_followers_count</th>\n      <th>user_friends_count</th>\n      <th>user_listed_count</th>\n      <th>user_favourites_count</th>\n      <th>user_geo_enabled</th>\n      <th>user_verified</th>\n      <th>user_statuses_count</th>\n      <th>...</th>\n      <th>vec_40</th>\n      <th>vec_41</th>\n      <th>vec_42</th>\n      <th>vec_43</th>\n      <th>vec_44</th>\n      <th>vec_45</th>\n      <th>vec_46</th>\n      <th>vec_47</th>\n      <th>vec_48</th>\n      <th>vec_49</th>\n    </tr>\n  </thead>\n  <tbody>\n    <tr>\n      <th>2481</th>\n      <td>False</td>\n      <td>0</td>\n      <td>0</td>\n      <td>3754</td>\n      <td>1603</td>\n      <td>43</td>\n      <td>2367</td>\n      <td>False</td>\n      <td>False</td>\n      <td>38064</td>\n      <td>...</td>\n      <td>0.730406</td>\n      <td>-0.062034</td>\n      <td>-0.087188</td>\n      <td>-0.023475</td>\n      <td>1.615328</td>\n      <td>0.123264</td>\n      <td>-0.217048</td>\n      <td>-0.040272</td>\n      <td>0.518828</td>\n      <td>0.504778</td>\n    </tr>\n    <tr>\n      <th>308</th>\n      <td>False</td>\n      <td>0</td>\n      <td>1</td>\n      <td>99</td>\n      <td>100</td>\n      <td>1</td>\n      <td>3330</td>\n      <td>False</td>\n      <td>False</td>\n      <td>1087</td>\n      <td>...</td>\n      <td>0.420321</td>\n      <td>0.077871</td>\n      <td>-0.093500</td>\n      <td>0.065404</td>\n      <td>1.332428</td>\n      <td>0.373594</td>\n      <td>-0.311858</td>\n      <td>0.049198</td>\n      <td>0.361423</td>\n      <td>0.235732</td>\n    </tr>\n    <tr>\n      <th>2414</th>\n      <td>False</td>\n      <td>16</td>\n      <td>0</td>\n      <td>3275</td>\n      <td>4621</td>\n      <td>8</td>\n      <td>60518</td>\n      <td>True</td>\n      <td>False</td>\n      <td>30937</td>\n      <td>...</td>\n      <td>1.003360</td>\n      <td>-0.120500</td>\n      <td>-0.117903</td>\n      <td>-0.120431</td>\n      <td>2.032404</td>\n      <td>0.179862</td>\n      <td>-0.165535</td>\n      <td>-0.108204</td>\n      <td>0.800850</td>\n      <td>0.567319</td>\n    </tr>\n    <tr>\n      <th>2720</th>\n      <td>False</td>\n      <td>0</td>\n      <td>0</td>\n      <td>450</td>\n      <td>426</td>\n      <td>5</td>\n      <td>7685</td>\n      <td>True</td>\n      <td>False</td>\n      <td>2992</td>\n      <td>...</td>\n      <td>0.714012</td>\n      <td>0.190532</td>\n      <td>-0.211104</td>\n      <td>0.084997</td>\n      <td>2.471956</td>\n      <td>0.701526</td>\n      <td>-0.639765</td>\n      <td>0.107569</td>\n      <td>0.624439</td>\n      <td>0.451710</td>\n    </tr>\n    <tr>\n      <th>463</th>\n      <td>True</td>\n      <td>1</td>\n      <td>0</td>\n      <td>810</td>\n      <td>316</td>\n      <td>2</td>\n      <td>3041</td>\n      <td>False</td>\n      <td>False</td>\n      <td>1036</td>\n      <td>...</td>\n      <td>0.128209</td>\n      <td>0.024969</td>\n      <td>-0.056590</td>\n      <td>0.022643</td>\n      <td>0.412362</td>\n      <td>0.123325</td>\n      <td>-0.096041</td>\n      <td>0.026945</td>\n      <td>0.109482</td>\n      <td>0.069944</td>\n    </tr>\n    <tr>\n      <th>...</th>\n      <td>...</td>\n      <td>...</td>\n      <td>...</td>\n      <td>...</td>\n      <td>...</td>\n      <td>...</td>\n      <td>...</td>\n      <td>...</td>\n      <td>...</td>\n      <td>...</td>\n      <td>...</td>\n      <td>...</td>\n      <td>...</td>\n      <td>...</td>\n      <td>...</td>\n      <td>...</td>\n      <td>...</td>\n      <td>...</td>\n      <td>...</td>\n      <td>...</td>\n      <td>...</td>\n    </tr>\n    <tr>\n      <th>3018</th>\n      <td>False</td>\n      <td>0</td>\n      <td>16</td>\n      <td>3530</td>\n      <td>416</td>\n      <td>5</td>\n      <td>7082</td>\n      <td>False</td>\n      <td>False</td>\n      <td>6492</td>\n      <td>...</td>\n      <td>0.207023</td>\n      <td>0.091418</td>\n      <td>-0.078592</td>\n      <td>0.002897</td>\n      <td>0.770543</td>\n      <td>0.224006</td>\n      <td>-0.275655</td>\n      <td>0.028913</td>\n      <td>0.134709</td>\n      <td>0.134510</td>\n    </tr>\n    <tr>\n      <th>470</th>\n      <td>False</td>\n      <td>3902</td>\n      <td>0</td>\n      <td>282</td>\n      <td>599</td>\n      <td>5</td>\n      <td>40702</td>\n      <td>False</td>\n      <td>False</td>\n      <td>51871</td>\n      <td>...</td>\n      <td>0.092584</td>\n      <td>0.012619</td>\n      <td>-0.031853</td>\n      <td>0.010847</td>\n      <td>0.283162</td>\n      <td>0.082167</td>\n      <td>-0.068727</td>\n      <td>0.013897</td>\n      <td>0.083990</td>\n      <td>0.050564</td>\n    </tr>\n    <tr>\n      <th>3971</th>\n      <td>False</td>\n      <td>0</td>\n      <td>0</td>\n      <td>6</td>\n      <td>51</td>\n      <td>0</td>\n      <td>404</td>\n      <td>False</td>\n      <td>False</td>\n      <td>1665</td>\n      <td>...</td>\n      <td>0.790218</td>\n      <td>0.070981</td>\n      <td>-0.191493</td>\n      <td>0.122514</td>\n      <td>2.351590</td>\n      <td>0.609034</td>\n      <td>-0.532824</td>\n      <td>0.111865</td>\n      <td>0.726020</td>\n      <td>0.435849</td>\n    </tr>\n    <tr>\n      <th>1396</th>\n      <td>False</td>\n      <td>0</td>\n      <td>0</td>\n      <td>126</td>\n      <td>272</td>\n      <td>1</td>\n      <td>7374</td>\n      <td>False</td>\n      <td>False</td>\n      <td>4293</td>\n      <td>...</td>\n      <td>0.451121</td>\n      <td>0.042677</td>\n      <td>-0.125943</td>\n      <td>0.046147</td>\n      <td>1.385850</td>\n      <td>0.352104</td>\n      <td>-0.328679</td>\n      <td>0.032158</td>\n      <td>0.417157</td>\n      <td>0.264050</td>\n    </tr>\n    <tr>\n      <th>3668</th>\n      <td>False</td>\n      <td>13</td>\n      <td>0</td>\n      <td>246</td>\n      <td>192</td>\n      <td>0</td>\n      <td>9722</td>\n      <td>True</td>\n      <td>False</td>\n      <td>1334</td>\n      <td>...</td>\n      <td>0.579972</td>\n      <td>0.049725</td>\n      <td>-0.207291</td>\n      <td>0.127482</td>\n      <td>1.790897</td>\n      <td>0.451950</td>\n      <td>-0.386007</td>\n      <td>0.096125</td>\n      <td>0.597648</td>\n      <td>0.339798</td>\n    </tr>\n  </tbody>\n</table>\n<p>3325 rows × 89 columns</p>\n</div>"
     },
     "execution_count": 11,
     "metadata": {},
     "output_type": "execute_result"
    }
   ],
   "source": [
    "predictors_valid"
   ],
   "metadata": {
    "collapsed": false,
    "pycharm": {
     "name": "#%%\n"
    }
   }
  },
  {
   "cell_type": "code",
   "execution_count": 26,
   "outputs": [
    {
     "data": {
      "text/plain": "GridSearchCV(estimator=RandomForestClassifier(n_jobs=-1, random_state=42),\n             param_grid={'bootstrap': [True, False],\n                         'class_weight': ['balanced', 'balanced_subsample'],\n                         'criterion': ['gini', 'entropy'],\n                         'max_features': ['auto', 'sqrt', 'log2'],\n                         'n_estimators': [1, 2, 5, 10, 25, 50, 100, 250, 500]})"
     },
     "execution_count": 26,
     "metadata": {},
     "output_type": "execute_result"
    }
   ],
   "source": [
    "parameters = {\n",
    "    'n_estimators': [1, 2, 5, 10, 25, 50, 100, 250, 500],\n",
    "    'criterion': ['gini', 'entropy'],\n",
    "    'max_features': ['auto', 'sqrt', 'log2'],\n",
    "    'bootstrap': [True, False],\n",
    "    'class_weight': ['balanced', 'balanced_subsample']\n",
    "}\n",
    "\n",
    "from sklearn.ensemble import RandomForestClassifier\n",
    "\n",
    "_model_rf = RandomForestClassifier(n_jobs=-1, random_state=42)\n",
    "grid_search_rf = sklearn.model_selection.GridSearchCV(_model_rf, parameters)\n",
    "\n",
    "grid_search_rf.fit(predictors_train, target_train)"
   ],
   "metadata": {
    "collapsed": false,
    "pycharm": {
     "name": "#%%\n"
    }
   }
  },
  {
   "cell_type": "code",
   "execution_count": 27,
   "outputs": [
    {
     "data": {
      "text/plain": "{'bootstrap': False,\n 'class_weight': 'balanced',\n 'criterion': 'gini',\n 'max_features': 'auto',\n 'n_estimators': 25}"
     },
     "execution_count": 27,
     "metadata": {},
     "output_type": "execute_result"
    }
   ],
   "source": [
    "grid_search_rf.best_params_"
   ],
   "metadata": {
    "collapsed": false,
    "pycharm": {
     "name": "#%%\n"
    }
   }
  },
  {
   "cell_type": "code",
   "execution_count": 28,
   "outputs": [
    {
     "data": {
      "text/plain": "array([0, 0, 0, 0, 0, 0, 0, 0, 0, 0, 0, 0, 0, 0, 0, 0, 0, 0, 0, 0, 0, 0,\n       0, 0, 0, 0, 0, 0, 0, 0, 0, 0, 0, 0, 1, 0, 0, 0, 0, 0, 0, 0, 0, 0,\n       0, 0, 0, 0, 0, 0, 0, 0, 0, 0, 0, 0, 0, 0, 0, 0, 0, 0, 0, 0, 0, 0,\n       0, 0, 0, 0, 0, 0, 0, 0, 0, 0, 0, 0, 0, 0, 0, 0, 0, 0, 0, 0, 0, 0,\n       0, 0, 0, 0, 0, 0, 0, 0, 0, 0, 0, 0, 0, 0, 0, 0, 0, 0, 0, 0, 0, 0,\n       0, 0, 0, 0, 0, 0, 0, 0, 0, 0, 0, 0, 0, 0, 0, 0, 0, 0, 0, 0, 0, 0,\n       0, 0, 0, 0, 0, 0, 0, 0, 0, 0, 0, 0, 0, 0, 0, 0, 0, 0, 0, 0, 0, 0,\n       0, 1, 0, 0, 0, 0, 0, 0, 0, 0, 0, 0, 0, 0, 0, 0, 0, 0, 0, 0, 0, 0,\n       0, 0, 0, 0, 0, 0, 0, 0, 0, 0, 0, 0, 0, 0, 0, 0, 0, 0, 0, 0, 0, 0,\n       0, 0, 0, 0, 0, 0, 0, 0, 0, 0, 0, 0, 0, 0, 0, 0, 0, 0, 0, 0, 0, 0,\n       0, 0, 0, 0, 0, 0, 0, 0, 0, 0, 0, 0, 0, 0, 0, 0, 0, 0, 0, 0, 0, 0,\n       0, 0, 0, 0, 0, 0, 0, 0, 0, 0, 0, 0, 0, 0, 0, 0, 0, 0, 0, 0, 0, 0,\n       0, 0, 0, 0, 0, 0, 0, 0, 0, 0, 0, 0, 0, 0, 0, 0, 0, 0, 0, 0, 0, 0,\n       0, 0, 0, 0, 0, 0, 0, 0, 0, 0, 0, 0, 0, 0, 0, 0, 0, 0, 0, 0, 0, 0,\n       0, 0, 0, 0, 0, 0, 0, 0, 0, 0, 0, 0, 1, 0, 0, 0, 0, 0, 0, 0, 0, 0,\n       0, 0, 0, 0, 0, 0, 0, 0, 0, 0, 0, 0, 0, 0, 0, 0, 0, 0, 0, 0, 0, 0,\n       0, 0, 0, 1, 0, 0, 0, 0, 0, 0, 0, 0, 0, 0, 0, 0, 0, 0, 0, 1, 0, 0,\n       1, 0, 0, 0, 0, 0, 0, 1, 0, 0, 0, 0, 0, 0, 0, 0, 0, 0, 0, 0, 0, 0,\n       0, 0, 1, 0, 0, 0, 0, 0, 0, 0, 0, 0, 0, 0, 0, 0, 0, 0, 0, 0, 0, 0,\n       0, 0, 0, 0, 0, 0, 0, 0, 0, 0, 0, 0, 0, 0, 0, 0, 0, 0, 0, 0, 0, 0,\n       0, 0, 0, 0, 0, 0, 0, 0, 0, 0, 0, 0, 0, 0, 0, 0, 0, 0, 0, 0, 0, 0,\n       1, 0, 0, 0, 0, 0, 0, 0, 0, 0, 0, 0, 0, 0, 0, 0, 0, 0, 0, 0, 0, 0,\n       0, 0, 0, 0, 0, 0, 0, 0, 0, 0, 0, 0, 0, 0, 1, 0, 0, 0, 0, 0, 0, 0,\n       0, 0, 0, 0, 0, 0, 0, 0, 0, 0, 0, 0, 0, 0, 0, 0, 0, 0, 0, 0, 0, 0,\n       0, 0, 0, 0, 0, 0, 0, 0, 0, 0, 0, 0, 0, 0, 0, 0, 0, 0, 0, 0, 0, 0,\n       0, 0, 0, 0, 0, 0, 0, 0, 0, 0, 0, 0, 0, 0, 0, 0, 0, 0, 0, 0, 0, 0,\n       0, 0, 0, 0, 0, 0, 0, 0, 0, 0, 0, 0, 0, 0, 0, 0, 0, 0, 0, 0, 0, 0,\n       0, 0, 0, 0, 0, 0, 0, 0, 0, 0, 0, 0, 0, 0, 0, 0, 0, 0, 0, 0, 0, 0,\n       0, 0, 0, 0, 0, 0, 0, 0, 0, 0, 0, 0, 0, 0, 0, 0, 0, 0, 0, 0, 0, 0,\n       0, 0, 0, 0, 0, 0, 0, 0, 0, 0, 0, 1, 0, 0, 0, 0, 0, 0, 0, 0, 0, 0,\n       0, 0, 0, 0, 0, 0, 0, 0, 0, 0, 0, 0, 0, 0, 0, 0, 0, 0, 0, 0, 0, 0,\n       0, 0, 0, 0, 0, 0, 0, 0, 0, 0, 0, 0, 0, 0, 0, 0, 0, 0, 0, 0, 0, 0,\n       0, 0, 0, 0, 0, 0, 0, 0, 0, 0, 0, 0, 0, 0, 0, 0, 0, 0, 0, 0, 0, 0,\n       0, 0, 0, 0, 0, 0, 0, 0, 0, 0, 0, 1, 0, 0, 0, 0, 0, 0, 0, 0, 0, 0,\n       0, 0, 0, 0, 0, 0, 0, 0, 0, 0, 0, 0, 0, 0, 0, 0, 0, 0, 0, 0, 0, 0,\n       0, 0, 0, 0, 0, 0, 0, 0, 0, 0, 0, 0, 0, 0, 0, 0, 0, 0, 0, 0, 0, 0,\n       0, 0, 0, 0, 0, 0, 0, 0, 0, 0, 0, 0, 0, 0, 0, 0, 0, 0, 0, 0, 0, 0,\n       0, 0, 0, 0, 0, 0, 0, 0, 0, 0, 0, 0, 0, 0, 0, 0, 0, 0], dtype=int64)"
     },
     "execution_count": 28,
     "metadata": {},
     "output_type": "execute_result"
    }
   ],
   "source": [
    "grid_search_rf.predict(predictors_valid)"
   ],
   "metadata": {
    "collapsed": false,
    "pycharm": {
     "name": "#%%\n"
    }
   }
  },
  {
   "cell_type": "code",
   "execution_count": 29,
   "outputs": [
    {
     "data": {
      "text/plain": "0.9807692307692307"
     },
     "execution_count": 29,
     "metadata": {},
     "output_type": "execute_result"
    }
   ],
   "source": [
    "sklearn.metrics.accuracy_score(target_valid, grid_search_rf.predict(predictors_valid))"
   ],
   "metadata": {
    "collapsed": false,
    "pycharm": {
     "name": "#%%\n"
    }
   }
  },
  {
   "cell_type": "markdown",
   "source": [
    "Conclusion: the above parameters are the best for our use case. As per what have been demonstrated in Orange, this is the highest model, with XGB performing on 0.975 at highest (of which the results were deleted due to BSOD sadly) and SVM performing on the range of 97.1, this is ideal for us."
   ],
   "metadata": {
    "collapsed": false
   }
  },
  {
   "cell_type": "code",
   "execution_count": 32,
   "outputs": [
    {
     "data": {
      "text/plain": "RandomForestClassifier(bootstrap=False, class_weight='balanced',\n                       n_estimators=25, n_jobs=-1, random_state=42)"
     },
     "execution_count": 32,
     "metadata": {},
     "output_type": "execute_result"
    }
   ],
   "source": [
    "# Loading the model.\n",
    "model_rf = RandomForestClassifier(n_jobs=-1, random_state=42, bootstrap=False, class_weight='balanced', criterion='gini', max_features='auto', n_estimators=25)\n",
    "model_rf.fit(predictors_train, target_train)"
   ],
   "metadata": {
    "collapsed": false,
    "pycharm": {
     "name": "#%%\n"
    }
   }
  },
  {
   "cell_type": "code",
   "execution_count": 33,
   "outputs": [
    {
     "data": {
      "text/plain": "0.9807692307692307"
     },
     "execution_count": 33,
     "metadata": {},
     "output_type": "execute_result"
    }
   ],
   "source": [
    "sklearn.metrics.accuracy_score(target_valid, model_rf.predict(predictors_valid))"
   ],
   "metadata": {
    "collapsed": false,
    "pycharm": {
     "name": "#%%\n"
    }
   }
  },
  {
   "cell_type": "code",
   "execution_count": 35,
   "outputs": [],
   "source": [
    "import pickle\n",
    "with open('../model/model_rf.pickle', 'wb') as f:\n",
    "    pickle.dump(model_rf, f)"
   ],
   "metadata": {
    "collapsed": false,
    "pycharm": {
     "name": "#%%\n"
    }
   }
  },
  {
   "cell_type": "code",
   "execution_count": null,
   "outputs": [],
   "source": [],
   "metadata": {
    "collapsed": false,
    "pycharm": {
     "name": "#%%\n"
    }
   }
  }
 ],
 "metadata": {
  "kernelspec": {
   "display_name": "Python 3",
   "language": "python",
   "name": "python3"
  },
  "language_info": {
   "codemirror_mode": {
    "name": "ipython",
    "version": 2
   },
   "file_extension": ".py",
   "mimetype": "text/x-python",
   "name": "python",
   "nbconvert_exporter": "python",
   "pygments_lexer": "ipython2",
   "version": "2.7.6"
  }
 },
 "nbformat": 4,
 "nbformat_minor": 0
}