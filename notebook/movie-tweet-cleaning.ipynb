{
 "cells": [
  {
   "cell_type": "code",
   "execution_count": 1,
   "metadata": {
    "collapsed": true
   },
   "outputs": [],
   "source": [
    "import pandas as pd"
   ]
  },
  {
   "cell_type": "code",
   "execution_count": 2,
   "outputs": [],
   "source": [
    "movie_list = [\n",
    "    'ghostbusters',\n",
    "    'eternals',\n",
    "    'my hero academia',\n",
    "    'dune',\n",
    "    'no time to die',\n",
    "    'squid game',\n",
    "    'luca',\n",
    "    'arcane'\n",
    "]"
   ],
   "metadata": {
    "collapsed": false,
    "pycharm": {
     "name": "#%%\n"
    }
   }
  },
  {
   "cell_type": "code",
   "execution_count": 3,
   "outputs": [],
   "source": [
    "# Creating blank spreadsheets for manual tagging of each movies\n",
    "for movie in movie_list:\n",
    "    tweet_df = pd.read_json('../dataset/movie-tweets/'+movie+'.json', orient='index')\n",
    "    tweet_spam_df = pd.DataFrame({\n",
    "        'tweet': tweet_df['inferred_text'],\n",
    "        'is-spam': [0 for i in range(len(tweet_df))]\n",
    "    })\n",
    "    tweet_spam_df.to_excel('../dataset/movie-tweets/'+movie+'.xlsx')"
   ],
   "metadata": {
    "collapsed": false,
    "pycharm": {
     "name": "#%%\n"
    }
   }
  },
  {
   "cell_type": "code",
   "execution_count": null,
   "outputs": [],
   "source": [],
   "metadata": {
    "collapsed": false,
    "pycharm": {
     "name": "#%%\n"
    }
   }
  }
 ],
 "metadata": {
  "kernelspec": {
   "display_name": "Python 3",
   "language": "python",
   "name": "python3"
  },
  "language_info": {
   "codemirror_mode": {
    "name": "ipython",
    "version": 2
   },
   "file_extension": ".py",
   "mimetype": "text/x-python",
   "name": "python",
   "nbconvert_exporter": "python",
   "pygments_lexer": "ipython2",
   "version": "2.7.6"
  }
 },
 "nbformat": 4,
 "nbformat_minor": 0
}