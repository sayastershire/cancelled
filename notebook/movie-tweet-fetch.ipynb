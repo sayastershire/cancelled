{
 "cells": [
  {
   "cell_type": "code",
   "execution_count": 1,
   "outputs": [],
   "source": [
    "from sys import path\n",
    "from os import getcwd\n",
    "\n",
    "path.append(getcwd() + '/../script')"
   ],
   "metadata": {
    "collapsed": false,
    "pycharm": {
     "name": "#%%\n"
    }
   }
  },
  {
   "cell_type": "code",
   "execution_count": 2,
   "outputs": [],
   "source": [
    "import tweet_fetch"
   ],
   "metadata": {
    "collapsed": false,
    "pycharm": {
     "name": "#%%\n"
    }
   }
  },
  {
   "cell_type": "code",
   "execution_count": 3,
   "metadata": {
    "collapsed": true
   },
   "outputs": [
    {
     "name": "stdout",
     "output_type": "stream",
     "text": [
      "Token loaded!\n"
     ]
    }
   ],
   "source": [
    "th_h = tweet_fetch.TweetFetch()"
   ]
  },
  {
   "cell_type": "code",
   "execution_count": 6,
   "outputs": [
    {
     "name": "stdout",
     "output_type": "stream",
     "text": [
      "Iteration 1: 100 -> 100 = 100\n",
      "Iteration 2: 100 -> 100 = 200\n",
      "Iteration 3: 100 -> 100 = 201\n",
      "Iteration 4: 100 -> 100 = 234\n",
      "Iteration 5: 100 -> 100 = 266\n",
      "Iteration 6: 100 -> 100 = 299\n"
     ]
    },
    {
     "data": {
      "text/plain": "                       created_at                   id               id_str  \\\n0  Thu Nov 25 01:11:48 +0000 2021  1463676763473592329  1463676763473592329   \n1  Thu Nov 25 01:11:48 +0000 2021  1463676761854537734  1463676761854537734   \n2  Thu Nov 25 01:11:48 +0000 2021  1463676761812709379  1463676761812709379   \n3  Thu Nov 25 01:11:47 +0000 2021  1463676758843183107  1463676758843183107   \n4  Thu Nov 25 01:11:47 +0000 2021  1463676757094150147  1463676757094150147   \n\n                                           full_text  truncated  \\\n0  RT @lgbtzenin: arcane plot i think https://t.c...      False   \n1  RT @Louii_art: Piltoversfinest comic part 1/?✨...      False   \n2  RT @_illust0907: oil and water\\n#arcane   #pil...      False   \n3  RT @gifsARCANE: no but her face here\\n\\n#Arcan...      False   \n4  RT @oolonglatte_: modern au vander silco vi&am...      False   \n\n  display_text_range                                           entities  \\\n0            [0, 58]  {'hashtags': [], 'symbols': [], 'user_mentions...   \n1           [0, 140]  {'hashtags': [{'text': 'Arcane', 'indices': [1...   \n2            [0, 94]  {'hashtags': [{'text': 'arcane', 'indices': [3...   \n3            [0, 69]  {'hashtags': [{'text': 'Arcane', 'indices': [3...   \n4           [0, 101]  {'hashtags': [{'text': 'Arcane', 'indices': [7...   \n\n                                   extended_entities  \\\n0  {'media': [{'id': 1463308908496306177, 'id_str...   \n1                                                NaN   \n2  {'media': [{'id': 1463376715279790084, 'id_str...   \n3  {'media': [{'id': 1463593077822693380, 'id_str...   \n4  {'media': [{'id': 1463554957551222784, 'id_str...   \n\n                                            metadata  \\\n0  {'iso_language_code': 'en', 'result_type': 're...   \n1  {'iso_language_code': 'en', 'result_type': 're...   \n2  {'iso_language_code': 'en', 'result_type': 're...   \n3  {'iso_language_code': 'en', 'result_type': 're...   \n4  {'iso_language_code': 'en', 'result_type': 're...   \n\n                                              source  ...  retweet_count  \\\n0  <a href=\"http://twitter.com/download/android\" ...  ...           1015   \n1  <a href=\"http://twitter.com/download/android\" ...  ...            692   \n2  <a href=\"http://twitter.com/download/android\" ...  ...            164   \n3  <a href=\"http://twitter.com/download/iphone\" r...  ...           1281   \n4  <a href=\"http://twitter.com/download/android\" ...  ...           3343   \n\n  favorite_count  favorited retweeted possibly_sensitive lang  \\\n0              0      False     False              False   en   \n1              0      False     False                NaN   en   \n2              0      False     False              False   en   \n3              0      False     False              False   en   \n4              0      False     False              False   en   \n\n                                       inferred_text quoted_status_id  \\\n0        arcane plot i think https://t.co/tZp9fpkyuP              NaN   \n1  Piltoversfinest comic part 1/?✨\\nInspired by t...              NaN   \n2  oil and water\\n#arcane   #piltoversfinest #cai...              NaN   \n3  no but her face here\\n\\n#Arcane https://t.co/o...              NaN   \n4  modern au vander silco vi&amp;powder went to d...              NaN   \n\n  quoted_status_id_str quoted_status  \n0                  NaN           NaN  \n1                  NaN           NaN  \n2                  NaN           NaN  \n3                  NaN           NaN  \n4                  NaN           NaN  \n\n[5 rows x 32 columns]",
      "text/html": "<div>\n<style scoped>\n    .dataframe tbody tr th:only-of-type {\n        vertical-align: middle;\n    }\n\n    .dataframe tbody tr th {\n        vertical-align: top;\n    }\n\n    .dataframe thead th {\n        text-align: right;\n    }\n</style>\n<table border=\"1\" class=\"dataframe\">\n  <thead>\n    <tr style=\"text-align: right;\">\n      <th></th>\n      <th>created_at</th>\n      <th>id</th>\n      <th>id_str</th>\n      <th>full_text</th>\n      <th>truncated</th>\n      <th>display_text_range</th>\n      <th>entities</th>\n      <th>extended_entities</th>\n      <th>metadata</th>\n      <th>source</th>\n      <th>...</th>\n      <th>retweet_count</th>\n      <th>favorite_count</th>\n      <th>favorited</th>\n      <th>retweeted</th>\n      <th>possibly_sensitive</th>\n      <th>lang</th>\n      <th>inferred_text</th>\n      <th>quoted_status_id</th>\n      <th>quoted_status_id_str</th>\n      <th>quoted_status</th>\n    </tr>\n  </thead>\n  <tbody>\n    <tr>\n      <th>0</th>\n      <td>Thu Nov 25 01:11:48 +0000 2021</td>\n      <td>1463676763473592329</td>\n      <td>1463676763473592329</td>\n      <td>RT @lgbtzenin: arcane plot i think https://t.c...</td>\n      <td>False</td>\n      <td>[0, 58]</td>\n      <td>{'hashtags': [], 'symbols': [], 'user_mentions...</td>\n      <td>{'media': [{'id': 1463308908496306177, 'id_str...</td>\n      <td>{'iso_language_code': 'en', 'result_type': 're...</td>\n      <td>&lt;a href=\"http://twitter.com/download/android\" ...</td>\n      <td>...</td>\n      <td>1015</td>\n      <td>0</td>\n      <td>False</td>\n      <td>False</td>\n      <td>False</td>\n      <td>en</td>\n      <td>arcane plot i think https://t.co/tZp9fpkyuP</td>\n      <td>NaN</td>\n      <td>NaN</td>\n      <td>NaN</td>\n    </tr>\n    <tr>\n      <th>1</th>\n      <td>Thu Nov 25 01:11:48 +0000 2021</td>\n      <td>1463676761854537734</td>\n      <td>1463676761854537734</td>\n      <td>RT @Louii_art: Piltoversfinest comic part 1/?✨...</td>\n      <td>False</td>\n      <td>[0, 140]</td>\n      <td>{'hashtags': [{'text': 'Arcane', 'indices': [1...</td>\n      <td>NaN</td>\n      <td>{'iso_language_code': 'en', 'result_type': 're...</td>\n      <td>&lt;a href=\"http://twitter.com/download/android\" ...</td>\n      <td>...</td>\n      <td>692</td>\n      <td>0</td>\n      <td>False</td>\n      <td>False</td>\n      <td>NaN</td>\n      <td>en</td>\n      <td>Piltoversfinest comic part 1/?✨\\nInspired by t...</td>\n      <td>NaN</td>\n      <td>NaN</td>\n      <td>NaN</td>\n    </tr>\n    <tr>\n      <th>2</th>\n      <td>Thu Nov 25 01:11:48 +0000 2021</td>\n      <td>1463676761812709379</td>\n      <td>1463676761812709379</td>\n      <td>RT @_illust0907: oil and water\\n#arcane   #pil...</td>\n      <td>False</td>\n      <td>[0, 94]</td>\n      <td>{'hashtags': [{'text': 'arcane', 'indices': [3...</td>\n      <td>{'media': [{'id': 1463376715279790084, 'id_str...</td>\n      <td>{'iso_language_code': 'en', 'result_type': 're...</td>\n      <td>&lt;a href=\"http://twitter.com/download/android\" ...</td>\n      <td>...</td>\n      <td>164</td>\n      <td>0</td>\n      <td>False</td>\n      <td>False</td>\n      <td>False</td>\n      <td>en</td>\n      <td>oil and water\\n#arcane   #piltoversfinest #cai...</td>\n      <td>NaN</td>\n      <td>NaN</td>\n      <td>NaN</td>\n    </tr>\n    <tr>\n      <th>3</th>\n      <td>Thu Nov 25 01:11:47 +0000 2021</td>\n      <td>1463676758843183107</td>\n      <td>1463676758843183107</td>\n      <td>RT @gifsARCANE: no but her face here\\n\\n#Arcan...</td>\n      <td>False</td>\n      <td>[0, 69]</td>\n      <td>{'hashtags': [{'text': 'Arcane', 'indices': [3...</td>\n      <td>{'media': [{'id': 1463593077822693380, 'id_str...</td>\n      <td>{'iso_language_code': 'en', 'result_type': 're...</td>\n      <td>&lt;a href=\"http://twitter.com/download/iphone\" r...</td>\n      <td>...</td>\n      <td>1281</td>\n      <td>0</td>\n      <td>False</td>\n      <td>False</td>\n      <td>False</td>\n      <td>en</td>\n      <td>no but her face here\\n\\n#Arcane https://t.co/o...</td>\n      <td>NaN</td>\n      <td>NaN</td>\n      <td>NaN</td>\n    </tr>\n    <tr>\n      <th>4</th>\n      <td>Thu Nov 25 01:11:47 +0000 2021</td>\n      <td>1463676757094150147</td>\n      <td>1463676757094150147</td>\n      <td>RT @oolonglatte_: modern au vander silco vi&amp;am...</td>\n      <td>False</td>\n      <td>[0, 101]</td>\n      <td>{'hashtags': [{'text': 'Arcane', 'indices': [7...</td>\n      <td>{'media': [{'id': 1463554957551222784, 'id_str...</td>\n      <td>{'iso_language_code': 'en', 'result_type': 're...</td>\n      <td>&lt;a href=\"http://twitter.com/download/android\" ...</td>\n      <td>...</td>\n      <td>3343</td>\n      <td>0</td>\n      <td>False</td>\n      <td>False</td>\n      <td>False</td>\n      <td>en</td>\n      <td>modern au vander silco vi&amp;amp;powder went to d...</td>\n      <td>NaN</td>\n      <td>NaN</td>\n      <td>NaN</td>\n    </tr>\n  </tbody>\n</table>\n<p>5 rows × 32 columns</p>\n</div>"
     },
     "execution_count": 6,
     "metadata": {},
     "output_type": "execute_result"
    }
   ],
   "source": [
    "import pandas as pd\n",
    "\n",
    "tweet_df = th_h.get_tweet_raw('arcane', max_tweets=200)\n",
    "tweet_df.head()"
   ],
   "metadata": {
    "collapsed": false,
    "pycharm": {
     "name": "#%%\n"
    }
   }
  },
  {
   "cell_type": "code",
   "execution_count": 7,
   "outputs": [
    {
     "data": {
      "text/plain": "                         created_at                   id               id_str  \\\n0    Thu Nov 25 01:11:48 +0000 2021  1463676763473592329  1463676763473592329   \n1    Thu Nov 25 01:11:48 +0000 2021  1463676761854537734  1463676761854537734   \n2    Thu Nov 25 01:11:48 +0000 2021  1463676761812709379  1463676761812709379   \n3    Thu Nov 25 01:11:47 +0000 2021  1463676758843183107  1463676758843183107   \n4    Thu Nov 25 01:11:47 +0000 2021  1463676757094150147  1463676757094150147   \n..                              ...                  ...                  ...   \n222  Thu Nov 25 01:07:07 +0000 2021  1463675582844125188  1463675582844125188   \n223  Thu Nov 25 01:07:03 +0000 2021  1463675567304331271  1463675567304331271   \n224  Thu Nov 25 01:07:03 +0000 2021  1463675566884802560  1463675566884802560   \n225  Thu Nov 25 01:07:01 +0000 2021  1463675558039011331  1463675558039011331   \n226  Thu Nov 25 01:06:56 +0000 2021  1463675536681566214  1463675536681566214   \n\n                                             full_text  truncated  \\\n0    RT @lgbtzenin: arcane plot i think https://t.c...      False   \n1    RT @Louii_art: Piltoversfinest comic part 1/?✨...      False   \n2    RT @_illust0907: oil and water\\n#arcane   #pil...      False   \n3    RT @gifsARCANE: no but her face here\\n\\n#Arcan...      False   \n4    RT @oolonglatte_: modern au vander silco vi&am...      False   \n..                                                 ...        ...   \n222  Arcane: Season 2 Announcement https://t.co/shF...      False   \n223  RT @Arcane_League: Nothing but i LITERALLY liv...      False   \n224  @arcane_artsTV I think it looks great! It does...      False   \n225                     arcane is fucking depressing 👍      False   \n226  RT @Salvaatora: I didn't make the #vicait one ...      False   \n\n    display_text_range                                           entities  \\\n0              [0, 58]  {'hashtags': [], 'symbols': [], 'user_mentions...   \n1             [0, 140]  {'hashtags': [{'text': 'Arcane', 'indices': [1...   \n2              [0, 94]  {'hashtags': [{'text': 'arcane', 'indices': [3...   \n3              [0, 69]  {'hashtags': [{'text': 'Arcane', 'indices': [3...   \n4             [0, 101]  {'hashtags': [{'text': 'Arcane', 'indices': [7...   \n..                 ...                                                ...   \n222            [0, 80]  {'hashtags': [], 'symbols': [], 'user_mentions...   \n223           [0, 138]  {'hashtags': [{'text': 'Arcane', 'indices': [1...   \n224          [15, 110]  {'hashtags': [], 'symbols': [], 'user_mentions...   \n225            [0, 30]  {'hashtags': [], 'symbols': [], 'user_mentions...   \n226           [0, 140]  {'hashtags': [{'text': 'vicait', 'indices': [3...   \n\n                                     extended_entities  \\\n0    {'media': [{'id': 1463308908496306177, 'id_str...   \n1                                                  NaN   \n2    {'media': [{'id': 1463376715279790084, 'id_str...   \n3    {'media': [{'id': 1463593077822693380, 'id_str...   \n4    {'media': [{'id': 1463554957551222784, 'id_str...   \n..                                                 ...   \n222                                                NaN   \n223  {'media': [{'id': 1463461706202554372, 'id_str...   \n224                                                NaN   \n225                                                NaN   \n226                                                NaN   \n\n                                              metadata  \\\n0    {'iso_language_code': 'en', 'result_type': 're...   \n1    {'iso_language_code': 'en', 'result_type': 're...   \n2    {'iso_language_code': 'en', 'result_type': 're...   \n3    {'iso_language_code': 'en', 'result_type': 're...   \n4    {'iso_language_code': 'en', 'result_type': 're...   \n..                                                 ...   \n222  {'iso_language_code': 'en', 'result_type': 're...   \n223  {'iso_language_code': 'en', 'result_type': 're...   \n224  {'iso_language_code': 'en', 'result_type': 're...   \n225  {'iso_language_code': 'en', 'result_type': 're...   \n226  {'iso_language_code': 'en', 'result_type': 're...   \n\n                                                source  ...  retweet_count  \\\n0    <a href=\"http://twitter.com/download/android\" ...  ...           1015   \n1    <a href=\"http://twitter.com/download/android\" ...  ...            692   \n2    <a href=\"http://twitter.com/download/android\" ...  ...            164   \n3    <a href=\"http://twitter.com/download/iphone\" r...  ...           1281   \n4    <a href=\"http://twitter.com/download/android\" ...  ...           3343   \n..                                                 ...  ...            ...   \n222  <a href=\"http://twitter.com/download/iphone\" r...  ...              0   \n223  <a href=\"http://twitter.com/download/iphone\" r...  ...             54   \n224  <a href=\"https://mobile.twitter.com\" rel=\"nofo...  ...              0   \n225  <a href=\"https://mobile.twitter.com\" rel=\"nofo...  ...              0   \n226  <a href=\"http://twitter.com/download/android\" ...  ...            123   \n\n    favorite_count  favorited retweeted possibly_sensitive lang  \\\n0                0      False     False              False   en   \n1                0      False     False                NaN   en   \n2                0      False     False              False   en   \n3                0      False     False              False   en   \n4                0      False     False              False   en   \n..             ...        ...       ...                ...  ...   \n222              0      False     False              False   en   \n223              0      False     False              False   en   \n224              0      False     False                NaN   en   \n225              0      False     False                NaN   en   \n226              0      False     False                NaN   en   \n\n                                         inferred_text quoted_status_id  \\\n0          arcane plot i think https://t.co/tZp9fpkyuP              NaN   \n1    Piltoversfinest comic part 1/?✨\\nInspired by t...              NaN   \n2    oil and water\\n#arcane   #piltoversfinest #cai...              NaN   \n3    no but her face here\\n\\n#Arcane https://t.co/o...              NaN   \n4    modern au vander silco vi&amp;powder went to d...              NaN   \n..                                                 ...              ...   \n222  Arcane: Season 2 Announcement https://t.co/shF...              NaN   \n223  Nothing but i LITERALLY live for this Fact \"th...              NaN   \n224  @arcane_artsTV I think it looks great! It does...              NaN   \n225                     arcane is fucking depressing 👍              NaN   \n226  I didn't make the #vicait one yet bc I remembe...              NaN   \n\n    quoted_status_id_str quoted_status  \n0                    NaN           NaN  \n1                    NaN           NaN  \n2                    NaN           NaN  \n3                    NaN           NaN  \n4                    NaN           NaN  \n..                   ...           ...  \n222                  NaN           NaN  \n223                  NaN           NaN  \n224                  NaN           NaN  \n225                  NaN           NaN  \n226                  NaN           NaN  \n\n[227 rows x 32 columns]",
      "text/html": "<div>\n<style scoped>\n    .dataframe tbody tr th:only-of-type {\n        vertical-align: middle;\n    }\n\n    .dataframe tbody tr th {\n        vertical-align: top;\n    }\n\n    .dataframe thead th {\n        text-align: right;\n    }\n</style>\n<table border=\"1\" class=\"dataframe\">\n  <thead>\n    <tr style=\"text-align: right;\">\n      <th></th>\n      <th>created_at</th>\n      <th>id</th>\n      <th>id_str</th>\n      <th>full_text</th>\n      <th>truncated</th>\n      <th>display_text_range</th>\n      <th>entities</th>\n      <th>extended_entities</th>\n      <th>metadata</th>\n      <th>source</th>\n      <th>...</th>\n      <th>retweet_count</th>\n      <th>favorite_count</th>\n      <th>favorited</th>\n      <th>retweeted</th>\n      <th>possibly_sensitive</th>\n      <th>lang</th>\n      <th>inferred_text</th>\n      <th>quoted_status_id</th>\n      <th>quoted_status_id_str</th>\n      <th>quoted_status</th>\n    </tr>\n  </thead>\n  <tbody>\n    <tr>\n      <th>0</th>\n      <td>Thu Nov 25 01:11:48 +0000 2021</td>\n      <td>1463676763473592329</td>\n      <td>1463676763473592329</td>\n      <td>RT @lgbtzenin: arcane plot i think https://t.c...</td>\n      <td>False</td>\n      <td>[0, 58]</td>\n      <td>{'hashtags': [], 'symbols': [], 'user_mentions...</td>\n      <td>{'media': [{'id': 1463308908496306177, 'id_str...</td>\n      <td>{'iso_language_code': 'en', 'result_type': 're...</td>\n      <td>&lt;a href=\"http://twitter.com/download/android\" ...</td>\n      <td>...</td>\n      <td>1015</td>\n      <td>0</td>\n      <td>False</td>\n      <td>False</td>\n      <td>False</td>\n      <td>en</td>\n      <td>arcane plot i think https://t.co/tZp9fpkyuP</td>\n      <td>NaN</td>\n      <td>NaN</td>\n      <td>NaN</td>\n    </tr>\n    <tr>\n      <th>1</th>\n      <td>Thu Nov 25 01:11:48 +0000 2021</td>\n      <td>1463676761854537734</td>\n      <td>1463676761854537734</td>\n      <td>RT @Louii_art: Piltoversfinest comic part 1/?✨...</td>\n      <td>False</td>\n      <td>[0, 140]</td>\n      <td>{'hashtags': [{'text': 'Arcane', 'indices': [1...</td>\n      <td>NaN</td>\n      <td>{'iso_language_code': 'en', 'result_type': 're...</td>\n      <td>&lt;a href=\"http://twitter.com/download/android\" ...</td>\n      <td>...</td>\n      <td>692</td>\n      <td>0</td>\n      <td>False</td>\n      <td>False</td>\n      <td>NaN</td>\n      <td>en</td>\n      <td>Piltoversfinest comic part 1/?✨\\nInspired by t...</td>\n      <td>NaN</td>\n      <td>NaN</td>\n      <td>NaN</td>\n    </tr>\n    <tr>\n      <th>2</th>\n      <td>Thu Nov 25 01:11:48 +0000 2021</td>\n      <td>1463676761812709379</td>\n      <td>1463676761812709379</td>\n      <td>RT @_illust0907: oil and water\\n#arcane   #pil...</td>\n      <td>False</td>\n      <td>[0, 94]</td>\n      <td>{'hashtags': [{'text': 'arcane', 'indices': [3...</td>\n      <td>{'media': [{'id': 1463376715279790084, 'id_str...</td>\n      <td>{'iso_language_code': 'en', 'result_type': 're...</td>\n      <td>&lt;a href=\"http://twitter.com/download/android\" ...</td>\n      <td>...</td>\n      <td>164</td>\n      <td>0</td>\n      <td>False</td>\n      <td>False</td>\n      <td>False</td>\n      <td>en</td>\n      <td>oil and water\\n#arcane   #piltoversfinest #cai...</td>\n      <td>NaN</td>\n      <td>NaN</td>\n      <td>NaN</td>\n    </tr>\n    <tr>\n      <th>3</th>\n      <td>Thu Nov 25 01:11:47 +0000 2021</td>\n      <td>1463676758843183107</td>\n      <td>1463676758843183107</td>\n      <td>RT @gifsARCANE: no but her face here\\n\\n#Arcan...</td>\n      <td>False</td>\n      <td>[0, 69]</td>\n      <td>{'hashtags': [{'text': 'Arcane', 'indices': [3...</td>\n      <td>{'media': [{'id': 1463593077822693380, 'id_str...</td>\n      <td>{'iso_language_code': 'en', 'result_type': 're...</td>\n      <td>&lt;a href=\"http://twitter.com/download/iphone\" r...</td>\n      <td>...</td>\n      <td>1281</td>\n      <td>0</td>\n      <td>False</td>\n      <td>False</td>\n      <td>False</td>\n      <td>en</td>\n      <td>no but her face here\\n\\n#Arcane https://t.co/o...</td>\n      <td>NaN</td>\n      <td>NaN</td>\n      <td>NaN</td>\n    </tr>\n    <tr>\n      <th>4</th>\n      <td>Thu Nov 25 01:11:47 +0000 2021</td>\n      <td>1463676757094150147</td>\n      <td>1463676757094150147</td>\n      <td>RT @oolonglatte_: modern au vander silco vi&amp;am...</td>\n      <td>False</td>\n      <td>[0, 101]</td>\n      <td>{'hashtags': [{'text': 'Arcane', 'indices': [7...</td>\n      <td>{'media': [{'id': 1463554957551222784, 'id_str...</td>\n      <td>{'iso_language_code': 'en', 'result_type': 're...</td>\n      <td>&lt;a href=\"http://twitter.com/download/android\" ...</td>\n      <td>...</td>\n      <td>3343</td>\n      <td>0</td>\n      <td>False</td>\n      <td>False</td>\n      <td>False</td>\n      <td>en</td>\n      <td>modern au vander silco vi&amp;amp;powder went to d...</td>\n      <td>NaN</td>\n      <td>NaN</td>\n      <td>NaN</td>\n    </tr>\n    <tr>\n      <th>...</th>\n      <td>...</td>\n      <td>...</td>\n      <td>...</td>\n      <td>...</td>\n      <td>...</td>\n      <td>...</td>\n      <td>...</td>\n      <td>...</td>\n      <td>...</td>\n      <td>...</td>\n      <td>...</td>\n      <td>...</td>\n      <td>...</td>\n      <td>...</td>\n      <td>...</td>\n      <td>...</td>\n      <td>...</td>\n      <td>...</td>\n      <td>...</td>\n      <td>...</td>\n      <td>...</td>\n    </tr>\n    <tr>\n      <th>222</th>\n      <td>Thu Nov 25 01:07:07 +0000 2021</td>\n      <td>1463675582844125188</td>\n      <td>1463675582844125188</td>\n      <td>Arcane: Season 2 Announcement https://t.co/shF...</td>\n      <td>False</td>\n      <td>[0, 80]</td>\n      <td>{'hashtags': [], 'symbols': [], 'user_mentions...</td>\n      <td>NaN</td>\n      <td>{'iso_language_code': 'en', 'result_type': 're...</td>\n      <td>&lt;a href=\"http://twitter.com/download/iphone\" r...</td>\n      <td>...</td>\n      <td>0</td>\n      <td>0</td>\n      <td>False</td>\n      <td>False</td>\n      <td>False</td>\n      <td>en</td>\n      <td>Arcane: Season 2 Announcement https://t.co/shF...</td>\n      <td>NaN</td>\n      <td>NaN</td>\n      <td>NaN</td>\n    </tr>\n    <tr>\n      <th>223</th>\n      <td>Thu Nov 25 01:07:03 +0000 2021</td>\n      <td>1463675567304331271</td>\n      <td>1463675567304331271</td>\n      <td>RT @Arcane_League: Nothing but i LITERALLY liv...</td>\n      <td>False</td>\n      <td>[0, 138]</td>\n      <td>{'hashtags': [{'text': 'Arcane', 'indices': [1...</td>\n      <td>{'media': [{'id': 1463461706202554372, 'id_str...</td>\n      <td>{'iso_language_code': 'en', 'result_type': 're...</td>\n      <td>&lt;a href=\"http://twitter.com/download/iphone\" r...</td>\n      <td>...</td>\n      <td>54</td>\n      <td>0</td>\n      <td>False</td>\n      <td>False</td>\n      <td>False</td>\n      <td>en</td>\n      <td>Nothing but i LITERALLY live for this Fact \"th...</td>\n      <td>NaN</td>\n      <td>NaN</td>\n      <td>NaN</td>\n    </tr>\n    <tr>\n      <th>224</th>\n      <td>Thu Nov 25 01:07:03 +0000 2021</td>\n      <td>1463675566884802560</td>\n      <td>1463675566884802560</td>\n      <td>@arcane_artsTV I think it looks great! It does...</td>\n      <td>False</td>\n      <td>[15, 110]</td>\n      <td>{'hashtags': [], 'symbols': [], 'user_mentions...</td>\n      <td>NaN</td>\n      <td>{'iso_language_code': 'en', 'result_type': 're...</td>\n      <td>&lt;a href=\"https://mobile.twitter.com\" rel=\"nofo...</td>\n      <td>...</td>\n      <td>0</td>\n      <td>0</td>\n      <td>False</td>\n      <td>False</td>\n      <td>NaN</td>\n      <td>en</td>\n      <td>@arcane_artsTV I think it looks great! It does...</td>\n      <td>NaN</td>\n      <td>NaN</td>\n      <td>NaN</td>\n    </tr>\n    <tr>\n      <th>225</th>\n      <td>Thu Nov 25 01:07:01 +0000 2021</td>\n      <td>1463675558039011331</td>\n      <td>1463675558039011331</td>\n      <td>arcane is fucking depressing 👍</td>\n      <td>False</td>\n      <td>[0, 30]</td>\n      <td>{'hashtags': [], 'symbols': [], 'user_mentions...</td>\n      <td>NaN</td>\n      <td>{'iso_language_code': 'en', 'result_type': 're...</td>\n      <td>&lt;a href=\"https://mobile.twitter.com\" rel=\"nofo...</td>\n      <td>...</td>\n      <td>0</td>\n      <td>0</td>\n      <td>False</td>\n      <td>False</td>\n      <td>NaN</td>\n      <td>en</td>\n      <td>arcane is fucking depressing 👍</td>\n      <td>NaN</td>\n      <td>NaN</td>\n      <td>NaN</td>\n    </tr>\n    <tr>\n      <th>226</th>\n      <td>Thu Nov 25 01:06:56 +0000 2021</td>\n      <td>1463675536681566214</td>\n      <td>1463675536681566214</td>\n      <td>RT @Salvaatora: I didn't make the #vicait one ...</td>\n      <td>False</td>\n      <td>[0, 140]</td>\n      <td>{'hashtags': [{'text': 'vicait', 'indices': [3...</td>\n      <td>NaN</td>\n      <td>{'iso_language_code': 'en', 'result_type': 're...</td>\n      <td>&lt;a href=\"http://twitter.com/download/android\" ...</td>\n      <td>...</td>\n      <td>123</td>\n      <td>0</td>\n      <td>False</td>\n      <td>False</td>\n      <td>NaN</td>\n      <td>en</td>\n      <td>I didn't make the #vicait one yet bc I remembe...</td>\n      <td>NaN</td>\n      <td>NaN</td>\n      <td>NaN</td>\n    </tr>\n  </tbody>\n</table>\n<p>227 rows × 32 columns</p>\n</div>"
     },
     "execution_count": 7,
     "metadata": {},
     "output_type": "execute_result"
    }
   ],
   "source": [
    "tweet_df"
   ],
   "metadata": {
    "collapsed": false,
    "pycharm": {
     "name": "#%%\n"
    }
   }
  },
  {
   "cell_type": "code",
   "execution_count": 8,
   "outputs": [],
   "source": [
    "movie_list = [\n",
    "    'ghostbusters',\n",
    "    'eternals',\n",
    "    'my hero academia',\n",
    "    'dune',\n",
    "    'no time to die',\n",
    "    'squid game',\n",
    "    'luca',\n",
    "    'arcane'\n",
    "]"
   ],
   "metadata": {
    "collapsed": false,
    "pycharm": {
     "name": "#%%\n"
    }
   }
  },
  {
   "cell_type": "code",
   "execution_count": 9,
   "outputs": [
    {
     "name": "stdout",
     "output_type": "stream",
     "text": [
      "Iteration 1: 100 -> 100 = 100\n",
      "Iteration 2: 100 -> 100 = 200\n",
      "Iteration 3: 100 -> 100 = 300\n",
      "Iteration 4: 100 -> 100 = 400\n",
      "Iteration 5: 100 -> 100 = 500\n",
      "Iteration 6: 100 -> 100 = 514\n",
      "Iteration 7: 100 -> 100 = 589\n",
      "Iteration 1: 100 -> 100 = 100\n",
      "Iteration 2: 100 -> 100 = 200\n",
      "Iteration 3: 100 -> 100 = 300\n",
      "Iteration 4: 100 -> 100 = 400\n",
      "Iteration 5: 100 -> 100 = 500\n",
      "Iteration 6: 100 -> 100 = 408\n",
      "Iteration 7: 100 -> 100 = 508\n",
      "Iteration 8: 100 -> 100 = 523\n",
      "Iteration 9: 100 -> 100 = 580\n",
      "Iteration 1: 100 -> 100 = 100\n",
      "Iteration 2: 98 -> 98 = 198\n",
      "Iteration 3: 99 -> 99 = 297\n",
      "Iteration 4: 100 -> 100 = 397\n",
      "Iteration 5: 100 -> 100 = 497\n",
      "Iteration 6: 100 -> 100 = 597\n",
      "Iteration 7: 100 -> 100 = 337\n",
      "Iteration 8: 100 -> 100 = 437\n",
      "Iteration 9: 100 -> 100 = 537\n",
      "Iteration 10: 98 -> 98 = 415\n",
      "Iteration 11: 100 -> 100 = 515\n",
      "Iteration 12: 100 -> 100 = 444\n",
      "Iteration 13: 100 -> 100 = 544\n",
      "Iteration 14: 100 -> 100 = 474\n",
      "Iteration 15: 100 -> 100 = 574\n",
      "Iteration 16: 98 -> 98 = 500\n",
      "Iteration 17: 89 -> 89 = 514\n",
      "Iteration 18: 100 -> 100 = 549\n",
      "Iteration 19: 100 -> 100 = 575\n",
      "Iteration 20: 100 -> 100 = 589\n",
      "Iteration 1: 100 -> 100 = 100\n",
      "Iteration 2: 100 -> 100 = 200\n",
      "Iteration 3: 100 -> 100 = 300\n",
      "Iteration 4: 100 -> 100 = 400\n",
      "Iteration 5: 100 -> 100 = 500\n",
      "Iteration 6: 100 -> 100 = 380\n",
      "Iteration 7: 100 -> 100 = 480\n",
      "Iteration 8: 100 -> 100 = 580\n",
      "Iteration 9: 100 -> 100 = 538\n",
      "Iteration 10: 100 -> 100 = 589\n",
      "Iteration 1: 100 -> 100 = 100\n",
      "Iteration 2: 100 -> 100 = 200\n",
      "Iteration 3: 97 -> 97 = 297\n",
      "Iteration 4: 100 -> 100 = 397\n",
      "Iteration 5: 100 -> 100 = 497\n",
      "Iteration 6: 100 -> 100 = 597\n",
      "Iteration 7: 100 -> 100 = 539\n",
      "Iteration 1: 100 -> 100 = 100\n",
      "Iteration 2: 100 -> 100 = 200\n",
      "Iteration 3: 100 -> 100 = 300\n",
      "Iteration 4: 100 -> 100 = 400\n",
      "Iteration 5: 100 -> 100 = 500\n",
      "Iteration 6: 100 -> 100 = 269\n",
      "Iteration 7: 100 -> 100 = 369\n",
      "Iteration 8: 100 -> 100 = 469\n",
      "Iteration 9: 100 -> 100 = 569\n",
      "Iteration 10: 100 -> 100 = 368\n",
      "Iteration 11: 100 -> 100 = 468\n",
      "Iteration 12: 100 -> 100 = 568\n",
      "Iteration 13: 100 -> 100 = 447\n",
      "Iteration 14: 100 -> 100 = 547\n",
      "Iteration 15: 100 -> 100 = 508\n",
      "Iteration 16: 100 -> 100 = 531\n",
      "Iteration 17: 100 -> 100 = 555\n",
      "Iteration 18: 100 -> 100 = 583\n",
      "Iteration 1: 100 -> 100 = 100\n",
      "Iteration 2: 100 -> 100 = 200\n",
      "Iteration 3: 100 -> 100 = 300\n",
      "Iteration 4: 100 -> 100 = 400\n",
      "Iteration 5: 100 -> 100 = 500\n",
      "Iteration 6: 100 -> 100 = 427\n",
      "Iteration 7: 100 -> 100 = 527\n",
      "Iteration 8: 100 -> 100 = 567\n",
      "Iteration 1: 100 -> 100 = 100\n",
      "Iteration 2: 100 -> 100 = 200\n",
      "Iteration 3: 100 -> 100 = 300\n",
      "Iteration 4: 100 -> 100 = 400\n",
      "Iteration 5: 100 -> 100 = 500\n",
      "Iteration 6: 100 -> 100 = 303\n",
      "Iteration 7: 100 -> 100 = 403\n",
      "Iteration 8: 100 -> 100 = 503\n",
      "Iteration 9: 100 -> 100 = 377\n",
      "Iteration 10: 100 -> 100 = 477\n",
      "Iteration 11: 100 -> 100 = 577\n",
      "Iteration 12: 100 -> 100 = 452\n",
      "Iteration 13: 100 -> 100 = 552\n",
      "Iteration 14: 100 -> 100 = 496\n",
      "Iteration 15: 100 -> 100 = 596\n",
      "Iteration 16: 100 -> 100 = 543\n",
      "Iteration 17: 100 -> 100 = 564\n",
      "Iteration 18: 100 -> 100 = 591\n"
     ]
    }
   ],
   "source": [
    "for movie in movie_list:\n",
    "    tweet_df = th_h.get_tweet_raw(movie, max_tweets=500)\n",
    "    tweet_df.to_json('../dataset/movie-tweets/'+movie+'.json', orient='index')"
   ],
   "metadata": {
    "collapsed": false,
    "pycharm": {
     "name": "#%%\n"
    }
   }
  },
  {
   "cell_type": "code",
   "execution_count": null,
   "outputs": [],
   "source": [],
   "metadata": {
    "collapsed": false,
    "pycharm": {
     "name": "#%%\n"
    }
   }
  }
 ],
 "metadata": {
  "kernelspec": {
   "display_name": "Python 3",
   "language": "python",
   "name": "python3"
  },
  "language_info": {
   "codemirror_mode": {
    "name": "ipython",
    "version": 2
   },
   "file_extension": ".py",
   "mimetype": "text/x-python",
   "name": "python",
   "nbconvert_exporter": "python",
   "pygments_lexer": "ipython2",
   "version": "2.7.6"
  }
 },
 "nbformat": 4,
 "nbformat_minor": 0
}