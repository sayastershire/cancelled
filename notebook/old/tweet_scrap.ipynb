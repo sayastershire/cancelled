{
 "cells": [
  {
   "cell_type": "code",
   "execution_count": null,
   "source": [
    "# Initialisation\n",
    "import twitter\n",
    "import pandas as pd\n",
    "import re\n",
    "import json\n",
    "import numpy as np\n",
    "\n",
    "with open('../credential/bearer_token.txt') as f:\n",
    "    BEARER_TOKEN = f.read()\n",
    "t_h = twitter.Twitter(\n",
    "    auth=twitter.OAuth2(bearer_token=BEARER_TOKEN)\n",
    "    )"
   ],
   "outputs": [],
   "metadata": {}
  },
  {
   "cell_type": "code",
   "execution_count": null,
   "source": [
    "# For loop preparation\n",
    "squid_df = None\n",
    "max_iter = 30\n",
    "since_id_buff = ''\n",
    "\n",
    "# Loop. Expect 25 seconds run for 10 iterations, yielding 1000 tweets.\n",
    "for i in range(max_iter):\n",
    "    query = t_h.search.tweets(q='Squid game', lang='en', count=100, tweet_mode='extended') if since_id_buff == '' else t_h.search.tweets(q='Squid game', lang='en', count=100, tweet_mode='extended', max_id=since_id_buff)\n",
    "    since_id_buff = re.search(r'max_id=(.+)&q', query['search_metadata']['next_results']).group(1)\n",
    "    query = pd.DataFrame(query['statuses'])\n",
    "    squid_df = squid_df.append(query).reset_index().drop('index', axis=1) if squid_df is not None else query\n",
    "    "
   ],
   "outputs": [],
   "metadata": {}
  },
  {
   "cell_type": "code",
   "execution_count": null,
   "source": [
    "squid_df.tail() # by now, we should have 3000 tweets."
   ],
   "outputs": [],
   "metadata": {}
  },
  {
   "cell_type": "code",
   "execution_count": null,
   "source": [
    "# Clean duplicates\n",
    "squid_df = squid_df.drop_duplicates(subset=['full_text']).reset_index().drop('index', axis=1)\n",
    "squid_df.tail()"
   ],
   "outputs": [],
   "metadata": {}
  },
  {
   "cell_type": "code",
   "execution_count": null,
   "source": [
    "# JSON flatten\n",
    "squid_df_retweet = []\n",
    "\n",
    "# pd.isna(squid_df['retweeted_status'].iloc[2])\n",
    "for i in squid_df['retweeted_status']:\n",
    "    try:\n",
    "        squid_df_retweet.append(i['full_text'])\n",
    "    except:\n",
    "        squid_df_retweet.append(np.nan)\n",
    "\n",
    "# squid_df_retweet = "
   ],
   "outputs": [],
   "metadata": {}
  },
  {
   "cell_type": "code",
   "execution_count": null,
   "source": [
    "pd.isnull(squid_df_retweet[4])"
   ],
   "outputs": [],
   "metadata": {}
  },
  {
   "cell_type": "code",
   "execution_count": null,
   "source": [
    "# squid_df_retweet # shows the longer tweets (in cases of retweets)\n",
    "squid_tweets = []\n",
    "\n",
    "for i in range(len(squid_df_retweet)):\n",
    "    squid_tweets.append(squid_df_retweet[i] if not pd.isnull(squid_df_retweet[i]) else squid_df['full_text'].loc[i])\n",
    "\n",
    "pass\n",
    "squid_tweets"
   ],
   "outputs": [],
   "metadata": {}
  },
  {
   "cell_type": "code",
   "execution_count": null,
   "source": [
    "# Saving to txt in dataset\n",
    "output_dataset = '../dataset/squid-tweets/squid_tweets.json'\n",
    "\n",
    "# for i in squid_tweets:\n",
    "    # print(i)\n",
    "\n",
    "with open(output_dataset, 'w') as f:\n",
    "    f.write(json.dumps(squid_tweets))\n",
    "\n"
   ],
   "outputs": [],
   "metadata": {}
  }
 ],
 "metadata": {
  "orig_nbformat": 4,
  "language_info": {
   "name": "python",
   "version": "3.9.2",
   "mimetype": "text/x-python",
   "codemirror_mode": {
    "name": "ipython",
    "version": 3
   },
   "pygments_lexer": "ipython3",
   "nbconvert_exporter": "python",
   "file_extension": ".py"
  },
  "kernelspec": {
   "name": "python3",
   "display_name": "Python 3.9.2 64-bit"
  },
  "interpreter": {
   "hash": "31f2aee4e71d21fbe5cf8b01ff0e069b9275f58929596ceb00d14d90e3e16cd6"
  }
 },
 "nbformat": 4,
 "nbformat_minor": 2
}