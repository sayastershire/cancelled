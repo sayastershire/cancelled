{
 "cells": [
  {
   "cell_type": "code",
   "execution_count": 7,
   "metadata": {
    "collapsed": true
   },
   "outputs": [],
   "source": [
    "import pandas as pd\n",
    "import numpy as np"
   ]
  },
  {
   "cell_type": "code",
   "execution_count": 9,
   "outputs": [
    {
     "data": {
      "text/plain": "   is_quote_status  retweet_count  favorite_count  possibly_sensitive  \\\n0            False            247               0                 0.0   \n1            False           2543               0                 0.0   \n2            False            816               0                 NaN   \n3            False           2687               0                 0.0   \n4            False              0               0                 0.0   \n5            False            912               0                 0.0   \n6            False           2978               0                 0.0   \n7            False            744               0                 NaN   \n8            False             56               0                 NaN   \n9            False             46               0                 NaN   \n\n                                       inferred_text  is-spam  \\\n0  My Mel Medarda cosplay 🖤 i’m still not over th...        0   \n1  Made a smol gif with my fav cupcakes🧁💜❤️\\n#Arc...        0   \n2  More practice\\nhomies I still hate doing full ...        0   \n3  Right at it again. \\n\\n#Arcane #piltoversfines...        0   \n4  self proclaimed free thinkers when arcane jinx...        0   \n5  let’s make’em notice ⊹ ekko #arcane https://t....        0   \n6  Third wheeling 🤙🤙\\n#Arcane #Caitvi #Jinx https...        0   \n7  Vi with everyone  /  Vi with Caitlyn\\n#Arcane ...        0   \n8  imagine we get an arcane 2 trailer where jinx ...        0   \n9  @ArcaneLeague has just launched ! 🔥\\n\\nA BSC t...        1   \n\n                    user_name             user_location  \\\n0                    Detavius      Wherever Shego, I go   \n1  Cristiano #ARCANE SPOILERS         Rancharia, Brasil   \n2               Mizi-deloafu🥖           In your Fantazi   \n3                      𝐚𝐣𝐚𝐱 𖤐  lesbian - 19 - they/them   \n4                       Zhyxx                 He/Him 17   \n5                         umi          Curitiba, Brasil   \n6                  Arphrodite                             \n7                     I dunno                             \n8          erika ⚢︎ (andreil)       dalicaster lovebot    \n9                   Shiro_Cat                 Indonesia   \n\n                                    user_description  user_followers_count  \\\n0    Owner of the the Dimmsdale Demon Time Dimmadome                  1452   \n1  Design - Bauru\\n\\nIlustrador \\n\\nhttps://t.co/...                   176   \n2  Digital multi-fandom artist/fan-artist \\nInter...                    48   \n3  𝘨𝘪𝘳𝘭 𝘨𝘳𝘰𝘶𝘱 𝘦𝘯𝘵𝘩𝘶𝘴𝘪𝘢𝘴𝘵! 💘 𝘰𝘯𝘤𝘦𝘮𝘪𝘥𝘻𝘺𝘪𝘯𝘴𝘰𝘮𝘯𝘪𝘢𝘤𝘰𝘳𝘣...                    21   \n4  ~Good night~\\ni play games\\nEsp/Eng\\n\\npfp: @/...                   155   \n5  || ela/dela || 🏳️‍🌈 || as vezes eu jogo RPG e ...                   108   \n6                                                                      219   \n7  idosos gonna idosar , MUSGO, Fragmentos de uma...                    69   \n8    ⠀  ⠀⠀⠀𝗸𝗲𝗶𝘁𝗵  ･  kogane   🧁   𝘇𝗼𝗻𝗲  — a/ela/dela                   436   \n9                         follow back please😊😊\\n$MBF                    20   \n\n   ...  user_profile_link_color_b  user_profile_sidebar_border_color_r  \\\n0  ...                        134                                    0   \n1  ...                        235                                    0   \n2  ...                        242                                  192   \n3  ...                        242                                  192   \n4  ...                        242                                  192   \n5  ...                        242                                  192   \n6  ...                        242                                  192   \n7  ...                        242                                  192   \n8  ...                        242                                  192   \n9  ...                        242                                  192   \n\n  user_profile_sidebar_border_color_g  user_profile_sidebar_border_color_b  \\\n0                                   0                                    0   \n1                                   0                                    0   \n2                                 222                                  237   \n3                                 222                                  237   \n4                                 222                                  237   \n5                                 222                                  237   \n6                                 222                                  237   \n7                                 222                                  237   \n8                                 222                                  237   \n9                                 222                                  237   \n\n   user_profile_sidebar_fill_color_r  user_profile_sidebar_fill_color_g  \\\n0                                  0                                  0   \n1                                  0                                  0   \n2                                221                                238   \n3                                221                                238   \n4                                221                                238   \n5                                221                                238   \n6                                221                                238   \n7                                221                                238   \n8                                221                                238   \n9                                221                                238   \n\n   user_profile_sidebar_fill_color_b  user_profile_text_color_r  \\\n0                                  0                          0   \n1                                  0                          0   \n2                                246                         51   \n3                                246                         51   \n4                                246                         51   \n5                                246                         51   \n6                                246                         51   \n7                                246                         51   \n8                                246                         51   \n9                                246                         51   \n\n   user_profile_text_color_g  user_profile_text_color_b  \n0                          0                          0  \n1                          0                          0  \n2                         51                         51  \n3                         51                         51  \n4                         51                         51  \n5                         51                         51  \n6                         51                         51  \n7                         51                         51  \n8                         51                         51  \n9                         51                         51  \n\n[10 rows x 46 columns]",
      "text/html": "<div>\n<style scoped>\n    .dataframe tbody tr th:only-of-type {\n        vertical-align: middle;\n    }\n\n    .dataframe tbody tr th {\n        vertical-align: top;\n    }\n\n    .dataframe thead th {\n        text-align: right;\n    }\n</style>\n<table border=\"1\" class=\"dataframe\">\n  <thead>\n    <tr style=\"text-align: right;\">\n      <th></th>\n      <th>is_quote_status</th>\n      <th>retweet_count</th>\n      <th>favorite_count</th>\n      <th>possibly_sensitive</th>\n      <th>inferred_text</th>\n      <th>is-spam</th>\n      <th>user_name</th>\n      <th>user_location</th>\n      <th>user_description</th>\n      <th>user_followers_count</th>\n      <th>...</th>\n      <th>user_profile_link_color_b</th>\n      <th>user_profile_sidebar_border_color_r</th>\n      <th>user_profile_sidebar_border_color_g</th>\n      <th>user_profile_sidebar_border_color_b</th>\n      <th>user_profile_sidebar_fill_color_r</th>\n      <th>user_profile_sidebar_fill_color_g</th>\n      <th>user_profile_sidebar_fill_color_b</th>\n      <th>user_profile_text_color_r</th>\n      <th>user_profile_text_color_g</th>\n      <th>user_profile_text_color_b</th>\n    </tr>\n  </thead>\n  <tbody>\n    <tr>\n      <th>0</th>\n      <td>False</td>\n      <td>247</td>\n      <td>0</td>\n      <td>0.0</td>\n      <td>My Mel Medarda cosplay 🖤 i’m still not over th...</td>\n      <td>0</td>\n      <td>Detavius</td>\n      <td>Wherever Shego, I go</td>\n      <td>Owner of the the Dimmsdale Demon Time Dimmadome</td>\n      <td>1452</td>\n      <td>...</td>\n      <td>134</td>\n      <td>0</td>\n      <td>0</td>\n      <td>0</td>\n      <td>0</td>\n      <td>0</td>\n      <td>0</td>\n      <td>0</td>\n      <td>0</td>\n      <td>0</td>\n    </tr>\n    <tr>\n      <th>1</th>\n      <td>False</td>\n      <td>2543</td>\n      <td>0</td>\n      <td>0.0</td>\n      <td>Made a smol gif with my fav cupcakes🧁💜❤️\\n#Arc...</td>\n      <td>0</td>\n      <td>Cristiano #ARCANE SPOILERS</td>\n      <td>Rancharia, Brasil</td>\n      <td>Design - Bauru\\n\\nIlustrador \\n\\nhttps://t.co/...</td>\n      <td>176</td>\n      <td>...</td>\n      <td>235</td>\n      <td>0</td>\n      <td>0</td>\n      <td>0</td>\n      <td>0</td>\n      <td>0</td>\n      <td>0</td>\n      <td>0</td>\n      <td>0</td>\n      <td>0</td>\n    </tr>\n    <tr>\n      <th>2</th>\n      <td>False</td>\n      <td>816</td>\n      <td>0</td>\n      <td>NaN</td>\n      <td>More practice\\nhomies I still hate doing full ...</td>\n      <td>0</td>\n      <td>Mizi-deloafu🥖</td>\n      <td>In your Fantazi</td>\n      <td>Digital multi-fandom artist/fan-artist \\nInter...</td>\n      <td>48</td>\n      <td>...</td>\n      <td>242</td>\n      <td>192</td>\n      <td>222</td>\n      <td>237</td>\n      <td>221</td>\n      <td>238</td>\n      <td>246</td>\n      <td>51</td>\n      <td>51</td>\n      <td>51</td>\n    </tr>\n    <tr>\n      <th>3</th>\n      <td>False</td>\n      <td>2687</td>\n      <td>0</td>\n      <td>0.0</td>\n      <td>Right at it again. \\n\\n#Arcane #piltoversfines...</td>\n      <td>0</td>\n      <td>𝐚𝐣𝐚𝐱 𖤐</td>\n      <td>lesbian - 19 - they/them</td>\n      <td>𝘨𝘪𝘳𝘭 𝘨𝘳𝘰𝘶𝘱 𝘦𝘯𝘵𝘩𝘶𝘴𝘪𝘢𝘴𝘵! 💘 𝘰𝘯𝘤𝘦𝘮𝘪𝘥𝘻𝘺𝘪𝘯𝘴𝘰𝘮𝘯𝘪𝘢𝘤𝘰𝘳𝘣...</td>\n      <td>21</td>\n      <td>...</td>\n      <td>242</td>\n      <td>192</td>\n      <td>222</td>\n      <td>237</td>\n      <td>221</td>\n      <td>238</td>\n      <td>246</td>\n      <td>51</td>\n      <td>51</td>\n      <td>51</td>\n    </tr>\n    <tr>\n      <th>4</th>\n      <td>False</td>\n      <td>0</td>\n      <td>0</td>\n      <td>0.0</td>\n      <td>self proclaimed free thinkers when arcane jinx...</td>\n      <td>0</td>\n      <td>Zhyxx</td>\n      <td>He/Him 17</td>\n      <td>~Good night~\\ni play games\\nEsp/Eng\\n\\npfp: @/...</td>\n      <td>155</td>\n      <td>...</td>\n      <td>242</td>\n      <td>192</td>\n      <td>222</td>\n      <td>237</td>\n      <td>221</td>\n      <td>238</td>\n      <td>246</td>\n      <td>51</td>\n      <td>51</td>\n      <td>51</td>\n    </tr>\n    <tr>\n      <th>5</th>\n      <td>False</td>\n      <td>912</td>\n      <td>0</td>\n      <td>0.0</td>\n      <td>let’s make’em notice ⊹ ekko #arcane https://t....</td>\n      <td>0</td>\n      <td>umi</td>\n      <td>Curitiba, Brasil</td>\n      <td>|| ela/dela || 🏳️‍🌈 || as vezes eu jogo RPG e ...</td>\n      <td>108</td>\n      <td>...</td>\n      <td>242</td>\n      <td>192</td>\n      <td>222</td>\n      <td>237</td>\n      <td>221</td>\n      <td>238</td>\n      <td>246</td>\n      <td>51</td>\n      <td>51</td>\n      <td>51</td>\n    </tr>\n    <tr>\n      <th>6</th>\n      <td>False</td>\n      <td>2978</td>\n      <td>0</td>\n      <td>0.0</td>\n      <td>Third wheeling 🤙🤙\\n#Arcane #Caitvi #Jinx https...</td>\n      <td>0</td>\n      <td>Arphrodite</td>\n      <td></td>\n      <td></td>\n      <td>219</td>\n      <td>...</td>\n      <td>242</td>\n      <td>192</td>\n      <td>222</td>\n      <td>237</td>\n      <td>221</td>\n      <td>238</td>\n      <td>246</td>\n      <td>51</td>\n      <td>51</td>\n      <td>51</td>\n    </tr>\n    <tr>\n      <th>7</th>\n      <td>False</td>\n      <td>744</td>\n      <td>0</td>\n      <td>NaN</td>\n      <td>Vi with everyone  /  Vi with Caitlyn\\n#Arcane ...</td>\n      <td>0</td>\n      <td>I dunno</td>\n      <td></td>\n      <td>idosos gonna idosar , MUSGO, Fragmentos de uma...</td>\n      <td>69</td>\n      <td>...</td>\n      <td>242</td>\n      <td>192</td>\n      <td>222</td>\n      <td>237</td>\n      <td>221</td>\n      <td>238</td>\n      <td>246</td>\n      <td>51</td>\n      <td>51</td>\n      <td>51</td>\n    </tr>\n    <tr>\n      <th>8</th>\n      <td>False</td>\n      <td>56</td>\n      <td>0</td>\n      <td>NaN</td>\n      <td>imagine we get an arcane 2 trailer where jinx ...</td>\n      <td>0</td>\n      <td>erika ⚢︎ (andreil)</td>\n      <td>dalicaster lovebot</td>\n      <td>⠀  ⠀⠀⠀𝗸𝗲𝗶𝘁𝗵  ･  kogane   🧁   𝘇𝗼𝗻𝗲  — a/ela/dela</td>\n      <td>436</td>\n      <td>...</td>\n      <td>242</td>\n      <td>192</td>\n      <td>222</td>\n      <td>237</td>\n      <td>221</td>\n      <td>238</td>\n      <td>246</td>\n      <td>51</td>\n      <td>51</td>\n      <td>51</td>\n    </tr>\n    <tr>\n      <th>9</th>\n      <td>False</td>\n      <td>46</td>\n      <td>0</td>\n      <td>NaN</td>\n      <td>@ArcaneLeague has just launched ! 🔥\\n\\nA BSC t...</td>\n      <td>1</td>\n      <td>Shiro_Cat</td>\n      <td>Indonesia</td>\n      <td>follow back please😊😊\\n$MBF</td>\n      <td>20</td>\n      <td>...</td>\n      <td>242</td>\n      <td>192</td>\n      <td>222</td>\n      <td>237</td>\n      <td>221</td>\n      <td>238</td>\n      <td>246</td>\n      <td>51</td>\n      <td>51</td>\n      <td>51</td>\n    </tr>\n  </tbody>\n</table>\n<p>10 rows × 46 columns</p>\n</div>"
     },
     "execution_count": 9,
     "metadata": {},
     "output_type": "execute_result"
    }
   ],
   "source": [
    "tweet_raw_df = pd.read_json('../dataset/tweet-selected.json', orient='index')\n",
    "tweet_raw_df.head(10)"
   ],
   "metadata": {
    "collapsed": false,
    "pycharm": {
     "name": "#%%\n"
    }
   }
  },
  {
   "cell_type": "code",
   "execution_count": 10,
   "outputs": [
    {
     "data": {
      "text/plain": "(4157, 46)"
     },
     "execution_count": 10,
     "metadata": {},
     "output_type": "execute_result"
    }
   ],
   "source": [
    "tweet_raw_df.shape"
   ],
   "metadata": {
    "collapsed": false,
    "pycharm": {
     "name": "#%%\n"
    }
   }
  },
  {
   "cell_type": "code",
   "execution_count": 13,
   "outputs": [
    {
     "data": {
      "text/plain": "                                       inferred_text  possibly_sensitive\n0  My Mel Medarda cosplay 🖤 i’m still not over th...                 0.0\n1  Made a smol gif with my fav cupcakes🧁💜❤️\\n#Arc...                 0.0\n3  Right at it again. \\n\\n#Arcane #piltoversfines...                 0.0\n4  self proclaimed free thinkers when arcane jinx...                 0.0\n5  let’s make’em notice ⊹ ekko #arcane https://t....                 0.0",
      "text/html": "<div>\n<style scoped>\n    .dataframe tbody tr th:only-of-type {\n        vertical-align: middle;\n    }\n\n    .dataframe tbody tr th {\n        vertical-align: top;\n    }\n\n    .dataframe thead th {\n        text-align: right;\n    }\n</style>\n<table border=\"1\" class=\"dataframe\">\n  <thead>\n    <tr style=\"text-align: right;\">\n      <th></th>\n      <th>inferred_text</th>\n      <th>possibly_sensitive</th>\n    </tr>\n  </thead>\n  <tbody>\n    <tr>\n      <th>0</th>\n      <td>My Mel Medarda cosplay 🖤 i’m still not over th...</td>\n      <td>0.0</td>\n    </tr>\n    <tr>\n      <th>1</th>\n      <td>Made a smol gif with my fav cupcakes🧁💜❤️\\n#Arc...</td>\n      <td>0.0</td>\n    </tr>\n    <tr>\n      <th>3</th>\n      <td>Right at it again. \\n\\n#Arcane #piltoversfines...</td>\n      <td>0.0</td>\n    </tr>\n    <tr>\n      <th>4</th>\n      <td>self proclaimed free thinkers when arcane jinx...</td>\n      <td>0.0</td>\n    </tr>\n    <tr>\n      <th>5</th>\n      <td>let’s make’em notice ⊹ ekko #arcane https://t....</td>\n      <td>0.0</td>\n    </tr>\n  </tbody>\n</table>\n</div>"
     },
     "execution_count": 13,
     "metadata": {},
     "output_type": "execute_result"
    }
   ],
   "source": [
    "tweet_text = tweet_raw_df[['inferred_text', 'possibly_sensitive']].dropna()\n",
    "tweet_text.head()"
   ],
   "metadata": {
    "collapsed": false,
    "pycharm": {
     "name": "#%%\n"
    }
   }
  },
  {
   "cell_type": "code",
   "execution_count": 14,
   "outputs": [
    {
     "data": {
      "text/plain": "                                          inferred_text  possibly_sensitive\n81    Completely obsessed with angsty Heimendinger #...                 1.0\n85    #Arcane #Arcanespoilers \\n\\nThread for my favo...                 1.0\n138   ARCANE | Jinx and Vi concept arts from series ...                 1.0\n165   \"In the pursuit of great,we\\n failed to do goo...                 1.0\n462   \"Oh, whoops-\"\\n#Arcane #jayvik https://t.co/2x...                 1.0\n516   Both colors look right to me so i post them to...                 1.0\n709   Heya Frosties! 🙌\\n\\nStaking is live over at -&...                 1.0\n830                        Dune https://t.co/MV8MNbrqXD                 1.0\n918   UPDATED OSCAR PREDICTIONS in above-the-line ca...                 1.0\n1042  Still in utter awe at how Dune is a real achie...                 1.0\n1099  #Kingo \\n\\n(Sorry, wanted to see that emoji.)\\...                 1.0\n1207  Going to see Eternals with the fam tomorrow af...                 1.0\n1223      Sprite from Eternals: https://t.co/ZdmqiZONHN                 1.0\n1298  Lots to choose from\\n\\n(5th pic was Eternals a...                 1.0\n1417  she's an icon she's a legend and she is the mo...                 1.0\n2022  Shoto Todoroki in his latest hero costume is a...                 1.0\n2070  I've entered to win a @HyperX Cloud II Headset...                 1.0\n2227  Tautulli (BUSYBEAGLE)\\ngeertenveetje (Chromeca...                 1.0\n2248  Tautulli (BUSYBEAGLE)\\ngeertenveetje (Chromeca...                 1.0\n2254  Tautulli (BUSYBEAGLE)\\ngeertenveetje (Chromeca...                 1.0\n2258             No time to die https://t.co/PtQQf8SW1Z                 1.0\n2261  Tautulli (BUSYBEAGLE)\\ngeertenveetje (Chromeca...                 1.0\n2349  Tautulli (BUSYBEAGLE)\\ngeertenveetje (Chromeca...                 1.0\n2363  Tautulli (BUSYBEAGLE)\\ngeertenveetje (Chromeca...                 1.0\n2369  Tautulli (BUSYBEAGLE)\\ngeertenveetje (Chromeca...                 1.0\n2677  i sketched out Diavolo Claus and wrote an outl...                 1.0\n2886  Hawkeyes takes place after Shang chi #Hawkeye ...                 1.0\n2941  Tss Zsjl i can switch tss for Shang Chi tho ht...                 1.0\n3007  thank u for the 6 likes on my most least-effor...                 1.0\n3009  Simu Liu \"Tired\" of Being Marvel’s First Asian...                 1.0\n3027  Shang Chi and The Suicide Squad. https://t.co/...                 1.0\n3138  I liked it, a lot. It was well paced and enter...                 1.0\n3162  Legit how we felt watching Shang Chi when Disn...                 1.0\n3219  There were quite a few characters that I found...                 1.0\n3242  \"We are very close.\" Meng’er Zhang on her brot...                 1.0\n3384  wenwu u will always be famous♥️\\n\\nMy ★★★★ rev...                 1.0\n3548    AIGHT SHANG CHI THREAD: https://t.co/BzhBbRCa7i                 1.0\n3757  Lemme show you the real Squid Game. https://t....                 1.0\n3805  @dreamwastaken i cant believe they cut you out...                 1.0\n3915  hajoon in squid game as hwang junho (2021) htt...                 1.0\n3928  here to remind everyone simping over 067 in mr...                 1.0\n4125  me when i find out watching squid game on netf...                 1.0",
      "text/html": "<div>\n<style scoped>\n    .dataframe tbody tr th:only-of-type {\n        vertical-align: middle;\n    }\n\n    .dataframe tbody tr th {\n        vertical-align: top;\n    }\n\n    .dataframe thead th {\n        text-align: right;\n    }\n</style>\n<table border=\"1\" class=\"dataframe\">\n  <thead>\n    <tr style=\"text-align: right;\">\n      <th></th>\n      <th>inferred_text</th>\n      <th>possibly_sensitive</th>\n    </tr>\n  </thead>\n  <tbody>\n    <tr>\n      <th>81</th>\n      <td>Completely obsessed with angsty Heimendinger #...</td>\n      <td>1.0</td>\n    </tr>\n    <tr>\n      <th>85</th>\n      <td>#Arcane #Arcanespoilers \\n\\nThread for my favo...</td>\n      <td>1.0</td>\n    </tr>\n    <tr>\n      <th>138</th>\n      <td>ARCANE | Jinx and Vi concept arts from series ...</td>\n      <td>1.0</td>\n    </tr>\n    <tr>\n      <th>165</th>\n      <td>\"In the pursuit of great,we\\n failed to do goo...</td>\n      <td>1.0</td>\n    </tr>\n    <tr>\n      <th>462</th>\n      <td>\"Oh, whoops-\"\\n#Arcane #jayvik https://t.co/2x...</td>\n      <td>1.0</td>\n    </tr>\n    <tr>\n      <th>516</th>\n      <td>Both colors look right to me so i post them to...</td>\n      <td>1.0</td>\n    </tr>\n    <tr>\n      <th>709</th>\n      <td>Heya Frosties! 🙌\\n\\nStaking is live over at -&amp;...</td>\n      <td>1.0</td>\n    </tr>\n    <tr>\n      <th>830</th>\n      <td>Dune https://t.co/MV8MNbrqXD</td>\n      <td>1.0</td>\n    </tr>\n    <tr>\n      <th>918</th>\n      <td>UPDATED OSCAR PREDICTIONS in above-the-line ca...</td>\n      <td>1.0</td>\n    </tr>\n    <tr>\n      <th>1042</th>\n      <td>Still in utter awe at how Dune is a real achie...</td>\n      <td>1.0</td>\n    </tr>\n    <tr>\n      <th>1099</th>\n      <td>#Kingo \\n\\n(Sorry, wanted to see that emoji.)\\...</td>\n      <td>1.0</td>\n    </tr>\n    <tr>\n      <th>1207</th>\n      <td>Going to see Eternals with the fam tomorrow af...</td>\n      <td>1.0</td>\n    </tr>\n    <tr>\n      <th>1223</th>\n      <td>Sprite from Eternals: https://t.co/ZdmqiZONHN</td>\n      <td>1.0</td>\n    </tr>\n    <tr>\n      <th>1298</th>\n      <td>Lots to choose from\\n\\n(5th pic was Eternals a...</td>\n      <td>1.0</td>\n    </tr>\n    <tr>\n      <th>1417</th>\n      <td>she's an icon she's a legend and she is the mo...</td>\n      <td>1.0</td>\n    </tr>\n    <tr>\n      <th>2022</th>\n      <td>Shoto Todoroki in his latest hero costume is a...</td>\n      <td>1.0</td>\n    </tr>\n    <tr>\n      <th>2070</th>\n      <td>I've entered to win a @HyperX Cloud II Headset...</td>\n      <td>1.0</td>\n    </tr>\n    <tr>\n      <th>2227</th>\n      <td>Tautulli (BUSYBEAGLE)\\ngeertenveetje (Chromeca...</td>\n      <td>1.0</td>\n    </tr>\n    <tr>\n      <th>2248</th>\n      <td>Tautulli (BUSYBEAGLE)\\ngeertenveetje (Chromeca...</td>\n      <td>1.0</td>\n    </tr>\n    <tr>\n      <th>2254</th>\n      <td>Tautulli (BUSYBEAGLE)\\ngeertenveetje (Chromeca...</td>\n      <td>1.0</td>\n    </tr>\n    <tr>\n      <th>2258</th>\n      <td>No time to die https://t.co/PtQQf8SW1Z</td>\n      <td>1.0</td>\n    </tr>\n    <tr>\n      <th>2261</th>\n      <td>Tautulli (BUSYBEAGLE)\\ngeertenveetje (Chromeca...</td>\n      <td>1.0</td>\n    </tr>\n    <tr>\n      <th>2349</th>\n      <td>Tautulli (BUSYBEAGLE)\\ngeertenveetje (Chromeca...</td>\n      <td>1.0</td>\n    </tr>\n    <tr>\n      <th>2363</th>\n      <td>Tautulli (BUSYBEAGLE)\\ngeertenveetje (Chromeca...</td>\n      <td>1.0</td>\n    </tr>\n    <tr>\n      <th>2369</th>\n      <td>Tautulli (BUSYBEAGLE)\\ngeertenveetje (Chromeca...</td>\n      <td>1.0</td>\n    </tr>\n    <tr>\n      <th>2677</th>\n      <td>i sketched out Diavolo Claus and wrote an outl...</td>\n      <td>1.0</td>\n    </tr>\n    <tr>\n      <th>2886</th>\n      <td>Hawkeyes takes place after Shang chi #Hawkeye ...</td>\n      <td>1.0</td>\n    </tr>\n    <tr>\n      <th>2941</th>\n      <td>Tss Zsjl i can switch tss for Shang Chi tho ht...</td>\n      <td>1.0</td>\n    </tr>\n    <tr>\n      <th>3007</th>\n      <td>thank u for the 6 likes on my most least-effor...</td>\n      <td>1.0</td>\n    </tr>\n    <tr>\n      <th>3009</th>\n      <td>Simu Liu \"Tired\" of Being Marvel’s First Asian...</td>\n      <td>1.0</td>\n    </tr>\n    <tr>\n      <th>3027</th>\n      <td>Shang Chi and The Suicide Squad. https://t.co/...</td>\n      <td>1.0</td>\n    </tr>\n    <tr>\n      <th>3138</th>\n      <td>I liked it, a lot. It was well paced and enter...</td>\n      <td>1.0</td>\n    </tr>\n    <tr>\n      <th>3162</th>\n      <td>Legit how we felt watching Shang Chi when Disn...</td>\n      <td>1.0</td>\n    </tr>\n    <tr>\n      <th>3219</th>\n      <td>There were quite a few characters that I found...</td>\n      <td>1.0</td>\n    </tr>\n    <tr>\n      <th>3242</th>\n      <td>\"We are very close.\" Meng’er Zhang on her brot...</td>\n      <td>1.0</td>\n    </tr>\n    <tr>\n      <th>3384</th>\n      <td>wenwu u will always be famous♥️\\n\\nMy ★★★★ rev...</td>\n      <td>1.0</td>\n    </tr>\n    <tr>\n      <th>3548</th>\n      <td>AIGHT SHANG CHI THREAD: https://t.co/BzhBbRCa7i</td>\n      <td>1.0</td>\n    </tr>\n    <tr>\n      <th>3757</th>\n      <td>Lemme show you the real Squid Game. https://t....</td>\n      <td>1.0</td>\n    </tr>\n    <tr>\n      <th>3805</th>\n      <td>@dreamwastaken i cant believe they cut you out...</td>\n      <td>1.0</td>\n    </tr>\n    <tr>\n      <th>3915</th>\n      <td>hajoon in squid game as hwang junho (2021) htt...</td>\n      <td>1.0</td>\n    </tr>\n    <tr>\n      <th>3928</th>\n      <td>here to remind everyone simping over 067 in mr...</td>\n      <td>1.0</td>\n    </tr>\n    <tr>\n      <th>4125</th>\n      <td>me when i find out watching squid game on netf...</td>\n      <td>1.0</td>\n    </tr>\n  </tbody>\n</table>\n</div>"
     },
     "execution_count": 14,
     "metadata": {},
     "output_type": "execute_result"
    }
   ],
   "source": [
    "tweet_text[tweet_text['possibly_sensitive'] == 1]"
   ],
   "metadata": {
    "collapsed": false,
    "pycharm": {
     "name": "#%%\n"
    }
   }
  },
  {
   "cell_type": "markdown",
   "source": [
    "Verdict: none of the tweets tagged with 'possibly sensitive' is sensitive."
   ],
   "metadata": {
    "collapsed": false,
    "pycharm": {
     "name": "#%% md\n"
    }
   }
  }
 ],
 "metadata": {
  "kernelspec": {
   "display_name": "Python 3",
   "language": "python",
   "name": "python3"
  },
  "language_info": {
   "codemirror_mode": {
    "name": "ipython",
    "version": 2
   },
   "file_extension": ".py",
   "mimetype": "text/x-python",
   "name": "python",
   "nbconvert_exporter": "python",
   "pygments_lexer": "ipython2",
   "version": "2.7.6"
  }
 },
 "nbformat": 4,
 "nbformat_minor": 0
}