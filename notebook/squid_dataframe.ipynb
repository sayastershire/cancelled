{
 "cells": [
  {
   "cell_type": "code",
   "execution_count": 20,
   "source": [
    "import pandas as pd\n",
    "import json\n",
    "import cudf"
   ],
   "outputs": [],
   "metadata": {}
  },
  {
   "cell_type": "code",
   "execution_count": 21,
   "source": [
    "# Constants\n",
    "\n",
    "file_name = '../dataset/squid-tweets/squidTweets.txt'"
   ],
   "outputs": [],
   "metadata": {}
  },
  {
   "cell_type": "code",
   "execution_count": 22,
   "source": [
    "with open(file_name) as f:\n",
    "    squid_list = json.load(f)"
   ],
   "outputs": [],
   "metadata": {}
  },
  {
   "cell_type": "code",
   "execution_count": 23,
   "source": [
    "# squid_df = cudf.read_json('../dataset/squid-tweets/squidTweets.txt')\n",
    "squid_df = pd.DataFrame(squid_list['statuses'])\n",
    "squid_df.head()"
   ],
   "outputs": [],
   "metadata": {}
  },
  {
   "cell_type": "code",
   "execution_count": 28,
   "source": [
    "squid_tweets = squid_df['text']\n",
    "squid_tweets.head()"
   ],
   "outputs": [
    {
     "output_type": "execute_result",
     "data": {
      "text/plain": [
       "0    @iheartscifi1 I got my squid game tracksuit fo...\n",
       "1    'Squid Game' mania has shoppers snapping up Va...\n",
       "2                             finished squid game. wtf\n",
       "3    RT @780613: DID TAEHYUNG JUST IMITATE THE OLD ...\n",
       "4    RT @itsmerur: Jaemin X Squid Game\\n\\n#JAEMIN #...\n",
       "Name: text, dtype: object"
      ]
     },
     "metadata": {},
     "execution_count": 28
    }
   ],
   "metadata": {}
  },
  {
   "cell_type": "code",
   "execution_count": 27,
   "source": [
    "squid_tweets.tail()"
   ],
   "outputs": [
    {
     "output_type": "execute_result",
     "data": {
      "text/plain": [
       "945    @Nftblacketh Just minted Player 199 from Crypt...\n",
       "946    the invitation to my wedding is squid game inv...\n",
       "947    RT @MrMichaelSpicer: squid game deleted scene ...\n",
       "948    RT @FarraNazira: Squid Game ❎\\nGintama ✅ https...\n",
       "949    Cignature Squid Game Version 😝🤣 \\nHow's it??\\n...\n",
       "Name: text, dtype: object"
      ]
     },
     "metadata": {},
     "execution_count": 27
    }
   ],
   "metadata": {}
  },
  {
   "cell_type": "code",
   "execution_count": null,
   "source": [],
   "outputs": [],
   "metadata": {}
  }
 ],
 "metadata": {
  "orig_nbformat": 4,
  "language_info": {
   "name": "python",
   "version": "3.8.12",
   "mimetype": "text/x-python",
   "codemirror_mode": {
    "name": "ipython",
    "version": 3
   },
   "pygments_lexer": "ipython3",
   "nbconvert_exporter": "python",
   "file_extension": ".py"
  },
  "kernelspec": {
   "name": "python3",
   "display_name": "Python 3.8.12 64-bit ('rapids-21.10': conda)"
  },
  "interpreter": {
   "hash": "69df4f41057f546daa69057b1d3fbdbfd84b419403db9928b25c18f2429ebadf"
  }
 },
 "nbformat": 4,
 "nbformat_minor": 2
}