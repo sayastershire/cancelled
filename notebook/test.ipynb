{
 "cells": [
  {
   "cell_type": "code",
   "execution_count": 1,
   "metadata": {
    "collapsed": true
   },
   "outputs": [],
   "source": [
    "import sys\n",
    "sys.path.append('../script')\n",
    "\n",
    "import tweet_spam_predict"
   ]
  },
  {
   "cell_type": "code",
   "execution_count": 2,
   "outputs": [],
   "source": [
    "import pandas as pd\n",
    "tweet_sample = pd.read_json('../dataset/movie-tweets/ghostbusters.json', orient='index')"
   ],
   "metadata": {
    "collapsed": false,
    "pycharm": {
     "name": "#%%\n"
    }
   }
  },
  {
   "cell_type": "code",
   "execution_count": 3,
   "outputs": [
    {
     "data": {
      "text/plain": "                   created_at                   id               id_str  \\\n0   2021-11-25 01:14:23+00:00  1463677412630151169  1463677412630151168   \n1   2021-11-25 01:14:09+00:00  1463677352198557697  1463677352198557696   \n2   2021-11-25 01:14:08+00:00  1463677348461494275  1463677348461494272   \n3   2021-11-25 01:13:08+00:00  1463677096941666311  1463677096941666304   \n4   2021-11-25 01:13:01+00:00  1463677069418762243  1463677069418762240   \n..                        ...                  ...                  ...   \n556 2021-11-24 23:16:57+00:00  1463647859677540355  1463647859677540352   \n557 2021-11-24 23:16:55+00:00  1463647848512294915  1463647848512294912   \n558 2021-11-24 23:16:48+00:00  1463647819844112386  1463647819844112384   \n559 2021-11-24 23:16:28+00:00  1463647735886843907  1463647735886843904   \n560 2021-11-24 23:15:54+00:00  1463647593393790977  1463647593393790976   \n\n                                             full_text  truncated  \\\n0    RT @FNBNPodcast: Did you see #GhostbustersAfte...      False   \n1    \"when I was working on Ghostbusters I had sex ...      False   \n2    RT @FNBNPodcast: 🤖NEW EPISODE🤖\\n\\nWho ya gonna...      False   \n3    RT @CosmicallyF: \"You don't live in a vacuum.\"...      False   \n4    @AndyCleves_ I’m glad to hear you enjoyed it. ...      False   \n..                                                 ...        ...   \n556  @CutlerRidgeLAZ @Ghostbusters @maureen52375 @H...      False   \n557  I’m in a pickle.\\n\\nDo I participate in the @s...      False   \n558  RT @edburmila: Democratic presidential politic...      False   \n559  What Happened to Ray, Winston &amp; Peter Betw...      False   \n560  I think all the critics were served Grumpy Jui...      False   \n\n    display_text_range                                           entities  \\\n0             [0, 140]  {'hashtags': [{'text': 'GhostbustersAfterlife'...   \n1              [0, 59]  {'hashtags': [], 'symbols': [], 'user_mentions...   \n2             [0, 140]  {'hashtags': [{'text': 'GhostbustersAfterlife'...   \n3              [0, 97]  {'hashtags': [], 'symbols': [], 'user_mentions...   \n4            [13, 230]  {'hashtags': [], 'symbols': [], 'user_mentions...   \n..                 ...                                                ...   \n556           [61, 90]  {'hashtags': [], 'symbols': [], 'user_mentions...   \n557           [0, 260]  {'hashtags': [{'text': 'Ghostbusters', 'indice...   \n558           [0, 140]  {'hashtags': [], 'symbols': [], 'user_mentions...   \n559           [0, 104]  {'hashtags': [], 'symbols': [], 'user_mentions...   \n560           [0, 272]  {'hashtags': [], 'symbols': [], 'user_mentions...   \n\n                                              metadata  \\\n0    {'iso_language_code': 'en', 'result_type': 're...   \n1    {'iso_language_code': 'en', 'result_type': 're...   \n2    {'iso_language_code': 'en', 'result_type': 're...   \n3    {'iso_language_code': 'en', 'result_type': 're...   \n4    {'iso_language_code': 'en', 'result_type': 're...   \n..                                                 ...   \n556  {'iso_language_code': 'en', 'result_type': 're...   \n557  {'iso_language_code': 'en', 'result_type': 're...   \n558  {'iso_language_code': 'en', 'result_type': 're...   \n559  {'iso_language_code': 'en', 'result_type': 're...   \n560  {'iso_language_code': 'en', 'result_type': 're...   \n\n                                                source  in_reply_to_status_id  \\\n0    <a href=\"https://mobile.twitter.com\" rel=\"nofo...                    NaN   \n1    <a href=\"http://twitter.com/download/android\" ...                    NaN   \n2    <a href=\"https://mobile.twitter.com\" rel=\"nofo...                    NaN   \n3    <a href=\"http://twitter.com/download/iphone\" r...                    NaN   \n4    <a href=\"http://twitter.com/download/iphone\" r...           1.463663e+18   \n..                                                 ...                    ...   \n556  <a href=\"https://mobile.twitter.com\" rel=\"nofo...           1.463586e+18   \n557  <a href=\"http://twitter.com/download/iphone\" r...                    NaN   \n558  <a href=\"http://twitter.com/download/android\" ...                    NaN   \n559  <a href=\"http://twitter.com/#!/download/ipad\" ...                    NaN   \n560  <a href=\"http://twitter.com/download/iphone\" r...                    NaN   \n\n     ...  favorite_count  favorited  retweeted lang possibly_sensitive  \\\n0    ...               0      False      False   en                NaN   \n1    ...               0      False      False   en                NaN   \n2    ...               0      False      False   en                NaN   \n3    ...               0      False      False   en                NaN   \n4    ...               0      False      False   en                NaN   \n..   ...             ...        ...        ...  ...                ...   \n556  ...               0      False      False   en                NaN   \n557  ...               0      False      False   en                NaN   \n558  ...               0      False      False   en                NaN   \n559  ...               0      False      False   en                0.0   \n560  ...              65      False      False   en                0.0   \n\n                                     extended_entities quoted_status_id  \\\n0                                                 None              NaN   \n1                                                 None              NaN   \n2                                                 None              NaN   \n3                                                 None              NaN   \n4                                                 None              NaN   \n..                                                 ...              ...   \n556                                               None              NaN   \n557                                               None              NaN   \n558                                               None     1.463493e+18   \n559                                               None              NaN   \n560  {'media': [{'id': 1463647589992214532, 'id_str...              NaN   \n\n    quoted_status_id_str  quoted_status  \\\n0                    NaN           None   \n1                    NaN           None   \n2                    NaN           None   \n3                    NaN           None   \n4                    NaN           None   \n..                   ...            ...   \n556                  NaN           None   \n557                  NaN           None   \n558         1.463493e+18           None   \n559                  NaN           None   \n560                  NaN           None   \n\n                                         inferred_text  \n0    Did you see #GhostbustersAfterlife???\\n\\nIf yo...  \n1    \"when I was working on Ghostbusters I had sex ...  \n2    🤖NEW EPISODE🤖\\n\\nWho ya gonna call? FNBN for a...  \n3    \"You don't live in a vacuum.\"\\n\\nOf course Kar...  \n4    @AndyCleves_ I’m glad to hear you enjoyed it. ...  \n..                                                 ...  \n556  @CutlerRidgeLAZ @Ghostbusters @maureen52375 @H...  \n557  I’m in a pickle.\\n\\nDo I participate in the @s...  \n558  Democratic presidential politics is like Holly...  \n559  What Happened to Ray, Winston &amp; Peter Betw...  \n560  I think all the critics were served Grumpy Jui...  \n\n[561 rows x 32 columns]",
      "text/html": "<div>\n<style scoped>\n    .dataframe tbody tr th:only-of-type {\n        vertical-align: middle;\n    }\n\n    .dataframe tbody tr th {\n        vertical-align: top;\n    }\n\n    .dataframe thead th {\n        text-align: right;\n    }\n</style>\n<table border=\"1\" class=\"dataframe\">\n  <thead>\n    <tr style=\"text-align: right;\">\n      <th></th>\n      <th>created_at</th>\n      <th>id</th>\n      <th>id_str</th>\n      <th>full_text</th>\n      <th>truncated</th>\n      <th>display_text_range</th>\n      <th>entities</th>\n      <th>metadata</th>\n      <th>source</th>\n      <th>in_reply_to_status_id</th>\n      <th>...</th>\n      <th>favorite_count</th>\n      <th>favorited</th>\n      <th>retweeted</th>\n      <th>lang</th>\n      <th>possibly_sensitive</th>\n      <th>extended_entities</th>\n      <th>quoted_status_id</th>\n      <th>quoted_status_id_str</th>\n      <th>quoted_status</th>\n      <th>inferred_text</th>\n    </tr>\n  </thead>\n  <tbody>\n    <tr>\n      <th>0</th>\n      <td>2021-11-25 01:14:23+00:00</td>\n      <td>1463677412630151169</td>\n      <td>1463677412630151168</td>\n      <td>RT @FNBNPodcast: Did you see #GhostbustersAfte...</td>\n      <td>False</td>\n      <td>[0, 140]</td>\n      <td>{'hashtags': [{'text': 'GhostbustersAfterlife'...</td>\n      <td>{'iso_language_code': 'en', 'result_type': 're...</td>\n      <td>&lt;a href=\"https://mobile.twitter.com\" rel=\"nofo...</td>\n      <td>NaN</td>\n      <td>...</td>\n      <td>0</td>\n      <td>False</td>\n      <td>False</td>\n      <td>en</td>\n      <td>NaN</td>\n      <td>None</td>\n      <td>NaN</td>\n      <td>NaN</td>\n      <td>None</td>\n      <td>Did you see #GhostbustersAfterlife???\\n\\nIf yo...</td>\n    </tr>\n    <tr>\n      <th>1</th>\n      <td>2021-11-25 01:14:09+00:00</td>\n      <td>1463677352198557697</td>\n      <td>1463677352198557696</td>\n      <td>\"when I was working on Ghostbusters I had sex ...</td>\n      <td>False</td>\n      <td>[0, 59]</td>\n      <td>{'hashtags': [], 'symbols': [], 'user_mentions...</td>\n      <td>{'iso_language_code': 'en', 'result_type': 're...</td>\n      <td>&lt;a href=\"http://twitter.com/download/android\" ...</td>\n      <td>NaN</td>\n      <td>...</td>\n      <td>0</td>\n      <td>False</td>\n      <td>False</td>\n      <td>en</td>\n      <td>NaN</td>\n      <td>None</td>\n      <td>NaN</td>\n      <td>NaN</td>\n      <td>None</td>\n      <td>\"when I was working on Ghostbusters I had sex ...</td>\n    </tr>\n    <tr>\n      <th>2</th>\n      <td>2021-11-25 01:14:08+00:00</td>\n      <td>1463677348461494275</td>\n      <td>1463677348461494272</td>\n      <td>RT @FNBNPodcast: 🤖NEW EPISODE🤖\\n\\nWho ya gonna...</td>\n      <td>False</td>\n      <td>[0, 140]</td>\n      <td>{'hashtags': [{'text': 'GhostbustersAfterlife'...</td>\n      <td>{'iso_language_code': 'en', 'result_type': 're...</td>\n      <td>&lt;a href=\"https://mobile.twitter.com\" rel=\"nofo...</td>\n      <td>NaN</td>\n      <td>...</td>\n      <td>0</td>\n      <td>False</td>\n      <td>False</td>\n      <td>en</td>\n      <td>NaN</td>\n      <td>None</td>\n      <td>NaN</td>\n      <td>NaN</td>\n      <td>None</td>\n      <td>🤖NEW EPISODE🤖\\n\\nWho ya gonna call? FNBN for a...</td>\n    </tr>\n    <tr>\n      <th>3</th>\n      <td>2021-11-25 01:13:08+00:00</td>\n      <td>1463677096941666311</td>\n      <td>1463677096941666304</td>\n      <td>RT @CosmicallyF: \"You don't live in a vacuum.\"...</td>\n      <td>False</td>\n      <td>[0, 97]</td>\n      <td>{'hashtags': [], 'symbols': [], 'user_mentions...</td>\n      <td>{'iso_language_code': 'en', 'result_type': 're...</td>\n      <td>&lt;a href=\"http://twitter.com/download/iphone\" r...</td>\n      <td>NaN</td>\n      <td>...</td>\n      <td>0</td>\n      <td>False</td>\n      <td>False</td>\n      <td>en</td>\n      <td>NaN</td>\n      <td>None</td>\n      <td>NaN</td>\n      <td>NaN</td>\n      <td>None</td>\n      <td>\"You don't live in a vacuum.\"\\n\\nOf course Kar...</td>\n    </tr>\n    <tr>\n      <th>4</th>\n      <td>2021-11-25 01:13:01+00:00</td>\n      <td>1463677069418762243</td>\n      <td>1463677069418762240</td>\n      <td>@AndyCleves_ I’m glad to hear you enjoyed it. ...</td>\n      <td>False</td>\n      <td>[13, 230]</td>\n      <td>{'hashtags': [], 'symbols': [], 'user_mentions...</td>\n      <td>{'iso_language_code': 'en', 'result_type': 're...</td>\n      <td>&lt;a href=\"http://twitter.com/download/iphone\" r...</td>\n      <td>1.463663e+18</td>\n      <td>...</td>\n      <td>0</td>\n      <td>False</td>\n      <td>False</td>\n      <td>en</td>\n      <td>NaN</td>\n      <td>None</td>\n      <td>NaN</td>\n      <td>NaN</td>\n      <td>None</td>\n      <td>@AndyCleves_ I’m glad to hear you enjoyed it. ...</td>\n    </tr>\n    <tr>\n      <th>...</th>\n      <td>...</td>\n      <td>...</td>\n      <td>...</td>\n      <td>...</td>\n      <td>...</td>\n      <td>...</td>\n      <td>...</td>\n      <td>...</td>\n      <td>...</td>\n      <td>...</td>\n      <td>...</td>\n      <td>...</td>\n      <td>...</td>\n      <td>...</td>\n      <td>...</td>\n      <td>...</td>\n      <td>...</td>\n      <td>...</td>\n      <td>...</td>\n      <td>...</td>\n      <td>...</td>\n    </tr>\n    <tr>\n      <th>556</th>\n      <td>2021-11-24 23:16:57+00:00</td>\n      <td>1463647859677540355</td>\n      <td>1463647859677540352</td>\n      <td>@CutlerRidgeLAZ @Ghostbusters @maureen52375 @H...</td>\n      <td>False</td>\n      <td>[61, 90]</td>\n      <td>{'hashtags': [], 'symbols': [], 'user_mentions...</td>\n      <td>{'iso_language_code': 'en', 'result_type': 're...</td>\n      <td>&lt;a href=\"https://mobile.twitter.com\" rel=\"nofo...</td>\n      <td>1.463586e+18</td>\n      <td>...</td>\n      <td>0</td>\n      <td>False</td>\n      <td>False</td>\n      <td>en</td>\n      <td>NaN</td>\n      <td>None</td>\n      <td>NaN</td>\n      <td>NaN</td>\n      <td>None</td>\n      <td>@CutlerRidgeLAZ @Ghostbusters @maureen52375 @H...</td>\n    </tr>\n    <tr>\n      <th>557</th>\n      <td>2021-11-24 23:16:55+00:00</td>\n      <td>1463647848512294915</td>\n      <td>1463647848512294912</td>\n      <td>I’m in a pickle.\\n\\nDo I participate in the @s...</td>\n      <td>False</td>\n      <td>[0, 260]</td>\n      <td>{'hashtags': [{'text': 'Ghostbusters', 'indice...</td>\n      <td>{'iso_language_code': 'en', 'result_type': 're...</td>\n      <td>&lt;a href=\"http://twitter.com/download/iphone\" r...</td>\n      <td>NaN</td>\n      <td>...</td>\n      <td>0</td>\n      <td>False</td>\n      <td>False</td>\n      <td>en</td>\n      <td>NaN</td>\n      <td>None</td>\n      <td>NaN</td>\n      <td>NaN</td>\n      <td>None</td>\n      <td>I’m in a pickle.\\n\\nDo I participate in the @s...</td>\n    </tr>\n    <tr>\n      <th>558</th>\n      <td>2021-11-24 23:16:48+00:00</td>\n      <td>1463647819844112386</td>\n      <td>1463647819844112384</td>\n      <td>RT @edburmila: Democratic presidential politic...</td>\n      <td>False</td>\n      <td>[0, 140]</td>\n      <td>{'hashtags': [], 'symbols': [], 'user_mentions...</td>\n      <td>{'iso_language_code': 'en', 'result_type': 're...</td>\n      <td>&lt;a href=\"http://twitter.com/download/android\" ...</td>\n      <td>NaN</td>\n      <td>...</td>\n      <td>0</td>\n      <td>False</td>\n      <td>False</td>\n      <td>en</td>\n      <td>NaN</td>\n      <td>None</td>\n      <td>1.463493e+18</td>\n      <td>1.463493e+18</td>\n      <td>None</td>\n      <td>Democratic presidential politics is like Holly...</td>\n    </tr>\n    <tr>\n      <th>559</th>\n      <td>2021-11-24 23:16:28+00:00</td>\n      <td>1463647735886843907</td>\n      <td>1463647735886843904</td>\n      <td>What Happened to Ray, Winston &amp;amp; Peter Betw...</td>\n      <td>False</td>\n      <td>[0, 104]</td>\n      <td>{'hashtags': [], 'symbols': [], 'user_mentions...</td>\n      <td>{'iso_language_code': 'en', 'result_type': 're...</td>\n      <td>&lt;a href=\"http://twitter.com/#!/download/ipad\" ...</td>\n      <td>NaN</td>\n      <td>...</td>\n      <td>0</td>\n      <td>False</td>\n      <td>False</td>\n      <td>en</td>\n      <td>0.0</td>\n      <td>None</td>\n      <td>NaN</td>\n      <td>NaN</td>\n      <td>None</td>\n      <td>What Happened to Ray, Winston &amp;amp; Peter Betw...</td>\n    </tr>\n    <tr>\n      <th>560</th>\n      <td>2021-11-24 23:15:54+00:00</td>\n      <td>1463647593393790977</td>\n      <td>1463647593393790976</td>\n      <td>I think all the critics were served Grumpy Jui...</td>\n      <td>False</td>\n      <td>[0, 272]</td>\n      <td>{'hashtags': [], 'symbols': [], 'user_mentions...</td>\n      <td>{'iso_language_code': 'en', 'result_type': 're...</td>\n      <td>&lt;a href=\"http://twitter.com/download/iphone\" r...</td>\n      <td>NaN</td>\n      <td>...</td>\n      <td>65</td>\n      <td>False</td>\n      <td>False</td>\n      <td>en</td>\n      <td>0.0</td>\n      <td>{'media': [{'id': 1463647589992214532, 'id_str...</td>\n      <td>NaN</td>\n      <td>NaN</td>\n      <td>None</td>\n      <td>I think all the critics were served Grumpy Jui...</td>\n    </tr>\n  </tbody>\n</table>\n<p>561 rows × 32 columns</p>\n</div>"
     },
     "execution_count": 3,
     "metadata": {},
     "output_type": "execute_result"
    }
   ],
   "source": [
    "tweet_sample"
   ],
   "metadata": {
    "collapsed": false,
    "pycharm": {
     "name": "#%%\n"
    }
   }
  },
  {
   "cell_type": "code",
   "execution_count": 4,
   "outputs": [
    {
     "name": "stdout",
     "output_type": "stream",
     "text": [
      "Loading models...Done!\n",
      "Creating TF-IDF vectorizer...Done!\n",
      "Loading Word2Vec vectorizer...Done!\n",
      "Creating Word2Vec vectorizer...Done!\n",
      "Creating embedded vectorizer..."
     ]
    }
   ],
   "source": [
    "spam_h = tweet_spam_predict.TweetSpamPredictor()"
   ],
   "metadata": {
    "collapsed": false,
    "pycharm": {
     "name": "#%%\n"
    }
   }
  },
  {
   "cell_type": "code",
   "execution_count": 5,
   "outputs": [
    {
     "data": {
      "text/plain": "pandas.core.frame.DataFrame"
     },
     "execution_count": 5,
     "metadata": {},
     "output_type": "execute_result"
    }
   ],
   "source": [
    "type(pd.DataFrame(tweet_sample.iloc[1]))"
   ],
   "metadata": {
    "collapsed": false,
    "pycharm": {
     "name": "#%%\n"
    }
   }
  },
  {
   "cell_type": "code",
   "execution_count": 6,
   "outputs": [
    {
     "name": "stdout",
     "output_type": "stream",
     "text": [
      "['entities', 'extended_entities', 'metadata', 'user']\n",
      "entities\n"
     ]
    },
    {
     "ename": "KeyError",
     "evalue": "\"['entities'] not found in axis\"",
     "output_type": "error",
     "traceback": [
      "\u001B[1;31m---------------------------------------------------------------------------\u001B[0m",
      "\u001B[1;31mKeyError\u001B[0m                                  Traceback (most recent call last)",
      "\u001B[1;32m~\\AppData\\Local\\Temp/ipykernel_6824/1130635647.py\u001B[0m in \u001B[0;36m<module>\u001B[1;34m\u001B[0m\n\u001B[1;32m----> 1\u001B[1;33m \u001B[0mspam_h\u001B[0m\u001B[1;33m.\u001B[0m\u001B[0mpredict_spam\u001B[0m\u001B[1;33m(\u001B[0m\u001B[0mtweet_sample\u001B[0m\u001B[1;33m.\u001B[0m\u001B[0miloc\u001B[0m\u001B[1;33m[\u001B[0m\u001B[1;36m1\u001B[0m\u001B[1;33m]\u001B[0m\u001B[1;33m)\u001B[0m\u001B[1;33m\u001B[0m\u001B[1;33m\u001B[0m\u001B[0m\n\u001B[0m",
      "\u001B[1;32mD:\\Projects\\cancelled\\notebook\\../script\\tweet_spam_predict.py\u001B[0m in \u001B[0;36mpredict_spam\u001B[1;34m(self, input_df)\u001B[0m\n\u001B[0;32m    107\u001B[0m             \u001B[0mprint\u001B[0m\u001B[1;33m(\u001B[0m\u001B[0mattr\u001B[0m\u001B[1;33m)\u001B[0m\u001B[1;33m\u001B[0m\u001B[1;33m\u001B[0m\u001B[0m\n\u001B[0;32m    108\u001B[0m             \u001B[0mattr_opened\u001B[0m \u001B[1;33m=\u001B[0m \u001B[0mpd\u001B[0m\u001B[1;33m.\u001B[0m\u001B[0mSeries\u001B[0m\u001B[1;33m(\u001B[0m\u001B[0mtweet_df\u001B[0m\u001B[1;33m.\u001B[0m\u001B[0mget\u001B[0m\u001B[1;33m(\u001B[0m\u001B[0mattr\u001B[0m\u001B[1;33m)\u001B[0m\u001B[1;33m)\u001B[0m\u001B[1;33m.\u001B[0m\u001B[0madd_prefix\u001B[0m\u001B[1;33m(\u001B[0m\u001B[0mattr\u001B[0m\u001B[1;33m+\u001B[0m\u001B[1;34m'_'\u001B[0m\u001B[1;33m)\u001B[0m\u001B[1;33m\u001B[0m\u001B[1;33m\u001B[0m\u001B[0m\n\u001B[1;32m--> 109\u001B[1;33m             \u001B[0mtweet_df\u001B[0m \u001B[1;33m=\u001B[0m \u001B[0mpd\u001B[0m\u001B[1;33m.\u001B[0m\u001B[0mconcat\u001B[0m\u001B[1;33m(\u001B[0m\u001B[1;33m[\u001B[0m\u001B[0mtweet_df\u001B[0m\u001B[1;33m,\u001B[0m \u001B[0mattr_opened\u001B[0m\u001B[1;33m]\u001B[0m\u001B[1;33m,\u001B[0m \u001B[0maxis\u001B[0m\u001B[1;33m=\u001B[0m\u001B[1;36m1\u001B[0m\u001B[1;33m)\u001B[0m\u001B[1;33m.\u001B[0m\u001B[0mdrop\u001B[0m\u001B[1;33m(\u001B[0m\u001B[0mattr\u001B[0m\u001B[1;33m,\u001B[0m \u001B[0maxis\u001B[0m\u001B[1;33m=\u001B[0m\u001B[1;36m1\u001B[0m\u001B[1;33m)\u001B[0m\u001B[1;33m\u001B[0m\u001B[1;33m\u001B[0m\u001B[0m\n\u001B[0m\u001B[0;32m    110\u001B[0m \u001B[1;33m\u001B[0m\u001B[0m\n\u001B[0;32m    111\u001B[0m         \u001B[1;31m# Dropping unused attr\u001B[0m\u001B[1;33m\u001B[0m\u001B[1;33m\u001B[0m\u001B[1;33m\u001B[0m\u001B[0m\n",
      "\u001B[1;32m~\\miniconda3\\lib\\site-packages\\pandas\\util\\_decorators.py\u001B[0m in \u001B[0;36mwrapper\u001B[1;34m(*args, **kwargs)\u001B[0m\n\u001B[0;32m    309\u001B[0m                     \u001B[0mstacklevel\u001B[0m\u001B[1;33m=\u001B[0m\u001B[0mstacklevel\u001B[0m\u001B[1;33m,\u001B[0m\u001B[1;33m\u001B[0m\u001B[1;33m\u001B[0m\u001B[0m\n\u001B[0;32m    310\u001B[0m                 )\n\u001B[1;32m--> 311\u001B[1;33m             \u001B[1;32mreturn\u001B[0m \u001B[0mfunc\u001B[0m\u001B[1;33m(\u001B[0m\u001B[1;33m*\u001B[0m\u001B[0margs\u001B[0m\u001B[1;33m,\u001B[0m \u001B[1;33m**\u001B[0m\u001B[0mkwargs\u001B[0m\u001B[1;33m)\u001B[0m\u001B[1;33m\u001B[0m\u001B[1;33m\u001B[0m\u001B[0m\n\u001B[0m\u001B[0;32m    312\u001B[0m \u001B[1;33m\u001B[0m\u001B[0m\n\u001B[0;32m    313\u001B[0m         \u001B[1;32mreturn\u001B[0m \u001B[0mwrapper\u001B[0m\u001B[1;33m\u001B[0m\u001B[1;33m\u001B[0m\u001B[0m\n",
      "\u001B[1;32m~\\miniconda3\\lib\\site-packages\\pandas\\core\\frame.py\u001B[0m in \u001B[0;36mdrop\u001B[1;34m(self, labels, axis, index, columns, level, inplace, errors)\u001B[0m\n\u001B[0;32m   4904\u001B[0m                 \u001B[0mweight\u001B[0m  \u001B[1;36m1.0\u001B[0m     \u001B[1;36m0.8\u001B[0m\u001B[1;33m\u001B[0m\u001B[1;33m\u001B[0m\u001B[0m\n\u001B[0;32m   4905\u001B[0m         \"\"\"\n\u001B[1;32m-> 4906\u001B[1;33m         return super().drop(\n\u001B[0m\u001B[0;32m   4907\u001B[0m             \u001B[0mlabels\u001B[0m\u001B[1;33m=\u001B[0m\u001B[0mlabels\u001B[0m\u001B[1;33m,\u001B[0m\u001B[1;33m\u001B[0m\u001B[1;33m\u001B[0m\u001B[0m\n\u001B[0;32m   4908\u001B[0m             \u001B[0maxis\u001B[0m\u001B[1;33m=\u001B[0m\u001B[0maxis\u001B[0m\u001B[1;33m,\u001B[0m\u001B[1;33m\u001B[0m\u001B[1;33m\u001B[0m\u001B[0m\n",
      "\u001B[1;32m~\\miniconda3\\lib\\site-packages\\pandas\\core\\generic.py\u001B[0m in \u001B[0;36mdrop\u001B[1;34m(self, labels, axis, index, columns, level, inplace, errors)\u001B[0m\n\u001B[0;32m   4148\u001B[0m         \u001B[1;32mfor\u001B[0m \u001B[0maxis\u001B[0m\u001B[1;33m,\u001B[0m \u001B[0mlabels\u001B[0m \u001B[1;32min\u001B[0m \u001B[0maxes\u001B[0m\u001B[1;33m.\u001B[0m\u001B[0mitems\u001B[0m\u001B[1;33m(\u001B[0m\u001B[1;33m)\u001B[0m\u001B[1;33m:\u001B[0m\u001B[1;33m\u001B[0m\u001B[1;33m\u001B[0m\u001B[0m\n\u001B[0;32m   4149\u001B[0m             \u001B[1;32mif\u001B[0m \u001B[0mlabels\u001B[0m \u001B[1;32mis\u001B[0m \u001B[1;32mnot\u001B[0m \u001B[1;32mNone\u001B[0m\u001B[1;33m:\u001B[0m\u001B[1;33m\u001B[0m\u001B[1;33m\u001B[0m\u001B[0m\n\u001B[1;32m-> 4150\u001B[1;33m                 \u001B[0mobj\u001B[0m \u001B[1;33m=\u001B[0m \u001B[0mobj\u001B[0m\u001B[1;33m.\u001B[0m\u001B[0m_drop_axis\u001B[0m\u001B[1;33m(\u001B[0m\u001B[0mlabels\u001B[0m\u001B[1;33m,\u001B[0m \u001B[0maxis\u001B[0m\u001B[1;33m,\u001B[0m \u001B[0mlevel\u001B[0m\u001B[1;33m=\u001B[0m\u001B[0mlevel\u001B[0m\u001B[1;33m,\u001B[0m \u001B[0merrors\u001B[0m\u001B[1;33m=\u001B[0m\u001B[0merrors\u001B[0m\u001B[1;33m)\u001B[0m\u001B[1;33m\u001B[0m\u001B[1;33m\u001B[0m\u001B[0m\n\u001B[0m\u001B[0;32m   4151\u001B[0m \u001B[1;33m\u001B[0m\u001B[0m\n\u001B[0;32m   4152\u001B[0m         \u001B[1;32mif\u001B[0m \u001B[0minplace\u001B[0m\u001B[1;33m:\u001B[0m\u001B[1;33m\u001B[0m\u001B[1;33m\u001B[0m\u001B[0m\n",
      "\u001B[1;32m~\\miniconda3\\lib\\site-packages\\pandas\\core\\generic.py\u001B[0m in \u001B[0;36m_drop_axis\u001B[1;34m(self, labels, axis, level, errors)\u001B[0m\n\u001B[0;32m   4183\u001B[0m                 \u001B[0mnew_axis\u001B[0m \u001B[1;33m=\u001B[0m \u001B[0maxis\u001B[0m\u001B[1;33m.\u001B[0m\u001B[0mdrop\u001B[0m\u001B[1;33m(\u001B[0m\u001B[0mlabels\u001B[0m\u001B[1;33m,\u001B[0m \u001B[0mlevel\u001B[0m\u001B[1;33m=\u001B[0m\u001B[0mlevel\u001B[0m\u001B[1;33m,\u001B[0m \u001B[0merrors\u001B[0m\u001B[1;33m=\u001B[0m\u001B[0merrors\u001B[0m\u001B[1;33m)\u001B[0m\u001B[1;33m\u001B[0m\u001B[1;33m\u001B[0m\u001B[0m\n\u001B[0;32m   4184\u001B[0m             \u001B[1;32melse\u001B[0m\u001B[1;33m:\u001B[0m\u001B[1;33m\u001B[0m\u001B[1;33m\u001B[0m\u001B[0m\n\u001B[1;32m-> 4185\u001B[1;33m                 \u001B[0mnew_axis\u001B[0m \u001B[1;33m=\u001B[0m \u001B[0maxis\u001B[0m\u001B[1;33m.\u001B[0m\u001B[0mdrop\u001B[0m\u001B[1;33m(\u001B[0m\u001B[0mlabels\u001B[0m\u001B[1;33m,\u001B[0m \u001B[0merrors\u001B[0m\u001B[1;33m=\u001B[0m\u001B[0merrors\u001B[0m\u001B[1;33m)\u001B[0m\u001B[1;33m\u001B[0m\u001B[1;33m\u001B[0m\u001B[0m\n\u001B[0m\u001B[0;32m   4186\u001B[0m             \u001B[0mresult\u001B[0m \u001B[1;33m=\u001B[0m \u001B[0mself\u001B[0m\u001B[1;33m.\u001B[0m\u001B[0mreindex\u001B[0m\u001B[1;33m(\u001B[0m\u001B[1;33m**\u001B[0m\u001B[1;33m{\u001B[0m\u001B[0maxis_name\u001B[0m\u001B[1;33m:\u001B[0m \u001B[0mnew_axis\u001B[0m\u001B[1;33m}\u001B[0m\u001B[1;33m)\u001B[0m\u001B[1;33m\u001B[0m\u001B[1;33m\u001B[0m\u001B[0m\n\u001B[0;32m   4187\u001B[0m \u001B[1;33m\u001B[0m\u001B[0m\n",
      "\u001B[1;32m~\\miniconda3\\lib\\site-packages\\pandas\\core\\indexes\\base.py\u001B[0m in \u001B[0;36mdrop\u001B[1;34m(self, labels, errors)\u001B[0m\n\u001B[0;32m   6015\u001B[0m         \u001B[1;32mif\u001B[0m \u001B[0mmask\u001B[0m\u001B[1;33m.\u001B[0m\u001B[0many\u001B[0m\u001B[1;33m(\u001B[0m\u001B[1;33m)\u001B[0m\u001B[1;33m:\u001B[0m\u001B[1;33m\u001B[0m\u001B[1;33m\u001B[0m\u001B[0m\n\u001B[0;32m   6016\u001B[0m             \u001B[1;32mif\u001B[0m \u001B[0merrors\u001B[0m \u001B[1;33m!=\u001B[0m \u001B[1;34m\"ignore\"\u001B[0m\u001B[1;33m:\u001B[0m\u001B[1;33m\u001B[0m\u001B[1;33m\u001B[0m\u001B[0m\n\u001B[1;32m-> 6017\u001B[1;33m                 \u001B[1;32mraise\u001B[0m \u001B[0mKeyError\u001B[0m\u001B[1;33m(\u001B[0m\u001B[1;34mf\"{labels[mask]} not found in axis\"\u001B[0m\u001B[1;33m)\u001B[0m\u001B[1;33m\u001B[0m\u001B[1;33m\u001B[0m\u001B[0m\n\u001B[0m\u001B[0;32m   6018\u001B[0m             \u001B[0mindexer\u001B[0m \u001B[1;33m=\u001B[0m \u001B[0mindexer\u001B[0m\u001B[1;33m[\u001B[0m\u001B[1;33m~\u001B[0m\u001B[0mmask\u001B[0m\u001B[1;33m]\u001B[0m\u001B[1;33m\u001B[0m\u001B[1;33m\u001B[0m\u001B[0m\n\u001B[0;32m   6019\u001B[0m         \u001B[1;32mreturn\u001B[0m \u001B[0mself\u001B[0m\u001B[1;33m.\u001B[0m\u001B[0mdelete\u001B[0m\u001B[1;33m(\u001B[0m\u001B[0mindexer\u001B[0m\u001B[1;33m)\u001B[0m\u001B[1;33m\u001B[0m\u001B[1;33m\u001B[0m\u001B[0m\n",
      "\u001B[1;31mKeyError\u001B[0m: \"['entities'] not found in axis\""
     ]
    }
   ],
   "source": [
    "spam_h.predict_spam(tweet_sample.iloc[1])"
   ],
   "metadata": {
    "collapsed": false,
    "pycharm": {
     "name": "#%%\n"
    }
   }
  },
  {
   "cell_type": "code",
   "execution_count": 8,
   "outputs": [
    {
     "data": {
      "text/plain": "{'hashtags': [], 'symbols': [], 'user_mentions': [], 'urls': []}"
     },
     "execution_count": 8,
     "metadata": {},
     "output_type": "execute_result"
    }
   ],
   "source": [
    "tweet_sample.iloc[1].get('entities')"
   ],
   "metadata": {
    "collapsed": false,
    "pycharm": {
     "name": "#%%\n"
    }
   }
  },
  {
   "cell_type": "code",
   "execution_count": null,
   "outputs": [],
   "source": [],
   "metadata": {
    "collapsed": false,
    "pycharm": {
     "name": "#%%\n"
    }
   }
  }
 ],
 "metadata": {
  "kernelspec": {
   "display_name": "Python 3",
   "language": "python",
   "name": "python3"
  },
  "language_info": {
   "codemirror_mode": {
    "name": "ipython",
    "version": 2
   },
   "file_extension": ".py",
   "mimetype": "text/x-python",
   "name": "python",
   "nbconvert_exporter": "python",
   "pygments_lexer": "ipython2",
   "version": "2.7.6"
  }
 },
 "nbformat": 4,
 "nbformat_minor": 0
}