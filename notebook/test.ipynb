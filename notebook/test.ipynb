{
 "cells": [
  {
   "cell_type": "code",
   "execution_count": 1,
   "metadata": {
    "collapsed": true
   },
   "outputs": [],
   "source": [
    "import sys\n",
    "sys.path.append('../script')\n",
    "\n",
    "import tweet_spam_predict"
   ]
  },
  {
   "cell_type": "code",
   "execution_count": 2,
   "outputs": [],
   "source": [
    "import pandas as pd\n",
    "tweet_sample = pd.read_json('../dataset/movie-tweets/ghostbusters.json', orient='index')"
   ],
   "metadata": {
    "collapsed": false,
    "pycharm": {
     "name": "#%%\n"
    }
   }
  },
  {
   "cell_type": "code",
   "execution_count": 3,
   "outputs": [
    {
     "data": {
      "text/plain": "                   created_at                   id               id_str  \\\n0   2021-11-25 01:14:23+00:00  1463677412630151169  1463677412630151168   \n1   2021-11-25 01:14:09+00:00  1463677352198557697  1463677352198557696   \n2   2021-11-25 01:14:08+00:00  1463677348461494275  1463677348461494272   \n3   2021-11-25 01:13:08+00:00  1463677096941666311  1463677096941666304   \n4   2021-11-25 01:13:01+00:00  1463677069418762243  1463677069418762240   \n..                        ...                  ...                  ...   \n556 2021-11-24 23:16:57+00:00  1463647859677540355  1463647859677540352   \n557 2021-11-24 23:16:55+00:00  1463647848512294915  1463647848512294912   \n558 2021-11-24 23:16:48+00:00  1463647819844112386  1463647819844112384   \n559 2021-11-24 23:16:28+00:00  1463647735886843907  1463647735886843904   \n560 2021-11-24 23:15:54+00:00  1463647593393790977  1463647593393790976   \n\n                                             full_text  truncated  \\\n0    RT @FNBNPodcast: Did you see #GhostbustersAfte...      False   \n1    \"when I was working on Ghostbusters I had sex ...      False   \n2    RT @FNBNPodcast: 🤖NEW EPISODE🤖\\n\\nWho ya gonna...      False   \n3    RT @CosmicallyF: \"You don't live in a vacuum.\"...      False   \n4    @AndyCleves_ I’m glad to hear you enjoyed it. ...      False   \n..                                                 ...        ...   \n556  @CutlerRidgeLAZ @Ghostbusters @maureen52375 @H...      False   \n557  I’m in a pickle.\\n\\nDo I participate in the @s...      False   \n558  RT @edburmila: Democratic presidential politic...      False   \n559  What Happened to Ray, Winston &amp; Peter Betw...      False   \n560  I think all the critics were served Grumpy Jui...      False   \n\n    display_text_range                                           entities  \\\n0             [0, 140]  {'hashtags': [{'text': 'GhostbustersAfterlife'...   \n1              [0, 59]  {'hashtags': [], 'symbols': [], 'user_mentions...   \n2             [0, 140]  {'hashtags': [{'text': 'GhostbustersAfterlife'...   \n3              [0, 97]  {'hashtags': [], 'symbols': [], 'user_mentions...   \n4            [13, 230]  {'hashtags': [], 'symbols': [], 'user_mentions...   \n..                 ...                                                ...   \n556           [61, 90]  {'hashtags': [], 'symbols': [], 'user_mentions...   \n557           [0, 260]  {'hashtags': [{'text': 'Ghostbusters', 'indice...   \n558           [0, 140]  {'hashtags': [], 'symbols': [], 'user_mentions...   \n559           [0, 104]  {'hashtags': [], 'symbols': [], 'user_mentions...   \n560           [0, 272]  {'hashtags': [], 'symbols': [], 'user_mentions...   \n\n                                              metadata  \\\n0    {'iso_language_code': 'en', 'result_type': 're...   \n1    {'iso_language_code': 'en', 'result_type': 're...   \n2    {'iso_language_code': 'en', 'result_type': 're...   \n3    {'iso_language_code': 'en', 'result_type': 're...   \n4    {'iso_language_code': 'en', 'result_type': 're...   \n..                                                 ...   \n556  {'iso_language_code': 'en', 'result_type': 're...   \n557  {'iso_language_code': 'en', 'result_type': 're...   \n558  {'iso_language_code': 'en', 'result_type': 're...   \n559  {'iso_language_code': 'en', 'result_type': 're...   \n560  {'iso_language_code': 'en', 'result_type': 're...   \n\n                                                source  in_reply_to_status_id  \\\n0    <a href=\"https://mobile.twitter.com\" rel=\"nofo...                    NaN   \n1    <a href=\"http://twitter.com/download/android\" ...                    NaN   \n2    <a href=\"https://mobile.twitter.com\" rel=\"nofo...                    NaN   \n3    <a href=\"http://twitter.com/download/iphone\" r...                    NaN   \n4    <a href=\"http://twitter.com/download/iphone\" r...           1.463663e+18   \n..                                                 ...                    ...   \n556  <a href=\"https://mobile.twitter.com\" rel=\"nofo...           1.463586e+18   \n557  <a href=\"http://twitter.com/download/iphone\" r...                    NaN   \n558  <a href=\"http://twitter.com/download/android\" ...                    NaN   \n559  <a href=\"http://twitter.com/#!/download/ipad\" ...                    NaN   \n560  <a href=\"http://twitter.com/download/iphone\" r...                    NaN   \n\n     ...  favorite_count  favorited  retweeted lang possibly_sensitive  \\\n0    ...               0      False      False   en                NaN   \n1    ...               0      False      False   en                NaN   \n2    ...               0      False      False   en                NaN   \n3    ...               0      False      False   en                NaN   \n4    ...               0      False      False   en                NaN   \n..   ...             ...        ...        ...  ...                ...   \n556  ...               0      False      False   en                NaN   \n557  ...               0      False      False   en                NaN   \n558  ...               0      False      False   en                NaN   \n559  ...               0      False      False   en                0.0   \n560  ...              65      False      False   en                0.0   \n\n                                     extended_entities quoted_status_id  \\\n0                                                 None              NaN   \n1                                                 None              NaN   \n2                                                 None              NaN   \n3                                                 None              NaN   \n4                                                 None              NaN   \n..                                                 ...              ...   \n556                                               None              NaN   \n557                                               None              NaN   \n558                                               None     1.463493e+18   \n559                                               None              NaN   \n560  {'media': [{'id': 1463647589992214532, 'id_str...              NaN   \n\n    quoted_status_id_str  quoted_status  \\\n0                    NaN           None   \n1                    NaN           None   \n2                    NaN           None   \n3                    NaN           None   \n4                    NaN           None   \n..                   ...            ...   \n556                  NaN           None   \n557                  NaN           None   \n558         1.463493e+18           None   \n559                  NaN           None   \n560                  NaN           None   \n\n                                         inferred_text  \n0    Did you see #GhostbustersAfterlife???\\n\\nIf yo...  \n1    \"when I was working on Ghostbusters I had sex ...  \n2    🤖NEW EPISODE🤖\\n\\nWho ya gonna call? FNBN for a...  \n3    \"You don't live in a vacuum.\"\\n\\nOf course Kar...  \n4    @AndyCleves_ I’m glad to hear you enjoyed it. ...  \n..                                                 ...  \n556  @CutlerRidgeLAZ @Ghostbusters @maureen52375 @H...  \n557  I’m in a pickle.\\n\\nDo I participate in the @s...  \n558  Democratic presidential politics is like Holly...  \n559  What Happened to Ray, Winston &amp; Peter Betw...  \n560  I think all the critics were served Grumpy Jui...  \n\n[561 rows x 32 columns]",
      "text/html": "<div>\n<style scoped>\n    .dataframe tbody tr th:only-of-type {\n        vertical-align: middle;\n    }\n\n    .dataframe tbody tr th {\n        vertical-align: top;\n    }\n\n    .dataframe thead th {\n        text-align: right;\n    }\n</style>\n<table border=\"1\" class=\"dataframe\">\n  <thead>\n    <tr style=\"text-align: right;\">\n      <th></th>\n      <th>created_at</th>\n      <th>id</th>\n      <th>id_str</th>\n      <th>full_text</th>\n      <th>truncated</th>\n      <th>display_text_range</th>\n      <th>entities</th>\n      <th>metadata</th>\n      <th>source</th>\n      <th>in_reply_to_status_id</th>\n      <th>...</th>\n      <th>favorite_count</th>\n      <th>favorited</th>\n      <th>retweeted</th>\n      <th>lang</th>\n      <th>possibly_sensitive</th>\n      <th>extended_entities</th>\n      <th>quoted_status_id</th>\n      <th>quoted_status_id_str</th>\n      <th>quoted_status</th>\n      <th>inferred_text</th>\n    </tr>\n  </thead>\n  <tbody>\n    <tr>\n      <th>0</th>\n      <td>2021-11-25 01:14:23+00:00</td>\n      <td>1463677412630151169</td>\n      <td>1463677412630151168</td>\n      <td>RT @FNBNPodcast: Did you see #GhostbustersAfte...</td>\n      <td>False</td>\n      <td>[0, 140]</td>\n      <td>{'hashtags': [{'text': 'GhostbustersAfterlife'...</td>\n      <td>{'iso_language_code': 'en', 'result_type': 're...</td>\n      <td>&lt;a href=\"https://mobile.twitter.com\" rel=\"nofo...</td>\n      <td>NaN</td>\n      <td>...</td>\n      <td>0</td>\n      <td>False</td>\n      <td>False</td>\n      <td>en</td>\n      <td>NaN</td>\n      <td>None</td>\n      <td>NaN</td>\n      <td>NaN</td>\n      <td>None</td>\n      <td>Did you see #GhostbustersAfterlife???\\n\\nIf yo...</td>\n    </tr>\n    <tr>\n      <th>1</th>\n      <td>2021-11-25 01:14:09+00:00</td>\n      <td>1463677352198557697</td>\n      <td>1463677352198557696</td>\n      <td>\"when I was working on Ghostbusters I had sex ...</td>\n      <td>False</td>\n      <td>[0, 59]</td>\n      <td>{'hashtags': [], 'symbols': [], 'user_mentions...</td>\n      <td>{'iso_language_code': 'en', 'result_type': 're...</td>\n      <td>&lt;a href=\"http://twitter.com/download/android\" ...</td>\n      <td>NaN</td>\n      <td>...</td>\n      <td>0</td>\n      <td>False</td>\n      <td>False</td>\n      <td>en</td>\n      <td>NaN</td>\n      <td>None</td>\n      <td>NaN</td>\n      <td>NaN</td>\n      <td>None</td>\n      <td>\"when I was working on Ghostbusters I had sex ...</td>\n    </tr>\n    <tr>\n      <th>2</th>\n      <td>2021-11-25 01:14:08+00:00</td>\n      <td>1463677348461494275</td>\n      <td>1463677348461494272</td>\n      <td>RT @FNBNPodcast: 🤖NEW EPISODE🤖\\n\\nWho ya gonna...</td>\n      <td>False</td>\n      <td>[0, 140]</td>\n      <td>{'hashtags': [{'text': 'GhostbustersAfterlife'...</td>\n      <td>{'iso_language_code': 'en', 'result_type': 're...</td>\n      <td>&lt;a href=\"https://mobile.twitter.com\" rel=\"nofo...</td>\n      <td>NaN</td>\n      <td>...</td>\n      <td>0</td>\n      <td>False</td>\n      <td>False</td>\n      <td>en</td>\n      <td>NaN</td>\n      <td>None</td>\n      <td>NaN</td>\n      <td>NaN</td>\n      <td>None</td>\n      <td>🤖NEW EPISODE🤖\\n\\nWho ya gonna call? FNBN for a...</td>\n    </tr>\n    <tr>\n      <th>3</th>\n      <td>2021-11-25 01:13:08+00:00</td>\n      <td>1463677096941666311</td>\n      <td>1463677096941666304</td>\n      <td>RT @CosmicallyF: \"You don't live in a vacuum.\"...</td>\n      <td>False</td>\n      <td>[0, 97]</td>\n      <td>{'hashtags': [], 'symbols': [], 'user_mentions...</td>\n      <td>{'iso_language_code': 'en', 'result_type': 're...</td>\n      <td>&lt;a href=\"http://twitter.com/download/iphone\" r...</td>\n      <td>NaN</td>\n      <td>...</td>\n      <td>0</td>\n      <td>False</td>\n      <td>False</td>\n      <td>en</td>\n      <td>NaN</td>\n      <td>None</td>\n      <td>NaN</td>\n      <td>NaN</td>\n      <td>None</td>\n      <td>\"You don't live in a vacuum.\"\\n\\nOf course Kar...</td>\n    </tr>\n    <tr>\n      <th>4</th>\n      <td>2021-11-25 01:13:01+00:00</td>\n      <td>1463677069418762243</td>\n      <td>1463677069418762240</td>\n      <td>@AndyCleves_ I’m glad to hear you enjoyed it. ...</td>\n      <td>False</td>\n      <td>[13, 230]</td>\n      <td>{'hashtags': [], 'symbols': [], 'user_mentions...</td>\n      <td>{'iso_language_code': 'en', 'result_type': 're...</td>\n      <td>&lt;a href=\"http://twitter.com/download/iphone\" r...</td>\n      <td>1.463663e+18</td>\n      <td>...</td>\n      <td>0</td>\n      <td>False</td>\n      <td>False</td>\n      <td>en</td>\n      <td>NaN</td>\n      <td>None</td>\n      <td>NaN</td>\n      <td>NaN</td>\n      <td>None</td>\n      <td>@AndyCleves_ I’m glad to hear you enjoyed it. ...</td>\n    </tr>\n    <tr>\n      <th>...</th>\n      <td>...</td>\n      <td>...</td>\n      <td>...</td>\n      <td>...</td>\n      <td>...</td>\n      <td>...</td>\n      <td>...</td>\n      <td>...</td>\n      <td>...</td>\n      <td>...</td>\n      <td>...</td>\n      <td>...</td>\n      <td>...</td>\n      <td>...</td>\n      <td>...</td>\n      <td>...</td>\n      <td>...</td>\n      <td>...</td>\n      <td>...</td>\n      <td>...</td>\n      <td>...</td>\n    </tr>\n    <tr>\n      <th>556</th>\n      <td>2021-11-24 23:16:57+00:00</td>\n      <td>1463647859677540355</td>\n      <td>1463647859677540352</td>\n      <td>@CutlerRidgeLAZ @Ghostbusters @maureen52375 @H...</td>\n      <td>False</td>\n      <td>[61, 90]</td>\n      <td>{'hashtags': [], 'symbols': [], 'user_mentions...</td>\n      <td>{'iso_language_code': 'en', 'result_type': 're...</td>\n      <td>&lt;a href=\"https://mobile.twitter.com\" rel=\"nofo...</td>\n      <td>1.463586e+18</td>\n      <td>...</td>\n      <td>0</td>\n      <td>False</td>\n      <td>False</td>\n      <td>en</td>\n      <td>NaN</td>\n      <td>None</td>\n      <td>NaN</td>\n      <td>NaN</td>\n      <td>None</td>\n      <td>@CutlerRidgeLAZ @Ghostbusters @maureen52375 @H...</td>\n    </tr>\n    <tr>\n      <th>557</th>\n      <td>2021-11-24 23:16:55+00:00</td>\n      <td>1463647848512294915</td>\n      <td>1463647848512294912</td>\n      <td>I’m in a pickle.\\n\\nDo I participate in the @s...</td>\n      <td>False</td>\n      <td>[0, 260]</td>\n      <td>{'hashtags': [{'text': 'Ghostbusters', 'indice...</td>\n      <td>{'iso_language_code': 'en', 'result_type': 're...</td>\n      <td>&lt;a href=\"http://twitter.com/download/iphone\" r...</td>\n      <td>NaN</td>\n      <td>...</td>\n      <td>0</td>\n      <td>False</td>\n      <td>False</td>\n      <td>en</td>\n      <td>NaN</td>\n      <td>None</td>\n      <td>NaN</td>\n      <td>NaN</td>\n      <td>None</td>\n      <td>I’m in a pickle.\\n\\nDo I participate in the @s...</td>\n    </tr>\n    <tr>\n      <th>558</th>\n      <td>2021-11-24 23:16:48+00:00</td>\n      <td>1463647819844112386</td>\n      <td>1463647819844112384</td>\n      <td>RT @edburmila: Democratic presidential politic...</td>\n      <td>False</td>\n      <td>[0, 140]</td>\n      <td>{'hashtags': [], 'symbols': [], 'user_mentions...</td>\n      <td>{'iso_language_code': 'en', 'result_type': 're...</td>\n      <td>&lt;a href=\"http://twitter.com/download/android\" ...</td>\n      <td>NaN</td>\n      <td>...</td>\n      <td>0</td>\n      <td>False</td>\n      <td>False</td>\n      <td>en</td>\n      <td>NaN</td>\n      <td>None</td>\n      <td>1.463493e+18</td>\n      <td>1.463493e+18</td>\n      <td>None</td>\n      <td>Democratic presidential politics is like Holly...</td>\n    </tr>\n    <tr>\n      <th>559</th>\n      <td>2021-11-24 23:16:28+00:00</td>\n      <td>1463647735886843907</td>\n      <td>1463647735886843904</td>\n      <td>What Happened to Ray, Winston &amp;amp; Peter Betw...</td>\n      <td>False</td>\n      <td>[0, 104]</td>\n      <td>{'hashtags': [], 'symbols': [], 'user_mentions...</td>\n      <td>{'iso_language_code': 'en', 'result_type': 're...</td>\n      <td>&lt;a href=\"http://twitter.com/#!/download/ipad\" ...</td>\n      <td>NaN</td>\n      <td>...</td>\n      <td>0</td>\n      <td>False</td>\n      <td>False</td>\n      <td>en</td>\n      <td>0.0</td>\n      <td>None</td>\n      <td>NaN</td>\n      <td>NaN</td>\n      <td>None</td>\n      <td>What Happened to Ray, Winston &amp;amp; Peter Betw...</td>\n    </tr>\n    <tr>\n      <th>560</th>\n      <td>2021-11-24 23:15:54+00:00</td>\n      <td>1463647593393790977</td>\n      <td>1463647593393790976</td>\n      <td>I think all the critics were served Grumpy Jui...</td>\n      <td>False</td>\n      <td>[0, 272]</td>\n      <td>{'hashtags': [], 'symbols': [], 'user_mentions...</td>\n      <td>{'iso_language_code': 'en', 'result_type': 're...</td>\n      <td>&lt;a href=\"http://twitter.com/download/iphone\" r...</td>\n      <td>NaN</td>\n      <td>...</td>\n      <td>65</td>\n      <td>False</td>\n      <td>False</td>\n      <td>en</td>\n      <td>0.0</td>\n      <td>{'media': [{'id': 1463647589992214532, 'id_str...</td>\n      <td>NaN</td>\n      <td>NaN</td>\n      <td>None</td>\n      <td>I think all the critics were served Grumpy Jui...</td>\n    </tr>\n  </tbody>\n</table>\n<p>561 rows × 32 columns</p>\n</div>"
     },
     "execution_count": 3,
     "metadata": {},
     "output_type": "execute_result"
    }
   ],
   "source": [
    "tweet_sample"
   ],
   "metadata": {
    "collapsed": false,
    "pycharm": {
     "name": "#%%\n"
    }
   }
  },
  {
   "cell_type": "code",
   "execution_count": 4,
   "outputs": [
    {
     "name": "stdout",
     "output_type": "stream",
     "text": [
      "Loading models...Done!\n",
      "Creating TF-IDF vectorizer...Done!\n",
      "Loading Word2Vec vectorizer...Done!\n",
      "Creating Word2Vec vectorizer...Done!\n",
      "Creating embedded vectorizer..."
     ]
    }
   ],
   "source": [
    "spam_h = tweet_spam_predict.TweetSpamPredictor()"
   ],
   "metadata": {
    "collapsed": false,
    "pycharm": {
     "name": "#%%\n"
    }
   }
  },
  {
   "cell_type": "code",
   "execution_count": 5,
   "outputs": [
    {
     "data": {
      "text/plain": "pandas.core.frame.DataFrame"
     },
     "execution_count": 5,
     "metadata": {},
     "output_type": "execute_result"
    }
   ],
   "source": [
    "type(pd.DataFrame(tweet_sample.iloc[1]))"
   ],
   "metadata": {
    "collapsed": false,
    "pycharm": {
     "name": "#%%\n"
    }
   }
  },
  {
   "cell_type": "code",
   "execution_count": 6,
   "outputs": [
    {
     "name": "stdout",
     "output_type": "stream",
     "text": [
      "Simple Transformations\n",
      "Dropping attributes\n",
      "Doing several more calculations\n",
      "Getting vecs\n",
      "Dropping columns again\n",
      "Concatenating...\n",
      "                                           0         1         2         3   \\\n",
      "is_quote_status                         False       NaN       NaN       NaN   \n",
      "retweet_count                               0       NaN       NaN       NaN   \n",
      "favorite_count                              0       NaN       NaN       NaN   \n",
      "user_followers_count                       49       NaN       NaN       NaN   \n",
      "user_friends_count                         49       NaN       NaN       NaN   \n",
      "user_listed_count                           0       NaN       NaN       NaN   \n",
      "user_favourites_count                    7921       NaN       NaN       NaN   \n",
      "user_geo_enabled                        False       NaN       NaN       NaN   \n",
      "user_verified                           False       NaN       NaN       NaN   \n",
      "user_statuses_count                     14769       NaN       NaN       NaN   \n",
      "user_is_translation_enabled             False       NaN       NaN       NaN   \n",
      "user_profile_background_tile            False       NaN       NaN       NaN   \n",
      "user_profile_use_background_image        True       NaN       NaN       NaN   \n",
      "user_has_extended_profile                True       NaN       NaN       NaN   \n",
      "user_default_profile                     True       NaN       NaN       NaN   \n",
      "user_default_profile_image              False       NaN       NaN       NaN   \n",
      "is_replying_to_others                     0.0       NaN       NaN       NaN   \n",
      "is_quoting_status                         0.0       NaN       NaN       NaN   \n",
      "hashtag_count                               0       NaN       NaN       NaN   \n",
      "user_mention_count                          0       NaN       NaN       NaN   \n",
      "media_count                                 0       NaN       NaN       NaN   \n",
      "has_symbols                               0.0       NaN       NaN       NaN   \n",
      "has_url                                   0.0       NaN       NaN       NaN   \n",
      "user_is_regular_translator                0.0       NaN       NaN       NaN   \n",
      "user_profile_background_color_r           245       NaN       NaN       NaN   \n",
      "user_profile_background_color_g           248       NaN       NaN       NaN   \n",
      "user_profile_background_color_b           250       NaN       NaN       NaN   \n",
      "user_profile_link_color_r                  29       NaN       NaN       NaN   \n",
      "user_profile_link_color_g                 161       NaN       NaN       NaN   \n",
      "user_profile_link_color_b                 242       NaN       NaN       NaN   \n",
      "user_profile_sidebar_border_color_r       192       NaN       NaN       NaN   \n",
      "user_profile_sidebar_border_color_g       222       NaN       NaN       NaN   \n",
      "user_profile_sidebar_border_color_b       237       NaN       NaN       NaN   \n",
      "user_profile_sidebar_fill_color_r         221       NaN       NaN       NaN   \n",
      "user_profile_sidebar_fill_color_g         238       NaN       NaN       NaN   \n",
      "user_profile_sidebar_fill_color_b         246       NaN       NaN       NaN   \n",
      "user_profile_text_color_r                  51       NaN       NaN       NaN   \n",
      "user_profile_text_color_g                  51       NaN       NaN       NaN   \n",
      "user_profile_text_color_b                  51       NaN       NaN       NaN   \n",
      "0                                    0.724894 -0.226807 -0.152745 -0.180633   \n",
      "1                                    0.093346 -0.035902 -0.027273  0.003708   \n",
      "2                                    0.107639 -0.036294 -0.035411  0.003056   \n",
      "3                                    0.724894 -0.226807 -0.152745 -0.180633   \n",
      "4                                    0.153715 -0.055553 -0.070056  0.042536   \n",
      "5                                         0.0  0.000000  0.000000  0.000000   \n",
      "\n",
      "                                           4         5         6         7   \\\n",
      "is_quote_status                           NaN       NaN       NaN       NaN   \n",
      "retweet_count                             NaN       NaN       NaN       NaN   \n",
      "favorite_count                            NaN       NaN       NaN       NaN   \n",
      "user_followers_count                      NaN       NaN       NaN       NaN   \n",
      "user_friends_count                        NaN       NaN       NaN       NaN   \n",
      "user_listed_count                         NaN       NaN       NaN       NaN   \n",
      "user_favourites_count                     NaN       NaN       NaN       NaN   \n",
      "user_geo_enabled                          NaN       NaN       NaN       NaN   \n",
      "user_verified                             NaN       NaN       NaN       NaN   \n",
      "user_statuses_count                       NaN       NaN       NaN       NaN   \n",
      "user_is_translation_enabled               NaN       NaN       NaN       NaN   \n",
      "user_profile_background_tile              NaN       NaN       NaN       NaN   \n",
      "user_profile_use_background_image         NaN       NaN       NaN       NaN   \n",
      "user_has_extended_profile                 NaN       NaN       NaN       NaN   \n",
      "user_default_profile                      NaN       NaN       NaN       NaN   \n",
      "user_default_profile_image                NaN       NaN       NaN       NaN   \n",
      "is_replying_to_others                     NaN       NaN       NaN       NaN   \n",
      "is_quoting_status                         NaN       NaN       NaN       NaN   \n",
      "hashtag_count                             NaN       NaN       NaN       NaN   \n",
      "user_mention_count                        NaN       NaN       NaN       NaN   \n",
      "media_count                               NaN       NaN       NaN       NaN   \n",
      "has_symbols                               NaN       NaN       NaN       NaN   \n",
      "has_url                                   NaN       NaN       NaN       NaN   \n",
      "user_is_regular_translator                NaN       NaN       NaN       NaN   \n",
      "user_profile_background_color_r           NaN       NaN       NaN       NaN   \n",
      "user_profile_background_color_g           NaN       NaN       NaN       NaN   \n",
      "user_profile_background_color_b           NaN       NaN       NaN       NaN   \n",
      "user_profile_link_color_r                 NaN       NaN       NaN       NaN   \n",
      "user_profile_link_color_g                 NaN       NaN       NaN       NaN   \n",
      "user_profile_link_color_b                 NaN       NaN       NaN       NaN   \n",
      "user_profile_sidebar_border_color_r       NaN       NaN       NaN       NaN   \n",
      "user_profile_sidebar_border_color_g       NaN       NaN       NaN       NaN   \n",
      "user_profile_sidebar_border_color_b       NaN       NaN       NaN       NaN   \n",
      "user_profile_sidebar_fill_color_r         NaN       NaN       NaN       NaN   \n",
      "user_profile_sidebar_fill_color_g         NaN       NaN       NaN       NaN   \n",
      "user_profile_sidebar_fill_color_b         NaN       NaN       NaN       NaN   \n",
      "user_profile_text_color_r                 NaN       NaN       NaN       NaN   \n",
      "user_profile_text_color_g                 NaN       NaN       NaN       NaN   \n",
      "user_profile_text_color_b                 NaN       NaN       NaN       NaN   \n",
      "0                                    0.136073 -1.203029  0.251444  0.561533   \n",
      "1                                    0.020379 -0.215890  0.048224  0.135038   \n",
      "2                                    0.017121 -0.214465  0.069123  0.137885   \n",
      "3                                    0.136073 -1.203029  0.251444  0.561533   \n",
      "4                                    0.025508 -0.386543  0.103070  0.278694   \n",
      "5                                    0.000000  0.000000  0.000000  0.000000   \n",
      "\n",
      "                                           8         9   ...        40  \\\n",
      "is_quote_status                           NaN       NaN  ...       NaN   \n",
      "retweet_count                             NaN       NaN  ...       NaN   \n",
      "favorite_count                            NaN       NaN  ...       NaN   \n",
      "user_followers_count                      NaN       NaN  ...       NaN   \n",
      "user_friends_count                        NaN       NaN  ...       NaN   \n",
      "user_listed_count                         NaN       NaN  ...       NaN   \n",
      "user_favourites_count                     NaN       NaN  ...       NaN   \n",
      "user_geo_enabled                          NaN       NaN  ...       NaN   \n",
      "user_verified                             NaN       NaN  ...       NaN   \n",
      "user_statuses_count                       NaN       NaN  ...       NaN   \n",
      "user_is_translation_enabled               NaN       NaN  ...       NaN   \n",
      "user_profile_background_tile              NaN       NaN  ...       NaN   \n",
      "user_profile_use_background_image         NaN       NaN  ...       NaN   \n",
      "user_has_extended_profile                 NaN       NaN  ...       NaN   \n",
      "user_default_profile                      NaN       NaN  ...       NaN   \n",
      "user_default_profile_image                NaN       NaN  ...       NaN   \n",
      "is_replying_to_others                     NaN       NaN  ...       NaN   \n",
      "is_quoting_status                         NaN       NaN  ...       NaN   \n",
      "hashtag_count                             NaN       NaN  ...       NaN   \n",
      "user_mention_count                        NaN       NaN  ...       NaN   \n",
      "media_count                               NaN       NaN  ...       NaN   \n",
      "has_symbols                               NaN       NaN  ...       NaN   \n",
      "has_url                                   NaN       NaN  ...       NaN   \n",
      "user_is_regular_translator                NaN       NaN  ...       NaN   \n",
      "user_profile_background_color_r           NaN       NaN  ...       NaN   \n",
      "user_profile_background_color_g           NaN       NaN  ...       NaN   \n",
      "user_profile_background_color_b           NaN       NaN  ...       NaN   \n",
      "user_profile_link_color_r                 NaN       NaN  ...       NaN   \n",
      "user_profile_link_color_g                 NaN       NaN  ...       NaN   \n",
      "user_profile_link_color_b                 NaN       NaN  ...       NaN   \n",
      "user_profile_sidebar_border_color_r       NaN       NaN  ...       NaN   \n",
      "user_profile_sidebar_border_color_g       NaN       NaN  ...       NaN   \n",
      "user_profile_sidebar_border_color_b       NaN       NaN  ...       NaN   \n",
      "user_profile_sidebar_fill_color_r         NaN       NaN  ...       NaN   \n",
      "user_profile_sidebar_fill_color_g         NaN       NaN  ...       NaN   \n",
      "user_profile_sidebar_fill_color_b         NaN       NaN  ...       NaN   \n",
      "user_profile_text_color_r                 NaN       NaN  ...       NaN   \n",
      "user_profile_text_color_g                 NaN       NaN  ...       NaN   \n",
      "user_profile_text_color_b                 NaN       NaN  ...       NaN   \n",
      "0                                   -0.644292 -1.039187  ...  0.293951   \n",
      "1                                   -0.133665 -0.134906  ...  0.079380   \n",
      "2                                   -0.133083 -0.148791  ...  0.071369   \n",
      "3                                   -0.644292 -1.039187  ...  0.293951   \n",
      "4                                   -0.242661 -0.254804  ...  0.140968   \n",
      "5                                    0.000000  0.000000  ...  0.000000   \n",
      "\n",
      "                                           41        42        43        44  \\\n",
      "is_quote_status                           NaN       NaN       NaN       NaN   \n",
      "retweet_count                             NaN       NaN       NaN       NaN   \n",
      "favorite_count                            NaN       NaN       NaN       NaN   \n",
      "user_followers_count                      NaN       NaN       NaN       NaN   \n",
      "user_friends_count                        NaN       NaN       NaN       NaN   \n",
      "user_listed_count                         NaN       NaN       NaN       NaN   \n",
      "user_favourites_count                     NaN       NaN       NaN       NaN   \n",
      "user_geo_enabled                          NaN       NaN       NaN       NaN   \n",
      "user_verified                             NaN       NaN       NaN       NaN   \n",
      "user_statuses_count                       NaN       NaN       NaN       NaN   \n",
      "user_is_translation_enabled               NaN       NaN       NaN       NaN   \n",
      "user_profile_background_tile              NaN       NaN       NaN       NaN   \n",
      "user_profile_use_background_image         NaN       NaN       NaN       NaN   \n",
      "user_has_extended_profile                 NaN       NaN       NaN       NaN   \n",
      "user_default_profile                      NaN       NaN       NaN       NaN   \n",
      "user_default_profile_image                NaN       NaN       NaN       NaN   \n",
      "is_replying_to_others                     NaN       NaN       NaN       NaN   \n",
      "is_quoting_status                         NaN       NaN       NaN       NaN   \n",
      "hashtag_count                             NaN       NaN       NaN       NaN   \n",
      "user_mention_count                        NaN       NaN       NaN       NaN   \n",
      "media_count                               NaN       NaN       NaN       NaN   \n",
      "has_symbols                               NaN       NaN       NaN       NaN   \n",
      "has_url                                   NaN       NaN       NaN       NaN   \n",
      "user_is_regular_translator                NaN       NaN       NaN       NaN   \n",
      "user_profile_background_color_r           NaN       NaN       NaN       NaN   \n",
      "user_profile_background_color_g           NaN       NaN       NaN       NaN   \n",
      "user_profile_background_color_b           NaN       NaN       NaN       NaN   \n",
      "user_profile_link_color_r                 NaN       NaN       NaN       NaN   \n",
      "user_profile_link_color_g                 NaN       NaN       NaN       NaN   \n",
      "user_profile_link_color_b                 NaN       NaN       NaN       NaN   \n",
      "user_profile_sidebar_border_color_r       NaN       NaN       NaN       NaN   \n",
      "user_profile_sidebar_border_color_g       NaN       NaN       NaN       NaN   \n",
      "user_profile_sidebar_border_color_b       NaN       NaN       NaN       NaN   \n",
      "user_profile_sidebar_fill_color_r         NaN       NaN       NaN       NaN   \n",
      "user_profile_sidebar_fill_color_g         NaN       NaN       NaN       NaN   \n",
      "user_profile_sidebar_fill_color_b         NaN       NaN       NaN       NaN   \n",
      "user_profile_text_color_r                 NaN       NaN       NaN       NaN   \n",
      "user_profile_text_color_g                 NaN       NaN       NaN       NaN   \n",
      "user_profile_text_color_b                 NaN       NaN       NaN       NaN   \n",
      "0                                    0.162850  0.075358 -0.046125  1.288868   \n",
      "1                                    0.019146 -0.029041  0.018935  0.226350   \n",
      "2                                    0.020264 -0.035874  0.009490  0.240914   \n",
      "3                                    0.162850  0.075358 -0.046125  1.288868   \n",
      "4                                    0.020284 -0.068663  0.041046  0.438478   \n",
      "5                                    0.000000  0.000000  0.000000  0.000000   \n",
      "\n",
      "                                           45        46        47        48  \\\n",
      "is_quote_status                           NaN       NaN       NaN       NaN   \n",
      "retweet_count                             NaN       NaN       NaN       NaN   \n",
      "favorite_count                            NaN       NaN       NaN       NaN   \n",
      "user_followers_count                      NaN       NaN       NaN       NaN   \n",
      "user_friends_count                        NaN       NaN       NaN       NaN   \n",
      "user_listed_count                         NaN       NaN       NaN       NaN   \n",
      "user_favourites_count                     NaN       NaN       NaN       NaN   \n",
      "user_geo_enabled                          NaN       NaN       NaN       NaN   \n",
      "user_verified                             NaN       NaN       NaN       NaN   \n",
      "user_statuses_count                       NaN       NaN       NaN       NaN   \n",
      "user_is_translation_enabled               NaN       NaN       NaN       NaN   \n",
      "user_profile_background_tile              NaN       NaN       NaN       NaN   \n",
      "user_profile_use_background_image         NaN       NaN       NaN       NaN   \n",
      "user_has_extended_profile                 NaN       NaN       NaN       NaN   \n",
      "user_default_profile                      NaN       NaN       NaN       NaN   \n",
      "user_default_profile_image                NaN       NaN       NaN       NaN   \n",
      "is_replying_to_others                     NaN       NaN       NaN       NaN   \n",
      "is_quoting_status                         NaN       NaN       NaN       NaN   \n",
      "hashtag_count                             NaN       NaN       NaN       NaN   \n",
      "user_mention_count                        NaN       NaN       NaN       NaN   \n",
      "media_count                               NaN       NaN       NaN       NaN   \n",
      "has_symbols                               NaN       NaN       NaN       NaN   \n",
      "has_url                                   NaN       NaN       NaN       NaN   \n",
      "user_is_regular_translator                NaN       NaN       NaN       NaN   \n",
      "user_profile_background_color_r           NaN       NaN       NaN       NaN   \n",
      "user_profile_background_color_g           NaN       NaN       NaN       NaN   \n",
      "user_profile_background_color_b           NaN       NaN       NaN       NaN   \n",
      "user_profile_link_color_r                 NaN       NaN       NaN       NaN   \n",
      "user_profile_link_color_g                 NaN       NaN       NaN       NaN   \n",
      "user_profile_link_color_b                 NaN       NaN       NaN       NaN   \n",
      "user_profile_sidebar_border_color_r       NaN       NaN       NaN       NaN   \n",
      "user_profile_sidebar_border_color_g       NaN       NaN       NaN       NaN   \n",
      "user_profile_sidebar_border_color_b       NaN       NaN       NaN       NaN   \n",
      "user_profile_sidebar_fill_color_r         NaN       NaN       NaN       NaN   \n",
      "user_profile_sidebar_fill_color_g         NaN       NaN       NaN       NaN   \n",
      "user_profile_sidebar_fill_color_b         NaN       NaN       NaN       NaN   \n",
      "user_profile_text_color_r                 NaN       NaN       NaN       NaN   \n",
      "user_profile_text_color_g                 NaN       NaN       NaN       NaN   \n",
      "user_profile_text_color_b                 NaN       NaN       NaN       NaN   \n",
      "0                                    0.293689 -0.405873  0.162846  0.228022   \n",
      "1                                    0.078630 -0.073382  0.006189  0.069386   \n",
      "2                                    0.075180 -0.067470  0.003664  0.069688   \n",
      "3                                    0.293689 -0.405873  0.162846  0.228022   \n",
      "4                                    0.128702 -0.098610  0.000657  0.142320   \n",
      "5                                    0.000000  0.000000  0.000000  0.000000   \n",
      "\n",
      "                                           49  \n",
      "is_quote_status                           NaN  \n",
      "retweet_count                             NaN  \n",
      "favorite_count                            NaN  \n",
      "user_followers_count                      NaN  \n",
      "user_friends_count                        NaN  \n",
      "user_listed_count                         NaN  \n",
      "user_favourites_count                     NaN  \n",
      "user_geo_enabled                          NaN  \n",
      "user_verified                             NaN  \n",
      "user_statuses_count                       NaN  \n",
      "user_is_translation_enabled               NaN  \n",
      "user_profile_background_tile              NaN  \n",
      "user_profile_use_background_image         NaN  \n",
      "user_has_extended_profile                 NaN  \n",
      "user_default_profile                      NaN  \n",
      "user_default_profile_image                NaN  \n",
      "is_replying_to_others                     NaN  \n",
      "is_quoting_status                         NaN  \n",
      "hashtag_count                             NaN  \n",
      "user_mention_count                        NaN  \n",
      "media_count                               NaN  \n",
      "has_symbols                               NaN  \n",
      "has_url                                   NaN  \n",
      "user_is_regular_translator                NaN  \n",
      "user_profile_background_color_r           NaN  \n",
      "user_profile_background_color_g           NaN  \n",
      "user_profile_background_color_b           NaN  \n",
      "user_profile_link_color_r                 NaN  \n",
      "user_profile_link_color_g                 NaN  \n",
      "user_profile_link_color_b                 NaN  \n",
      "user_profile_sidebar_border_color_r       NaN  \n",
      "user_profile_sidebar_border_color_g       NaN  \n",
      "user_profile_sidebar_border_color_b       NaN  \n",
      "user_profile_sidebar_fill_color_r         NaN  \n",
      "user_profile_sidebar_fill_color_g         NaN  \n",
      "user_profile_sidebar_fill_color_b         NaN  \n",
      "user_profile_text_color_r                 NaN  \n",
      "user_profile_text_color_g                 NaN  \n",
      "user_profile_text_color_b                 NaN  \n",
      "0                                    0.256962  \n",
      "1                                    0.034517  \n",
      "2                                    0.039990  \n",
      "3                                    0.256962  \n",
      "4                                    0.080178  \n",
      "5                                    0.000000  \n",
      "\n",
      "[45 rows x 50 columns]\n"
     ]
    },
    {
     "name": "stderr",
     "output_type": "stream",
     "text": [
      "C:\\Users\\vin\\miniconda3\\lib\\site-packages\\sklearn\\base.py:445: UserWarning: X does not have valid feature names, but RandomForestClassifier was fitted with feature names\n",
      "  warnings.warn(\n"
     ]
    },
    {
     "ename": "ValueError",
     "evalue": "Input contains NaN, infinity or a value too large for dtype('float32').",
     "output_type": "error",
     "traceback": [
      "\u001B[1;31m---------------------------------------------------------------------------\u001B[0m",
      "\u001B[1;31mValueError\u001B[0m                                Traceback (most recent call last)",
      "\u001B[1;32m~\\AppData\\Local\\Temp/ipykernel_18524/1130635647.py\u001B[0m in \u001B[0;36m<module>\u001B[1;34m\u001B[0m\n\u001B[1;32m----> 1\u001B[1;33m \u001B[0mspam_h\u001B[0m\u001B[1;33m.\u001B[0m\u001B[0mpredict_spam\u001B[0m\u001B[1;33m(\u001B[0m\u001B[0mtweet_sample\u001B[0m\u001B[1;33m.\u001B[0m\u001B[0miloc\u001B[0m\u001B[1;33m[\u001B[0m\u001B[1;36m1\u001B[0m\u001B[1;33m]\u001B[0m\u001B[1;33m)\u001B[0m\u001B[1;33m\u001B[0m\u001B[1;33m\u001B[0m\u001B[0m\n\u001B[0m",
      "\u001B[1;32mD:\\Projects\\cancelled\\notebook\\../script\\tweet_spam_predict.py\u001B[0m in \u001B[0;36mpredict_spam\u001B[1;34m(self, input_df)\u001B[0m\n\u001B[0;32m    169\u001B[0m         \u001B[0mprint\u001B[0m\u001B[1;33m(\u001B[0m\u001B[0mtweet_df\u001B[0m\u001B[1;33m)\u001B[0m\u001B[1;33m\u001B[0m\u001B[1;33m\u001B[0m\u001B[0m\n\u001B[0;32m    170\u001B[0m \u001B[1;33m\u001B[0m\u001B[0m\n\u001B[1;32m--> 171\u001B[1;33m         \u001B[1;32mreturn\u001B[0m \u001B[0mself\u001B[0m\u001B[1;33m.\u001B[0m\u001B[0mmodel\u001B[0m\u001B[1;33m.\u001B[0m\u001B[0mpredict\u001B[0m\u001B[1;33m(\u001B[0m\u001B[0mtweet_df\u001B[0m\u001B[1;33m)\u001B[0m\u001B[1;33m\u001B[0m\u001B[1;33m\u001B[0m\u001B[0m\n\u001B[0m\u001B[0;32m    172\u001B[0m \u001B[1;33m\u001B[0m\u001B[0m\n\u001B[0;32m    173\u001B[0m \u001B[1;33m\u001B[0m\u001B[0m\n",
      "\u001B[1;32m~\\miniconda3\\lib\\site-packages\\sklearn\\ensemble\\_forest.py\u001B[0m in \u001B[0;36mpredict\u001B[1;34m(self, X)\u001B[0m\n\u001B[0;32m    796\u001B[0m             \u001B[0mThe\u001B[0m \u001B[0mpredicted\u001B[0m \u001B[0mclasses\u001B[0m\u001B[1;33m.\u001B[0m\u001B[1;33m\u001B[0m\u001B[1;33m\u001B[0m\u001B[0m\n\u001B[0;32m    797\u001B[0m         \"\"\"\n\u001B[1;32m--> 798\u001B[1;33m         \u001B[0mproba\u001B[0m \u001B[1;33m=\u001B[0m \u001B[0mself\u001B[0m\u001B[1;33m.\u001B[0m\u001B[0mpredict_proba\u001B[0m\u001B[1;33m(\u001B[0m\u001B[0mX\u001B[0m\u001B[1;33m)\u001B[0m\u001B[1;33m\u001B[0m\u001B[1;33m\u001B[0m\u001B[0m\n\u001B[0m\u001B[0;32m    799\u001B[0m \u001B[1;33m\u001B[0m\u001B[0m\n\u001B[0;32m    800\u001B[0m         \u001B[1;32mif\u001B[0m \u001B[0mself\u001B[0m\u001B[1;33m.\u001B[0m\u001B[0mn_outputs_\u001B[0m \u001B[1;33m==\u001B[0m \u001B[1;36m1\u001B[0m\u001B[1;33m:\u001B[0m\u001B[1;33m\u001B[0m\u001B[1;33m\u001B[0m\u001B[0m\n",
      "\u001B[1;32m~\\miniconda3\\lib\\site-packages\\sklearn\\ensemble\\_forest.py\u001B[0m in \u001B[0;36mpredict_proba\u001B[1;34m(self, X)\u001B[0m\n\u001B[0;32m    838\u001B[0m         \u001B[0mcheck_is_fitted\u001B[0m\u001B[1;33m(\u001B[0m\u001B[0mself\u001B[0m\u001B[1;33m)\u001B[0m\u001B[1;33m\u001B[0m\u001B[1;33m\u001B[0m\u001B[0m\n\u001B[0;32m    839\u001B[0m         \u001B[1;31m# Check data\u001B[0m\u001B[1;33m\u001B[0m\u001B[1;33m\u001B[0m\u001B[1;33m\u001B[0m\u001B[0m\n\u001B[1;32m--> 840\u001B[1;33m         \u001B[0mX\u001B[0m \u001B[1;33m=\u001B[0m \u001B[0mself\u001B[0m\u001B[1;33m.\u001B[0m\u001B[0m_validate_X_predict\u001B[0m\u001B[1;33m(\u001B[0m\u001B[0mX\u001B[0m\u001B[1;33m)\u001B[0m\u001B[1;33m\u001B[0m\u001B[1;33m\u001B[0m\u001B[0m\n\u001B[0m\u001B[0;32m    841\u001B[0m \u001B[1;33m\u001B[0m\u001B[0m\n\u001B[0;32m    842\u001B[0m         \u001B[1;31m# Assign chunk of trees to jobs\u001B[0m\u001B[1;33m\u001B[0m\u001B[1;33m\u001B[0m\u001B[1;33m\u001B[0m\u001B[0m\n",
      "\u001B[1;32m~\\miniconda3\\lib\\site-packages\\sklearn\\ensemble\\_forest.py\u001B[0m in \u001B[0;36m_validate_X_predict\u001B[1;34m(self, X)\u001B[0m\n\u001B[0;32m    567\u001B[0m         Validate X whenever one tries to predict, apply, predict_proba.\"\"\"\n\u001B[0;32m    568\u001B[0m         \u001B[0mcheck_is_fitted\u001B[0m\u001B[1;33m(\u001B[0m\u001B[0mself\u001B[0m\u001B[1;33m)\u001B[0m\u001B[1;33m\u001B[0m\u001B[1;33m\u001B[0m\u001B[0m\n\u001B[1;32m--> 569\u001B[1;33m         \u001B[0mX\u001B[0m \u001B[1;33m=\u001B[0m \u001B[0mself\u001B[0m\u001B[1;33m.\u001B[0m\u001B[0m_validate_data\u001B[0m\u001B[1;33m(\u001B[0m\u001B[0mX\u001B[0m\u001B[1;33m,\u001B[0m \u001B[0mdtype\u001B[0m\u001B[1;33m=\u001B[0m\u001B[0mDTYPE\u001B[0m\u001B[1;33m,\u001B[0m \u001B[0maccept_sparse\u001B[0m\u001B[1;33m=\u001B[0m\u001B[1;34m\"csr\"\u001B[0m\u001B[1;33m,\u001B[0m \u001B[0mreset\u001B[0m\u001B[1;33m=\u001B[0m\u001B[1;32mFalse\u001B[0m\u001B[1;33m)\u001B[0m\u001B[1;33m\u001B[0m\u001B[1;33m\u001B[0m\u001B[0m\n\u001B[0m\u001B[0;32m    570\u001B[0m         \u001B[1;32mif\u001B[0m \u001B[0missparse\u001B[0m\u001B[1;33m(\u001B[0m\u001B[0mX\u001B[0m\u001B[1;33m)\u001B[0m \u001B[1;32mand\u001B[0m \u001B[1;33m(\u001B[0m\u001B[0mX\u001B[0m\u001B[1;33m.\u001B[0m\u001B[0mindices\u001B[0m\u001B[1;33m.\u001B[0m\u001B[0mdtype\u001B[0m \u001B[1;33m!=\u001B[0m \u001B[0mnp\u001B[0m\u001B[1;33m.\u001B[0m\u001B[0mintc\u001B[0m \u001B[1;32mor\u001B[0m \u001B[0mX\u001B[0m\u001B[1;33m.\u001B[0m\u001B[0mindptr\u001B[0m\u001B[1;33m.\u001B[0m\u001B[0mdtype\u001B[0m \u001B[1;33m!=\u001B[0m \u001B[0mnp\u001B[0m\u001B[1;33m.\u001B[0m\u001B[0mintc\u001B[0m\u001B[1;33m)\u001B[0m\u001B[1;33m:\u001B[0m\u001B[1;33m\u001B[0m\u001B[1;33m\u001B[0m\u001B[0m\n\u001B[0;32m    571\u001B[0m             \u001B[1;32mraise\u001B[0m \u001B[0mValueError\u001B[0m\u001B[1;33m(\u001B[0m\u001B[1;34m\"No support for np.int64 index based sparse matrices\"\u001B[0m\u001B[1;33m)\u001B[0m\u001B[1;33m\u001B[0m\u001B[1;33m\u001B[0m\u001B[0m\n",
      "\u001B[1;32m~\\miniconda3\\lib\\site-packages\\sklearn\\base.py\u001B[0m in \u001B[0;36m_validate_data\u001B[1;34m(self, X, y, reset, validate_separately, **check_params)\u001B[0m\n\u001B[0;32m    559\u001B[0m             \u001B[1;32mraise\u001B[0m \u001B[0mValueError\u001B[0m\u001B[1;33m(\u001B[0m\u001B[1;34m\"Validation should be done on X, y or both.\"\u001B[0m\u001B[1;33m)\u001B[0m\u001B[1;33m\u001B[0m\u001B[1;33m\u001B[0m\u001B[0m\n\u001B[0;32m    560\u001B[0m         \u001B[1;32melif\u001B[0m \u001B[1;32mnot\u001B[0m \u001B[0mno_val_X\u001B[0m \u001B[1;32mand\u001B[0m \u001B[0mno_val_y\u001B[0m\u001B[1;33m:\u001B[0m\u001B[1;33m\u001B[0m\u001B[1;33m\u001B[0m\u001B[0m\n\u001B[1;32m--> 561\u001B[1;33m             \u001B[0mX\u001B[0m \u001B[1;33m=\u001B[0m \u001B[0mcheck_array\u001B[0m\u001B[1;33m(\u001B[0m\u001B[0mX\u001B[0m\u001B[1;33m,\u001B[0m \u001B[1;33m**\u001B[0m\u001B[0mcheck_params\u001B[0m\u001B[1;33m)\u001B[0m\u001B[1;33m\u001B[0m\u001B[1;33m\u001B[0m\u001B[0m\n\u001B[0m\u001B[0;32m    562\u001B[0m             \u001B[0mout\u001B[0m \u001B[1;33m=\u001B[0m \u001B[0mX\u001B[0m\u001B[1;33m\u001B[0m\u001B[1;33m\u001B[0m\u001B[0m\n\u001B[0;32m    563\u001B[0m         \u001B[1;32melif\u001B[0m \u001B[0mno_val_X\u001B[0m \u001B[1;32mand\u001B[0m \u001B[1;32mnot\u001B[0m \u001B[0mno_val_y\u001B[0m\u001B[1;33m:\u001B[0m\u001B[1;33m\u001B[0m\u001B[1;33m\u001B[0m\u001B[0m\n",
      "\u001B[1;32m~\\miniconda3\\lib\\site-packages\\sklearn\\utils\\validation.py\u001B[0m in \u001B[0;36mcheck_array\u001B[1;34m(array, accept_sparse, accept_large_sparse, dtype, order, copy, force_all_finite, ensure_2d, allow_nd, ensure_min_samples, ensure_min_features, estimator)\u001B[0m\n\u001B[0;32m    790\u001B[0m \u001B[1;33m\u001B[0m\u001B[0m\n\u001B[0;32m    791\u001B[0m         \u001B[1;32mif\u001B[0m \u001B[0mforce_all_finite\u001B[0m\u001B[1;33m:\u001B[0m\u001B[1;33m\u001B[0m\u001B[1;33m\u001B[0m\u001B[0m\n\u001B[1;32m--> 792\u001B[1;33m             \u001B[0m_assert_all_finite\u001B[0m\u001B[1;33m(\u001B[0m\u001B[0marray\u001B[0m\u001B[1;33m,\u001B[0m \u001B[0mallow_nan\u001B[0m\u001B[1;33m=\u001B[0m\u001B[0mforce_all_finite\u001B[0m \u001B[1;33m==\u001B[0m \u001B[1;34m\"allow-nan\"\u001B[0m\u001B[1;33m)\u001B[0m\u001B[1;33m\u001B[0m\u001B[1;33m\u001B[0m\u001B[0m\n\u001B[0m\u001B[0;32m    793\u001B[0m \u001B[1;33m\u001B[0m\u001B[0m\n\u001B[0;32m    794\u001B[0m     \u001B[1;32mif\u001B[0m \u001B[0mensure_min_samples\u001B[0m \u001B[1;33m>\u001B[0m \u001B[1;36m0\u001B[0m\u001B[1;33m:\u001B[0m\u001B[1;33m\u001B[0m\u001B[1;33m\u001B[0m\u001B[0m\n",
      "\u001B[1;32m~\\miniconda3\\lib\\site-packages\\sklearn\\utils\\validation.py\u001B[0m in \u001B[0;36m_assert_all_finite\u001B[1;34m(X, allow_nan, msg_dtype)\u001B[0m\n\u001B[0;32m    112\u001B[0m         ):\n\u001B[0;32m    113\u001B[0m             \u001B[0mtype_err\u001B[0m \u001B[1;33m=\u001B[0m \u001B[1;34m\"infinity\"\u001B[0m \u001B[1;32mif\u001B[0m \u001B[0mallow_nan\u001B[0m \u001B[1;32melse\u001B[0m \u001B[1;34m\"NaN, infinity\"\u001B[0m\u001B[1;33m\u001B[0m\u001B[1;33m\u001B[0m\u001B[0m\n\u001B[1;32m--> 114\u001B[1;33m             raise ValueError(\n\u001B[0m\u001B[0;32m    115\u001B[0m                 msg_err.format(\n\u001B[0;32m    116\u001B[0m                     \u001B[0mtype_err\u001B[0m\u001B[1;33m,\u001B[0m \u001B[0mmsg_dtype\u001B[0m \u001B[1;32mif\u001B[0m \u001B[0mmsg_dtype\u001B[0m \u001B[1;32mis\u001B[0m \u001B[1;32mnot\u001B[0m \u001B[1;32mNone\u001B[0m \u001B[1;32melse\u001B[0m \u001B[0mX\u001B[0m\u001B[1;33m.\u001B[0m\u001B[0mdtype\u001B[0m\u001B[1;33m\u001B[0m\u001B[1;33m\u001B[0m\u001B[0m\n",
      "\u001B[1;31mValueError\u001B[0m: Input contains NaN, infinity or a value too large for dtype('float32')."
     ]
    }
   ],
   "source": [
    "spam_h.predict_spam(tweet_sample.iloc[1])"
   ],
   "metadata": {
    "collapsed": false,
    "pycharm": {
     "name": "#%%\n"
    }
   }
  },
  {
   "cell_type": "markdown",
   "source": [
    "=== TRYOUTS ==="
   ],
   "metadata": {
    "collapsed": false
   }
  },
  {
   "cell_type": "code",
   "execution_count": 7,
   "outputs": [],
   "source": [
    "tweet_series = tweet_sample.iloc[1]"
   ],
   "metadata": {
    "collapsed": false,
    "pycharm": {
     "name": "#%%\n"
    }
   }
  },
  {
   "cell_type": "code",
   "execution_count": 8,
   "outputs": [
    {
     "data": {
      "text/plain": "created_at                                           2021-11-25 01:14:09+00:00\nid                                                         1463677352198557697\nid_str                                                     1463677352198557696\nfull_text                    \"when I was working on Ghostbusters I had sex ...\ntruncated                                                                False\ndisplay_text_range                                                     [0, 59]\nentities                     {'hashtags': [], 'symbols': [], 'user_mentions...\nmetadata                     {'iso_language_code': 'en', 'result_type': 're...\nsource                       <a href=\"http://twitter.com/download/android\" ...\nin_reply_to_status_id                                                      NaN\nin_reply_to_status_id_str                                                  NaN\nin_reply_to_user_id                                                        NaN\nin_reply_to_user_id_str                                                    NaN\nin_reply_to_screen_name                                                   None\nuser                         {'id': 1349242258042679300, 'id_str': '1349242...\ngeo                                                                       None\ncoordinates                                                               None\nplace                                                                     None\ncontributors                                                               NaN\nretweeted_status                                                          None\nis_quote_status                                                          False\nretweet_count                                                                0\nfavorite_count                                                               0\nfavorited                                                                False\nretweeted                                                                False\nlang                                                                        en\npossibly_sensitive                                                         NaN\nextended_entities                                                         None\nquoted_status_id                                                           NaN\nquoted_status_id_str                                                       NaN\nquoted_status                                                             None\ninferred_text                \"when I was working on Ghostbusters I had sex ...\nName: 1, dtype: object"
     },
     "execution_count": 8,
     "metadata": {},
     "output_type": "execute_result"
    }
   ],
   "source": [
    "tweet_series"
   ],
   "metadata": {
    "collapsed": false,
    "pycharm": {
     "name": "#%%\n"
    }
   }
  },
  {
   "cell_type": "code",
   "execution_count": 8,
   "outputs": [
    {
     "data": {
      "text/plain": "nan"
     },
     "execution_count": 8,
     "metadata": {},
     "output_type": "execute_result"
    }
   ],
   "source": [
    "tweet_series['in_reply_to_status_id']"
   ],
   "metadata": {
    "collapsed": false,
    "pycharm": {
     "name": "#%%\n"
    }
   }
  },
  {
   "cell_type": "code",
   "execution_count": 12,
   "outputs": [
    {
     "data": {
      "text/plain": "0.0"
     },
     "execution_count": 12,
     "metadata": {},
     "output_type": "execute_result"
    }
   ],
   "source": [
    "import numpy as np\n",
    "\n",
    "1.0 if not np.isnan(tweet_series['in_reply_to_status_id']) else 0.0"
   ],
   "metadata": {
    "collapsed": false,
    "pycharm": {
     "name": "#%%\n"
    }
   }
  },
  {
   "cell_type": "code",
   "execution_count": 16,
   "outputs": [
    {
     "data": {
      "text/plain": "Int64Index([1], dtype='int64')"
     },
     "execution_count": 16,
     "metadata": {},
     "output_type": "execute_result"
    }
   ],
   "source": [
    "pd.DataFrame(tweet_series.T).columns"
   ],
   "metadata": {
    "collapsed": false,
    "pycharm": {
     "name": "#%%\n"
    }
   }
  },
  {
   "cell_type": "code",
   "execution_count": 9,
   "outputs": [
    {
     "ename": "ValueError",
     "evalue": "invalid literal for int() with base 16: ''",
     "output_type": "error",
     "traceback": [
      "\u001B[1;31m---------------------------------------------------------------------------\u001B[0m",
      "\u001B[1;31mValueError\u001B[0m                                Traceback (most recent call last)",
      "\u001B[1;32m~\\AppData\\Local\\Temp/ipykernel_20188/2008602075.py\u001B[0m in \u001B[0;36m<module>\u001B[1;34m\u001B[0m\n\u001B[1;32m----> 1\u001B[1;33m \u001B[1;33m[\u001B[0m\u001B[0mlist\u001B[0m\u001B[1;33m(\u001B[0m\u001B[0mint\u001B[0m\u001B[1;33m(\u001B[0m\u001B[0mi\u001B[0m\u001B[1;33m[\u001B[0m\u001B[0mj\u001B[0m\u001B[1;33m:\u001B[0m\u001B[0mj\u001B[0m\u001B[1;33m+\u001B[0m\u001B[1;36m2\u001B[0m\u001B[1;33m]\u001B[0m\u001B[1;33m,\u001B[0m \u001B[1;36m16\u001B[0m\u001B[1;33m)\u001B[0m \u001B[1;32mfor\u001B[0m \u001B[0mj\u001B[0m \u001B[1;32min\u001B[0m \u001B[1;33m(\u001B[0m\u001B[1;36m0\u001B[0m\u001B[1;33m,\u001B[0m \u001B[1;36m2\u001B[0m\u001B[1;33m,\u001B[0m \u001B[1;36m4\u001B[0m\u001B[1;33m)\u001B[0m\u001B[1;33m)\u001B[0m \u001B[1;32mfor\u001B[0m \u001B[0mi\u001B[0m \u001B[1;32min\u001B[0m \u001B[1;34m'12ab23'\u001B[0m\u001B[1;33m]\u001B[0m\u001B[1;33m\u001B[0m\u001B[1;33m\u001B[0m\u001B[0m\n\u001B[0m",
      "\u001B[1;32m~\\AppData\\Local\\Temp/ipykernel_20188/2008602075.py\u001B[0m in \u001B[0;36m<listcomp>\u001B[1;34m(.0)\u001B[0m\n\u001B[1;32m----> 1\u001B[1;33m \u001B[1;33m[\u001B[0m\u001B[0mlist\u001B[0m\u001B[1;33m(\u001B[0m\u001B[0mint\u001B[0m\u001B[1;33m(\u001B[0m\u001B[0mi\u001B[0m\u001B[1;33m[\u001B[0m\u001B[0mj\u001B[0m\u001B[1;33m:\u001B[0m\u001B[0mj\u001B[0m\u001B[1;33m+\u001B[0m\u001B[1;36m2\u001B[0m\u001B[1;33m]\u001B[0m\u001B[1;33m,\u001B[0m \u001B[1;36m16\u001B[0m\u001B[1;33m)\u001B[0m \u001B[1;32mfor\u001B[0m \u001B[0mj\u001B[0m \u001B[1;32min\u001B[0m \u001B[1;33m(\u001B[0m\u001B[1;36m0\u001B[0m\u001B[1;33m,\u001B[0m \u001B[1;36m2\u001B[0m\u001B[1;33m,\u001B[0m \u001B[1;36m4\u001B[0m\u001B[1;33m)\u001B[0m\u001B[1;33m)\u001B[0m \u001B[1;32mfor\u001B[0m \u001B[0mi\u001B[0m \u001B[1;32min\u001B[0m \u001B[1;34m'12ab23'\u001B[0m\u001B[1;33m]\u001B[0m\u001B[1;33m\u001B[0m\u001B[1;33m\u001B[0m\u001B[0m\n\u001B[0m",
      "\u001B[1;32m~\\AppData\\Local\\Temp/ipykernel_20188/2008602075.py\u001B[0m in \u001B[0;36m<genexpr>\u001B[1;34m(.0)\u001B[0m\n\u001B[1;32m----> 1\u001B[1;33m \u001B[1;33m[\u001B[0m\u001B[0mlist\u001B[0m\u001B[1;33m(\u001B[0m\u001B[0mint\u001B[0m\u001B[1;33m(\u001B[0m\u001B[0mi\u001B[0m\u001B[1;33m[\u001B[0m\u001B[0mj\u001B[0m\u001B[1;33m:\u001B[0m\u001B[0mj\u001B[0m\u001B[1;33m+\u001B[0m\u001B[1;36m2\u001B[0m\u001B[1;33m]\u001B[0m\u001B[1;33m,\u001B[0m \u001B[1;36m16\u001B[0m\u001B[1;33m)\u001B[0m \u001B[1;32mfor\u001B[0m \u001B[0mj\u001B[0m \u001B[1;32min\u001B[0m \u001B[1;33m(\u001B[0m\u001B[1;36m0\u001B[0m\u001B[1;33m,\u001B[0m \u001B[1;36m2\u001B[0m\u001B[1;33m,\u001B[0m \u001B[1;36m4\u001B[0m\u001B[1;33m)\u001B[0m\u001B[1;33m)\u001B[0m \u001B[1;32mfor\u001B[0m \u001B[0mi\u001B[0m \u001B[1;32min\u001B[0m \u001B[1;34m'12ab23'\u001B[0m\u001B[1;33m]\u001B[0m\u001B[1;33m\u001B[0m\u001B[1;33m\u001B[0m\u001B[0m\n\u001B[0m",
      "\u001B[1;31mValueError\u001B[0m: invalid literal for int() with base 16: ''"
     ]
    }
   ],
   "source": [
    "[list(int(i[j:j+2], 16) for j in (0, 2, 4)) for i in '12ab23']"
   ],
   "metadata": {
    "collapsed": false,
    "pycharm": {
     "name": "#%%\n"
    }
   }
  },
  {
   "cell_type": "code",
   "execution_count": 21,
   "outputs": [
    {
     "data": {
      "text/plain": "188"
     },
     "execution_count": 21,
     "metadata": {},
     "output_type": "execute_result"
    }
   ],
   "source": [
    "int('123abc'[4:6], 16)"
   ],
   "metadata": {
    "collapsed": false,
    "pycharm": {
     "name": "#%%\n"
    }
   }
  },
  {
   "cell_type": "code",
   "execution_count": null,
   "outputs": [],
   "source": [],
   "metadata": {
    "collapsed": false,
    "pycharm": {
     "name": "#%%\n"
    }
   }
  }
 ],
 "metadata": {
  "kernelspec": {
   "display_name": "Python 3",
   "language": "python",
   "name": "python3"
  },
  "language_info": {
   "codemirror_mode": {
    "name": "ipython",
    "version": 2
   },
   "file_extension": ".py",
   "mimetype": "text/x-python",
   "name": "python",
   "nbconvert_exporter": "python",
   "pygments_lexer": "ipython2",
   "version": "2.7.6"
  }
 },
 "nbformat": 4,
 "nbformat_minor": 0
}