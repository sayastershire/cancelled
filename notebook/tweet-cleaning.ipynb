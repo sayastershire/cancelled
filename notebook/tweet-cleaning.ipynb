{
 "cells": [
  {
   "cell_type": "code",
   "execution_count": 1,
   "metadata": {
    "collapsed": true
   },
   "outputs": [],
   "source": [
    "import pandas as pd"
   ]
  },
  {
   "cell_type": "code",
   "execution_count": 3,
   "outputs": [
    {
     "data": {
      "text/plain": "                 created_at                   id               id_str  \\\n0 2021-11-24 23:51:22+00:00  1463656521913356291  1463656521913356288   \n1 2021-11-24 23:51:02+00:00  1463656435053694982  1463656435053694976   \n2 2021-11-24 23:50:40+00:00  1463656343978450947  1463656343978450944   \n3 2021-11-24 23:50:37+00:00  1463656330099527681  1463656330099527680   \n4 2021-11-24 23:50:33+00:00  1463656314660265988  1463656314660265984   \n\n                                           full_text  truncated  \\\n0          @madtruthh you caught me shang chi was t5      False   \n1                                  @niik4k Shang chi      False   \n2  @JamalRIP We thought they would do MCU Shang C...      False   \n3                   RT @SimuLiu: I’m Shang Chi bitch      False   \n4  RT @wandasgreys: if you think shang chi isn't ...      False   \n\n  display_text_range                                           entities  \\\n0           [11, 41]  {'hashtags': [], 'symbols': [], 'user_mentions...   \n1            [8, 17]  {'hashtags': [], 'symbols': [], 'user_mentions...   \n2           [10, 74]  {'hashtags': [], 'symbols': [], 'user_mentions...   \n3            [0, 32]  {'hashtags': [], 'symbols': [], 'user_mentions...   \n4           [0, 118]  {'hashtags': [], 'symbols': [], 'user_mentions...   \n\n                                            metadata  \\\n0  {'iso_language_code': 'en', 'result_type': 're...   \n1  {'iso_language_code': 'en', 'result_type': 're...   \n2  {'iso_language_code': 'en', 'result_type': 're...   \n3  {'iso_language_code': 'en', 'result_type': 're...   \n4  {'iso_language_code': 'en', 'result_type': 're...   \n\n                                              source  in_reply_to_status_id  \\\n0  <a href=\"http://twitter.com/download/iphone\" r...           1.463656e+18   \n1  <a href=\"http://twitter.com/download/iphone\" r...           1.463651e+18   \n2  <a href=\"http://twitter.com/#!/download/ipad\" ...           1.463652e+18   \n3  <a href=\"http://twitter.com/download/android\" ...                    NaN   \n4  <a href=\"http://twitter.com/download/iphone\" r...                    NaN   \n\n   ...  favorited  retweeted  lang  \\\n0  ...      False      False    en   \n1  ...      False      False    en   \n2  ...      False      False    en   \n3  ...      False      False    en   \n4  ...      False      False    en   \n\n                                    retweeted_status  \\\n0                                               None   \n1                                               None   \n2                                               None   \n3  {'created_at': 'Sun Nov 21 05:20:50 +0000 2021...   \n4  {'created_at': 'Mon Nov 22 15:41:42 +0000 2021...   \n\n                                   extended_entities  possibly_sensitive  \\\n0                                               None                 NaN   \n1                                               None                 NaN   \n2                                               None                 NaN   \n3                                               None                 NaN   \n4  {'media': [{'id': 1462808489634500609, 'id_str...                 0.0   \n\n   quoted_status_id quoted_status_id_str  quoted_status  \\\n0               NaN                  NaN           None   \n1               NaN                  NaN           None   \n2               NaN                  NaN           None   \n3               NaN                  NaN           None   \n4               NaN                  NaN           None   \n\n                                       inferred_text  \n0          @madtruthh you caught me shang chi was t5  \n1                                  @niik4k Shang chi  \n2  @JamalRIP We thought they would do MCU Shang C...  \n3                                I’m Shang Chi bitch  \n4  if you think shang chi isn't one of the best m...  \n\n[5 rows x 32 columns]",
      "text/html": "<div>\n<style scoped>\n    .dataframe tbody tr th:only-of-type {\n        vertical-align: middle;\n    }\n\n    .dataframe tbody tr th {\n        vertical-align: top;\n    }\n\n    .dataframe thead th {\n        text-align: right;\n    }\n</style>\n<table border=\"1\" class=\"dataframe\">\n  <thead>\n    <tr style=\"text-align: right;\">\n      <th></th>\n      <th>created_at</th>\n      <th>id</th>\n      <th>id_str</th>\n      <th>full_text</th>\n      <th>truncated</th>\n      <th>display_text_range</th>\n      <th>entities</th>\n      <th>metadata</th>\n      <th>source</th>\n      <th>in_reply_to_status_id</th>\n      <th>...</th>\n      <th>favorited</th>\n      <th>retweeted</th>\n      <th>lang</th>\n      <th>retweeted_status</th>\n      <th>extended_entities</th>\n      <th>possibly_sensitive</th>\n      <th>quoted_status_id</th>\n      <th>quoted_status_id_str</th>\n      <th>quoted_status</th>\n      <th>inferred_text</th>\n    </tr>\n  </thead>\n  <tbody>\n    <tr>\n      <th>0</th>\n      <td>2021-11-24 23:51:22+00:00</td>\n      <td>1463656521913356291</td>\n      <td>1463656521913356288</td>\n      <td>@madtruthh you caught me shang chi was t5</td>\n      <td>False</td>\n      <td>[11, 41]</td>\n      <td>{'hashtags': [], 'symbols': [], 'user_mentions...</td>\n      <td>{'iso_language_code': 'en', 'result_type': 're...</td>\n      <td>&lt;a href=\"http://twitter.com/download/iphone\" r...</td>\n      <td>1.463656e+18</td>\n      <td>...</td>\n      <td>False</td>\n      <td>False</td>\n      <td>en</td>\n      <td>None</td>\n      <td>None</td>\n      <td>NaN</td>\n      <td>NaN</td>\n      <td>NaN</td>\n      <td>None</td>\n      <td>@madtruthh you caught me shang chi was t5</td>\n    </tr>\n    <tr>\n      <th>1</th>\n      <td>2021-11-24 23:51:02+00:00</td>\n      <td>1463656435053694982</td>\n      <td>1463656435053694976</td>\n      <td>@niik4k Shang chi</td>\n      <td>False</td>\n      <td>[8, 17]</td>\n      <td>{'hashtags': [], 'symbols': [], 'user_mentions...</td>\n      <td>{'iso_language_code': 'en', 'result_type': 're...</td>\n      <td>&lt;a href=\"http://twitter.com/download/iphone\" r...</td>\n      <td>1.463651e+18</td>\n      <td>...</td>\n      <td>False</td>\n      <td>False</td>\n      <td>en</td>\n      <td>None</td>\n      <td>None</td>\n      <td>NaN</td>\n      <td>NaN</td>\n      <td>NaN</td>\n      <td>None</td>\n      <td>@niik4k Shang chi</td>\n    </tr>\n    <tr>\n      <th>2</th>\n      <td>2021-11-24 23:50:40+00:00</td>\n      <td>1463656343978450947</td>\n      <td>1463656343978450944</td>\n      <td>@JamalRIP We thought they would do MCU Shang C...</td>\n      <td>False</td>\n      <td>[10, 74]</td>\n      <td>{'hashtags': [], 'symbols': [], 'user_mentions...</td>\n      <td>{'iso_language_code': 'en', 'result_type': 're...</td>\n      <td>&lt;a href=\"http://twitter.com/#!/download/ipad\" ...</td>\n      <td>1.463652e+18</td>\n      <td>...</td>\n      <td>False</td>\n      <td>False</td>\n      <td>en</td>\n      <td>None</td>\n      <td>None</td>\n      <td>NaN</td>\n      <td>NaN</td>\n      <td>NaN</td>\n      <td>None</td>\n      <td>@JamalRIP We thought they would do MCU Shang C...</td>\n    </tr>\n    <tr>\n      <th>3</th>\n      <td>2021-11-24 23:50:37+00:00</td>\n      <td>1463656330099527681</td>\n      <td>1463656330099527680</td>\n      <td>RT @SimuLiu: I’m Shang Chi bitch</td>\n      <td>False</td>\n      <td>[0, 32]</td>\n      <td>{'hashtags': [], 'symbols': [], 'user_mentions...</td>\n      <td>{'iso_language_code': 'en', 'result_type': 're...</td>\n      <td>&lt;a href=\"http://twitter.com/download/android\" ...</td>\n      <td>NaN</td>\n      <td>...</td>\n      <td>False</td>\n      <td>False</td>\n      <td>en</td>\n      <td>{'created_at': 'Sun Nov 21 05:20:50 +0000 2021...</td>\n      <td>None</td>\n      <td>NaN</td>\n      <td>NaN</td>\n      <td>NaN</td>\n      <td>None</td>\n      <td>I’m Shang Chi bitch</td>\n    </tr>\n    <tr>\n      <th>4</th>\n      <td>2021-11-24 23:50:33+00:00</td>\n      <td>1463656314660265988</td>\n      <td>1463656314660265984</td>\n      <td>RT @wandasgreys: if you think shang chi isn't ...</td>\n      <td>False</td>\n      <td>[0, 118]</td>\n      <td>{'hashtags': [], 'symbols': [], 'user_mentions...</td>\n      <td>{'iso_language_code': 'en', 'result_type': 're...</td>\n      <td>&lt;a href=\"http://twitter.com/download/iphone\" r...</td>\n      <td>NaN</td>\n      <td>...</td>\n      <td>False</td>\n      <td>False</td>\n      <td>en</td>\n      <td>{'created_at': 'Mon Nov 22 15:41:42 +0000 2021...</td>\n      <td>{'media': [{'id': 1462808489634500609, 'id_str...</td>\n      <td>0.0</td>\n      <td>NaN</td>\n      <td>NaN</td>\n      <td>None</td>\n      <td>if you think shang chi isn't one of the best m...</td>\n    </tr>\n  </tbody>\n</table>\n<p>5 rows × 32 columns</p>\n</div>"
     },
     "execution_count": 3,
     "metadata": {},
     "output_type": "execute_result"
    }
   ],
   "source": [
    "tweet_df = pd.read_json('../dataset/movie-tweets/shang-chi.json', orient='index')\n",
    "tweet_df.head()"
   ],
   "metadata": {
    "collapsed": false,
    "pycharm": {
     "name": "#%%\n"
    }
   }
  },
  {
   "cell_type": "markdown",
   "source": [
    "To-do:\n",
    "1. Make a new data frame consisting of only full-text and is-spam, so that the user can manually label such things."
   ],
   "metadata": {
    "collapsed": false
   }
  },
  {
   "cell_type": "code",
   "execution_count": 11,
   "outputs": [],
   "source": [
    "# Sanity check: xlsx saves list and dictionary forms\n",
    "assert type(tweet_df.iloc[0].get('entities')) == dict, 'Error: the tweet extraction function is not able to preserve data types. Make sure lists and dicts are saved as such and not as string.'"
   ],
   "metadata": {
    "collapsed": false,
    "pycharm": {
     "name": "#%%\n"
    }
   }
  },
  {
   "cell_type": "code",
   "execution_count": 16,
   "outputs": [
    {
     "data": {
      "text/plain": "                                               tweet  is-spam\n0          @madtruthh you caught me shang chi was t5        0\n1                                  @niik4k Shang chi        0\n2  @JamalRIP We thought they would do MCU Shang C...        0\n3                                I’m Shang Chi bitch        0\n4  if you think shang chi isn't one of the best m...        0\n5  Watched Shang Chi, that was definitely \"just o...        0\n6  @bad_dominicana In Shang Chi they translate th...        0\n7  @TheTriple9 You can like the movie.... That's ...        0\n8  @chaneldwt tv shows- adventure time, great bri...        0\n9  Just watched shang chi again, can firmly say t...        0",
      "text/html": "<div>\n<style scoped>\n    .dataframe tbody tr th:only-of-type {\n        vertical-align: middle;\n    }\n\n    .dataframe tbody tr th {\n        vertical-align: top;\n    }\n\n    .dataframe thead th {\n        text-align: right;\n    }\n</style>\n<table border=\"1\" class=\"dataframe\">\n  <thead>\n    <tr style=\"text-align: right;\">\n      <th></th>\n      <th>tweet</th>\n      <th>is-spam</th>\n    </tr>\n  </thead>\n  <tbody>\n    <tr>\n      <th>0</th>\n      <td>@madtruthh you caught me shang chi was t5</td>\n      <td>0</td>\n    </tr>\n    <tr>\n      <th>1</th>\n      <td>@niik4k Shang chi</td>\n      <td>0</td>\n    </tr>\n    <tr>\n      <th>2</th>\n      <td>@JamalRIP We thought they would do MCU Shang C...</td>\n      <td>0</td>\n    </tr>\n    <tr>\n      <th>3</th>\n      <td>I’m Shang Chi bitch</td>\n      <td>0</td>\n    </tr>\n    <tr>\n      <th>4</th>\n      <td>if you think shang chi isn't one of the best m...</td>\n      <td>0</td>\n    </tr>\n    <tr>\n      <th>5</th>\n      <td>Watched Shang Chi, that was definitely \"just o...</td>\n      <td>0</td>\n    </tr>\n    <tr>\n      <th>6</th>\n      <td>@bad_dominicana In Shang Chi they translate th...</td>\n      <td>0</td>\n    </tr>\n    <tr>\n      <th>7</th>\n      <td>@TheTriple9 You can like the movie.... That's ...</td>\n      <td>0</td>\n    </tr>\n    <tr>\n      <th>8</th>\n      <td>@chaneldwt tv shows- adventure time, great bri...</td>\n      <td>0</td>\n    </tr>\n    <tr>\n      <th>9</th>\n      <td>Just watched shang chi again, can firmly say t...</td>\n      <td>0</td>\n    </tr>\n  </tbody>\n</table>\n</div>"
     },
     "execution_count": 16,
     "metadata": {},
     "output_type": "execute_result"
    }
   ],
   "source": [
    "# tweet_spam_df = tweet_df['inferred_text'].copy()\n",
    "# tweet_spam_df['is-spam'] = [0 for i in tweet_spam_df]\n",
    "\n",
    "tweet_spam_df = pd.DataFrame({\n",
    "    'tweet': tweet_df['inferred_text'],\n",
    "    'is-spam': [0 for i in range(len(tweet_df))]\n",
    "})\n",
    "\n",
    "tweet_spam_df.head(10)"
   ],
   "metadata": {
    "collapsed": false,
    "pycharm": {
     "name": "#%%\n"
    }
   }
  },
  {
   "cell_type": "code",
   "execution_count": 17,
   "outputs": [],
   "source": [
    "tweet_spam_df.to_excel('../dataset/movie-tweets/shang-chi-label.xlsx')"
   ],
   "metadata": {
    "collapsed": false,
    "pycharm": {
     "name": "#%%\n"
    }
   }
  },
  {
   "cell_type": "code",
   "execution_count": null,
   "outputs": [],
   "source": [],
   "metadata": {
    "collapsed": false,
    "pycharm": {
     "name": "#%%\n"
    }
   }
  }
 ],
 "metadata": {
  "kernelspec": {
   "display_name": "Python 3",
   "language": "python",
   "name": "python3"
  },
  "language_info": {
   "codemirror_mode": {
    "name": "ipython",
    "version": 2
   },
   "file_extension": ".py",
   "mimetype": "text/x-python",
   "name": "python",
   "nbconvert_exporter": "python",
   "pygments_lexer": "ipython2",
   "version": "2.7.6"
  }
 },
 "nbformat": 4,
 "nbformat_minor": 0
}