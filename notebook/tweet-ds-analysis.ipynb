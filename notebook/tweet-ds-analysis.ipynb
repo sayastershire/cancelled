{
 "cells": [
  {
   "cell_type": "code",
   "execution_count": 1,
   "metadata": {
    "collapsed": true
   },
   "outputs": [],
   "source": [
    "import numpy as np\n",
    "import pandas as pd\n",
    "\n",
    "done_movies = [\n",
    "    'arcane',\n",
    "    'dune',\n",
    "    'eternals'\n",
    "]\n",
    "\n",
    "tweet_df = pd.DataFrame([])\n",
    "\n",
    "for movie in done_movies:\n",
    "    metadata_df = pd.read_json('../dataset/movie-tweets/'+movie+'.json', orient='index')\n",
    "    is_spam_df = pd.read_excel('../dataset/movie-tweets/'+movie+'-label.xlsx')\n",
    "    joined_df = pd.concat([metadata_df, is_spam_df], axis=1).drop(['Unnamed: 0', 'tweet'], axis=1)\n",
    "    tweet_df = tweet_df.append(joined_df)"
   ]
  },
  {
   "cell_type": "code",
   "execution_count": 2,
   "outputs": [
    {
     "data": {
      "text/plain": "                   created_at                   id               id_str  \\\n0   2021-11-25 01:16:10+00:00  1463677861764681729  1463677861764681728   \n1   2021-11-25 01:16:10+00:00  1463677860263120897  1463677860263120896   \n2   2021-11-25 01:16:08+00:00  1463677853245919232  1463677853245919232   \n3   2021-11-25 01:16:06+00:00  1463677843812929536  1463677843812929536   \n4   2021-11-25 01:16:05+00:00  1463677841900556290  1463677841900556288   \n..                        ...                  ...                  ...   \n533 2021-11-24 22:55:23+00:00  1463642432281747457  1463642432281747456   \n534 2021-11-24 22:55:21+00:00  1463642421997314048  1463642421997314048   \n535 2021-11-24 22:54:53+00:00  1463642306171465728  1463642306171465728   \n536 2021-11-24 22:54:46+00:00  1463642274336751630  1463642274336751616   \n537 2021-11-24 22:54:23+00:00  1463642180199747585  1463642180199747584   \n\n                                             full_text  truncated  \\\n0    RT @yungm3dusa: My Mel Medarda cosplay 🖤 i’m s...      False   \n1    RT @Snegovski9623: Made a smol gif with my fav...      False   \n2    RT @Meshymayhem: More practice\\nhomies I still...      False   \n3    RT @treker402: Right at it again. \\n\\n#Arcane ...      False   \n4    self proclaimed free thinkers when arcane jinx...      False   \n..                                                 ...        ...   \n533  Just saw #Eternals and I was really disappoint...      False   \n534  @Jayaeen We want #salt to be a trilogy we want...      False   \n535                      Eternals was so good wtf?!?!?      False   \n536  @heyyoukid415 @ira We want #salt to be a trilo...      False   \n537  Mr. Brown's Movie Breakdown: Marvel's Eternals...      False   \n\n    display_text_range                                           entities  \\\n0             [0, 102]  {'hashtags': [{'text': 'arcane', 'indices': [7...   \n1             [0, 108]  {'hashtags': [{'text': 'Arcane', 'indices': [6...   \n2             [0, 139]  {'hashtags': [], 'symbols': [], 'user_mentions...   \n3              [0, 84]  {'hashtags': [{'text': 'Arcane', 'indices': [3...   \n4              [0, 54]  {'hashtags': [], 'symbols': [], 'user_mentions...   \n..                 ...                                                ...   \n533           [0, 107]  {'hashtags': [{'text': 'Eternals', 'indices': ...   \n534           [9, 118]  {'hashtags': [{'text': 'salt', 'indices': [17,...   \n535            [0, 29]  {'hashtags': [], 'symbols': [], 'user_mentions...   \n536          [19, 128]  {'hashtags': [{'text': 'salt', 'indices': [27,...   \n537           [0, 106]  {'hashtags': [], 'symbols': [], 'user_mentions...   \n\n                                     extended_entities  \\\n0    {'media': [{'id': 1463627942358097923, 'id_str...   \n1    {'media': [{'id': 1463461643833200645, 'id_str...   \n2                                                 None   \n3    {'media': [{'id': 1463499779409793033, 'id_str...   \n4    {'media': [{'id': 1463676826291740674, 'id_str...   \n..                                                 ...   \n533                                               None   \n534                                               None   \n535                                               None   \n536                                               None   \n537                                               None   \n\n                                              metadata  \\\n0    {'iso_language_code': 'en', 'result_type': 're...   \n1    {'iso_language_code': 'en', 'result_type': 're...   \n2    {'iso_language_code': 'en', 'result_type': 're...   \n3    {'iso_language_code': 'en', 'result_type': 're...   \n4    {'iso_language_code': 'en', 'result_type': 're...   \n..                                                 ...   \n533  {'iso_language_code': 'en', 'result_type': 're...   \n534  {'iso_language_code': 'en', 'result_type': 're...   \n535  {'iso_language_code': 'en', 'result_type': 're...   \n536  {'iso_language_code': 'en', 'result_type': 're...   \n537  {'iso_language_code': 'en', 'result_type': 're...   \n\n                                                source  ...  favorite_count  \\\n0    <a href=\"http://twitter.com/download/iphone\" r...  ...               0   \n1    <a href=\"http://twitter.com/download/android\" ...  ...               0   \n2    <a href=\"https://mobile.twitter.com\" rel=\"nofo...  ...               0   \n3    <a href=\"http://twitter.com/download/iphone\" r...  ...               0   \n4    <a href=\"https://mobile.twitter.com\" rel=\"nofo...  ...               0   \n..                                                 ...  ...             ...   \n533  <a href=\"http://twitter.com/download/iphone\" r...  ...               0   \n534  <a href=\"http://twitter.com/download/iphone\" r...  ...               0   \n535  <a href=\"http://twitter.com/download/iphone\" r...  ...               0   \n536  <a href=\"http://twitter.com/download/iphone\" r...  ...               0   \n537  <a href=\"https://mobile.twitter.com\" rel=\"nofo...  ...               0   \n\n     favorited  retweeted  possibly_sensitive lang quoted_status_id  \\\n0        False      False                 0.0   en              NaN   \n1        False      False                 0.0   en              NaN   \n2        False      False                 NaN   en              NaN   \n3        False      False                 0.0   en              NaN   \n4        False      False                 0.0   en              NaN   \n..         ...        ...                 ...  ...              ...   \n533      False      False                 NaN   en              NaN   \n534      False      False                 NaN   en              NaN   \n535      False      False                 NaN   en              NaN   \n536      False      False                 NaN   en              NaN   \n537      False      False                 0.0   en              NaN   \n\n     quoted_status_id_str  quoted_status  \\\n0                     NaN           None   \n1                     NaN           None   \n2                     NaN           None   \n3                     NaN           None   \n4                     NaN           None   \n..                    ...            ...   \n533                   NaN           None   \n534                   NaN           None   \n535                   NaN           None   \n536                   NaN           None   \n537                   NaN           None   \n\n                                         inferred_text  is-spam  \n0    My Mel Medarda cosplay 🖤 i’m still not over th...        0  \n1    Made a smol gif with my fav cupcakes🧁💜❤️\\n#Arc...        0  \n2    More practice\\nhomies I still hate doing full ...        0  \n3    Right at it again. \\n\\n#Arcane #piltoversfines...        0  \n4    self proclaimed free thinkers when arcane jinx...        0  \n..                                                 ...      ...  \n533  Just saw #Eternals and I was really disappoint...        0  \n534  @Jayaeen We want #salt to be a trilogy we want...        0  \n535                      Eternals was so good wtf?!?!?        0  \n536  @heyyoukid415 @ira We want #salt to be a trilo...        0  \n537  Mr. Brown's Movie Breakdown: Marvel's Eternals...        0  \n\n[1583 rows x 33 columns]",
      "text/html": "<div>\n<style scoped>\n    .dataframe tbody tr th:only-of-type {\n        vertical-align: middle;\n    }\n\n    .dataframe tbody tr th {\n        vertical-align: top;\n    }\n\n    .dataframe thead th {\n        text-align: right;\n    }\n</style>\n<table border=\"1\" class=\"dataframe\">\n  <thead>\n    <tr style=\"text-align: right;\">\n      <th></th>\n      <th>created_at</th>\n      <th>id</th>\n      <th>id_str</th>\n      <th>full_text</th>\n      <th>truncated</th>\n      <th>display_text_range</th>\n      <th>entities</th>\n      <th>extended_entities</th>\n      <th>metadata</th>\n      <th>source</th>\n      <th>...</th>\n      <th>favorite_count</th>\n      <th>favorited</th>\n      <th>retweeted</th>\n      <th>possibly_sensitive</th>\n      <th>lang</th>\n      <th>quoted_status_id</th>\n      <th>quoted_status_id_str</th>\n      <th>quoted_status</th>\n      <th>inferred_text</th>\n      <th>is-spam</th>\n    </tr>\n  </thead>\n  <tbody>\n    <tr>\n      <th>0</th>\n      <td>2021-11-25 01:16:10+00:00</td>\n      <td>1463677861764681729</td>\n      <td>1463677861764681728</td>\n      <td>RT @yungm3dusa: My Mel Medarda cosplay 🖤 i’m s...</td>\n      <td>False</td>\n      <td>[0, 102]</td>\n      <td>{'hashtags': [{'text': 'arcane', 'indices': [7...</td>\n      <td>{'media': [{'id': 1463627942358097923, 'id_str...</td>\n      <td>{'iso_language_code': 'en', 'result_type': 're...</td>\n      <td>&lt;a href=\"http://twitter.com/download/iphone\" r...</td>\n      <td>...</td>\n      <td>0</td>\n      <td>False</td>\n      <td>False</td>\n      <td>0.0</td>\n      <td>en</td>\n      <td>NaN</td>\n      <td>NaN</td>\n      <td>None</td>\n      <td>My Mel Medarda cosplay 🖤 i’m still not over th...</td>\n      <td>0</td>\n    </tr>\n    <tr>\n      <th>1</th>\n      <td>2021-11-25 01:16:10+00:00</td>\n      <td>1463677860263120897</td>\n      <td>1463677860263120896</td>\n      <td>RT @Snegovski9623: Made a smol gif with my fav...</td>\n      <td>False</td>\n      <td>[0, 108]</td>\n      <td>{'hashtags': [{'text': 'Arcane', 'indices': [6...</td>\n      <td>{'media': [{'id': 1463461643833200645, 'id_str...</td>\n      <td>{'iso_language_code': 'en', 'result_type': 're...</td>\n      <td>&lt;a href=\"http://twitter.com/download/android\" ...</td>\n      <td>...</td>\n      <td>0</td>\n      <td>False</td>\n      <td>False</td>\n      <td>0.0</td>\n      <td>en</td>\n      <td>NaN</td>\n      <td>NaN</td>\n      <td>None</td>\n      <td>Made a smol gif with my fav cupcakes🧁💜❤️\\n#Arc...</td>\n      <td>0</td>\n    </tr>\n    <tr>\n      <th>2</th>\n      <td>2021-11-25 01:16:08+00:00</td>\n      <td>1463677853245919232</td>\n      <td>1463677853245919232</td>\n      <td>RT @Meshymayhem: More practice\\nhomies I still...</td>\n      <td>False</td>\n      <td>[0, 139]</td>\n      <td>{'hashtags': [], 'symbols': [], 'user_mentions...</td>\n      <td>None</td>\n      <td>{'iso_language_code': 'en', 'result_type': 're...</td>\n      <td>&lt;a href=\"https://mobile.twitter.com\" rel=\"nofo...</td>\n      <td>...</td>\n      <td>0</td>\n      <td>False</td>\n      <td>False</td>\n      <td>NaN</td>\n      <td>en</td>\n      <td>NaN</td>\n      <td>NaN</td>\n      <td>None</td>\n      <td>More practice\\nhomies I still hate doing full ...</td>\n      <td>0</td>\n    </tr>\n    <tr>\n      <th>3</th>\n      <td>2021-11-25 01:16:06+00:00</td>\n      <td>1463677843812929536</td>\n      <td>1463677843812929536</td>\n      <td>RT @treker402: Right at it again. \\n\\n#Arcane ...</td>\n      <td>False</td>\n      <td>[0, 84]</td>\n      <td>{'hashtags': [{'text': 'Arcane', 'indices': [3...</td>\n      <td>{'media': [{'id': 1463499779409793033, 'id_str...</td>\n      <td>{'iso_language_code': 'en', 'result_type': 're...</td>\n      <td>&lt;a href=\"http://twitter.com/download/iphone\" r...</td>\n      <td>...</td>\n      <td>0</td>\n      <td>False</td>\n      <td>False</td>\n      <td>0.0</td>\n      <td>en</td>\n      <td>NaN</td>\n      <td>NaN</td>\n      <td>None</td>\n      <td>Right at it again. \\n\\n#Arcane #piltoversfines...</td>\n      <td>0</td>\n    </tr>\n    <tr>\n      <th>4</th>\n      <td>2021-11-25 01:16:05+00:00</td>\n      <td>1463677841900556290</td>\n      <td>1463677841900556288</td>\n      <td>self proclaimed free thinkers when arcane jinx...</td>\n      <td>False</td>\n      <td>[0, 54]</td>\n      <td>{'hashtags': [], 'symbols': [], 'user_mentions...</td>\n      <td>{'media': [{'id': 1463676826291740674, 'id_str...</td>\n      <td>{'iso_language_code': 'en', 'result_type': 're...</td>\n      <td>&lt;a href=\"https://mobile.twitter.com\" rel=\"nofo...</td>\n      <td>...</td>\n      <td>0</td>\n      <td>False</td>\n      <td>False</td>\n      <td>0.0</td>\n      <td>en</td>\n      <td>NaN</td>\n      <td>NaN</td>\n      <td>None</td>\n      <td>self proclaimed free thinkers when arcane jinx...</td>\n      <td>0</td>\n    </tr>\n    <tr>\n      <th>...</th>\n      <td>...</td>\n      <td>...</td>\n      <td>...</td>\n      <td>...</td>\n      <td>...</td>\n      <td>...</td>\n      <td>...</td>\n      <td>...</td>\n      <td>...</td>\n      <td>...</td>\n      <td>...</td>\n      <td>...</td>\n      <td>...</td>\n      <td>...</td>\n      <td>...</td>\n      <td>...</td>\n      <td>...</td>\n      <td>...</td>\n      <td>...</td>\n      <td>...</td>\n      <td>...</td>\n    </tr>\n    <tr>\n      <th>533</th>\n      <td>2021-11-24 22:55:23+00:00</td>\n      <td>1463642432281747457</td>\n      <td>1463642432281747456</td>\n      <td>Just saw #Eternals and I was really disappoint...</td>\n      <td>False</td>\n      <td>[0, 107]</td>\n      <td>{'hashtags': [{'text': 'Eternals', 'indices': ...</td>\n      <td>None</td>\n      <td>{'iso_language_code': 'en', 'result_type': 're...</td>\n      <td>&lt;a href=\"http://twitter.com/download/iphone\" r...</td>\n      <td>...</td>\n      <td>0</td>\n      <td>False</td>\n      <td>False</td>\n      <td>NaN</td>\n      <td>en</td>\n      <td>NaN</td>\n      <td>NaN</td>\n      <td>None</td>\n      <td>Just saw #Eternals and I was really disappoint...</td>\n      <td>0</td>\n    </tr>\n    <tr>\n      <th>534</th>\n      <td>2021-11-24 22:55:21+00:00</td>\n      <td>1463642421997314048</td>\n      <td>1463642421997314048</td>\n      <td>@Jayaeen We want #salt to be a trilogy we want...</td>\n      <td>False</td>\n      <td>[9, 118]</td>\n      <td>{'hashtags': [{'text': 'salt', 'indices': [17,...</td>\n      <td>None</td>\n      <td>{'iso_language_code': 'en', 'result_type': 're...</td>\n      <td>&lt;a href=\"http://twitter.com/download/iphone\" r...</td>\n      <td>...</td>\n      <td>0</td>\n      <td>False</td>\n      <td>False</td>\n      <td>NaN</td>\n      <td>en</td>\n      <td>NaN</td>\n      <td>NaN</td>\n      <td>None</td>\n      <td>@Jayaeen We want #salt to be a trilogy we want...</td>\n      <td>0</td>\n    </tr>\n    <tr>\n      <th>535</th>\n      <td>2021-11-24 22:54:53+00:00</td>\n      <td>1463642306171465728</td>\n      <td>1463642306171465728</td>\n      <td>Eternals was so good wtf?!?!?</td>\n      <td>False</td>\n      <td>[0, 29]</td>\n      <td>{'hashtags': [], 'symbols': [], 'user_mentions...</td>\n      <td>None</td>\n      <td>{'iso_language_code': 'en', 'result_type': 're...</td>\n      <td>&lt;a href=\"http://twitter.com/download/iphone\" r...</td>\n      <td>...</td>\n      <td>0</td>\n      <td>False</td>\n      <td>False</td>\n      <td>NaN</td>\n      <td>en</td>\n      <td>NaN</td>\n      <td>NaN</td>\n      <td>None</td>\n      <td>Eternals was so good wtf?!?!?</td>\n      <td>0</td>\n    </tr>\n    <tr>\n      <th>536</th>\n      <td>2021-11-24 22:54:46+00:00</td>\n      <td>1463642274336751630</td>\n      <td>1463642274336751616</td>\n      <td>@heyyoukid415 @ira We want #salt to be a trilo...</td>\n      <td>False</td>\n      <td>[19, 128]</td>\n      <td>{'hashtags': [{'text': 'salt', 'indices': [27,...</td>\n      <td>None</td>\n      <td>{'iso_language_code': 'en', 'result_type': 're...</td>\n      <td>&lt;a href=\"http://twitter.com/download/iphone\" r...</td>\n      <td>...</td>\n      <td>0</td>\n      <td>False</td>\n      <td>False</td>\n      <td>NaN</td>\n      <td>en</td>\n      <td>NaN</td>\n      <td>NaN</td>\n      <td>None</td>\n      <td>@heyyoukid415 @ira We want #salt to be a trilo...</td>\n      <td>0</td>\n    </tr>\n    <tr>\n      <th>537</th>\n      <td>2021-11-24 22:54:23+00:00</td>\n      <td>1463642180199747585</td>\n      <td>1463642180199747584</td>\n      <td>Mr. Brown's Movie Breakdown: Marvel's Eternals...</td>\n      <td>False</td>\n      <td>[0, 106]</td>\n      <td>{'hashtags': [], 'symbols': [], 'user_mentions...</td>\n      <td>None</td>\n      <td>{'iso_language_code': 'en', 'result_type': 're...</td>\n      <td>&lt;a href=\"https://mobile.twitter.com\" rel=\"nofo...</td>\n      <td>...</td>\n      <td>0</td>\n      <td>False</td>\n      <td>False</td>\n      <td>0.0</td>\n      <td>en</td>\n      <td>NaN</td>\n      <td>NaN</td>\n      <td>None</td>\n      <td>Mr. Brown's Movie Breakdown: Marvel's Eternals...</td>\n      <td>0</td>\n    </tr>\n  </tbody>\n</table>\n<p>1583 rows × 33 columns</p>\n</div>"
     },
     "execution_count": 2,
     "metadata": {},
     "output_type": "execute_result"
    }
   ],
   "source": [
    "tweet_df"
   ],
   "metadata": {
    "collapsed": false,
    "pycharm": {
     "name": "#%%\n"
    }
   }
  },
  {
   "cell_type": "markdown",
   "source": [
    "Things need to be opened:\n",
    "1. entities -> opened\n",
    "2. extended_entities -> opened (if any)\n",
    "3. metadata -> opened\n",
    "4. user -> opened"
   ],
   "metadata": {
    "collapsed": false
   }
  },
  {
   "cell_type": "code",
   "execution_count": 3,
   "outputs": [],
   "source": [
    "# Nested opener\n",
    "open_candidate = [\n",
    "    'entities',\n",
    "    'extended_entities',\n",
    "    'metadata',\n",
    "    'user'\n",
    "]\n",
    "\n",
    "for attr in open_candidate:\n",
    "    attr_opened = tweet_df.get(attr).apply(pd.Series).add_prefix(attr+'_')\n",
    "    tweet_df = pd.concat([tweet_df, attr_opened], axis=1).drop(attr, axis=1)"
   ],
   "metadata": {
    "collapsed": false,
    "pycharm": {
     "name": "#%%\n"
    }
   }
  },
  {
   "cell_type": "code",
   "execution_count": 4,
   "outputs": [
    {
     "data": {
      "text/plain": "                   created_at                   id               id_str  \\\n0   2021-11-25 01:16:10+00:00  1463677861764681729  1463677861764681728   \n1   2021-11-25 01:16:10+00:00  1463677860263120897  1463677860263120896   \n2   2021-11-25 01:16:08+00:00  1463677853245919232  1463677853245919232   \n3   2021-11-25 01:16:06+00:00  1463677843812929536  1463677843812929536   \n4   2021-11-25 01:16:05+00:00  1463677841900556290  1463677841900556288   \n..                        ...                  ...                  ...   \n533 2021-11-24 22:55:23+00:00  1463642432281747457  1463642432281747456   \n534 2021-11-24 22:55:21+00:00  1463642421997314048  1463642421997314048   \n535 2021-11-24 22:54:53+00:00  1463642306171465728  1463642306171465728   \n536 2021-11-24 22:54:46+00:00  1463642274336751630  1463642274336751616   \n537 2021-11-24 22:54:23+00:00  1463642180199747585  1463642180199747584   \n\n                                             full_text  truncated  \\\n0    RT @yungm3dusa: My Mel Medarda cosplay 🖤 i’m s...      False   \n1    RT @Snegovski9623: Made a smol gif with my fav...      False   \n2    RT @Meshymayhem: More practice\\nhomies I still...      False   \n3    RT @treker402: Right at it again. \\n\\n#Arcane ...      False   \n4    self proclaimed free thinkers when arcane jinx...      False   \n..                                                 ...        ...   \n533  Just saw #Eternals and I was really disappoint...      False   \n534  @Jayaeen We want #salt to be a trilogy we want...      False   \n535                      Eternals was so good wtf?!?!?      False   \n536  @heyyoukid415 @ira We want #salt to be a trilo...      False   \n537  Mr. Brown's Movie Breakdown: Marvel's Eternals...      False   \n\n    display_text_range                                             source  \\\n0             [0, 102]  <a href=\"http://twitter.com/download/iphone\" r...   \n1             [0, 108]  <a href=\"http://twitter.com/download/android\" ...   \n2             [0, 139]  <a href=\"https://mobile.twitter.com\" rel=\"nofo...   \n3              [0, 84]  <a href=\"http://twitter.com/download/iphone\" r...   \n4              [0, 54]  <a href=\"https://mobile.twitter.com\" rel=\"nofo...   \n..                 ...                                                ...   \n533           [0, 107]  <a href=\"http://twitter.com/download/iphone\" r...   \n534           [9, 118]  <a href=\"http://twitter.com/download/iphone\" r...   \n535            [0, 29]  <a href=\"http://twitter.com/download/iphone\" r...   \n536          [19, 128]  <a href=\"http://twitter.com/download/iphone\" r...   \n537           [0, 106]  <a href=\"https://mobile.twitter.com\" rel=\"nofo...   \n\n     in_reply_to_status_id  in_reply_to_status_id_str  in_reply_to_user_id  \\\n0                      NaN                        NaN                  NaN   \n1                      NaN                        NaN                  NaN   \n2                      NaN                        NaN                  NaN   \n3                      NaN                        NaN                  NaN   \n4             1.463677e+18               1.463677e+18         1.316974e+18   \n..                     ...                        ...                  ...   \n533                    NaN                        NaN                  NaN   \n534           1.463502e+18               1.463502e+18         1.057937e+18   \n535                    NaN                        NaN                  NaN   \n536           1.246182e+18               1.246182e+18         1.954975e+09   \n537                    NaN                        NaN                  NaN   \n\n     ...  user_profile_text_color user_profile_use_background_image  \\\n0    ...                   000000                             False   \n1    ...                   000000                             False   \n2    ...                   333333                              True   \n3    ...                   333333                              True   \n4    ...                   333333                              True   \n..   ...                      ...                               ...   \n533  ...                   333333                              True   \n534  ...                   333333                              True   \n535  ...                   000000                             False   \n536  ...                   333333                              True   \n537  ...                   666666                              True   \n\n     user_has_extended_profile  user_default_profile  \\\n0                         True                 False   \n1                         True                 False   \n2                         True                  True   \n3                         True                  True   \n4                         True                  True   \n..                         ...                   ...   \n533                       True                  True   \n534                      False                  True   \n535                      False                 False   \n536                      False                  True   \n537                      False                 False   \n\n    user_default_profile_image  user_following user_follow_request_sent  \\\n0                        False            None                     None   \n1                        False            None                     None   \n2                        False            None                     None   \n3                        False            None                     None   \n4                        False            None                     None   \n..                         ...             ...                      ...   \n533                      False            None                     None   \n534                       True            None                     None   \n535                      False            None                     None   \n536                       True            None                     None   \n537                      False            None                     None   \n\n     user_notifications  user_translator_type  user_withheld_in_countries  \n0                  None                  none                          []  \n1                  None                  none                          []  \n2                  None                  none                          []  \n3                  None                  none                          []  \n4                  None                  none                          []  \n..                  ...                   ...                         ...  \n533                None                  none                          []  \n534                None                  none                          []  \n535                None                  none                          []  \n536                None                  none                          []  \n537                None                  none                          []  \n\n[1583 rows x 80 columns]",
      "text/html": "<div>\n<style scoped>\n    .dataframe tbody tr th:only-of-type {\n        vertical-align: middle;\n    }\n\n    .dataframe tbody tr th {\n        vertical-align: top;\n    }\n\n    .dataframe thead th {\n        text-align: right;\n    }\n</style>\n<table border=\"1\" class=\"dataframe\">\n  <thead>\n    <tr style=\"text-align: right;\">\n      <th></th>\n      <th>created_at</th>\n      <th>id</th>\n      <th>id_str</th>\n      <th>full_text</th>\n      <th>truncated</th>\n      <th>display_text_range</th>\n      <th>source</th>\n      <th>in_reply_to_status_id</th>\n      <th>in_reply_to_status_id_str</th>\n      <th>in_reply_to_user_id</th>\n      <th>...</th>\n      <th>user_profile_text_color</th>\n      <th>user_profile_use_background_image</th>\n      <th>user_has_extended_profile</th>\n      <th>user_default_profile</th>\n      <th>user_default_profile_image</th>\n      <th>user_following</th>\n      <th>user_follow_request_sent</th>\n      <th>user_notifications</th>\n      <th>user_translator_type</th>\n      <th>user_withheld_in_countries</th>\n    </tr>\n  </thead>\n  <tbody>\n    <tr>\n      <th>0</th>\n      <td>2021-11-25 01:16:10+00:00</td>\n      <td>1463677861764681729</td>\n      <td>1463677861764681728</td>\n      <td>RT @yungm3dusa: My Mel Medarda cosplay 🖤 i’m s...</td>\n      <td>False</td>\n      <td>[0, 102]</td>\n      <td>&lt;a href=\"http://twitter.com/download/iphone\" r...</td>\n      <td>NaN</td>\n      <td>NaN</td>\n      <td>NaN</td>\n      <td>...</td>\n      <td>000000</td>\n      <td>False</td>\n      <td>True</td>\n      <td>False</td>\n      <td>False</td>\n      <td>None</td>\n      <td>None</td>\n      <td>None</td>\n      <td>none</td>\n      <td>[]</td>\n    </tr>\n    <tr>\n      <th>1</th>\n      <td>2021-11-25 01:16:10+00:00</td>\n      <td>1463677860263120897</td>\n      <td>1463677860263120896</td>\n      <td>RT @Snegovski9623: Made a smol gif with my fav...</td>\n      <td>False</td>\n      <td>[0, 108]</td>\n      <td>&lt;a href=\"http://twitter.com/download/android\" ...</td>\n      <td>NaN</td>\n      <td>NaN</td>\n      <td>NaN</td>\n      <td>...</td>\n      <td>000000</td>\n      <td>False</td>\n      <td>True</td>\n      <td>False</td>\n      <td>False</td>\n      <td>None</td>\n      <td>None</td>\n      <td>None</td>\n      <td>none</td>\n      <td>[]</td>\n    </tr>\n    <tr>\n      <th>2</th>\n      <td>2021-11-25 01:16:08+00:00</td>\n      <td>1463677853245919232</td>\n      <td>1463677853245919232</td>\n      <td>RT @Meshymayhem: More practice\\nhomies I still...</td>\n      <td>False</td>\n      <td>[0, 139]</td>\n      <td>&lt;a href=\"https://mobile.twitter.com\" rel=\"nofo...</td>\n      <td>NaN</td>\n      <td>NaN</td>\n      <td>NaN</td>\n      <td>...</td>\n      <td>333333</td>\n      <td>True</td>\n      <td>True</td>\n      <td>True</td>\n      <td>False</td>\n      <td>None</td>\n      <td>None</td>\n      <td>None</td>\n      <td>none</td>\n      <td>[]</td>\n    </tr>\n    <tr>\n      <th>3</th>\n      <td>2021-11-25 01:16:06+00:00</td>\n      <td>1463677843812929536</td>\n      <td>1463677843812929536</td>\n      <td>RT @treker402: Right at it again. \\n\\n#Arcane ...</td>\n      <td>False</td>\n      <td>[0, 84]</td>\n      <td>&lt;a href=\"http://twitter.com/download/iphone\" r...</td>\n      <td>NaN</td>\n      <td>NaN</td>\n      <td>NaN</td>\n      <td>...</td>\n      <td>333333</td>\n      <td>True</td>\n      <td>True</td>\n      <td>True</td>\n      <td>False</td>\n      <td>None</td>\n      <td>None</td>\n      <td>None</td>\n      <td>none</td>\n      <td>[]</td>\n    </tr>\n    <tr>\n      <th>4</th>\n      <td>2021-11-25 01:16:05+00:00</td>\n      <td>1463677841900556290</td>\n      <td>1463677841900556288</td>\n      <td>self proclaimed free thinkers when arcane jinx...</td>\n      <td>False</td>\n      <td>[0, 54]</td>\n      <td>&lt;a href=\"https://mobile.twitter.com\" rel=\"nofo...</td>\n      <td>1.463677e+18</td>\n      <td>1.463677e+18</td>\n      <td>1.316974e+18</td>\n      <td>...</td>\n      <td>333333</td>\n      <td>True</td>\n      <td>True</td>\n      <td>True</td>\n      <td>False</td>\n      <td>None</td>\n      <td>None</td>\n      <td>None</td>\n      <td>none</td>\n      <td>[]</td>\n    </tr>\n    <tr>\n      <th>...</th>\n      <td>...</td>\n      <td>...</td>\n      <td>...</td>\n      <td>...</td>\n      <td>...</td>\n      <td>...</td>\n      <td>...</td>\n      <td>...</td>\n      <td>...</td>\n      <td>...</td>\n      <td>...</td>\n      <td>...</td>\n      <td>...</td>\n      <td>...</td>\n      <td>...</td>\n      <td>...</td>\n      <td>...</td>\n      <td>...</td>\n      <td>...</td>\n      <td>...</td>\n      <td>...</td>\n    </tr>\n    <tr>\n      <th>533</th>\n      <td>2021-11-24 22:55:23+00:00</td>\n      <td>1463642432281747457</td>\n      <td>1463642432281747456</td>\n      <td>Just saw #Eternals and I was really disappoint...</td>\n      <td>False</td>\n      <td>[0, 107]</td>\n      <td>&lt;a href=\"http://twitter.com/download/iphone\" r...</td>\n      <td>NaN</td>\n      <td>NaN</td>\n      <td>NaN</td>\n      <td>...</td>\n      <td>333333</td>\n      <td>True</td>\n      <td>True</td>\n      <td>True</td>\n      <td>False</td>\n      <td>None</td>\n      <td>None</td>\n      <td>None</td>\n      <td>none</td>\n      <td>[]</td>\n    </tr>\n    <tr>\n      <th>534</th>\n      <td>2021-11-24 22:55:21+00:00</td>\n      <td>1463642421997314048</td>\n      <td>1463642421997314048</td>\n      <td>@Jayaeen We want #salt to be a trilogy we want...</td>\n      <td>False</td>\n      <td>[9, 118]</td>\n      <td>&lt;a href=\"http://twitter.com/download/iphone\" r...</td>\n      <td>1.463502e+18</td>\n      <td>1.463502e+18</td>\n      <td>1.057937e+18</td>\n      <td>...</td>\n      <td>333333</td>\n      <td>True</td>\n      <td>False</td>\n      <td>True</td>\n      <td>True</td>\n      <td>None</td>\n      <td>None</td>\n      <td>None</td>\n      <td>none</td>\n      <td>[]</td>\n    </tr>\n    <tr>\n      <th>535</th>\n      <td>2021-11-24 22:54:53+00:00</td>\n      <td>1463642306171465728</td>\n      <td>1463642306171465728</td>\n      <td>Eternals was so good wtf?!?!?</td>\n      <td>False</td>\n      <td>[0, 29]</td>\n      <td>&lt;a href=\"http://twitter.com/download/iphone\" r...</td>\n      <td>NaN</td>\n      <td>NaN</td>\n      <td>NaN</td>\n      <td>...</td>\n      <td>000000</td>\n      <td>False</td>\n      <td>False</td>\n      <td>False</td>\n      <td>False</td>\n      <td>None</td>\n      <td>None</td>\n      <td>None</td>\n      <td>none</td>\n      <td>[]</td>\n    </tr>\n    <tr>\n      <th>536</th>\n      <td>2021-11-24 22:54:46+00:00</td>\n      <td>1463642274336751630</td>\n      <td>1463642274336751616</td>\n      <td>@heyyoukid415 @ira We want #salt to be a trilo...</td>\n      <td>False</td>\n      <td>[19, 128]</td>\n      <td>&lt;a href=\"http://twitter.com/download/iphone\" r...</td>\n      <td>1.246182e+18</td>\n      <td>1.246182e+18</td>\n      <td>1.954975e+09</td>\n      <td>...</td>\n      <td>333333</td>\n      <td>True</td>\n      <td>False</td>\n      <td>True</td>\n      <td>True</td>\n      <td>None</td>\n      <td>None</td>\n      <td>None</td>\n      <td>none</td>\n      <td>[]</td>\n    </tr>\n    <tr>\n      <th>537</th>\n      <td>2021-11-24 22:54:23+00:00</td>\n      <td>1463642180199747585</td>\n      <td>1463642180199747584</td>\n      <td>Mr. Brown's Movie Breakdown: Marvel's Eternals...</td>\n      <td>False</td>\n      <td>[0, 106]</td>\n      <td>&lt;a href=\"https://mobile.twitter.com\" rel=\"nofo...</td>\n      <td>NaN</td>\n      <td>NaN</td>\n      <td>NaN</td>\n      <td>...</td>\n      <td>666666</td>\n      <td>True</td>\n      <td>False</td>\n      <td>False</td>\n      <td>False</td>\n      <td>None</td>\n      <td>None</td>\n      <td>None</td>\n      <td>none</td>\n      <td>[]</td>\n    </tr>\n  </tbody>\n</table>\n<p>1583 rows × 80 columns</p>\n</div>"
     },
     "execution_count": 4,
     "metadata": {},
     "output_type": "execute_result"
    }
   ],
   "source": [
    "tweet_df"
   ],
   "metadata": {
    "collapsed": false,
    "pycharm": {
     "name": "#%%\n"
    }
   }
  },
  {
   "cell_type": "markdown",
   "source": [
    "Temporary verdict:\n",
    "1. entities_hashtags -> hashtag_count (actual hashtags are calculated in text preprocessing)\n",
    "2. entities_user_mentions -> user_mention_count (usernames aren't important)\n",
    "3. entities_media -> media_count (same as 2)\n",
    "4. retweeted_status_user -> open"
   ],
   "metadata": {
    "collapsed": false
   }
  },
  {
   "cell_type": "markdown",
   "source": [
    "delete:\n",
    "1. created_at\n",
    "2. id\n",
    "3. id_str\n",
    "4. full_text,\n",
    "5. truncated,\n",
    "6. source',\n",
    "7. lang (obv its en)\n",
    "8. quoted_status_id_str\n",
    "9. in_reply_to_status_id_str', #dup\n",
    "10. in_reply_to_user_id_str', #dup\n",
    "11. in_reply_to_screen_name' #redundant\n",
    "12. extended_entities_media (redundant)\n",
    "13. metadata_iso_language_code (of course all is en, we put it as a criteria on our earlier tweet search\n",
    "14. metadata_result_type (all recent, I do not have the historic privilege yet)\n",
    "15. user_entities (duplicate of user_description and user_url)\n",
    "16. retweeted_status_* (possible duplicate)\n",
    "\n",
    "n.b. careful of text stuff vs tabular, the former should be resolved in a recurrent manner while the rest can just be forwarded to SVM and other ML models"
   ],
   "metadata": {
    "collapsed": false
   }
  },
  {
   "cell_type": "code",
   "execution_count": 5,
   "outputs": [
    {
     "name": "stdout",
     "output_type": "stream",
     "text": [
      "Index(['created_at', 'id', 'id_str', 'full_text', 'truncated',\n",
      "       'display_text_range', 'source', 'in_reply_to_status_id',\n",
      "       'in_reply_to_status_id_str', 'in_reply_to_user_id',\n",
      "       'in_reply_to_user_id_str', 'in_reply_to_screen_name', 'geo',\n",
      "       'coordinates', 'place', 'contributors', 'retweeted_status',\n",
      "       'is_quote_status', 'retweet_count', 'favorite_count', 'favorited',\n",
      "       'retweeted', 'possibly_sensitive', 'lang', 'quoted_status_id',\n",
      "       'quoted_status_id_str', 'quoted_status', 'inferred_text', 'is-spam',\n",
      "       'entities_hashtags', 'entities_symbols', 'entities_user_mentions',\n",
      "       'entities_urls', 'entities_media', 'extended_entities_media',\n",
      "       'metadata_iso_language_code', 'metadata_result_type', 'user_id',\n",
      "       'user_id_str', 'user_name', 'user_screen_name', 'user_location',\n",
      "       'user_description', 'user_url', 'user_entities', 'user_protected',\n",
      "       'user_followers_count', 'user_friends_count', 'user_listed_count',\n",
      "       'user_created_at', 'user_favourites_count', 'user_utc_offset',\n",
      "       'user_time_zone', 'user_geo_enabled', 'user_verified',\n",
      "       'user_statuses_count', 'user_lang', 'user_contributors_enabled',\n",
      "       'user_is_translator', 'user_is_translation_enabled',\n",
      "       'user_profile_background_color', 'user_profile_background_image_url',\n",
      "       'user_profile_background_image_url_https',\n",
      "       'user_profile_background_tile', 'user_profile_image_url',\n",
      "       'user_profile_image_url_https', 'user_profile_banner_url',\n",
      "       'user_profile_link_color', 'user_profile_sidebar_border_color',\n",
      "       'user_profile_sidebar_fill_color', 'user_profile_text_color',\n",
      "       'user_profile_use_background_image', 'user_has_extended_profile',\n",
      "       'user_default_profile', 'user_default_profile_image', 'user_following',\n",
      "       'user_follow_request_sent', 'user_notifications',\n",
      "       'user_translator_type', 'user_withheld_in_countries'],\n",
      "      dtype='object')\n"
     ]
    }
   ],
   "source": [
    "print(tweet_df.columns)\n",
    "# Verdict: drop these clear attr:\n",
    "drop_cand = [\n",
    "    'created_at',\n",
    "    'id',\n",
    "    'id_str',\n",
    "    'full_text',\n",
    "    'truncated',\n",
    "    'source',\n",
    "    'lang',\n",
    "    'quoted_status_id_str',\n",
    "    'extended_entities_media',\n",
    "    'metadata_iso_language_code',\n",
    "    'metadata_result_type',\n",
    "    'user_entities',\n",
    "    'retweeted_status',\n",
    "    'in_reply_to_status_id_str', #dup\n",
    "    'in_reply_to_user_id_str', #dup\n",
    "    'in_reply_to_screen_name', #redundant\n",
    "    'in_reply_to_user_id',\n",
    "    'user_id',\n",
    "    'user_id_str',\n",
    "    'user_name',\n",
    "    'user_url',\n",
    "    'user_utc_offset',\n",
    "    'user_time_zone',\n",
    "    'user_lang',\n",
    "    'user_profile_background_image_url',\n",
    "    'user_profile_background_image_url_https',\n",
    "    'user_profile_image_url',\n",
    "    'user_profile_image_url_https',\n",
    "    'user_profile_banner_url',\n",
    "\n",
    "]"
   ],
   "metadata": {
    "collapsed": false,
    "pycharm": {
     "name": "#%%\n"
    }
   }
  },
  {
   "cell_type": "code",
   "execution_count": 6,
   "outputs": [],
   "source": [
    "tweet_df.drop(drop_cand, axis=1, inplace=True)"
   ],
   "metadata": {
    "collapsed": false,
    "pycharm": {
     "name": "#%%\n"
    }
   }
  },
  {
   "cell_type": "code",
   "execution_count": 7,
   "outputs": [
    {
     "data": {
      "text/plain": "    display_text_range  in_reply_to_status_id  geo  coordinates place  \\\n0             [0, 102]                    NaN  NaN          NaN   NaN   \n1             [0, 108]                    NaN  NaN          NaN   NaN   \n2             [0, 139]                    NaN  NaN          NaN   NaN   \n3              [0, 84]                    NaN  NaN          NaN   NaN   \n4              [0, 54]           1.463677e+18  NaN          NaN   NaN   \n..                 ...                    ...  ...          ...   ...   \n533           [0, 107]                    NaN  NaN          NaN  None   \n534           [9, 118]           1.463502e+18  NaN          NaN  None   \n535            [0, 29]                    NaN  NaN          NaN  None   \n536          [19, 128]           1.246182e+18  NaN          NaN  None   \n537           [0, 106]                    NaN  NaN          NaN  None   \n\n     contributors  is_quote_status  retweet_count  favorite_count  favorited  \\\n0             NaN            False            247               0      False   \n1             NaN            False           2543               0      False   \n2             NaN            False            816               0      False   \n3             NaN            False           2687               0      False   \n4             NaN            False              0               0      False   \n..            ...              ...            ...             ...        ...   \n533           NaN            False              0               0      False   \n534           NaN            False              0               0      False   \n535           NaN            False              0               0      False   \n536           NaN            False              0               0      False   \n537           NaN            False              1               0      False   \n\n     ...  user_profile_text_color  user_profile_use_background_image  \\\n0    ...                   000000                              False   \n1    ...                   000000                              False   \n2    ...                   333333                               True   \n3    ...                   333333                               True   \n4    ...                   333333                               True   \n..   ...                      ...                                ...   \n533  ...                   333333                               True   \n534  ...                   333333                               True   \n535  ...                   000000                              False   \n536  ...                   333333                               True   \n537  ...                   666666                               True   \n\n     user_has_extended_profile user_default_profile  \\\n0                         True                False   \n1                         True                False   \n2                         True                 True   \n3                         True                 True   \n4                         True                 True   \n..                         ...                  ...   \n533                       True                 True   \n534                      False                 True   \n535                      False                False   \n536                      False                 True   \n537                      False                False   \n\n    user_default_profile_image  user_following user_follow_request_sent  \\\n0                        False            None                     None   \n1                        False            None                     None   \n2                        False            None                     None   \n3                        False            None                     None   \n4                        False            None                     None   \n..                         ...             ...                      ...   \n533                      False            None                     None   \n534                       True            None                     None   \n535                      False            None                     None   \n536                       True            None                     None   \n537                      False            None                     None   \n\n    user_notifications user_translator_type user_withheld_in_countries  \n0                 None                 none                         []  \n1                 None                 none                         []  \n2                 None                 none                         []  \n3                 None                 none                         []  \n4                 None                 none                         []  \n..                 ...                  ...                        ...  \n533               None                 none                         []  \n534               None                 none                         []  \n535               None                 none                         []  \n536               None                 none                         []  \n537               None                 none                         []  \n\n[1583 rows x 51 columns]",
      "text/html": "<div>\n<style scoped>\n    .dataframe tbody tr th:only-of-type {\n        vertical-align: middle;\n    }\n\n    .dataframe tbody tr th {\n        vertical-align: top;\n    }\n\n    .dataframe thead th {\n        text-align: right;\n    }\n</style>\n<table border=\"1\" class=\"dataframe\">\n  <thead>\n    <tr style=\"text-align: right;\">\n      <th></th>\n      <th>display_text_range</th>\n      <th>in_reply_to_status_id</th>\n      <th>geo</th>\n      <th>coordinates</th>\n      <th>place</th>\n      <th>contributors</th>\n      <th>is_quote_status</th>\n      <th>retweet_count</th>\n      <th>favorite_count</th>\n      <th>favorited</th>\n      <th>...</th>\n      <th>user_profile_text_color</th>\n      <th>user_profile_use_background_image</th>\n      <th>user_has_extended_profile</th>\n      <th>user_default_profile</th>\n      <th>user_default_profile_image</th>\n      <th>user_following</th>\n      <th>user_follow_request_sent</th>\n      <th>user_notifications</th>\n      <th>user_translator_type</th>\n      <th>user_withheld_in_countries</th>\n    </tr>\n  </thead>\n  <tbody>\n    <tr>\n      <th>0</th>\n      <td>[0, 102]</td>\n      <td>NaN</td>\n      <td>NaN</td>\n      <td>NaN</td>\n      <td>NaN</td>\n      <td>NaN</td>\n      <td>False</td>\n      <td>247</td>\n      <td>0</td>\n      <td>False</td>\n      <td>...</td>\n      <td>000000</td>\n      <td>False</td>\n      <td>True</td>\n      <td>False</td>\n      <td>False</td>\n      <td>None</td>\n      <td>None</td>\n      <td>None</td>\n      <td>none</td>\n      <td>[]</td>\n    </tr>\n    <tr>\n      <th>1</th>\n      <td>[0, 108]</td>\n      <td>NaN</td>\n      <td>NaN</td>\n      <td>NaN</td>\n      <td>NaN</td>\n      <td>NaN</td>\n      <td>False</td>\n      <td>2543</td>\n      <td>0</td>\n      <td>False</td>\n      <td>...</td>\n      <td>000000</td>\n      <td>False</td>\n      <td>True</td>\n      <td>False</td>\n      <td>False</td>\n      <td>None</td>\n      <td>None</td>\n      <td>None</td>\n      <td>none</td>\n      <td>[]</td>\n    </tr>\n    <tr>\n      <th>2</th>\n      <td>[0, 139]</td>\n      <td>NaN</td>\n      <td>NaN</td>\n      <td>NaN</td>\n      <td>NaN</td>\n      <td>NaN</td>\n      <td>False</td>\n      <td>816</td>\n      <td>0</td>\n      <td>False</td>\n      <td>...</td>\n      <td>333333</td>\n      <td>True</td>\n      <td>True</td>\n      <td>True</td>\n      <td>False</td>\n      <td>None</td>\n      <td>None</td>\n      <td>None</td>\n      <td>none</td>\n      <td>[]</td>\n    </tr>\n    <tr>\n      <th>3</th>\n      <td>[0, 84]</td>\n      <td>NaN</td>\n      <td>NaN</td>\n      <td>NaN</td>\n      <td>NaN</td>\n      <td>NaN</td>\n      <td>False</td>\n      <td>2687</td>\n      <td>0</td>\n      <td>False</td>\n      <td>...</td>\n      <td>333333</td>\n      <td>True</td>\n      <td>True</td>\n      <td>True</td>\n      <td>False</td>\n      <td>None</td>\n      <td>None</td>\n      <td>None</td>\n      <td>none</td>\n      <td>[]</td>\n    </tr>\n    <tr>\n      <th>4</th>\n      <td>[0, 54]</td>\n      <td>1.463677e+18</td>\n      <td>NaN</td>\n      <td>NaN</td>\n      <td>NaN</td>\n      <td>NaN</td>\n      <td>False</td>\n      <td>0</td>\n      <td>0</td>\n      <td>False</td>\n      <td>...</td>\n      <td>333333</td>\n      <td>True</td>\n      <td>True</td>\n      <td>True</td>\n      <td>False</td>\n      <td>None</td>\n      <td>None</td>\n      <td>None</td>\n      <td>none</td>\n      <td>[]</td>\n    </tr>\n    <tr>\n      <th>...</th>\n      <td>...</td>\n      <td>...</td>\n      <td>...</td>\n      <td>...</td>\n      <td>...</td>\n      <td>...</td>\n      <td>...</td>\n      <td>...</td>\n      <td>...</td>\n      <td>...</td>\n      <td>...</td>\n      <td>...</td>\n      <td>...</td>\n      <td>...</td>\n      <td>...</td>\n      <td>...</td>\n      <td>...</td>\n      <td>...</td>\n      <td>...</td>\n      <td>...</td>\n      <td>...</td>\n    </tr>\n    <tr>\n      <th>533</th>\n      <td>[0, 107]</td>\n      <td>NaN</td>\n      <td>NaN</td>\n      <td>NaN</td>\n      <td>None</td>\n      <td>NaN</td>\n      <td>False</td>\n      <td>0</td>\n      <td>0</td>\n      <td>False</td>\n      <td>...</td>\n      <td>333333</td>\n      <td>True</td>\n      <td>True</td>\n      <td>True</td>\n      <td>False</td>\n      <td>None</td>\n      <td>None</td>\n      <td>None</td>\n      <td>none</td>\n      <td>[]</td>\n    </tr>\n    <tr>\n      <th>534</th>\n      <td>[9, 118]</td>\n      <td>1.463502e+18</td>\n      <td>NaN</td>\n      <td>NaN</td>\n      <td>None</td>\n      <td>NaN</td>\n      <td>False</td>\n      <td>0</td>\n      <td>0</td>\n      <td>False</td>\n      <td>...</td>\n      <td>333333</td>\n      <td>True</td>\n      <td>False</td>\n      <td>True</td>\n      <td>True</td>\n      <td>None</td>\n      <td>None</td>\n      <td>None</td>\n      <td>none</td>\n      <td>[]</td>\n    </tr>\n    <tr>\n      <th>535</th>\n      <td>[0, 29]</td>\n      <td>NaN</td>\n      <td>NaN</td>\n      <td>NaN</td>\n      <td>None</td>\n      <td>NaN</td>\n      <td>False</td>\n      <td>0</td>\n      <td>0</td>\n      <td>False</td>\n      <td>...</td>\n      <td>000000</td>\n      <td>False</td>\n      <td>False</td>\n      <td>False</td>\n      <td>False</td>\n      <td>None</td>\n      <td>None</td>\n      <td>None</td>\n      <td>none</td>\n      <td>[]</td>\n    </tr>\n    <tr>\n      <th>536</th>\n      <td>[19, 128]</td>\n      <td>1.246182e+18</td>\n      <td>NaN</td>\n      <td>NaN</td>\n      <td>None</td>\n      <td>NaN</td>\n      <td>False</td>\n      <td>0</td>\n      <td>0</td>\n      <td>False</td>\n      <td>...</td>\n      <td>333333</td>\n      <td>True</td>\n      <td>False</td>\n      <td>True</td>\n      <td>True</td>\n      <td>None</td>\n      <td>None</td>\n      <td>None</td>\n      <td>none</td>\n      <td>[]</td>\n    </tr>\n    <tr>\n      <th>537</th>\n      <td>[0, 106]</td>\n      <td>NaN</td>\n      <td>NaN</td>\n      <td>NaN</td>\n      <td>None</td>\n      <td>NaN</td>\n      <td>False</td>\n      <td>1</td>\n      <td>0</td>\n      <td>False</td>\n      <td>...</td>\n      <td>666666</td>\n      <td>True</td>\n      <td>False</td>\n      <td>False</td>\n      <td>False</td>\n      <td>None</td>\n      <td>None</td>\n      <td>None</td>\n      <td>none</td>\n      <td>[]</td>\n    </tr>\n  </tbody>\n</table>\n<p>1583 rows × 51 columns</p>\n</div>"
     },
     "execution_count": 7,
     "metadata": {},
     "output_type": "execute_result"
    }
   ],
   "source": [
    "tweet_df"
   ],
   "metadata": {
    "collapsed": false,
    "pycharm": {
     "name": "#%%\n"
    }
   }
  },
  {
   "cell_type": "markdown",
   "source": [],
   "metadata": {
    "collapsed": false
   }
  },
  {
   "cell_type": "markdown",
   "source": [
    "Things need to be changed:\n",
    "1. display_text_range -> integer\n",
    "2. in_reply_to_status_id -> is_replying_to_others (bool)\n",
    "3. quoted_status_id -> is_quoting_status (bool)\n",
    "4. entities_hashtags -> hashtag_count (int)\n",
    "5. entities_user_mentions -> user_mention_count (int)\n",
    "6. entities_media -> media_count\n",
    "7. user_created_at -> age (int, in days subtracted to the scraping date which is 25th November 2021)\n",
    "8. user_profile_background_color -> rgb (float/quantised)\n",
    "9. user_profile_link_color -> rgb (float/quantised)\n",
    "10. user_profile_sidebar_border_color -> rgb (float/quantised)\n",
    "11. user_profile_sidebar_fill_color -> rgb (float/quantised)\n",
    "12. user_profile_text_color -> rgb (float/quantised)"
   ],
   "metadata": {
    "collapsed": false
   }
  },
  {
   "cell_type": "code",
   "execution_count": 8,
   "outputs": [],
   "source": [
    "tweet_df['display_text_range'] = [i[1] - i[0] for i in tweet_df['display_text_range']]\n",
    "tweet_df['is_replying_to_others'] = [True if i is not np]"
   ],
   "metadata": {
    "collapsed": false,
    "pycharm": {
     "name": "#%%\n"
    }
   }
  },
  {
   "cell_type": "code",
   "execution_count": 13,
   "outputs": [
    {
     "data": {
      "text/plain": "nan"
     },
     "execution_count": 13,
     "metadata": {},
     "output_type": "execute_result"
    }
   ],
   "source": [
    "tweet_df['geo'].iloc[0]"
   ],
   "metadata": {
    "collapsed": false,
    "pycharm": {
     "name": "#%%\n"
    }
   }
  },
  {
   "cell_type": "code",
   "execution_count": 12,
   "outputs": [
    {
     "data": {
      "text/plain": "False"
     },
     "execution_count": 12,
     "metadata": {},
     "output_type": "execute_result"
    }
   ],
   "source": [
    "import numpy as np\n",
    "\n",
    "tweet_df['geo'].iloc[0] is np.nan"
   ],
   "metadata": {
    "collapsed": false,
    "pycharm": {
     "name": "#%%\n"
    }
   }
  },
  {
   "cell_type": "code",
   "execution_count": 9,
   "outputs": [
    {
     "data": {
      "text/plain": "   display_text_range  in_reply_to_status_id  geo  coordinates place  \\\n0                 102                    NaN  NaN          NaN   NaN   \n1                 108                    NaN  NaN          NaN   NaN   \n2                 139                    NaN  NaN          NaN   NaN   \n3                  84                    NaN  NaN          NaN   NaN   \n4                  54           1.463677e+18  NaN          NaN   NaN   \n\n   contributors  is_quote_status  retweet_count  favorite_count  favorited  \\\n0           NaN            False            247               0      False   \n1           NaN            False           2543               0      False   \n2           NaN            False            816               0      False   \n3           NaN            False           2687               0      False   \n4           NaN            False              0               0      False   \n\n   ...  user_profile_text_color  user_profile_use_background_image  \\\n0  ...                   000000                              False   \n1  ...                   000000                              False   \n2  ...                   333333                               True   \n3  ...                   333333                               True   \n4  ...                   333333                               True   \n\n   user_has_extended_profile user_default_profile user_default_profile_image  \\\n0                       True                False                      False   \n1                       True                False                      False   \n2                       True                 True                      False   \n3                       True                 True                      False   \n4                       True                 True                      False   \n\n   user_following user_follow_request_sent user_notifications  \\\n0            None                     None               None   \n1            None                     None               None   \n2            None                     None               None   \n3            None                     None               None   \n4            None                     None               None   \n\n  user_translator_type user_withheld_in_countries  \n0                 none                         []  \n1                 none                         []  \n2                 none                         []  \n3                 none                         []  \n4                 none                         []  \n\n[5 rows x 51 columns]",
      "text/html": "<div>\n<style scoped>\n    .dataframe tbody tr th:only-of-type {\n        vertical-align: middle;\n    }\n\n    .dataframe tbody tr th {\n        vertical-align: top;\n    }\n\n    .dataframe thead th {\n        text-align: right;\n    }\n</style>\n<table border=\"1\" class=\"dataframe\">\n  <thead>\n    <tr style=\"text-align: right;\">\n      <th></th>\n      <th>display_text_range</th>\n      <th>in_reply_to_status_id</th>\n      <th>geo</th>\n      <th>coordinates</th>\n      <th>place</th>\n      <th>contributors</th>\n      <th>is_quote_status</th>\n      <th>retweet_count</th>\n      <th>favorite_count</th>\n      <th>favorited</th>\n      <th>...</th>\n      <th>user_profile_text_color</th>\n      <th>user_profile_use_background_image</th>\n      <th>user_has_extended_profile</th>\n      <th>user_default_profile</th>\n      <th>user_default_profile_image</th>\n      <th>user_following</th>\n      <th>user_follow_request_sent</th>\n      <th>user_notifications</th>\n      <th>user_translator_type</th>\n      <th>user_withheld_in_countries</th>\n    </tr>\n  </thead>\n  <tbody>\n    <tr>\n      <th>0</th>\n      <td>102</td>\n      <td>NaN</td>\n      <td>NaN</td>\n      <td>NaN</td>\n      <td>NaN</td>\n      <td>NaN</td>\n      <td>False</td>\n      <td>247</td>\n      <td>0</td>\n      <td>False</td>\n      <td>...</td>\n      <td>000000</td>\n      <td>False</td>\n      <td>True</td>\n      <td>False</td>\n      <td>False</td>\n      <td>None</td>\n      <td>None</td>\n      <td>None</td>\n      <td>none</td>\n      <td>[]</td>\n    </tr>\n    <tr>\n      <th>1</th>\n      <td>108</td>\n      <td>NaN</td>\n      <td>NaN</td>\n      <td>NaN</td>\n      <td>NaN</td>\n      <td>NaN</td>\n      <td>False</td>\n      <td>2543</td>\n      <td>0</td>\n      <td>False</td>\n      <td>...</td>\n      <td>000000</td>\n      <td>False</td>\n      <td>True</td>\n      <td>False</td>\n      <td>False</td>\n      <td>None</td>\n      <td>None</td>\n      <td>None</td>\n      <td>none</td>\n      <td>[]</td>\n    </tr>\n    <tr>\n      <th>2</th>\n      <td>139</td>\n      <td>NaN</td>\n      <td>NaN</td>\n      <td>NaN</td>\n      <td>NaN</td>\n      <td>NaN</td>\n      <td>False</td>\n      <td>816</td>\n      <td>0</td>\n      <td>False</td>\n      <td>...</td>\n      <td>333333</td>\n      <td>True</td>\n      <td>True</td>\n      <td>True</td>\n      <td>False</td>\n      <td>None</td>\n      <td>None</td>\n      <td>None</td>\n      <td>none</td>\n      <td>[]</td>\n    </tr>\n    <tr>\n      <th>3</th>\n      <td>84</td>\n      <td>NaN</td>\n      <td>NaN</td>\n      <td>NaN</td>\n      <td>NaN</td>\n      <td>NaN</td>\n      <td>False</td>\n      <td>2687</td>\n      <td>0</td>\n      <td>False</td>\n      <td>...</td>\n      <td>333333</td>\n      <td>True</td>\n      <td>True</td>\n      <td>True</td>\n      <td>False</td>\n      <td>None</td>\n      <td>None</td>\n      <td>None</td>\n      <td>none</td>\n      <td>[]</td>\n    </tr>\n    <tr>\n      <th>4</th>\n      <td>54</td>\n      <td>1.463677e+18</td>\n      <td>NaN</td>\n      <td>NaN</td>\n      <td>NaN</td>\n      <td>NaN</td>\n      <td>False</td>\n      <td>0</td>\n      <td>0</td>\n      <td>False</td>\n      <td>...</td>\n      <td>333333</td>\n      <td>True</td>\n      <td>True</td>\n      <td>True</td>\n      <td>False</td>\n      <td>None</td>\n      <td>None</td>\n      <td>None</td>\n      <td>none</td>\n      <td>[]</td>\n    </tr>\n  </tbody>\n</table>\n<p>5 rows × 51 columns</p>\n</div>"
     },
     "execution_count": 9,
     "metadata": {},
     "output_type": "execute_result"
    }
   ],
   "source": [
    "tweet_df.head(5)"
   ],
   "metadata": {
    "collapsed": false,
    "pycharm": {
     "name": "#%%\n"
    }
   }
  },
  {
   "cell_type": "markdown",
   "source": [
    "null analysis:\n",
    "1. geo\n",
    "2. coordinates\n",
    "3. place\n",
    "4. contributors\n",
    "\n",
    "value analysis:\n",
    "1. is_quote_status\n",
    "2. favorited\n",
    "3. retweeted\n",
    "4. possibly_sensitive\n",
    "5. entities_symbols\n",
    "6. entities_urls\n",
    "7. user_protected\n",
    "8. user_geo_enabled\n",
    "9. user_verified\n",
    "10. user_contributors_enabled\n",
    "11. user_is_translator\n",
    "12. user_is_translation_enabled\n",
    "13. user_profile_background_tile\n",
    "and so much more"
   ],
   "metadata": {
    "collapsed": false
   }
  }
 ],
 "metadata": {
  "kernelspec": {
   "display_name": "Python 3",
   "language": "python",
   "name": "python3"
  },
  "language_info": {
   "codemirror_mode": {
    "name": "ipython",
    "version": 2
   },
   "file_extension": ".py",
   "mimetype": "text/x-python",
   "name": "python",
   "nbconvert_exporter": "python",
   "pygments_lexer": "ipython2",
   "version": "2.7.6"
  }
 },
 "nbformat": 4,
 "nbformat_minor": 0
}