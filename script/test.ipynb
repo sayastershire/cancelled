{
 "cells": [
  {
   "cell_type": "code",
   "execution_count": 1,
   "source": [
    "from tweet_fetch import TweetFetch\n",
    "import pandas as pd\n"
   ],
   "outputs": [],
   "metadata": {}
  },
  {
   "cell_type": "code",
   "execution_count": 2,
   "source": [
    "t_h = TweetFetch('../credential/bearer_token.txt')"
   ],
   "outputs": [
    {
     "output_type": "stream",
     "name": "stdout",
     "text": [
      "Token: AAAAAAAAAAAAAAAAAAAAAI0YKQEAAAAAx7jZyYaOEmZo9rLnU%2BJ8NB%2FzM%2FA%3DSHlLkhfQLPc1ElDA60Uf2y2Ohl5rFNPYJJg3yXCj2UIX1LZ5SC\n"
     ]
    },
    {
     "output_type": "stream",
     "name": "stderr",
     "text": [
      "2021-11-07 00:55:55.458910: I tensorflow/stream_executor/cuda/cuda_gpu_executor.cc:923] could not open file to read NUMA node: /sys/bus/pci/devices/0000:29:00.0/numa_node\n",
      "Your kernel may have been built without NUMA support.\n",
      "2021-11-07 00:55:55.494979: I tensorflow/stream_executor/cuda/cuda_gpu_executor.cc:923] could not open file to read NUMA node: /sys/bus/pci/devices/0000:29:00.0/numa_node\n",
      "Your kernel may have been built without NUMA support.\n",
      "2021-11-07 00:55:55.495587: I tensorflow/stream_executor/cuda/cuda_gpu_executor.cc:923] could not open file to read NUMA node: /sys/bus/pci/devices/0000:29:00.0/numa_node\n",
      "Your kernel may have been built without NUMA support.\n",
      "2021-11-07 00:55:55.496577: I tensorflow/core/platform/cpu_feature_guard.cc:142] This TensorFlow binary is optimized with oneAPI Deep Neural Network Library (oneDNN) to use the following CPU instructions in performance-critical operations:  AVX2 FMA\n",
      "To enable them in other operations, rebuild TensorFlow with the appropriate compiler flags.\n",
      "2021-11-07 00:55:55.498559: I tensorflow/stream_executor/cuda/cuda_gpu_executor.cc:923] could not open file to read NUMA node: /sys/bus/pci/devices/0000:29:00.0/numa_node\n",
      "Your kernel may have been built without NUMA support.\n",
      "2021-11-07 00:55:55.499067: I tensorflow/stream_executor/cuda/cuda_gpu_executor.cc:923] could not open file to read NUMA node: /sys/bus/pci/devices/0000:29:00.0/numa_node\n",
      "Your kernel may have been built without NUMA support.\n",
      "2021-11-07 00:55:55.499575: I tensorflow/stream_executor/cuda/cuda_gpu_executor.cc:923] could not open file to read NUMA node: /sys/bus/pci/devices/0000:29:00.0/numa_node\n",
      "Your kernel may have been built without NUMA support.\n",
      "2021-11-07 00:55:56.093610: I tensorflow/stream_executor/cuda/cuda_gpu_executor.cc:923] could not open file to read NUMA node: /sys/bus/pci/devices/0000:29:00.0/numa_node\n",
      "Your kernel may have been built without NUMA support.\n",
      "2021-11-07 00:55:56.094053: I tensorflow/stream_executor/cuda/cuda_gpu_executor.cc:923] could not open file to read NUMA node: /sys/bus/pci/devices/0000:29:00.0/numa_node\n",
      "Your kernel may have been built without NUMA support.\n",
      "2021-11-07 00:55:56.094069: I tensorflow/core/common_runtime/gpu/gpu_device.cc:1594] Could not identify NUMA node of platform GPU id 0, defaulting to 0.  Your kernel may not have been built with NUMA support.\n",
      "2021-11-07 00:55:56.094547: I tensorflow/stream_executor/cuda/cuda_gpu_executor.cc:923] could not open file to read NUMA node: /sys/bus/pci/devices/0000:29:00.0/numa_node\n",
      "Your kernel may have been built without NUMA support.\n",
      "2021-11-07 00:55:56.094626: I tensorflow/core/common_runtime/gpu/gpu_device.cc:1510] Created device /job:localhost/replica:0/task:0/device:GPU:0 with 3964 MB memory:  -> device: 0, name: NVIDIA GeForce GTX 1660, pci bus id: 0000:29:00.0, compute capability: 7.5\n"
     ]
    }
   ],
   "metadata": {}
  },
  {
   "cell_type": "code",
   "execution_count": 6,
   "source": [
    "tweet_df = t_h.get_tweet(q='shang chi', max_tweets=3000)"
   ],
   "outputs": [
    {
     "output_type": "stream",
     "name": "stdout",
     "text": [
      "Iteration 1: 100 -> 100 = 100\n",
      "Iteration 2: 100 -> 100 = 200\n",
      "Iteration 3: 100 -> 100 = 300\n",
      "Iteration 4: 100 -> 100 = 400\n",
      "Iteration 5: 100 -> 100 = 500\n",
      "Iteration 6: 100 -> 100 = 600\n",
      "Iteration 7: 100 -> 100 = 700\n",
      "Iteration 8: 100 -> 100 = 800\n",
      "Iteration 9: 100 -> 100 = 900\n",
      "Iteration 10: 100 -> 100 = 1000\n",
      "Iteration 11: 100 -> 100 = 1100\n",
      "Iteration 12: 100 -> 100 = 1200\n",
      "Iteration 13: 100 -> 100 = 1300\n",
      "Iteration 14: 100 -> 100 = 1400\n",
      "Iteration 15: 100 -> 100 = 1500\n",
      "Iteration 16: 100 -> 100 = 1600\n",
      "Iteration 17: 100 -> 100 = 1700\n",
      "Iteration 18: 100 -> 100 = 1800\n",
      "Iteration 19: 100 -> 100 = 1900\n",
      "Iteration 20: 100 -> 100 = 2000\n",
      "Iteration 21: 100 -> 100 = 2100\n",
      "Iteration 22: 100 -> 100 = 2200\n",
      "Iteration 23: 100 -> 100 = 2300\n",
      "Iteration 24: 100 -> 100 = 2400\n",
      "Iteration 25: 100 -> 100 = 2500\n",
      "Iteration 26: 100 -> 100 = 2600\n",
      "Iteration 27: 100 -> 100 = 2700\n",
      "Iteration 28: 100 -> 100 = 2800\n",
      "Iteration 29: 100 -> 100 = 2900\n",
      "Iteration 30: 100 -> 100 = 3000\n",
      "Iteration 31: 100 -> 100 = 2088\n",
      "Iteration 32: 100 -> 100 = 2188\n",
      "Iteration 33: 100 -> 100 = 2288\n",
      "Iteration 34: 100 -> 100 = 2388\n",
      "Iteration 35: 100 -> 100 = 2488\n",
      "Iteration 36: 100 -> 100 = 2588\n",
      "Iteration 37: 100 -> 100 = 2688\n",
      "Iteration 38: 100 -> 100 = 2788\n",
      "Iteration 39: 100 -> 100 = 2888\n",
      "Iteration 40: 100 -> 100 = 2988\n",
      "Iteration 41: 100 -> 100 = 3088\n",
      "Iteration 42: 100 -> 100 = 2879\n",
      "Iteration 43: 100 -> 100 = 2979\n",
      "Iteration 44: 100 -> 100 = 3079\n",
      "Iteration 45: 100 -> 100 = 3087\n"
     ]
    }
   ],
   "metadata": {}
  },
  {
   "cell_type": "code",
   "execution_count": 7,
   "source": [
    "tweet_df.tail()"
   ],
   "outputs": [
    {
     "output_type": "execute_result",
     "data": {
      "text/html": [
       "<div>\n",
       "<style scoped>\n",
       "    .dataframe tbody tr th:only-of-type {\n",
       "        vertical-align: middle;\n",
       "    }\n",
       "\n",
       "    .dataframe tbody tr th {\n",
       "        vertical-align: top;\n",
       "    }\n",
       "\n",
       "    .dataframe thead th {\n",
       "        text-align: right;\n",
       "    }\n",
       "</style>\n",
       "<table border=\"1\" class=\"dataframe\">\n",
       "  <thead>\n",
       "    <tr style=\"text-align: right;\">\n",
       "      <th></th>\n",
       "      <th>tweet</th>\n",
       "      <th>is-spam</th>\n",
       "    </tr>\n",
       "  </thead>\n",
       "  <tbody>\n",
       "    <tr>\n",
       "      <th>3061</th>\n",
       "      <td>@nick122805 @Mutatio2 End game, Spiderman far ...</td>\n",
       "      <td>0.000233</td>\n",
       "    </tr>\n",
       "    <tr>\n",
       "      <th>3062</th>\n",
       "      <td>Favorite MCU end credit sequence by a long sho...</td>\n",
       "      <td>0.949718</td>\n",
       "    </tr>\n",
       "    <tr>\n",
       "      <th>3063</th>\n",
       "      <td>For me eternals is boring. I never care about ...</td>\n",
       "      <td>0.002589</td>\n",
       "    </tr>\n",
       "    <tr>\n",
       "      <th>3064</th>\n",
       "      <td>@maIesfantasy Okay i mis-confused. I’m watchin...</td>\n",
       "      <td>0.986004</td>\n",
       "    </tr>\n",
       "    <tr>\n",
       "      <th>3065</th>\n",
       "      <td>SHANG CHI***😭😭😭 https://t.co/p4bJHlrkPt</td>\n",
       "      <td>0.000201</td>\n",
       "    </tr>\n",
       "  </tbody>\n",
       "</table>\n",
       "</div>"
      ],
      "text/plain": [
       "                                                  tweet   is-spam\n",
       "3061  @nick122805 @Mutatio2 End game, Spiderman far ...  0.000233\n",
       "3062  Favorite MCU end credit sequence by a long sho...  0.949718\n",
       "3063  For me eternals is boring. I never care about ...  0.002589\n",
       "3064  @maIesfantasy Okay i mis-confused. I’m watchin...  0.986004\n",
       "3065            SHANG CHI***😭😭😭 https://t.co/p4bJHlrkPt  0.000201"
      ]
     },
     "metadata": {},
     "execution_count": 7
    }
   ],
   "metadata": {}
  },
  {
   "cell_type": "code",
   "execution_count": 9,
   "source": [
    "tweet_df.to_excel('../dataset/shang-chi-tweets.xlsx')"
   ],
   "outputs": [],
   "metadata": {}
  },
  {
   "cell_type": "code",
   "execution_count": null,
   "source": [
    "t_h.predict_spam(tweet_df['tweet'][0:2])"
   ],
   "outputs": [],
   "metadata": {}
  },
  {
   "cell_type": "code",
   "execution_count": null,
   "source": [
    "tweet_df['tweet'][0:2]"
   ],
   "outputs": [],
   "metadata": {}
  },
  {
   "cell_type": "code",
   "execution_count": null,
   "source": [],
   "outputs": [],
   "metadata": {}
  }
 ],
 "metadata": {
  "orig_nbformat": 4,
  "language_info": {
   "name": "python",
   "version": "3.9.2",
   "mimetype": "text/x-python",
   "codemirror_mode": {
    "name": "ipython",
    "version": 3
   },
   "pygments_lexer": "ipython3",
   "nbconvert_exporter": "python",
   "file_extension": ".py"
  },
  "kernelspec": {
   "name": "python3",
   "display_name": "Python 3.9.2 64-bit"
  },
  "interpreter": {
   "hash": "31f2aee4e71d21fbe5cf8b01ff0e069b9275f58929596ceb00d14d90e3e16cd6"
  }
 },
 "nbformat": 4,
 "nbformat_minor": 2
}